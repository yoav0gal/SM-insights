{
 "cells": [
  {
   "cell_type": "markdown",
   "metadata": {},
   "source": [
    "# BERTopic"
   ]
  },
  {
   "cell_type": "markdown",
   "metadata": {},
   "source": [
    "## Create And Run"
   ]
  },
  {
   "cell_type": "code",
   "execution_count": null,
   "metadata": {},
   "outputs": [],
   "source": [
    "%load_ext autoreload\n",
    "%autoreload 2\n",
    "\n",
    "import os\n",
    "import sys\n",
    "import importlib\n",
    "module_path = os.path.abspath(os.path.join('../'))\n",
    "if module_path not in sys.path:\n",
    "    sys.path.append(module_path)\n",
    "\n",
    "import model.model_utils as model_utils\n",
    "import utils.utils3d as utils3d\n",
    "import data.data_utils as data_utils\n",
    "\n",
    "def reload_utils():\n",
    "    importlib.reload(model_utils)\n",
    "    importlib.reload(utils3d)\n",
    "    importlib.reload(data_utils)\n",
    "\n",
    "reload_utils()"
   ]
  },
  {
   "cell_type": "code",
   "execution_count": null,
   "metadata": {},
   "outputs": [],
   "source": [
    "dataset_name = \"jack_vs_calley_1000\"\n",
    "comments = data_utils.get_comments(dataset_name)"
   ]
  },
  {
   "cell_type": "code",
   "execution_count": null,
   "metadata": {},
   "outputs": [],
   "source": [
    "from sentence_transformers import SentenceTransformer\n",
    "sentence_transformer: SentenceTransformer = model_utils.get_sentence_transformer_model()\n",
    "embeddings = sentence_transformer.encode(comments)"
   ]
  },
  {
   "cell_type": "code",
   "execution_count": null,
   "metadata": {},
   "outputs": [],
   "source": [
    "model = model_utils.get_model()\n",
    "topics, probs = model.fit_transform(comments, embeddings)"
   ]
  },
  {
   "cell_type": "markdown",
   "metadata": {},
   "source": [
    "## Keybert Cluster Labeling"
   ]
  },
  {
   "cell_type": "code",
   "execution_count": null,
   "metadata": {},
   "outputs": [],
   "source": [
    "from keybert import KeyBERT\n",
    "\n",
    "kw_model = KeyBERT()\n",
    "topic_labels = {}\n",
    "for topic in range(len(set(topics))-1):\n",
    "    words = model.get_topic(topic)\n",
    "    keywords = kw_model.extract_keywords(' '.join([word[0] for word in words]), keyphrase_ngram_range=(1, 2), top_n=1) \n",
    "    topic_labels[topic] = keywords[0][0]\n",
    "\n",
    "model.set_topic_labels(topic_labels=topic_labels)\n",
    "\n",
    "topic_labels"
   ]
  },
  {
   "cell_type": "markdown",
   "metadata": {},
   "source": [
    "### Comments and their label"
   ]
  },
  {
   "cell_type": "code",
   "execution_count": null,
   "metadata": {},
   "outputs": [],
   "source": [
    "for i in range(10):\n",
    "    print(f'{topic_labels[i]}: {comments[i]}')"
   ]
  },
  {
   "cell_type": "markdown",
   "metadata": {},
   "source": [
    "### Top 10 clusters"
   ]
  },
  {
   "cell_type": "code",
   "execution_count": null,
   "metadata": {},
   "outputs": [],
   "source": [
    "model.get_topic_info()['Representation']"
   ]
  },
  {
   "cell_type": "code",
   "execution_count": null,
   "metadata": {},
   "outputs": [],
   "source": [
    "freq = model.get_topic_info()\n",
    "freq.head(10)"
   ]
  },
  {
   "cell_type": "markdown",
   "metadata": {},
   "source": [
    "### visualizations  "
   ]
  },
  {
   "cell_type": "code",
   "execution_count": null,
   "metadata": {},
   "outputs": [],
   "source": [
    "model.visualize_topics(custom_labels=True)"
   ]
  },
  {
   "cell_type": "code",
   "execution_count": null,
   "metadata": {},
   "outputs": [],
   "source": [
    "model.visualize_hierarchy(custom_labels=True)"
   ]
  },
  {
   "cell_type": "code",
   "execution_count": null,
   "metadata": {},
   "outputs": [],
   "source": [
    "model.visualize_barchart(custom_labels=True)"
   ]
  },
  {
   "cell_type": "code",
   "execution_count": null,
   "metadata": {},
   "outputs": [],
   "source": [
    "model.visualize_heatmap(custom_labels=True)"
   ]
  },
  {
   "cell_type": "markdown",
   "metadata": {},
   "source": [
    "## 3D Visualize"
   ]
  },
  {
   "cell_type": "markdown",
   "metadata": {},
   "source": [
    "### Filter Top Topics"
   ]
  },
  {
   "cell_type": "code",
   "execution_count": null,
   "metadata": {},
   "outputs": [],
   "source": [
    "import numpy as np\n",
    "import matplotlib.pyplot as plt\n",
    "\n",
    "unique_topics, topic_counts = np.unique(topics, return_counts=True)\n",
    "\n",
    "# Create a bar graph\n",
    "plt.figure(figsize=(10, 6))  # Adjust the figure size as needed\n",
    "plt.bar(unique_topics, topic_counts)\n",
    "\n",
    "# Add labels and title\n",
    "plt.xlabel(\"Topic ID\")\n",
    "plt.ylabel(\"Count\")\n",
    "plt.title(\"Topic Distribution\")\n",
    "\n",
    "# Show the graph\n",
    "plt.xticks(unique_topics)  # Set x-axis ticks to the unique topic values\n",
    "plt.show()"
   ]
  },
  {
   "cell_type": "code",
   "execution_count": null,
   "metadata": {},
   "outputs": [],
   "source": [
    "model.get_topic(0)"
   ]
  },
  {
   "cell_type": "code",
   "execution_count": null,
   "metadata": {},
   "outputs": [],
   "source": [
    "filtered_labels = []\n",
    "filtered_comments = []\n",
    "filtered_embeddings = []\n",
    "\n",
    "for topic, comment, embedding in zip(topics, comments, embeddings):\n",
    "    if 0 <= topic <= 9:\n",
    "        filtered_labels.append(topic)\n",
    "        filtered_comments.append(comment)\n",
    "        filtered_embeddings.append(embedding)\n",
    "\n",
    "final_df_sorted_labels = pd.DataFrame({'label': filtered_labels, 'sentence': filtered_comments, 'embedding': filtered_embeddings})"
   ]
  },
  {
   "cell_type": "markdown",
   "metadata": {},
   "source": [
    "### Visualized"
   ]
  },
  {
   "cell_type": "code",
   "execution_count": null,
   "metadata": {},
   "outputs": [],
   "source": [
    "fig = utils3d.get_3d_fig(filtered_embeddings, filtered_comments, filtered_labels)\n",
    "fig"
   ]
  },
  {
   "cell_type": "code",
   "execution_count": null,
   "metadata": {},
   "outputs": [],
   "source": [
    "import pandas as pd\n",
    "\n",
    "data = []\n",
    "for topic_num in range(10):\n",
    "    topic_words = model.get_topic(topic_num)\n",
    "    top_words = [word for word, score in topic_words]\n",
    "    data.append({'Topic': topic_num, 'Top Words': ', '.join(top_words), 'Num Comments': topic_counts[topic_num+1]})\n",
    "\n",
    "\n",
    "topics_top_words_df = pd.DataFrame(data)\n",
    "pd.set_option('display.max_colwidth', 200)\n",
    "topics_top_words_df"
   ]
  }
 ],
 "metadata": {
  "kernelspec": {
   "display_name": "BERTopic",
   "language": "python",
   "name": "python3"
  },
  "language_info": {
   "codemirror_mode": {
    "name": "ipython",
    "version": 3
   },
   "file_extension": ".py",
   "mimetype": "text/x-python",
   "name": "python",
   "nbconvert_exporter": "python",
   "pygments_lexer": "ipython3"
  }
 },
 "nbformat": 4,
 "nbformat_minor": 2
}
