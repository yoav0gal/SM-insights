{
 "cells": [
  {
   "cell_type": "markdown",
   "metadata": {},
   "source": [
    "# YouTube Comments Processing Notebook\n",
    "\n",
    "This notebook processes YouTube comments by:\n",
    "- Encoding the comments\n",
    "- Reducing comment encodings to 2-dimensional space\n",
    "\n",
    "using the [text-embedding-004](https://ai.google.dev/gemini-api/docs/embeddings) model. \n",
    "\n",
    "The processed data will be used for clustering analysis."
   ]
  },
  {
   "cell_type": "markdown",
   "metadata": {},
   "source": [
    "## Package Installation\n",
    "Run this cell to install required packages."
   ]
  },
  {
   "cell_type": "code",
   "execution_count": null,
   "metadata": {},
   "outputs": [],
   "source": [
    "%%capture\n",
    "%pip install pandas numpy tqdm python-dotenv\n",
    "%pip install -q -U google-genai"
   ]
  },
  {
   "cell_type": "markdown",
   "metadata": {},
   "source": [
    "## Imports and Setup\n"
   ]
  },
  {
   "cell_type": "code",
   "execution_count": null,
   "metadata": {},
   "outputs": [],
   "source": [
    "import pandas as pd\n",
    "import numpy as np\n",
    "from dotenv import load_dotenv\n",
    "from google import genai\n",
    "import os\n",
    "from tqdm import tqdm\n",
    "import time\n",
    "import ast\n"
   ]
  },
  {
   "cell_type": "markdown",
   "metadata": {},
   "source": [
    "## Google API Client Setup\n",
    "Initialize the Google Gemini API client with your API key."
   ]
  },
  {
   "cell_type": "code",
   "execution_count": null,
   "metadata": {},
   "outputs": [],
   "source": [
    "env_path = os.path.abspath(\"sm-insights-next/.env.local\")\n",
    "local_path = \"../../sm-insights-next/.env.local\"\n",
    "load_dotenv(dotenv_path=local_path)\n",
    "gemini_api_key = os.getenv(\"GEMINI_API_KEY\")\n",
    "\n",
    "client = genai.Client(api_key=gemini_api_key)"
   ]
  },
  {
   "cell_type": "markdown",
   "metadata": {},
   "source": [
    "## Utility Functions"
   ]
  },
  {
   "cell_type": "code",
   "execution_count": null,
   "metadata": {},
   "outputs": [],
   "source": [
    "def add_embedding_dimensions(df, all_embeddings):\n",
    "    if len(all_embeddings) > 0 and all_embeddings[0] is not None:\n",
    "        dims_amount = len(all_embeddings[0])\n",
    "        for dim in range(dims_amount):\n",
    "            df[f'embed_dim_{dim}'] = [emb[dim] if emb is not None else None for emb in all_embeddings]\n",
    "    \n",
    "    return df"
   ]
  },
  {
   "cell_type": "code",
   "execution_count": null,
   "metadata": {},
   "outputs": [],
   "source": [
    "def add_embeddings_to_dataframe(df, model_name=\"models/text-embedding-004\", task_type=\"CLUSTERING\", output_dimensionality=2, batch_size=100):\n",
    "    print(\"Generating embeddings...\")\n",
    "    texts = df['text'].tolist()\n",
    "    all_embeddings = []\n",
    "\n",
    "    for i in tqdm(range(0, len(texts), batch_size), desc=\"Processing embeddings batches\", unit=\"batch\"):\n",
    "        batch_texts = texts[i:i + batch_size]\n",
    "        try:\n",
    "            embeddings_response = client.models.embed_content(\n",
    "                    model=model_name,\n",
    "                    contents=batch_texts,\n",
    "                    config={\n",
    "                    'task_type': task_type,\n",
    "                    'output_dimensionality': output_dimensionality\n",
    "                    }\n",
    "                )\n",
    "            all_embeddings.extend([item.values for item in embeddings_response.embeddings])\n",
    "\n",
    "        except Exception as e:\n",
    "            print(f\"Error during embedding batch {i // batch_size}: {e}\")\n",
    "            all_embeddings.extend([None] * len(batch_texts))  \n",
    "\n",
    "    add_embedding_dimensions(df, all_embeddings)\n",
    "\n",
    "    return df"
   ]
  },
  {
   "cell_type": "code",
   "execution_count": null,
   "metadata": {},
   "outputs": [],
   "source": [
    "def validate_dataframe(df):\n",
    "    required_columns = ['text', 'author', 'likes', 'replyCount']\n",
    "    missing_columns = [col for col in required_columns if col not in df.columns]\n",
    "    \n",
    "    if missing_columns:\n",
    "        raise ValueError(f\"Missing required columns: {', '.join(missing_columns)}\")"
   ]
  },
  {
   "cell_type": "code",
   "execution_count": null,
   "metadata": {},
   "outputs": [],
   "source": [
    "def load_and_validate_dataset(input_file):\n",
    "    print(f\"Loading data from {input_file}...\")\n",
    "    df = pd.read_csv(input_file)\n",
    "    validate_dataframe(df)\n",
    "    return df"
   ]
  },
  {
   "cell_type": "markdown",
   "metadata": {},
   "source": [
    "## Main Process"
   ]
  },
  {
   "cell_type": "code",
   "execution_count": null,
   "metadata": {},
   "outputs": [],
   "source": [
    "dataset_name = \"honey_scam_500\"\n",
    "input_file = f\"../datasets/youtube-comments/{dataset_name}.csv\"\n",
    "df = load_and_validate_dataset(input_file)"
   ]
  },
  {
   "cell_type": "code",
   "execution_count": null,
   "metadata": {},
   "outputs": [],
   "source": [
    "df =  add_embeddings_to_dataframe(df)\n",
    "display(df.head())"
   ]
  },
  {
   "cell_type": "code",
   "execution_count": null,
   "metadata": {},
   "outputs": [],
   "source": [
    "output_file= f\"./datasets/with-assumptions/{dataset_name}.csv\"\n",
    "df.to_csv(output_file, index=False)\n"
   ]
  }
 ],
 "metadata": {
  "kernelspec": {
   "display_name": "BERTopic",
   "language": "python",
   "name": "python3"
  },
  "language_info": {
   "codemirror_mode": {
    "name": "ipython",
    "version": 3
   },
   "file_extension": ".py",
   "mimetype": "text/x-python",
   "name": "python",
   "nbconvert_exporter": "python",
   "pygments_lexer": "ipython3"
  }
 },
 "nbformat": 4,
 "nbformat_minor": 2
}
