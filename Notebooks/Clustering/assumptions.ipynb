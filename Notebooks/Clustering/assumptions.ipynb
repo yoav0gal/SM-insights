{
 "cells": [
  {
   "cell_type": "markdown",
   "metadata": {},
   "source": [
    "# YouTube Comments Processing Notebook"
   ]
  },
  {
   "cell_type": "markdown",
   "metadata": {},
   "source": [
    "This notebook processes YouTube comments by:\n",
    "- Encoding the comments\n",
    "- Reducing comment encodings to 2-dimensional space\n",
    "\n",
    "using the [text-embedding-004](https://ai.google.dev/gemini-api/docs/embeddings) model. \n",
    "\n",
    "The processed data will be used for clustering analysis."
   ]
  },
  {
   "cell_type": "markdown",
   "metadata": {},
   "source": [
    "## Package Installation\n",
    "Run this cell to install required packages."
   ]
  },
  {
   "cell_type": "code",
   "execution_count": null,
   "metadata": {},
   "outputs": [
    {
     "name": "stdout",
     "output_type": "stream",
     "text": [
      "Requirement already satisfied: pandas in d:\\application\\anaconda\\envs\\bertopic\\lib\\site-packages (2.2.3)\n",
      "Requirement already satisfied: numpy in d:\\application\\anaconda\\envs\\bertopic\\lib\\site-packages (1.26.4)\n",
      "Requirement already satisfied: tqdm in d:\\application\\anaconda\\envs\\bertopic\\lib\\site-packages (4.67.1)\n",
      "Requirement already satisfied: python-dotenv in d:\\application\\anaconda\\envs\\bertopic\\lib\\site-packages (1.1.1)\n",
      "Requirement already satisfied: python-dateutil>=2.8.2 in d:\\application\\anaconda\\envs\\bertopic\\lib\\site-packages (from pandas) (2.9.0.post0)\n",
      "Requirement already satisfied: pytz>=2020.1 in d:\\application\\anaconda\\envs\\bertopic\\lib\\site-packages (from pandas) (2024.1)\n",
      "Requirement already satisfied: tzdata>=2022.7 in d:\\application\\anaconda\\envs\\bertopic\\lib\\site-packages (from pandas) (2025.1)\n",
      "Requirement already satisfied: colorama in d:\\application\\anaconda\\envs\\bertopic\\lib\\site-packages (from tqdm) (0.4.6)\n",
      "Requirement already satisfied: six>=1.5 in d:\\application\\anaconda\\envs\\bertopic\\lib\\site-packages (from python-dateutil>=2.8.2->pandas) (1.17.0)\n"
     ]
    }
   ],
   "source": [
    "import sys\n",
    "\n",
    "!{sys.executable} -m pip install pandas numpy tqdm python-dotenv\n",
    "!{sys.executable} -m pip install -q -U google-genai"
   ]
  },
  {
   "cell_type": "markdown",
   "metadata": {},
   "source": [
    "## Imports and Setup\n"
   ]
  },
  {
   "cell_type": "code",
   "execution_count": null,
   "metadata": {},
   "outputs": [],
   "source": [
    "import pandas as pd\n",
    "import os"
   ]
  },
  {
   "cell_type": "code",
   "execution_count": null,
   "metadata": {},
   "outputs": [],
   "source": [
    "%load_ext autoreload\n",
    "%autoreload 2\n",
    "\n",
    "import importlib\n",
    "import sys\n",
    "import os\n",
    "\n",
    "module_path = os.path.abspath(os.path.join(\"../\"))\n",
    "if module_path not in sys.path:\n",
    "    sys.path.append(module_path)\n",
    "\n",
    "import utils.gemini_utils.gemini_client as gemini_client\n",
    "import utils.gemini_utils.gemini_key as gemini_key\n",
    "\n",
    "\n",
    "def reload_utils():\n",
    "    importlib.reload(gemini_client)\n",
    "    importlib.reload(gemini_key)\n",
    "\n",
    "reload_utils()"
   ]
  },
  {
   "cell_type": "code",
   "execution_count": null,
   "metadata": {},
   "outputs": [],
   "source": [
    "from google import genai\n",
    "google_client = genai.Client(api_key=gemini_key.GEMINI_API_KEY)"
   ]
  },
  {
   "cell_type": "markdown",
   "metadata": {},
   "source": [
    "## Utility Functions"
   ]
  },
  {
   "cell_type": "code",
   "execution_count": null,
   "metadata": {},
   "outputs": [],
   "source": [
    "def validate_dataframe(df):\n",
    "    required_columns = ['text', 'author', 'likes', 'replyCount']\n",
    "    missing_columns = [col for col in required_columns if col not in df.columns]\n",
    "    \n",
    "    if missing_columns:\n",
    "        raise ValueError(f\"Missing required columns: {', '.join(missing_columns)}\")"
   ]
  },
  {
   "cell_type": "code",
   "execution_count": null,
   "metadata": {},
   "outputs": [],
   "source": [
    "def load_and_validate_dataset(input_file):\n",
    "    print(f\"Loading data from {input_file}...\")\n",
    "    df = pd.read_csv(input_file)\n",
    "    validate_dataframe(df)\n",
    "    return df"
   ]
  },
  {
   "cell_type": "markdown",
   "metadata": {},
   "source": [
    "## Main Process"
   ]
  },
  {
   "cell_type": "code",
   "execution_count": null,
   "metadata": {},
   "outputs": [
    {
     "name": "stdout",
     "output_type": "stream",
     "text": [
      "Loading data from ../datasets/youtube-comments/honey_scam_500.csv...\n"
     ]
    }
   ],
   "source": [
    "dataset_name = \"honey_scam_500\"\n",
    "input_file = f\"../datasets/youtube-comments/{dataset_name}.csv\"\n",
    "df = load_and_validate_dataset(input_file)"
   ]
  },
  {
   "cell_type": "code",
   "execution_count": null,
   "metadata": {},
   "outputs": [
    {
     "name": "stdout",
     "output_type": "stream",
     "text": [
      "Generating embeddings...\n"
     ]
    },
    {
     "name": "stderr",
     "output_type": "stream",
     "text": [
      "Processing embeddings batches:  60%|██████    | 3/5 [00:02<00:01,  1.69batch/s]"
     ]
    },
    {
     "name": "stdout",
     "output_type": "stream",
     "text": [
      "Error during embedding batch 1: 429 RESOURCE_EXHAUSTED. {'error': {'code': 429, 'message': 'Resource has been exhausted (e.g. check quota).', 'status': 'RESOURCE_EXHAUSTED'}}\n",
      "Error during embedding batch 2: 429 RESOURCE_EXHAUSTED. {'error': {'code': 429, 'message': 'Resource has been exhausted (e.g. check quota).', 'status': 'RESOURCE_EXHAUSTED'}}\n"
     ]
    },
    {
     "name": "stderr",
     "output_type": "stream",
     "text": [
      "Processing embeddings batches: 100%|██████████| 5/5 [00:02<00:00,  2.71batch/s]"
     ]
    },
    {
     "name": "stdout",
     "output_type": "stream",
     "text": [
      "Error during embedding batch 3: 429 RESOURCE_EXHAUSTED. {'error': {'code': 429, 'message': 'Resource has been exhausted (e.g. check quota).', 'status': 'RESOURCE_EXHAUSTED'}}\n",
      "Error during embedding batch 4: 429 RESOURCE_EXHAUSTED. {'error': {'code': 429, 'message': 'Resource has been exhausted (e.g. check quota).', 'status': 'RESOURCE_EXHAUSTED'}}\n"
     ]
    },
    {
     "name": "stderr",
     "output_type": "stream",
     "text": [
      "Processing embeddings batches: 100%|██████████| 5/5 [00:02<00:00,  1.77batch/s]\n"
     ]
    },
    {
     "data": {
      "text/html": [
       "<div>\n",
       "<style scoped>\n",
       "    .dataframe tbody tr th:only-of-type {\n",
       "        vertical-align: middle;\n",
       "    }\n",
       "\n",
       "    .dataframe tbody tr th {\n",
       "        vertical-align: top;\n",
       "    }\n",
       "\n",
       "    .dataframe thead th {\n",
       "        text-align: right;\n",
       "    }\n",
       "</style>\n",
       "<table border=\"1\" class=\"dataframe\">\n",
       "  <thead>\n",
       "    <tr style=\"text-align: right;\">\n",
       "      <th></th>\n",
       "      <th>text</th>\n",
       "      <th>author</th>\n",
       "      <th>likes</th>\n",
       "      <th>replyCount</th>\n",
       "      <th>embed_dim_0</th>\n",
       "      <th>embed_dim_1</th>\n",
       "    </tr>\n",
       "  </thead>\n",
       "  <tbody>\n",
       "    <tr>\n",
       "      <th>0</th>\n",
       "      <td>If you guys enjoyed this video, please conside...</td>\n",
       "      <td>@MegaLag</td>\n",
       "      <td>23905</td>\n",
       "      <td>539</td>\n",
       "      <td>-0.014661</td>\n",
       "      <td>-0.001000</td>\n",
       "    </tr>\n",
       "    <tr>\n",
       "      <th>1</th>\n",
       "      <td>Cannot trust those guys on the thumbnail?</td>\n",
       "      <td>@logic8673</td>\n",
       "      <td>0</td>\n",
       "      <td>0</td>\n",
       "      <td>-0.017816</td>\n",
       "      <td>0.010065</td>\n",
       "    </tr>\n",
       "    <tr>\n",
       "      <th>2</th>\n",
       "      <td>I like that the influencers got f***ed to when...</td>\n",
       "      <td>@PeterJung-cx1ib</td>\n",
       "      <td>0</td>\n",
       "      <td>0</td>\n",
       "      <td>-0.001770</td>\n",
       "      <td>-0.007576</td>\n",
       "    </tr>\n",
       "    <tr>\n",
       "      <th>3</th>\n",
       "      <td>This is straight up evil. I knew Paypal is  no...</td>\n",
       "      <td>@filsc</td>\n",
       "      <td>0</td>\n",
       "      <td>0</td>\n",
       "      <td>-0.015820</td>\n",
       "      <td>0.016761</td>\n",
       "    </tr>\n",
       "    <tr>\n",
       "      <th>4</th>\n",
       "      <td>Its not their fault tho they didnt know</td>\n",
       "      <td>@TeumuTemara</td>\n",
       "      <td>0</td>\n",
       "      <td>0</td>\n",
       "      <td>-0.014794</td>\n",
       "      <td>0.009811</td>\n",
       "    </tr>\n",
       "  </tbody>\n",
       "</table>\n",
       "</div>"
      ],
      "text/plain": [
       "                                                text            author  likes  \\\n",
       "0  If you guys enjoyed this video, please conside...          @MegaLag  23905   \n",
       "1          Cannot trust those guys on the thumbnail?        @logic8673      0   \n",
       "2  I like that the influencers got f***ed to when...  @PeterJung-cx1ib      0   \n",
       "3  This is straight up evil. I knew Paypal is  no...            @filsc      0   \n",
       "4            Its not their fault tho they didnt know      @TeumuTemara      0   \n",
       "\n",
       "   replyCount  embed_dim_0  embed_dim_1  \n",
       "0         539    -0.014661    -0.001000  \n",
       "1           0    -0.017816     0.010065  \n",
       "2           0    -0.001770    -0.007576  \n",
       "3           0    -0.015820     0.016761  \n",
       "4           0    -0.014794     0.009811  "
      ]
     },
     "metadata": {},
     "output_type": "display_data"
    }
   ],
   "source": [
    "df = gemini_client.add_embeddings_to_dataframe(\n",
    "    df, google_client=google_client, task_type=\"CLUSTERING\", output_dimensionality=2, batch_size=100)\n",
    "display(df.head())"
   ]
  },
  {
   "cell_type": "code",
   "execution_count": null,
   "metadata": {},
   "outputs": [],
   "source": [
    "output_file= f\"./datasets/with-assumptions/{dataset_name}.csv\"\n",
    "df.to_csv(output_file, index=False)\n"
   ]
  }
 ],
 "metadata": {
  "kernelspec": {
   "display_name": "BERTopic",
   "language": "python",
   "name": "python3"
  },
  "language_info": {
   "codemirror_mode": {
    "name": "ipython",
    "version": 3
   },
   "file_extension": ".py",
   "mimetype": "text/x-python",
   "name": "python",
   "nbconvert_exporter": "python",
   "pygments_lexer": "ipython3"
  }
 },
 "nbformat": 4,
 "nbformat_minor": 2
}
