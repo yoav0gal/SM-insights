{
 "cells": [
  {
   "cell_type": "code",
   "execution_count": 2,
   "id": "9151a1ed",
   "metadata": {},
   "outputs": [
    {
     "name": "stdout",
     "output_type": "stream",
     "text": [
      "Requirement already satisfied: google-genai in c:\\users\\hamamahome\\anaconda3\\envs\\ds-101-final\\lib\\site-packages (1.18.0)\n",
      "Requirement already satisfied: bertopic in c:\\users\\hamamahome\\anaconda3\\envs\\ds-101-final\\lib\\site-packages (0.17.0)\n",
      "Requirement already satisfied: anyio<5.0.0,>=4.8.0 in c:\\users\\hamamahome\\anaconda3\\envs\\ds-101-final\\lib\\site-packages (from google-genai) (4.9.0)\n",
      "Requirement already satisfied: google-auth<3.0.0,>=2.14.1 in c:\\users\\hamamahome\\anaconda3\\envs\\ds-101-final\\lib\\site-packages (from google-genai) (2.40.1)\n",
      "Requirement already satisfied: httpx<1.0.0,>=0.28.1 in c:\\users\\hamamahome\\anaconda3\\envs\\ds-101-final\\lib\\site-packages (from google-genai) (0.28.1)\n",
      "Requirement already satisfied: pydantic<3.0.0,>=2.0.0 in c:\\users\\hamamahome\\anaconda3\\envs\\ds-101-final\\lib\\site-packages (from google-genai) (2.11.4)\n",
      "Requirement already satisfied: requests<3.0.0,>=2.28.1 in c:\\users\\hamamahome\\anaconda3\\envs\\ds-101-final\\lib\\site-packages (from google-genai) (2.32.3)\n",
      "Requirement already satisfied: websockets<15.1.0,>=13.0.0 in c:\\users\\hamamahome\\anaconda3\\envs\\ds-101-final\\lib\\site-packages (from google-genai) (15.0.1)\n",
      "Requirement already satisfied: typing-extensions<5.0.0,>=4.11.0 in c:\\users\\hamamahome\\anaconda3\\envs\\ds-101-final\\lib\\site-packages (from google-genai) (4.12.2)\n",
      "Requirement already satisfied: hdbscan>=0.8.29 in c:\\users\\hamamahome\\anaconda3\\envs\\ds-101-final\\lib\\site-packages (from bertopic) (0.8.40)\n",
      "Requirement already satisfied: numpy>=1.20.0 in c:\\users\\hamamahome\\anaconda3\\envs\\ds-101-final\\lib\\site-packages (from bertopic) (1.26.4)\n",
      "Requirement already satisfied: pandas>=1.1.5 in c:\\users\\hamamahome\\anaconda3\\envs\\ds-101-final\\lib\\site-packages (from bertopic) (2.2.3)\n",
      "Requirement already satisfied: plotly>=4.7.0 in c:\\users\\hamamahome\\anaconda3\\envs\\ds-101-final\\lib\\site-packages (from bertopic) (6.0.0)\n",
      "Requirement already satisfied: scikit-learn>=1.0 in c:\\users\\hamamahome\\anaconda3\\envs\\ds-101-final\\lib\\site-packages (from bertopic) (1.6.1)\n",
      "Requirement already satisfied: sentence-transformers>=0.4.1 in c:\\users\\hamamahome\\anaconda3\\envs\\ds-101-final\\lib\\site-packages (from bertopic) (4.0.1)\n",
      "Requirement already satisfied: tqdm>=4.41.1 in c:\\users\\hamamahome\\anaconda3\\envs\\ds-101-final\\lib\\site-packages (from bertopic) (4.67.1)\n",
      "Requirement already satisfied: umap-learn>=0.5.0 in c:\\users\\hamamahome\\anaconda3\\envs\\ds-101-final\\lib\\site-packages (from bertopic) (0.5.7)\n",
      "Requirement already satisfied: idna>=2.8 in c:\\users\\hamamahome\\anaconda3\\envs\\ds-101-final\\lib\\site-packages (from anyio<5.0.0,>=4.8.0->google-genai) (3.10)\n",
      "Requirement already satisfied: sniffio>=1.1 in c:\\users\\hamamahome\\anaconda3\\envs\\ds-101-final\\lib\\site-packages (from anyio<5.0.0,>=4.8.0->google-genai) (1.3.1)\n",
      "Requirement already satisfied: cachetools<6.0,>=2.0.0 in c:\\users\\hamamahome\\anaconda3\\envs\\ds-101-final\\lib\\site-packages (from google-auth<3.0.0,>=2.14.1->google-genai) (5.5.2)\n",
      "Requirement already satisfied: pyasn1-modules>=0.2.1 in c:\\users\\hamamahome\\anaconda3\\envs\\ds-101-final\\lib\\site-packages (from google-auth<3.0.0,>=2.14.1->google-genai) (0.4.2)\n",
      "Requirement already satisfied: rsa<5,>=3.1.4 in c:\\users\\hamamahome\\anaconda3\\envs\\ds-101-final\\lib\\site-packages (from google-auth<3.0.0,>=2.14.1->google-genai) (4.9.1)\n",
      "Requirement already satisfied: scipy>=1.0 in c:\\users\\hamamahome\\anaconda3\\envs\\ds-101-final\\lib\\site-packages (from hdbscan>=0.8.29->bertopic) (1.13.1)\n",
      "Requirement already satisfied: joblib>=1.0 in c:\\users\\hamamahome\\anaconda3\\envs\\ds-101-final\\lib\\site-packages (from hdbscan>=0.8.29->bertopic) (1.4.2)\n",
      "Requirement already satisfied: certifi in c:\\users\\hamamahome\\anaconda3\\envs\\ds-101-final\\lib\\site-packages (from httpx<1.0.0,>=0.28.1->google-genai) (2025.1.31)\n",
      "Requirement already satisfied: httpcore==1.* in c:\\users\\hamamahome\\anaconda3\\envs\\ds-101-final\\lib\\site-packages (from httpx<1.0.0,>=0.28.1->google-genai) (1.0.9)\n",
      "Requirement already satisfied: h11>=0.16 in c:\\users\\hamamahome\\anaconda3\\envs\\ds-101-final\\lib\\site-packages (from httpcore==1.*->httpx<1.0.0,>=0.28.1->google-genai) (0.16.0)\n",
      "Requirement already satisfied: python-dateutil>=2.8.2 in c:\\users\\hamamahome\\appdata\\roaming\\python\\python312\\site-packages (from pandas>=1.1.5->bertopic) (2.9.0.post0)\n",
      "Requirement already satisfied: pytz>=2020.1 in c:\\users\\hamamahome\\anaconda3\\envs\\ds-101-final\\lib\\site-packages (from pandas>=1.1.5->bertopic) (2024.1)\n",
      "Requirement already satisfied: tzdata>=2022.7 in c:\\users\\hamamahome\\anaconda3\\envs\\ds-101-final\\lib\\site-packages (from pandas>=1.1.5->bertopic) (2025.1)\n",
      "Requirement already satisfied: narwhals>=1.15.1 in c:\\users\\hamamahome\\anaconda3\\envs\\ds-101-final\\lib\\site-packages (from plotly>=4.7.0->bertopic) (1.25.0)\n",
      "Requirement already satisfied: packaging in c:\\users\\hamamahome\\appdata\\roaming\\python\\python312\\site-packages (from plotly>=4.7.0->bertopic) (24.2)\n",
      "Requirement already satisfied: annotated-types>=0.6.0 in c:\\users\\hamamahome\\anaconda3\\envs\\ds-101-final\\lib\\site-packages (from pydantic<3.0.0,>=2.0.0->google-genai) (0.7.0)\n",
      "Requirement already satisfied: pydantic-core==2.33.2 in c:\\users\\hamamahome\\anaconda3\\envs\\ds-101-final\\lib\\site-packages (from pydantic<3.0.0,>=2.0.0->google-genai) (2.33.2)\n",
      "Requirement already satisfied: typing-inspection>=0.4.0 in c:\\users\\hamamahome\\anaconda3\\envs\\ds-101-final\\lib\\site-packages (from pydantic<3.0.0,>=2.0.0->google-genai) (0.4.0)\n",
      "Requirement already satisfied: charset-normalizer<4,>=2 in c:\\users\\hamamahome\\anaconda3\\envs\\ds-101-final\\lib\\site-packages (from requests<3.0.0,>=2.28.1->google-genai) (3.4.1)\n",
      "Requirement already satisfied: urllib3<3,>=1.21.1 in c:\\users\\hamamahome\\anaconda3\\envs\\ds-101-final\\lib\\site-packages (from requests<3.0.0,>=2.28.1->google-genai) (2.3.0)\n",
      "Requirement already satisfied: threadpoolctl>=3.1.0 in c:\\users\\hamamahome\\anaconda3\\envs\\ds-101-final\\lib\\site-packages (from scikit-learn>=1.0->bertopic) (3.5.0)\n",
      "Requirement already satisfied: transformers<5.0.0,>=4.41.0 in c:\\users\\hamamahome\\anaconda3\\envs\\ds-101-final\\lib\\site-packages (from sentence-transformers>=0.4.1->bertopic) (4.50.3)\n",
      "Requirement already satisfied: torch>=1.11.0 in c:\\users\\hamamahome\\anaconda3\\envs\\ds-101-final\\lib\\site-packages (from sentence-transformers>=0.4.1->bertopic) (2.6.0)\n",
      "Requirement already satisfied: huggingface-hub>=0.20.0 in c:\\users\\hamamahome\\anaconda3\\envs\\ds-101-final\\lib\\site-packages (from sentence-transformers>=0.4.1->bertopic) (0.30.1)\n",
      "Requirement already satisfied: Pillow in c:\\users\\hamamahome\\anaconda3\\envs\\ds-101-final\\lib\\site-packages (from sentence-transformers>=0.4.1->bertopic) (11.1.0)\n",
      "Requirement already satisfied: colorama in c:\\users\\hamamahome\\appdata\\roaming\\python\\python312\\site-packages (from tqdm>=4.41.1->bertopic) (0.4.6)\n",
      "Requirement already satisfied: numba>=0.51.2 in c:\\users\\hamamahome\\anaconda3\\envs\\ds-101-final\\lib\\site-packages (from umap-learn>=0.5.0->bertopic) (0.61.0)\n",
      "Requirement already satisfied: pynndescent>=0.5 in c:\\users\\hamamahome\\anaconda3\\envs\\ds-101-final\\lib\\site-packages (from umap-learn>=0.5.0->bertopic) (0.5.13)\n",
      "Requirement already satisfied: filelock in c:\\users\\hamamahome\\anaconda3\\envs\\ds-101-final\\lib\\site-packages (from huggingface-hub>=0.20.0->sentence-transformers>=0.4.1->bertopic) (3.17.0)\n",
      "Requirement already satisfied: fsspec>=2023.5.0 in c:\\users\\hamamahome\\anaconda3\\envs\\ds-101-final\\lib\\site-packages (from huggingface-hub>=0.20.0->sentence-transformers>=0.4.1->bertopic) (2025.2.0)\n",
      "Requirement already satisfied: pyyaml>=5.1 in c:\\users\\hamamahome\\anaconda3\\envs\\ds-101-final\\lib\\site-packages (from huggingface-hub>=0.20.0->sentence-transformers>=0.4.1->bertopic) (6.0.2)\n",
      "Requirement already satisfied: llvmlite<0.45,>=0.44.0dev0 in c:\\users\\hamamahome\\anaconda3\\envs\\ds-101-final\\lib\\site-packages (from numba>=0.51.2->umap-learn>=0.5.0->bertopic) (0.44.0)\n",
      "Requirement already satisfied: pyasn1<0.7.0,>=0.6.1 in c:\\users\\hamamahome\\anaconda3\\envs\\ds-101-final\\lib\\site-packages (from pyasn1-modules>=0.2.1->google-auth<3.0.0,>=2.14.1->google-genai) (0.6.1)\n",
      "Requirement already satisfied: six>=1.5 in c:\\users\\hamamahome\\appdata\\roaming\\python\\python312\\site-packages (from python-dateutil>=2.8.2->pandas>=1.1.5->bertopic) (1.16.0)\n",
      "Requirement already satisfied: networkx in c:\\users\\hamamahome\\anaconda3\\envs\\ds-101-final\\lib\\site-packages (from torch>=1.11.0->sentence-transformers>=0.4.1->bertopic) (3.4.2)\n",
      "Requirement already satisfied: jinja2 in c:\\users\\hamamahome\\anaconda3\\envs\\ds-101-final\\lib\\site-packages (from torch>=1.11.0->sentence-transformers>=0.4.1->bertopic) (3.1.5)\n",
      "Requirement already satisfied: setuptools in c:\\users\\hamamahome\\anaconda3\\envs\\ds-101-final\\lib\\site-packages (from torch>=1.11.0->sentence-transformers>=0.4.1->bertopic) (75.8.0)\n",
      "Requirement already satisfied: sympy==1.13.1 in c:\\users\\hamamahome\\anaconda3\\envs\\ds-101-final\\lib\\site-packages (from torch>=1.11.0->sentence-transformers>=0.4.1->bertopic) (1.13.1)\n",
      "Requirement already satisfied: mpmath<1.4,>=1.1.0 in c:\\users\\hamamahome\\anaconda3\\envs\\ds-101-final\\lib\\site-packages (from sympy==1.13.1->torch>=1.11.0->sentence-transformers>=0.4.1->bertopic) (1.3.0)\n",
      "Requirement already satisfied: regex!=2019.12.17 in c:\\users\\hamamahome\\anaconda3\\envs\\ds-101-final\\lib\\site-packages (from transformers<5.0.0,>=4.41.0->sentence-transformers>=0.4.1->bertopic) (2024.11.6)\n",
      "Requirement already satisfied: tokenizers<0.22,>=0.21 in c:\\users\\hamamahome\\anaconda3\\envs\\ds-101-final\\lib\\site-packages (from transformers<5.0.0,>=4.41.0->sentence-transformers>=0.4.1->bertopic) (0.21.1)\n",
      "Requirement already satisfied: safetensors>=0.4.3 in c:\\users\\hamamahome\\anaconda3\\envs\\ds-101-final\\lib\\site-packages (from transformers<5.0.0,>=4.41.0->sentence-transformers>=0.4.1->bertopic) (0.5.3)\n",
      "Requirement already satisfied: MarkupSafe>=2.0 in c:\\users\\hamamahome\\anaconda3\\envs\\ds-101-final\\lib\\site-packages (from jinja2->torch>=1.11.0->sentence-transformers>=0.4.1->bertopic) (3.0.2)\n",
      "Note: you may need to restart the kernel to use updated packages.\n"
     ]
    }
   ],
   "source": [
    "%pip install google-genai bertopic"
   ]
  },
  {
   "cell_type": "code",
   "execution_count": null,
   "id": "5947a7b6",
   "metadata": {},
   "outputs": [],
   "source": [
    "import os, numpy as np\n",
    "from google import genai                      # google-generativeai ≥0.5\n",
    "from  bertopic.backend._base import BaseEmbedder # bertopic ≥0.14.0\n",
    "from typing import List\n",
    "\n",
    "genai_client = genai.Client(api_key=os.getenv(\"GOOGLE_API_KEY\"))\n",
    "\n",
    "class GeminiEmbeddingBackend(BaseEmbedder):\n",
    "    \"\"\"BERTopic-ready backend that sends batched requests to Gemini.\"\"\"\n",
    "    def __init__(\n",
    "        self,\n",
    "        model: str = \"models/embedding-001\",      # or gemini-embedding-exp-03-07\n",
    "        batch_size: int = 100,                    # SDK max as of May 2025\n",
    "        task_type: str | None = \"clustering\",     # or retrieval_document …\n",
    "        title: str | None = None,                 # used only for task_type=retrieval_document\n",
    "    ):\n",
    "        self.client      = genai_client \n",
    "        self.model       = model\n",
    "        self.batch_size  = batch_size\n",
    "        self.task_type   = task_type\n",
    "        self.title       = title\n",
    "\n",
    "    # -------- required by BERTopic -------- #\n",
    "    def embed(self, documents: List[str], verbose: bool = False) -> np.ndarray:\n",
    "        \"\"\"Return a 2-D float32 NumPy array of shape (n_docs, dim).\"\"\"\n",
    "        vectors = []\n",
    "        for start in range(0, len(documents), self.batch_size):\n",
    "            batch = documents[start : start + self.batch_size]\n",
    "\n",
    "            if verbose:\n",
    "                print(f\"Embedding docs {start}–{start+len(batch)-1} / {len(documents)}\")\n",
    "\n",
    "            resp = self.client.models.embed_content(\n",
    "                model      = self.model,\n",
    "                contents    = batch,         \n",
    "                config= genai.types.EmbedContentConfig(\n",
    "                    task_type = self.task_type,\n",
    "                    title     = self.title,\n",
    "                ),\n",
    "                \n",
    "            )\n",
    "            # `resp` → google.genai.types.BatchEmbedContentsResponse\n",
    "            vectors.extend([e.values for e in resp.embeddings])\n",
    "\n",
    "        return np.asarray(vectors, dtype=\"float32\")\n"
   ]
  },
  {
   "cell_type": "code",
   "execution_count": 24,
   "id": "c5f45e8c",
   "metadata": {},
   "outputs": [
    {
     "data": {
      "text/plain": [
       "True"
      ]
     },
     "execution_count": 24,
     "metadata": {},
     "output_type": "execute_result"
    }
   ],
   "source": [
    "from dotenv import load_dotenv\n",
    "load_dotenv()  # Load environment variables from .env file"
   ]
  },
  {
   "cell_type": "code",
   "execution_count": 46,
   "id": "c405927c",
   "metadata": {},
   "outputs": [
    {
     "name": "stdout",
     "output_type": "stream",
     "text": [
      "Processing trump_gaza_1000.csv...\n"
     ]
    },
    {
     "data": {
      "application/vnd.plotly.v1+json": {
       "config": {
        "plotlyServerURL": "https://plot.ly"
       },
       "data": [
        {
         "hoverinfo": "text",
         "hovertext": [
          null
         ],
         "marker": {
          "color": "#CFD8DC",
          "opacity": 0.5,
          "size": 5
         },
         "mode": "markers+text",
         "name": "other",
         "showlegend": false,
         "type": "scattergl",
         "x": {
          "bdata": "AADAfw==",
          "dtype": "f4"
         },
         "y": {
          "bdata": "AADAfw==",
          "dtype": "f4"
         }
        },
        {
         "hoverinfo": "text",
         "hovertext": [
          "hysterical! this video makes me laugh every time i see it! epic!! face_with_tears_of_joyred_heartface_with_tears_of_joyred_heart",
          "this is to remind that we are very close to  the end .",
          "while i agree a new vision is needed this is so unfunny and poor taste is an understatement",
          "poor confused trump, who started his real estate dream with: 'will be so ba (badConfusion.', but quickly changed that in: 'will be so magnificent'. well, the first is more according the truth.",
          "will no one rid us of this pestilence?",
          "if you could have voted and didn't, don't complain now",
          "lol now this is epic",
          "the donald trump statue will also speak face_with_tears_of_joy",
          "it was a satirical video unfortunately picked up by trump as beautiful. horrific for the creator.",
          "idolatry at it's most disgusting...",
          "nice idea of trumpflexed_biceps",
          "mad man on throne of the most powerful country,now thing who elected him,are they normal? rolling_on_the_floor_laughing",
          "it's gonna happen been prophecised zephania chapter .",
          "it makes las vegas look almost tasteful.",
          "turning the ragebait up to .",
          "this will surely bring down the price of eggs",
          "lets see how many supporters go on pretzel mode",
          "the peak of american politics indeed hot_beverage",
          "we did it to north america, we can do it anywhere! - america man....",
          "this is a total disgrace. every u.s. citizen with morals should be outraged at trump. sick!!!",
          "i like how trump trolls everyone!",
          "the song and ad is awesome!",
          "we got this before gtaface_with_tears_of_joy",
          "most american governors won't have problem with that",
          "this is fire tho",
          "bro why tf are we living through a hoi mod playthrough",
          "the giant gold statue tells you all you need to know.",
          "this is the american dream speaking_headspeaking_headspeaking_head",
          "shameless, just shameless!! nauseated_face",
          "enjoy the movie folks    frog_faceOK_hand...popcorn",
          "thumbs up??? thumbs_upmedium-light_skin_toneto show the idiocy and decadence.  or thumbs down ????thumbs_down because of the idiocy and decadence.",
          "this is hilarious, but also disrespectful.",
          "trump, musk and netanyahu are out of their minds.  this is not what america does. we help the underprivileged not the dictator",
          "\"bizarre\" the guardian?only \"bizarre\"?would you have said the same if putin published a video like that on ukraine?history will tell who closed their eyes on genocides?",
          "sick and disgusting, no words to describe this.....",
          "tuya homomi orzu qibdi",
          "what a joke  !!!",
          "finally, a glimpse of sanity",
          "this is gonna be hilarious to read on history's books",
          "so bad or magnificent .which donald",
          "we are living in the craziest timeline rn",
          "a spectacle of disgrace at its finest",
          "what a joke of the president of the usa",
          "content president is here.",
          "most commenter here want this to be real. that's his joke.",
          "who even thought of creating this advertisement, yet alone post it",
          "that actually looks nice",
          "billionaires and millionaires in politics are only there for themselves.",
          "i'd pay to visit it though. like this comment if you would too. be honest guys smiling_face_with_open_mouth_&_cold_sweat",
          "got to admit, it's a catchy tune",
          "the only thing worse than this is trump actually thinking this was something he should post!",
          "american people, you voted for trump and he will bring trouble to the whole world. he will never leave the presidency. all your taxes will be spent on the destruction of other countries.",
          "he should be ashamed about those moobs",
          "better than it is now. no doubt the raging left will find a way to complain.",
          "we are gunna see some crazy prophetic, and ancient things returning in our lifetimes.",
          " billion of our tax money for this?",
          "seriously??? what a joke.",
          "time to open your bibles and repent all you non believers are running out of time.",
          "what is life crying_face",
          "this can't be real. but it is",
          "just a distraction. its working.",
          "it's the natural consequence of capitalism and socialdarwinism",
          "lord hold our hands while we stomach this mad age.",
          "i think it's really funny.",
          "trump is my gf",
          "this video was a parody mocking trump, his big ego and his bigly a'brain which trump reposted as soon as he saw his bigly golden statue face_with_tears_of_joy",
          "trump screams out all the best held secrets.",
          "they did say he was a disruptor. face_with_tears_of_joy",
          "this is a nightmare, it can't be real. what kind of man is him? is he really so shameless?",
          "i would consider this a trump thing, however at :, i'm guessing that's not from or for  his folks.",
          "question for peoples who voted trump: are you sane?",
          "don't be cute, don't be wise, just be human please!!!!!",
          "it is possible. face_with_tears_of_joy",
          "my ma loves trump but she never mentions when he does weird sht like this",
          "show must go onflexed_bicepsflexed_biceps",
          "solo de escucharlo se me revuelve el estomago",
          "since covid everything feels like a fever dream",
          "pro-palestinians getting mad at this show they have no sense of humor. smiling_face_with_open_mouth_&_smiling_eyes",
          "k dead...really?? shame on you",
          "evidence saved for impending impeachment. just a matter of time before even the gop will fail to protect him.",
          "biff tannen's pleasure paradise casino & hotel.",
          "this man is not well",
          "old people cannot be politicians!!!!!!!!!!!!!!!!!!!!!!",
          "world war  is near",
          "that was the worst music video i've ever watched",
          "if only he had that much ambition for his own country.",
          "the red light is burning... america is truly on the brink of the abyss",
          "bet you wish you'd voted now, eh face_with_tears_of_joyface_with_tears_of_joyface_with_tears_of_joy",
          "you are dreaming, kid",
          "trump have a sence of humor",
          "che schifo. che vergogna. mai con trump",
          "\"i dont wanna be cute\"",
          "has anyone noticed the hula dancers look like don jr? i'm getting the feeling whoever generated this video is subtly mocking the president and his ridiculous, sickening vision. and he doesn't even pick up on it...",
          "\"so we were going to do gaza...and panama...and greenland...but i've talked to elon and we've decided that what the world needs most is continuity.  more trump.  that's what the world really needs for stability. so i've decided that in  years' time i will do you the honor of continuing to be your most-loved president - to keep protecting and saving you for many more years.  you'll thank me - you'll be so grateful, and you know how i like gratitude. no need for expensive elections that the slimy democrats just want to steal!  i will be your fabulous, brilliant president until i die. i'm doing it for you!\"fully expecting this.",
          "ok magas, now do you see the true character of trump?",
          "orwell would be rolling over in his grace right now",
          "this is really disturbing.",
          "do they have no shame?",
          "this is nuts great reporting guardian",
          "he is worse than dwayne elizondo mountain dew herbert camacho!",
          "this song is so awesome",
          "sick to the core",
          "bro we truly are in the darkest timeline",
          "people cannot afford eggs anymore, and then this.... a golden statue of trump and elon musk throwing money into the air... very smart message!",
          "i so love trumps sense of humor. bring it on !!",
          "i thought nothing can beat skibidi toilett but thats insane",
          "this is the most american dystopian thing i have ever seen",
          "if they didn't have bibi there, it would be cool",
          "that's too funny. i hope elon make america better. americans don't worry, trump is just a poster boy, real reason i am trusting the future is elon knows how to make things work. soon we might have actual flying cars.",
          "he is elon musk's dog!",
          "trump's team is trolling you and you fall for it.",
          "end of america ...",
          "what lack of character and contempt for humanity can bring such cynicism into the world, while mothers are mourning their dead children in the bomb ruins of their houses!!!??? this is a disgrace for all of humanity!",
          "i repent we are officially run by demons",
          "american citizens voted for him face_with_tears_of_joyface_with_tears_of_joy unbelieveable",
          "can any one defend this?? repulsive",
          "obscene and wicked.was it a time to accept money and garments, olive orchards and vineyards, sheep and oxen, male servants and female servants?",
          "if a palestinian released this video about the us we would have world war , scary how much of a double standard people have.",
          "tackling all the most important problems first",
          "has donald trump any idea how much he hurts all the people that lost their lives, their future, got badly injured. how horrible it must be if one of your friends or relatives are still buried under the rubble to see this videoclip. it just sparks more anger and terror(ismConfusion. in no way this makes america great again. it is an act of pure narcism.  how bizarre it is that the republican senators are ok with this.",
          "tomorrow they will like greece, the day after malta, and after that cyprus, etc...when will people put their foot down once and for all and end colonization and genocide forever? i am beyond sick of expecting better of us as a species. we can not allow this to keep happening...empathy for each and every human is necessary because tomorrow, this could be any of us...on any given piece of land.",
          "its joeover.  the west has fallen chat pensive_face",
          "new colonialism is worse than you think even most brutal dictators will be shocked if they sees this",
          "sickening.. the guy has absolutely no class..",
          "is that really the president of the united states??",
          "i'm literally shaking. i'll be busy all days writing furious entries in my diary",
          "all can see donlad trump is isolationist. ha ha ha.",
          "bahahaha, they're all driving teslas.face_with_tears_of_joy",
          "i'm besotted with this piece of music. really.",
          "a gold statue of trump ridiculous",
          "gross. he is despicable.",
          "you will save no oneskull_and_crossbonesskull",
          "a parte l'esaltazione, di trump. le immagini che vediamo giornalmente, di distruzione e morte, nn sono bella cosa. un paese ricostruito nel rispetto,delle usanze e tradizioni della sua popolazione, sarebbe bella cosa...... ma evitando i grattacieli",
          "sad day for satire, because \"reality\" is doing satire's job already...",
          "yall are getting trolled so hard i can't stop laughing.",
          "america's first crackhead president delivers....",
          "can i go to the real timeline now?",
          "it must be a troll video. surely to goodness i has to be.",
          "the trump statue made me lol",
          "red_heart too all these people that comment even tho the subject that brought us here was awful i feel safe reading the comments",
          "he pushes our emaginations to the limits..that we are less shocked what will happen ww is comming",
          "in what bizarre universe is this guy ok to be a president?!",
          "like a disney movie super villian",
          ":  face_with_tears_of_joy face_with_tears_of_joy face_with_tears_of_joy face_with_tears_of_joy",
          "that was painful to watch through",
          "if russia posted a video like this about the us ukraine or europe would we be laughing?",
          "hahah. that is so trump",
          "sick. the images of a gold trump, the words of the song are concerning. gave me bad strange vibes. do not ignore it. he is showing himself. with musk.",
          "let's face the fact that the president of the us is a lunatic!!",
          "imagine killing hundreds of thousands and parodying it with this video. glad i am not american.",
          "this is not from trump and is highly offensive please remove from your feed.",
          "i just vomited  a little",
          "it's funny but in a south park kind of way",
          ":-: and one more thing,what is this?!?!",
          "trump really is certifiable isn't he, it wasn't a question.",
          "it's obviously a joke.  ai is hilarious.",
          "this world is a prison",
          "the founding fathers would be so proud of what he's doing!",
          "who made this video?",
          "ha ha satirical masterclass and got the desired affect rolling_on_the_floor_laughing",
          "trump is the end of civilisation as we know it.",
          "alright trump is still funny",
          "i will never have been keep dreaming",
          "why are guardian editors meeting with isreali generals and promoting trumps disgusting tripe?",
          "all amaricans should be adhamed of this vedio",
          "best thing on the guardian in years face_with_tears_of_joy",
          "he's the worst president in the history of this country. and today, he had the nerve to throw a temper tantrum in the oval office and say zelensky was the one that made a mockery of the united states and the oval office. it's only been a month, guys.... i knew he was going to be even worse this time around... but i truly didn't predict him being worse than my wildest nightmares.",
          "and people thought that king george iii was mad?",
          "never forget who voted for this",
          "as if dtrumph cannot be any more disgraceful",
          "guardian chief editor had a meeting with top i d f  staff one month into the  g e n o c i d e. guardian = controlled opposition. boycott gaurdian.",
          "trump is an absolute fool.",
          "how can a leader of a country be so disrespectful? what a shame",
          "america wants to be the villain so baaaaad.",
          "an embarressment to humanity, whats left of it",
          "that is the abomination of desolation",
          "lol murica is a dystopia",
          "trump's non-sense insanity is bringing many to their sanity senses i guess!",
          "anyone that fell for this troll is not safe to be out in public or by themselves. you are a danger to society if you did not know, trump was trolling you.",
          "americans elected jimmy de santa from gta to run their country.",
          "i never want to hear \"at least we now have a president that can speak coherently\" again because just no",
          "wow, that could be the new summer hit , just need some more lyrics. i watch trump from germany, everyday a new hammer. germany is also crazy. the indian holy scriptures say that  iss the end of kali yuga, the next  years a time of chaos and wars.",
          "he just stopped himself from saying valuable and changed it to magnificent face_with_tears_of_joy",
          "the problem of these people, and i mean those making videos like this, is that they have no soul. they are talking machines with numbers in their minds",
          "i love it.  great idea from trump",
          "i cannot believe it. this is the end.",
          "haha very funny guys. ok now where are the cameras?",
          "what an embarrassment for the us to have a nutcase as president hes crazy",
          "disappointed disturbing and disgusting!!!!!!!!!?!",
          "it was posted on truth social by his account",
          "someone from the avengers % changed smth in the past because this is definitely a new timeline we didnt ask for",
          "goofy comicbook supervillain behavior. living in the dumbest timeline.",
          "omg, i love it!!! red_heartface_with_tears_of_joyred_heartface_with_tears_of_joy",
          "we didnt know we needed this song !!!!once long time ago there was one king, than they were many kings , now we only have kongs without balls, than there is trumpy  the king of today kongs without balls",
          ": goated saddam hussein reference",
          "he makes me laugh so hard , that level of sarcasm face_with_tears_of_joyface_with_tears_of_joy",
          "and this is a bad idea because... ?",
          "what's wrong with him????",
          "loved the content, keep it coming!",
          "oh, americans, what have you done to this world...",
          "my deepest, heartfelt sympathy .... for those who don't get the joke.  reading the comment section you have to wonder how much of it is self projection...",
          "biff tannen's city paradise casino?",
          "what a joke this has become.",
          "disgusting. beyond all limits. no words.",
          "the arrival of the dajal",
          "/th's of the worlds population knows this is a really bad idea.",
          "we truly are in a cyberpunk dystopia",
          "this new update gonna be lit fire",
          "i thought our president in kenya was nuts... this one of the usa is utterly bonkers .",
          "the song is catchy.",
          "trump is like a cross between saddam hussein and a james bond villain.",
          "love that movie idiocracy.   hold up that movie is us.  fu**.!!!  we have all been drinking the koolaid.   time to wakeup.",
          "exodus : - face_with_open_mouth",
          "but why does the song have to be such a bop?",
          "these people are sick.",
          "omg! trump has actually lost his mind! i want to gouge my eyes out because i can't unsee it! what a joke...",
          "nebuchadnezzar in the book of daniel chapter . open_book",
          "the most black mirror thing i have ever witnessed. omg, actually can't believe he posted this. how are republicans not embarrassed at this? like how can you look at him as a leader who cares about you when he literally onky cares about money and creating anjther dubai for his own selfish interests?",
          "..first prize in ideas, innovations and projects of shamelessness.",
          "i just threw up in my mouth.",
          "i'm now convinced without a shadow of a doubt these guys not mentally well.",
          "absolutely no care for human decency.",
          "kogo wyscie wybrali pouting_facepouting_facepouting_face",
          "we are in a time when the psychopaths are ruling the world. sign for empires to collapse",
          "american is my favourite tv show starring president trump face_with_tears_of_joyface_with_tears_of_joyface_with_tears_of_joyface_with_tears_of_joyface_with_tears_of_joyface_with_tears_of_joyparty_popperparty_popperparty_popperparty_popper",
          "this is a terroist ideas from trumb",
          ": literally a gold statue of our new lord and savior.",
          "so this is possible, but accessible healthcare for the american working class is not?",
          "this videos is satire by someone unrelated to trump",
          "don't worry, i don't think anyone thinks of you as \"cute.\"",
          "look at all these enemies of america saying how terrible it is",
          "i absolutely love the media falling for this one. face_with_tears_of_joyface_with_tears_of_joyface_with_tears_of_joyface_with_tears_of_joy",
          "..locomotive without transformation there is no progress..get on the train invite your friend..where are seats left. .....locomotive (smiling_face_with_smiling_eyessmiling_face_with_smiling_eyessmiling_face_with_smiling_eyesConfusion((jailConfusion(horse_face Confusion..",
          "nebuchadnezzar had a  foot statue built of himself. and we know the rest of the story...",
          "it's been like two days and i'm still laughing. four more years of the content president to go folks clinking_glasses",
          "elon can eat a lot.",
          "we have dogs running our country",
          "this is insane weary_face",
          "the funniest thing is an anti trump company in la ... and it went viral not in the way they meant..face_with_tears_of_joyface_with_tears_of_joyface_with_tears_of_joy fail",
          "what about slums in the us pouting_face fix usa.",
          "bro became sadam hossain",
          "and now we know why trump needs the gold from fort knox.",
          "did someone just wrote a storyface_with_tears_of_joy",
          "mr.trump power player raised_fist new alliance dawning ",
          "love it. next uk!",
          "it was feb  ,the year when the us fell  .....",
          "but who posted the video",
          "it only gets worse from here. americans better get used to the taste of humble pie after the next four years. it will take decades to redeem themselves internationally after trump.",
          "this should not be endorsed for any reasoneurope, canada, japan and all other countries should strongly oppose this.",
          "this is hilarious face_with_tears_of_joy you have to hand it to him he is a provocateur with a great sense of humor face_with_tears_of_joy",
          "xd how it is possible that us gov is so unhinged",
          "shouldnt the headline be guardian news shares bizarre ai generated video of trump gaza.",
          "what happened with us? i think that we're living alternative reality",
          "this is idiocracy face_with_tears_of_joy",
          "yall are forgetting trump is the one. he can dodge bullets and make it look like he alsmot got shot!",
          "what a great video.",
          "thank you trump! you've made me lose enough brain cells to actually worry about anything anymore!",
          "what's next, president camacho?",
          "ah, this is the timeline in which the back to the future bully becomes powerful",
          "the fact that trump posted this proves he doesn't understand sarcasm,  irony, and parody",
          "talking about braindead politics",
          "i like this videodems are madConfusionConfusion",
          "sick, sick, sick man!",
          "i thought this was a joke or meme of some kind. this man is serious? someone okay'd this add? so this was his goal. to build a trump resort. i'm done.",
          "\"i don't want to sound cute or be a wise guy\"--donald, you'll never sound cute and you'd never cut it as a wise guy.",
          ": \"[...] this could be something that could be so bad [...]\"  ...\ror when a liar is betrayed by his own \"social truth\" . q.e.d.",
          "great tips, thanks for sharing!",
          "\"their heart is divided; now shall they be found faulty: he shall break down their altars, he shall spoil their images.\"hosea :, kingjamesversion",
          "i am having issues waking up. how long am i trapped in this dream?",
          "im laughing hysterically for the first time in years",
          "just so farfetched and nothing to do with reality.",
          "this is the most insane political gesture i have ever seen a qualified politician do",
          "he needs medical attention asap.",
          "what is elon musk eating?",
          "i don't want to live on this earthly plane anymore",
          "he's got you guys buy the balls face_with_tears_of_joyface_with_tears_of_joyface_with_tears_of_joy",
          "there are no words..... nauseated_face",
          "what a disgusting nauseated_face president!",
          "who made that for him",
          "i enjoy the melody",
          "the only explanation could be that he is senile, otherwise this is not just absurd, it's frightening as it's coming from a man with great power in his hands. happy i'm a european right now and really worried about my us friends",
          "does anyone see the satire?",
          "what tf  did i just see skull",
          "he didnt make the ai. he just shared it like you. prob blew his mind too. gonna have to be more on the ball in what we see.guardian adding old speech the ai  at end, has just become a new ai in itself that they did do!",
          "i miss when the onion was stupider than real politics",
          "face_with_open_mouthface_with_open_mouthface_with_open_mouthface_with_open_mouththis is so bad... he almost told the truth. face_with_open_mouth",
          "he is totally insane !!",
          "niveau has left the world direction mars ...",
          "suddently cyberpunk doesn t feel like fiction anymore",
          "evil people worship themselves in absurd ways",
          "how strange hilter also had artitecture plans too that nobody asked for to boost his speed induced ego.  face_with_rolling_eyes but you know must just be him \"throwing his heart out\" right.",
          "what an odd thing to say",
          "if biden made a golden statue of himself and called himself king and only hired people in his inner circle...the guardian would have no problem with that",
          "trump sux and that is being polite.",
          "great vision! let's the dream come true!",
          "i find it upsetting that the apostrophe is missing in the title phrase \"what's next?\"the rest of this is essentially trump playbook .egregious, rancid, execrable, offensive and quite predictable. face_with_open_mouth",
          "i can't believe they voted for this man!!",
          "face_with_tears_of_joyface_with_tears_of_joyface_with_tears_of_joy love it clapping_handsclapping_handsclapping_handsbrilliant idea OK_hand",
          "i have to see the facebook comments about this loudly_crying_face",
          "maybe the ppl who vote trump should seem the pass",
          "please tell me i am sleeping! this can't be true. i miss ...",
          "zion don strikes again",
          "no like actually why is he praising himself so much",
          "where was putin?  why wasn't he in the video?",
          "whoever my dealer is he hoooed me up because this cant be real",
          "waoooooow...(based based based basedConfusion",
          "this hits to hard",
          "this advertisement is an insult to the palestinians who were kicked out of their land and were martyred by america and israel",
          "madness what is the world live in ?",
          "is this real? as in, officially released by trump???",
          "absolutely nauseating. what is wrong with this guy -- and the americans who voted for him?",
          "this is beyond henous, sick and disturbing ! i'm horrified and embarrassed!",
          "hold on this is real!!! seriously",
          "so disappointed in president trump for sharing this.",
          "the united states of trump",
          "he's so far gone",
          "this is the best joke that even he fell for! face_with_tears_of_joyface_with_tears_of_joyface_with_tears_of_joyface_with_tears_of_joyface_with_tears_of_joy",
          "new british eara has come and control the world again",
          "i liked trump and would've voted for him if i was american but bruh... what is this",
          "back to future : when biff tannen found the almanach and george mcfly is dead.",
          "these two are off their nuts face_with_tears_of_joy",
          "it was the best of times, it was the blurst of times.",
          "it's just the beginning",
          "disgraceful and sickening. so callous it's off the scale. sad day",
          "it is not bizarre, you are lying and you are evil.",
          "only when you thought you have seen it all",
          "this kind of videos can may be creats . version of \"h***s\" to secure his own place. so dont underestimate the humans feelings",
          "the united states is humiliating itself",
          "south park or real life?",
          "they lost me on  : who ever made this video is truly in tune with their wild imagination .",
          "in the book of daniel , king nebuchadnezzar  had a golden statue put up just like this one.",
          "omg this came from trump ... i though some kid made an ai video as a joke and posted it on yt shorts",
          "trump didn't release this nonsense, you guys are so gullible!",
          "typical donald trump behaviour. why is anybody surprised?",
          "even if you put the immorality aside, they guy's just tacky",
          "this would be for the mega rich and not the people",
          "you all are cooked. sincerely",
          "did he delete this from his twitter account?",
          "insane and evil.  i don't even know what to say anymore...this seems like it would be an onion parody, but it's real.  i've been saying that a lot recently...",
          "trump is totally unhinged, it is absolutely necessary for him to leave power, he is a danger to all humanity",
          "it's a top/down battle guys, not left/right...lest you all forget that.",
          "it's in your dream both goatface_with_tears_of_joyface_with_tears_of_joyface_with_tears_of_joy",
          "you all just got trolled by the goat!!!!",
          "hilarious troll by trump.  surely no one's taking this seriously.  if you are,  get some help.",
          "this advertisement is an insult to the palestinians who were kicked out of their land and were martyred by america and israel",
          "this is sick beyond what words could ever describe crying_face",
          "i am arab, this is so painful i am laughing so hard face_with_tears_of_joyface_with_tears_of_joyface_with_tears_of_joy",
          "this is most likely a trick deployed by the enemy. they're the only ones who create trump statues. don't believe it. it's a trick to manipulate your emotions.",
          "you can't stop the force of stupidity, but you can change its direction",
          "trump video horrible and very disrespectful as a  christian it sickens me !  thousands of people have died men, woman , children on the both sides  the video is beyond pathetic !",
          "looks great, go for it mister president, i like your vision.",
          "who is responsible for this commercial",
          "please... to any trump voter out there... do you really think this is great? please let me know!",
          "this man is sick beyond belief.",
          "it's just a dream and it will never fulfill, how cruel is trump you can understand now",
          "disgusting people running and ruining this country.",
          "why is it the public thinks a.i. is just being created now?.we now have the means to communicate with this intelligence(that's not artificialConfusionthat's as old as time itself.we are in endless simulations to observe the different results.the world is a stage globe_showing_Americas",
          "this guy is crazy face_with_open_mouth",
          "why is everyone complaining? it looks really great if you ask me. compared to what it is now...",
          "what did i just watched?! geez...",
          "ew ew ew nauseated_facenauseated_facenauseated_face",
          "smoke and mirrors to divert attention away from a budget that assaults the working class while giving tax cuts to the billionaire class.",
          "just want to point out that musk is in the video and not vance.shows who the real vice president is.",
          "this is vile beyond description.",
          "feeling sorry that america is about to loose all its been working on for decades. such a shame",
          "did trump really make this",
          "the original creators posted it as a joke, which makes the whole thing more ridiculous",
          "i should get pay for seeing this",
          "ai generated. americans dont feel this way.",
          "face_with_tears_of_joyface_with_tears_of_joyface_with_tears_of_joy america has become a joke!!",
          "haha .. my advise for you trump .. fix ur country first .. there is too much areas in ur country damage",
          "this is insanity beyond words",
          "this gives me north korea vibes",
          "how often did i have to idiotically day to end in the plane of existence where this is reality?",
          "all the world's psychologists and psychiatrists need to cut the b.s. and tell it like it is, to the planet.",
          "hopefully the rest of the usa realizes that this trump is % psycho!!!",
          "arabs for trump voted for this.",
          "the left have zero sense of humour,  just look at the comedians they like, they cry at things like this face_with_tears_of_joy",
          "he is an absolute wally",
          "i am so glad i never voted for this fool. this is beyond pathetic..smh",
          "who even thought of creating this advertisement, yet alone post it",
          "europe happily takes on refugees from the usface_with_tears_of_joy",
          "here for the song",
          "get er done big don",
          "i love my president!!face_with_tears_of_joy",
          "he aimed at a kingdom, he got a revolution, what an ignorant, story repeating",
          "i wish people would realize there is more to life than the ignorance and immaturity that we currently call politics",
          "why do american-style rap and music videos always make it hard to distinguish between druggies and rappers alike? i'm really wonder about it.",
          "remember  shadrach,meshach and abednego",
          "wait, i am so confused. is this video from the white house? or is this something a fan made and trump posted?",
          "the president of the usa lost his mind...",
          "das video kann nicht echt sein?",
          "it is not earth we are living on",
          "\"that could be so bad.. that could be so magnificent\" even youtube's subtitles cought that face_with_tears_of_joy",
          "he and/or his councellors have gone mad!",
          "fascinating how trump`s instinct in the speech is to say \"this could be so *bad*\" tells you everything you need to know how he usually likes to talk",
          "is this the trailer of the new leslie nielsen movie??",
          "i will not support the idea..unless they add a golf terrain.",
          "he may be the president but there is nothing presidential about him. he's an embarrassment.",
          "this is so insane that i forgot that it actually happened.",
          "guys this is prophecized!!!! there shall be no golden statues. we must stop this",
          "make the world america again.",
          "not sure how this could be any more offensive and wrong",
          "this could be something that could be so bad, this could be so magnificent... \" what?",
          "this seems pretty soulless",
          "trump himself has posted this !!!!does he not realise that this video is satire that portrays him as a authoritarian dictator like saddam, gaddafi, stalin etc that have portraits of themselves everywhere to oppress their power, and elon musk as some oligarch henchman that relish showering themselves in the money they can make out of turning gaza into a millionaires playground.guess the ego aspect of his personality took over his thinking that this was a praising of him, and blinded him that this is in fact a protest.",
          "there are building paradise on the bones of  children. this is disgusting. please stop inhuman being.",
          "-mom, mom! look there's a shell!-no, kim. it's a part of a human skull.-can i take it home so i could use it as a halloween decoration?-ah, ok.",
          "this is from b, we dislike this video. we dislike donald trump even more. he is built like an orange. get out donald trump.",
          "but, who is the artist of song?",
          "with love from north korea",
          "i can't wait for south park season ...",
          "nope don't like the golden statue s of trump those are nothing but adols . other than that i'm all for trump",
          ": it is here that he speaks truth for a literal millisecond.",
          "i also want a trump balloon smiling_face_with_open_mouth_&_cold_sweat",
          "when trump simultaneously runs for world peacemaker, best potus, award-winning businessman, renaissance man and a grammy winner celebrity.",
          "what a shame, below zero...",
          "is he a mad?!",
          "let's crowdfund a time machine everybody",
          "this is the most cringe think i have ever seen",
          "real time stamp on trumps ai video......drum roll please.drum .................. seconds!big surprise , right?for those of you that dont know,  is a revered by the free masons, who at the upper degrees, worship lucifer truth.  research.  stay aware.  stau alerts warning loudspeaker  get ready!!!",
          "that video is funny, yall ones getting mad are taking it way too seriously. its ai generated. robot made it. we cant fully orchestrate how an ai will make a video or image or whatever. find humor in it, jeez. dancers with beards. trump baloons. i think its funny and cool to watch.",
          "you calling it bizarre ? is that the first word that came to your mind to describe this monstruosity ? let me give you few adjectives you could have use instead : scary, shameful, disgusting, ridiculous, outrageous...stop minimizing what is now a dangerous reality.",
          "it has the same chord progression as the agustus gloop song",
          "america is on  autopilot mode",
          "ew what is that please",
          "hahahahaha look at all the pearl-clutching moralizers freaking out, the chan president strikes again rolling_on_the_floor_laughingface_with_tears_of_joy",
          "happy now with your fires!? i hope so.",
          "you know you want it. trump for world president",
          "kinda looks like president snow.... hmmm",
          "does he have dementia??",
          "trump brings out the worst in everything",
          "you got what your voted for. america is a very, very lost dream now. europe has to stand",
          "looks awesome, for everyone...",
          "hunger games real life what a dysttopian time to live",
          "his last attempt at this was atlantic city. we all saw how that turned out.",
          "threw up in my mouth",
          "i think his political opinions all revolve around the maximization of golf courses",
          "i want to think that all of this is a global candid camera joke, run by either aliens or some prankster in the matrix.",
          "what is more impressive is that there are still people supporting this beast.",
          "where can i download the whole song?",
          "hope yhe folks in deerbrn approve",
          "we can all of course have different opinions about the middle east conflict, especially about the hamas attack or the israeli attack, but this exceeds all moral boundaries of any humane person. it is disgusting, tasteless, degrading, wrong and repulsive! you just don't do that!",
          "some one wake me up. is this even the real world any more?",
          "this was exactly what i needed, thanks!",
          "what a jerkface_with_open_mouth how many people died here",
          "this is actually the worst thing i have ever seen",
          "this is insane! but the music is nice lol",
          "this is proof of his total disregard for human life.",
          "i actually kinda like the song its catchy",
          "this man was voted by the majotity of people ib the us, right? okeee..... lets talk about alternatives to demoraty.",
          "everybody knows the guardian doesn't care about palestinians. they smeared jeremy corbyn for their overlords.",
          "this isn't a timeline, it's a timemaze",
          "gross. truly a terrible day to have eyes",
          "time to book a flight party_popper",
          "and people still think he is a christian",
          "this is so disgusting. i'm ashamed of my so called \"leaders.\"",
          "this is so hilarious",
          "it is hard to believe this was not meant as a (sickConfusion joke. it must have been.",
          "looks like a trailer for gta  lol",
          "thank you, donald for maintaining your stupidity so that we can definitely mark you down as the worst president. the united states has had not once but twice.smiling_face_with_smiling_eyes",
          "a cruel art & plan of illuminati",
          "giving kim jung un energyface_with_tears_of_joy",
          "this is like how cartoons portray politicians",
          "that will be great",
          "the beat is quite sick ngl",
          "song low key catchy af",
          "this is beyond psychotic. ...",
          "pmsl, this is brilliant, outstanding af. every guardian reader must watch this and post youtube videos of themselves having a hissy fit.",
          "elon musk is finally dressing up normally. if this was an alrernate realityface_with_tears_of_joy",
          "bizarre that there could be peace and prosperity.  that would ruin everything.",
          "i need this song :d",
          "\"he will deceive the very elect.\"",
          "sort of obvious he's making fun of a bad joke.",
          "is ellon mask the real control man thinking_face",
          "its nice to see the president is adapting to meme culture. too bad the left cant. trump can troll? oh, the agony",
          "this is what happens when know nothing know it alls take over..we are doomedcrying_face",
          "hahahah this video is amazing. thank you ai rolling_on_the_floor_laughingrolling_on_the_floor_laughingrolling_on_the_floor_laughing",
          "hail the new world order!!!clapping_handsclapping_handsclapping_hands",
          "if this happens then there is no justice in this world",
          "as a trump supporter, i do not support this.",
          "turn up the volume loudly oncoming_fistflexed_biceps",
          null
         ],
         "marker": {
          "opacity": 0.5,
          "size": 5
         },
         "mode": "markers+text",
         "name": "0_the_is_this",
         "text": [
          "",
          "",
          "",
          "",
          "",
          "",
          "",
          "",
          "",
          "",
          "",
          "",
          "",
          "",
          "",
          "",
          "",
          "",
          "",
          "",
          "",
          "",
          "",
          "",
          "",
          "",
          "",
          "",
          "",
          "",
          "",
          "",
          "",
          "",
          "",
          "",
          "",
          "",
          "",
          "",
          "",
          "",
          "",
          "",
          "",
          "",
          "",
          "",
          "",
          "",
          "",
          "",
          "",
          "",
          "",
          "",
          "",
          "",
          "",
          "",
          "",
          "",
          "",
          "",
          "",
          "",
          "",
          "",
          "",
          "",
          "",
          "",
          "",
          "",
          "",
          "",
          "",
          "",
          "",
          "",
          "",
          "",
          "",
          "",
          "",
          "",
          "",
          "",
          "",
          "",
          "",
          "",
          "",
          "",
          "",
          "",
          "",
          "",
          "",
          "",
          "",
          "",
          "",
          "",
          "",
          "",
          "",
          "",
          "",
          "",
          "",
          "",
          "",
          "",
          "",
          "",
          "",
          "",
          "",
          "",
          "",
          "",
          "",
          "",
          "",
          "",
          "",
          "",
          "",
          "",
          "",
          "",
          "",
          "",
          "",
          "",
          "",
          "",
          "",
          "",
          "",
          "",
          "",
          "",
          "",
          "",
          "",
          "",
          "",
          "",
          "",
          "",
          "",
          "",
          "",
          "",
          "",
          "",
          "",
          "",
          "",
          "",
          "",
          "",
          "",
          "",
          "",
          "",
          "",
          "",
          "",
          "",
          "",
          "",
          "",
          "",
          "",
          "",
          "",
          "",
          "",
          "",
          "",
          "",
          "",
          "",
          "",
          "",
          "",
          "",
          "",
          "",
          "",
          "",
          "",
          "",
          "",
          "",
          "",
          "",
          "",
          "",
          "",
          "",
          "",
          "",
          "",
          "",
          "",
          "",
          "",
          "",
          "",
          "",
          "",
          "",
          "",
          "",
          "",
          "",
          "",
          "",
          "",
          "",
          "",
          "",
          "",
          "",
          "",
          "",
          "",
          "",
          "",
          "",
          "",
          "",
          "",
          "",
          "",
          "",
          "",
          "",
          "",
          "",
          "",
          "",
          "",
          "",
          "",
          "",
          "",
          "",
          "",
          "",
          "",
          "",
          "",
          "",
          "",
          "",
          "",
          "",
          "",
          "",
          "",
          "",
          "",
          "",
          "",
          "",
          "",
          "",
          "",
          "",
          "",
          "",
          "",
          "",
          "",
          "",
          "",
          "",
          "",
          "",
          "",
          "",
          "",
          "",
          "",
          "",
          "",
          "",
          "",
          "",
          "",
          "",
          "",
          "",
          "",
          "",
          "",
          "",
          "",
          "",
          "",
          "",
          "",
          "",
          "",
          "",
          "",
          "",
          "",
          "",
          "",
          "",
          "",
          "",
          "",
          "",
          "",
          "",
          "",
          "",
          "",
          "",
          "",
          "",
          "",
          "",
          "",
          "",
          "",
          "",
          "",
          "",
          "",
          "",
          "",
          "",
          "",
          "",
          "",
          "",
          "",
          "",
          "",
          "",
          "",
          "",
          "",
          "",
          "",
          "",
          "",
          "",
          "",
          "",
          "",
          "",
          "",
          "",
          "",
          "",
          "",
          "",
          "",
          "",
          "",
          "",
          "",
          "",
          "",
          "",
          "",
          "",
          "",
          "",
          "",
          "",
          "",
          "",
          "",
          "",
          "",
          "",
          "",
          "",
          "",
          "",
          "",
          "",
          "",
          "",
          "",
          "",
          "",
          "",
          "",
          "",
          "",
          "",
          "",
          "",
          "",
          "",
          "",
          "",
          "",
          "",
          "",
          "",
          "",
          "",
          "",
          "",
          "",
          "",
          "",
          "",
          "",
          "",
          "",
          "",
          "",
          "",
          "",
          "",
          "",
          "",
          "",
          "",
          "",
          "",
          "",
          "",
          "",
          "",
          "",
          "",
          "",
          "",
          "",
          "",
          "",
          "",
          "",
          "",
          "",
          "",
          "",
          "",
          "",
          "",
          "",
          "",
          "",
          "",
          "",
          "",
          "",
          "",
          "",
          "",
          "",
          "",
          "",
          "",
          "",
          "",
          "",
          "",
          "",
          "",
          "",
          "",
          "",
          "",
          "",
          "",
          "",
          "",
          "0_the_is_this"
         ],
         "textfont": {
          "size": 12
         },
         "type": "scattergl",
         "x": {
          "bdata": "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",
          "dtype": "f4"
         },
         "y": {
          "bdata": "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",
          "dtype": "f4"
         }
        },
        {
         "hoverinfo": "text",
         "hovertext": [
          "gaza is the  state .  us army get ready.",
          "trump ist the best president for the united staats of israel  !  i hope the usa get a president that loves so much his country smiling_face_with_smiling_eyes",
          "weird way to ceasefire by buying the land between israel and palestinian territories so he can act as a buffer.",
          "this is why i love trump. people were ignorant of gaza when biden was president. trump didn't even notice the bearded belly dancers!!! face_with_tears_of_joy",
          "cross on al aqsa the astonishing plan",
          "gaza is not in sale!",
          "people are crying but the idea of rebuilding gaza into a paradise is lovely. stop being so hysterical over an ai video people.",
          "call it \"trump gaza graveyard\"",
          "trump will make netanyahu and musk be his downfall",
          "i'm sure he realizes that he's not talking to investors for a new trump dump, but to the entire planet.  he's acting like this is a real estate deal for himself when it's supposed to be about rebuilding homes for the people whose lives have been destroyed by the convict's buddy netty.",
          "feast and dance the deal is done",
          "i mean, all things considered, i think it's better to live in a riviera than in a place completely destroyed by war",
          "real nu one-liked i'm student's trump of iran-",
          "i think trump's idea of turning gaza into a giant resort is terrible.  palestinians are not animals to be removed so that other people can take their place.",
          "trump gaza number  !face_with_tears_of_joy",
          "looks awesome! much better looking than the last  years in gaza",
          "isreal won this war",
          "trump will take over gaza",
          "he is clearly delusional!  will never happen!  this is palestinians home land and he thinks he is going to just displace the people and build something no one wants but him .",
          "miami vice moving to gaza",
          "racist trump envisions a palestinian free gaza.",
          "palestine will always remain a middle eastern country belonged by palestinians. not an american president and definitely not its spoiled child israel, will take it. not so dear usa try staying there away from middle east and europe and try minding your own business",
          "so you take a mass grave site and do what with it? build condos?",
          "musical_notes donald's coming to set you freebringing the light for all to seeno more tunnels no more feartrump gaza is finally heretrump gaza shining brightgolden future, a brand new light feast and dance the deal is donetrump gaza number trump gaza shining brightgolden future, a brand new light feast and dance the deal is donetrump gaza number  musical_notes",
          "sorry gaza, i don't think we're going to help.",
          "\"i dont wanna be a wise guy. \" buddy, you are actively shaking down the ukrainian president for your protection money. you are a mobster.",
          "trump is incarnation of reynald chatillon ( reynald planned to destroy of   holy places in mecca Confusion",
          "dis his dad leave gagza in inheritence to him?that's theiving private property and that also hunderds of miles away!",
          "it is just so telling that his image of a better gaza is a resort for ultra-rich people full of beach attractions, balloons, expensive clubs and luxury cars (that seemingly stray into pedestrian spaces all the timeConfusion. where are the normal people? where is transportation for everyone who is presumably running this stuff? are there also normal places to go?their idea of improvement is just a tourist trap for m+ net worths.",
          "trump gazans be like:\"netanyahu akbar!\"",
          "so, he shares a cartoonish version of the possibilities of what gaza could become. i don't see any harm in that. i'm quite sure the average gazan would rather live in luxury than what they've been living in for almost a century now.",
          "this is a place where only . million palestinians who talk about human rights are violating human rights today only palestine",
          "make gaza great again! that's what you voted for right?",
          "why are we in league with israel?",
          "trump = murderer.                    netanyahu = murderer.                           both are not considered as human anymore",
          "trump gaza number  party_poppermoney-mouth_face",
          "just wants to be the golden idol of the middle east .",
          "what a lovely vision for middle east lets hope president trump gonna deliver this project that could be tui top sell in ",
          "wuzhou, guangxi, is poised to be a major belt and road success for china, driven by a growing population, precision manufacturing, ai robotics, and semiconductor technology. with high speed connections to guangzhou, hong kong, and shenzhen extending into western china and vietnam, wuzhou is strategically positioned to become a key hub for innovation and trade.",
          "what. is. this?this isn't going to make anyone feel better of what gaza had been through. so many children have lost their families, alive or dead, and this is going to recover our pain?",
          "trump gaza is finally here!",
          "i am for this development but oppose him on canada partition,greenland and most policies otherwise",
          "this is a direct response to palestinian children celebrating the coffins of bibas family",
          "gaza? he won't fix the homelessness on streets in america?",
          "trump will get his hands on the gas fields off the coast of gaza. that's all. he will take over every foreign country for his benefits and make money while he cuts off anyone else.",
          "hope that iran will solve the problem and get rid off trump and netanjahu. if noone else can do it.",
          "don't worry folks..the palestinians can afford to stay",
          "so illegal immigration to the us is unacceptable, but illegal immigration to gaza is fine?",
          "\"and i will run these streets, like i run my casinosmore police and less latinos\"face_with_tears_of_joyface_with_tears_of_joyface_with_tears_of_joy-epicrapbattlesofhistory",
          "israel planned october th",
          "the best resort in the mediterranean: trump gaza.",
          "when will trump and netanyahu be judged on this earth, who have the blood of innocent palestinian children on their hands?crying_facecrying_facecrying_face",
          "don't let trump into the gaza",
          "imagine an arab leader posting such thing about turning usa into their dream resort place face_with_tears_of_joy like trump should stay in the usa and fix america first before heading over to the middle east.",
          "won't do usaid unless it's usannexation.",
          "will he likewise build a \"riviera\" in greenland?",
          "he cannot just take their home.......he is so self concerned.",
          "pray for the palestinians please red_heartred_heartred_heart",
          "interesting how all sides are upset by even a remote joke about prosperity for gaza",
          "\"welcome to aza now arab free\"disguesting",
          "finalmente una soluzione finale al problema palestinese.",
          "hyped to visit trump gaza!looks beautiful and glorious!",
          "being a realist, trump gaza, if ain't happening in the next  years, it should not even start.",
          "does egypt or jordan want palestinians in their country?",
          "no gaza is sufringcrying_face",
          "trump gaza # hugging_facehugging_face",
          "so, peaople of gaza ware fighting not to be under any ones shoe and to be separate nation (i still think that their war and prewar crimes ware horrid and they should be punishedConfusion  and now, the will be trmup gazians instead of palestinian.",
          "i thought you wanted the trans community and children to be closer...",
          "trump gaza number one....io penso: trump.....ummm copate....person_facepalmingperson_facepalmingperson_facepalming",
          "this is visionary. true genius. what is the alternative? constant war, relief programs and living in dirt because of extremists? djt needs applauding!",
          "i'd rather live in the present gaza than trump's gaza",
          "gaza is not for sale!!!",
          "he's talking about gaza like it belongs to he's mother",
          "face_with_tears_of_joyface_with_tears_of_joyface_with_tears_of_joy a very stu pid president, u think gazan fighters r like your slaves in the other countries. we learn u meaning of manhood n dignity is. money can just buy material things. our lands value is above all your silly dreams victory_handraised_fist from gaza land of pride that you'll just find in gaza n palestine",
          "trump's dream that will never come true. free palestine",
          "the palestinians  could have had a paradise; instead they spent billions on weapons & terror tunnels....",
          "trump gaza is finally here!",
          "where does he think all the builders will come from?",
          "palestine got to move out of gaza or this will continue or history repeats itself as egypt went to war in gaza and jordon    now israel",
          "donald the world is not a shop window, the planet is not for sale. you can't  measure everything in money.",
          ", people died, including , children, and he wants to displace a million and a half people from gaza so that we can see this scene? i have become convinced that you are an alien who does not live with us on earth. please step aside and leave us humans to solve our problems.",
          "lyrics:donald trump to set you freebringing the light for all to seeno more tunnels no more feartrump gaza is finally heretrump gaza shining brightgolden future a brand new lightpeace and dance the deal is donetrump gaza number onetrump gaza shining brightgolden future a brand new lightfeast and dance the deal is donetrump gaza number one",
          "the video reminds me of the mocking videos the idf posted of themselves blowing gaza up. cruel.",
          "oh i see thats why he give israel money and everything to make the palestinians hopeless and give up their lands",
          "great idea! face_with_tears_of_joy and he will take  milion people from gaza to the us, right?face_with_tears_of_joyface_with_tears_of_joyface_with_tears_of_joy",
          "gaza is not for anyone to just take it!",
          "so palestine just loses their territory? it's as simple as that?",
          "i love donald trump because i love truth, and i hate hypocrisy. donald trump is not responsible for the genocides in gaza. he is even the one that force the killers to negotiate winking_face",
          "funny how everyone in the comments judge this project as \"pure evil\" while what they probably consider a reasonable policy has led us to hamas.",
          "i'm not going to lie. if i travel to gaza for vacation, i will buy one of those golden statues as a souvenir.",
          "i like how trump is with the women , elon eating food face_with_tears_of_joy the song is catchy! i believe that trump could totally transform gaza",
          "trump's london, berlin, paris and so on will follow",
          "after disrespecting zelensky he is diverting attention of the people by disrespecting the middle east like someone who doesn't care anyone. smiling_face_with_open_mouth_&_cold_sweat",
          "all the people posting \"it's impossible\" comments forget that the middle east has great potential - look at uae, ksa, etc. beirut used to be the paris of the middle east. why not gaza too? anyone can dream, and free markets, technology and capitalism are strong motors for progress.",
          "trump gaza here we come!!!!!",
          "wait until we see ones about the ukrainian minerals and business in russia.",
          "knowing of the history of gaza and the situation...this is just disgusting and disrespectful to the reality that is happening in this moment. crying_face",
          "so they want to clone dubai? can the rich saudis pick up the bill as well since it is all saudi style...",
          "trump gaza casino and beach resort  soonface_with_open_mouth.",
          ": above the trump gaza sign, you see what's obviously a baphommet or goat head. on the side of each pillar you see what looks like an owl, a common symbol that means wisdom; the baphommet is in a dome that's an eye like the all-seeing eye and on the right pillar you see the number \"\" a common symbol in the occult.",
          "this will stay dreamyou never ever can take their land, if you want it you have to fight for it",
          "trampy started war in the beginning so he could build condos there",
          "whats funny about this, is that trump made a bluff on this and egypt, qatar and the uae stepped in and handled it. he got gaza fixed without even spending a cent. art or the deal, baby!!",
          "impossible trump clown_face  gaza is not a playground",
          "this is great thumbs_up  trump gaza we want to see. smiling_face_with_open_mouth_&_cold_sweat",
          "free free trump gaza free free trump gaza",
          "no true. usa  no come gaza, palestiina is free",
          "trump gaza number one",
          "gaza lago lets gooo",
          "shaytan trump and nethanjahu may your punishment be huge",
          "the genocide coalition has lost its mind! the indigenous native gazans will never surrender to white settler colonization of their native lands.",
          "is this video intended for the people of gaza to watch?",
          "trump gaza best gaza!",
          "that video is so sick!!! trump gaza #",
          "trump wants to make gaza like uae and qatarwhat's wrong with that?",
          "whats the deal with this, the us takes over gaza and builds this monstrosity and then trump claims it as his?",
          "i thought the united arab emirates was the riviera of the middle east.",
          "will the lions of gaza allow you to do that?",
          "imagine crying_facetrump wanted to displaced the poor people of gaza for making the hotspot of  nude dance with girl... waahwhat a barbaric mind occupied he is...!",
          "so...trump shares this.....does he know that by the time gaza looked like this he would literally be like  years old, and dead?",
          "where's the respect for all the people who were murdered in gaza without mercy? that guy will definitely be the down fall of everything.",
          "trump gaza # face_with_tears_of_joyface_with_tears_of_joyface_with_tears_of_joyit's catchy",
          "face_with_open_mouth_&_cold_sweat\"peter, don't! they say if you watch that video, you'll die!\"peter griffin: \"ahh that's a lot of baloni!\"the video:musical_notes\"donald trump is to set you free! donald trump number #!\"musical_notesalso peter:skull_and_crossbonesskull_and_crossbones",
          "trump sending us weapons to israel takes on a whole new dimension when these plans are revealed. it is the clearing of palestinians as if they are no more than rubble from all the , pound bombs already dropped, to make way for his resort enterprise.",
          null
         ],
         "marker": {
          "opacity": 0.5,
          "size": 5
         },
         "mode": "markers+text",
         "name": "1_gaza_the_and",
         "text": [
          "",
          "",
          "",
          "",
          "",
          "",
          "",
          "",
          "",
          "",
          "",
          "",
          "",
          "",
          "",
          "",
          "",
          "",
          "",
          "",
          "",
          "",
          "",
          "",
          "",
          "",
          "",
          "",
          "",
          "",
          "",
          "",
          "",
          "",
          "",
          "",
          "",
          "",
          "",
          "",
          "",
          "",
          "",
          "",
          "",
          "",
          "",
          "",
          "",
          "",
          "",
          "",
          "",
          "",
          "",
          "",
          "",
          "",
          "",
          "",
          "",
          "",
          "",
          "",
          "",
          "",
          "",
          "",
          "",
          "",
          "",
          "",
          "",
          "",
          "",
          "",
          "",
          "",
          "",
          "",
          "",
          "",
          "",
          "",
          "",
          "",
          "",
          "",
          "",
          "",
          "",
          "",
          "",
          "",
          "",
          "",
          "",
          "",
          "",
          "",
          "",
          "",
          "",
          "",
          "",
          "",
          "",
          "",
          "",
          "",
          "",
          "",
          "",
          "",
          "",
          "",
          "",
          "",
          "",
          "",
          "",
          "",
          "",
          "",
          "1_gaza_the_and"
         ],
         "textfont": {
          "size": 12
         },
         "type": "scattergl",
         "x": {
          "bdata": "HboqQRb0OkHwxCdBbJoyQQVvK0H6DSNBlYcfQe+QMEGdIDhBsYEvQbEZOEHm+TFB8L06QU4rMUGvZThB2CsuQcuLJ0HqmDFBC08rQQCuL0HsyzBB3XEnQWfnL0ErEjZBZcMiQb54NkE9IzpBvAghQbY1LkGTHDFB52MtQRo5I0FxNClBENAmQQTcOUFqRzlBO7k2QUkcM0FoOzRBHFcfQXBxMEHgMy5BdBweQf7uJ0G9tTRBLy87QeqhKEGRISlBwxQ2QVA5KEFpJjJB0dk5QQZBLkEFNjNBnog4QcYQL0FWE29BwjYnQYgNLEEuxSRBH4grQS/ELkHY2y5Bx0AoQRkoJEHsyDhBDIYjQZN+HkGrljdBlb8tQXP0LkFCRyJBxkYiQYRlK0EMWi9BUE4pQXTqLkHn1y5B/6EmQQxLIEEeCiNB8h42QV3uHkGSCidBb/Q3QagWIkFq2CdBUsk4QXt2JEGNSSNBJPY3QePQNUFu0zdBmAkuQVSpL0H67zBBCTYhQSPnMkEyDThBzl45QSltKkEjHzNBnlkuQfldNkFLBDlB/qcuQXnbKUHDfTNBm0EtQZEFO0HiCCFB5pseQYXfMUFLkjRBP70wQbcvMUEa3zJBb0oiQS4mMkFZ6zJBqTQhQaUmOUFG4TlBE7ExQYy1LkE=",
          "dtype": "f4"
         },
         "y": {
          "bdata": "9mcYQanfFUHPpgtBoCcWQbwbEEE55xRBML4GQaM2GEF3+RFBzDYAQQrWHEEptAZBEaEVQXW6DUEB2hZBaH4bQVkqDkEbyhRB+SsFQdjjGEF7hxRBTqAOQWnA/0AhdhxBuD8VQSt48kAIUhJBZ8UPQYrwCkE3ghlBsuoKQSolDUFj2xdBq/ANQbEhE0GrxhhBZzADQbbfBkHkxQZBPdAHQaFmGUEjCgBB2AkGQakLF0GMwQxB+twSQSo7C0HypBZBlO3vQAfJDkHhjhJBn0ISQaiJGEEkgwdBF9cBQej0AEFRdhZAUtgNQUD6CUF8vhFBr4wPQXh0G0FnxhhBzBANQUCGD0F+EBhB8oMRQcGgBUF+HRhBAiYEQf9qGUGYYhRBFpwQQVURDkHpCRNBoPwJQZc2GkG1iwBBynYOQWm2FkHMxgtBTSUdQZO6BkGHlgpBt3oOQZcaFEFUwgxBNbIWQfVmA0EwURNBTxYZQbOQDEG9oQBBktIKQeQmGEHekaxAN7cLQSDFB0EbVxdBqCQWQY86BkHPOfdAV5YWQctJF0GSNxhBzzkaQdTtFUEEQhlBitgaQaP0EUECsxJBiAcHQQUjGkHcqxxB480PQQU1FUG6sQdBbvoUQRylE0FnWxtB4fYKQUN/GUHDXhpBnZcOQWLDDkE=",
          "dtype": "f4"
         }
        },
        {
         "hoverinfo": "text",
         "hovertext": [
          "question?  why dancing men?",
          "why do the female dancers at : have beards? this can only mean two things: either the trump guys have secretly a heart for trans people  or this video has been assembled with the same meticulous care for detail typical for all of trump's actions.",
          "its the bearded dancers for meface_with_tears_of_joyface_with_tears_of_joy",
          "what are those guys with beards and dancing on women's dresses ? are they trans or what ?",
          "belly dancers have beards at :  thinking_face",
          "so uhh are wegonna just ignore the beards on those girls dancing at : face_with_tears_of_joyface_with_tears_of_joy",
          "my favourite part is the bikini ladies with beards dancing on the beach",
          "im not sure at : wheter the people there want to have bearded women",
          ": these women have beards... or better said men heads.",
          ": those women with beard is most american think ever",
          ": love to see how happy these bearded men in bikinis are dancing face_with_tears_of_joy",
          "what the heck with the bearded trans girl dancing hahaha",
          "does he realize the women dancers have beards?",
          "breaded belly dancers are next",
          "i would just like to point out : and say that's a nice detail for the ai to have included. bearded bikini dancers were not on my bingo card for this weeks' insanity, but i will take whatever shimmer of light(heartednessConfusion i can get.",
          "i anyone else noticed that the two ladies dancing on the beach right after elon eating have beards?face_with_tears_of_joyface_with_tears_of_joyface_with_tears_of_joyface_with_tears_of_joyface_with_tears_of_joy",
          "why do the beach belly dancers have full beards?out of control.",
          "is anybody seeing the bearded ladies face_with_tears_of_joyface_with_tears_of_joyface_with_tears_of_joyface_with_tears_of_joyface_with_tears_of_joyface_with_tears_of_joyface_with_tears_of_joyface_with_tears_of_joyface_with_tears_of_joyface_with_tears_of_joyface_with_tears_of_joyface_with_tears_of_joy",
          ": i guess even trump himself didnt expect men with full grown beard dressed up as women dancing on the beach",
          "why do the women have full beards?",
          "why is no one discussing the bearded ladies belly dancing... thinking_facethinking_facethinking_face",
          "yeah, he really posted this...women with beards. uhuh, yeah that's totally something he would do.",
          "no body seen the guy dancers with full beards??? eyes",
          "why does he have bearded women dancing",
          ": why do the men in drag look like the brothers from opal in sky",
          "harem girls on the beach had full beards.",
          "anyone see the trans woman belly-dancers?",
          "why do the women at : have beards face_with_tears_of_joy",
          "men in long beards dancing in genie costumes, wait what face_with_open_mouth?",
          "i just find it funny that trump shared a video with belly dancers with beards",
          "why do the belly dancers have beards face_with_tears_of_joy",
          "in ww germans created funny images of yews with funny noses. nothing bad with that. we all laughed. till we saw the next steps. nothing bad showing a rebuild country where its bearded citizens entertain the world people with belly dances.",
          "the dancing girls have beards. thrown under the bus by ai.",
          null
         ],
         "marker": {
          "opacity": 0.5,
          "size": 5
         },
         "mode": "markers+text",
         "name": "2_beards_dancing_the",
         "text": [
          "",
          "",
          "",
          "",
          "",
          "",
          "",
          "",
          "",
          "",
          "",
          "",
          "",
          "",
          "",
          "",
          "",
          "",
          "",
          "",
          "",
          "",
          "",
          "",
          "",
          "",
          "",
          "",
          "",
          "",
          "",
          "",
          "",
          "2_beards_dancing_the"
         ],
         "textfont": {
          "size": 12
         },
         "type": "scattergl",
         "x": {
          "bdata": "lyRsQPmJbkAQbnZAM8VoQOgsb0BhH3hAOKp3QCODYkDZ7l5A7LBfQBHpekCbTmxAunBpQCOqcECkLHRAJ/Z7QM/SZ0Dwh3xAIKR1QPeAYEDFDnFAjTteQJLcb0DQpmdAXcxpQLg4YUDPPm5Agd9mQNgfbUA7b3FAq3FwQD40cECLxHNARpJtQA==",
          "dtype": "f4"
         },
         "y": {
          "bdata": "12yYQNg/nUCVxJZAmmCaQHxmlUDN5ZdAhSWVQFpGlEAW+ZRAKkuVQGbXl0AetZhAdmeXQLZRlkAZdpVAytCXQGR4kUDrD5pAgiieQAfxlEDbgJZA0ZyWQJurmECfiJhARLyYQD0XlEA7JJdA1wWRQMLQmUD5YJ9Af6GTQAk4lEBnTJVA/yOXQA==",
          "dtype": "f4"
         }
        }
       ],
       "layout": {
        "annotations": [
         {
          "showarrow": false,
          "text": "D1",
          "x": 2.9515269875526426,
          "y": 6.38718691766262,
          "yshift": 10
         },
         {
          "showarrow": false,
          "text": "D2",
          "x": 10.36410866379738,
          "xshift": 10,
          "y": 11.294847631454468
         }
        ],
        "height": 750,
        "shapes": [
         {
          "line": {
           "color": "#CFD8DC",
           "width": 2
          },
          "type": "line",
          "x0": 10.36410866379738,
          "x1": 10.36410866379738,
          "y0": 1.4795262038707733,
          "y1": 11.294847631454468
         },
         {
          "line": {
           "color": "#9E9E9E",
           "width": 2
          },
          "type": "line",
          "x0": 2.9515269875526426,
          "x1": 17.776690340042116,
          "y0": 6.38718691766262,
          "y1": 6.38718691766262
         }
        ],
        "template": {
         "data": {
          "bar": [
           {
            "error_x": {
             "color": "rgb(36,36,36)"
            },
            "error_y": {
             "color": "rgb(36,36,36)"
            },
            "marker": {
             "line": {
              "color": "white",
              "width": 0.5
             },
             "pattern": {
              "fillmode": "overlay",
              "size": 10,
              "solidity": 0.2
             }
            },
            "type": "bar"
           }
          ],
          "barpolar": [
           {
            "marker": {
             "line": {
              "color": "white",
              "width": 0.5
             },
             "pattern": {
              "fillmode": "overlay",
              "size": 10,
              "solidity": 0.2
             }
            },
            "type": "barpolar"
           }
          ],
          "carpet": [
           {
            "aaxis": {
             "endlinecolor": "rgb(36,36,36)",
             "gridcolor": "white",
             "linecolor": "white",
             "minorgridcolor": "white",
             "startlinecolor": "rgb(36,36,36)"
            },
            "baxis": {
             "endlinecolor": "rgb(36,36,36)",
             "gridcolor": "white",
             "linecolor": "white",
             "minorgridcolor": "white",
             "startlinecolor": "rgb(36,36,36)"
            },
            "type": "carpet"
           }
          ],
          "choropleth": [
           {
            "colorbar": {
             "outlinewidth": 1,
             "tickcolor": "rgb(36,36,36)",
             "ticks": "outside"
            },
            "type": "choropleth"
           }
          ],
          "contour": [
           {
            "colorbar": {
             "outlinewidth": 1,
             "tickcolor": "rgb(36,36,36)",
             "ticks": "outside"
            },
            "colorscale": [
             [
              0,
              "#440154"
             ],
             [
              0.1111111111111111,
              "#482878"
             ],
             [
              0.2222222222222222,
              "#3e4989"
             ],
             [
              0.3333333333333333,
              "#31688e"
             ],
             [
              0.4444444444444444,
              "#26828e"
             ],
             [
              0.5555555555555556,
              "#1f9e89"
             ],
             [
              0.6666666666666666,
              "#35b779"
             ],
             [
              0.7777777777777778,
              "#6ece58"
             ],
             [
              0.8888888888888888,
              "#b5de2b"
             ],
             [
              1,
              "#fde725"
             ]
            ],
            "type": "contour"
           }
          ],
          "contourcarpet": [
           {
            "colorbar": {
             "outlinewidth": 1,
             "tickcolor": "rgb(36,36,36)",
             "ticks": "outside"
            },
            "type": "contourcarpet"
           }
          ],
          "heatmap": [
           {
            "colorbar": {
             "outlinewidth": 1,
             "tickcolor": "rgb(36,36,36)",
             "ticks": "outside"
            },
            "colorscale": [
             [
              0,
              "#440154"
             ],
             [
              0.1111111111111111,
              "#482878"
             ],
             [
              0.2222222222222222,
              "#3e4989"
             ],
             [
              0.3333333333333333,
              "#31688e"
             ],
             [
              0.4444444444444444,
              "#26828e"
             ],
             [
              0.5555555555555556,
              "#1f9e89"
             ],
             [
              0.6666666666666666,
              "#35b779"
             ],
             [
              0.7777777777777778,
              "#6ece58"
             ],
             [
              0.8888888888888888,
              "#b5de2b"
             ],
             [
              1,
              "#fde725"
             ]
            ],
            "type": "heatmap"
           }
          ],
          "histogram": [
           {
            "marker": {
             "line": {
              "color": "white",
              "width": 0.6
             }
            },
            "type": "histogram"
           }
          ],
          "histogram2d": [
           {
            "colorbar": {
             "outlinewidth": 1,
             "tickcolor": "rgb(36,36,36)",
             "ticks": "outside"
            },
            "colorscale": [
             [
              0,
              "#440154"
             ],
             [
              0.1111111111111111,
              "#482878"
             ],
             [
              0.2222222222222222,
              "#3e4989"
             ],
             [
              0.3333333333333333,
              "#31688e"
             ],
             [
              0.4444444444444444,
              "#26828e"
             ],
             [
              0.5555555555555556,
              "#1f9e89"
             ],
             [
              0.6666666666666666,
              "#35b779"
             ],
             [
              0.7777777777777778,
              "#6ece58"
             ],
             [
              0.8888888888888888,
              "#b5de2b"
             ],
             [
              1,
              "#fde725"
             ]
            ],
            "type": "histogram2d"
           }
          ],
          "histogram2dcontour": [
           {
            "colorbar": {
             "outlinewidth": 1,
             "tickcolor": "rgb(36,36,36)",
             "ticks": "outside"
            },
            "colorscale": [
             [
              0,
              "#440154"
             ],
             [
              0.1111111111111111,
              "#482878"
             ],
             [
              0.2222222222222222,
              "#3e4989"
             ],
             [
              0.3333333333333333,
              "#31688e"
             ],
             [
              0.4444444444444444,
              "#26828e"
             ],
             [
              0.5555555555555556,
              "#1f9e89"
             ],
             [
              0.6666666666666666,
              "#35b779"
             ],
             [
              0.7777777777777778,
              "#6ece58"
             ],
             [
              0.8888888888888888,
              "#b5de2b"
             ],
             [
              1,
              "#fde725"
             ]
            ],
            "type": "histogram2dcontour"
           }
          ],
          "mesh3d": [
           {
            "colorbar": {
             "outlinewidth": 1,
             "tickcolor": "rgb(36,36,36)",
             "ticks": "outside"
            },
            "type": "mesh3d"
           }
          ],
          "parcoords": [
           {
            "line": {
             "colorbar": {
              "outlinewidth": 1,
              "tickcolor": "rgb(36,36,36)",
              "ticks": "outside"
             }
            },
            "type": "parcoords"
           }
          ],
          "pie": [
           {
            "automargin": true,
            "type": "pie"
           }
          ],
          "scatter": [
           {
            "fillpattern": {
             "fillmode": "overlay",
             "size": 10,
             "solidity": 0.2
            },
            "type": "scatter"
           }
          ],
          "scatter3d": [
           {
            "line": {
             "colorbar": {
              "outlinewidth": 1,
              "tickcolor": "rgb(36,36,36)",
              "ticks": "outside"
             }
            },
            "marker": {
             "colorbar": {
              "outlinewidth": 1,
              "tickcolor": "rgb(36,36,36)",
              "ticks": "outside"
             }
            },
            "type": "scatter3d"
           }
          ],
          "scattercarpet": [
           {
            "marker": {
             "colorbar": {
              "outlinewidth": 1,
              "tickcolor": "rgb(36,36,36)",
              "ticks": "outside"
             }
            },
            "type": "scattercarpet"
           }
          ],
          "scattergeo": [
           {
            "marker": {
             "colorbar": {
              "outlinewidth": 1,
              "tickcolor": "rgb(36,36,36)",
              "ticks": "outside"
             }
            },
            "type": "scattergeo"
           }
          ],
          "scattergl": [
           {
            "marker": {
             "colorbar": {
              "outlinewidth": 1,
              "tickcolor": "rgb(36,36,36)",
              "ticks": "outside"
             }
            },
            "type": "scattergl"
           }
          ],
          "scattermap": [
           {
            "marker": {
             "colorbar": {
              "outlinewidth": 1,
              "tickcolor": "rgb(36,36,36)",
              "ticks": "outside"
             }
            },
            "type": "scattermap"
           }
          ],
          "scattermapbox": [
           {
            "marker": {
             "colorbar": {
              "outlinewidth": 1,
              "tickcolor": "rgb(36,36,36)",
              "ticks": "outside"
             }
            },
            "type": "scattermapbox"
           }
          ],
          "scatterpolar": [
           {
            "marker": {
             "colorbar": {
              "outlinewidth": 1,
              "tickcolor": "rgb(36,36,36)",
              "ticks": "outside"
             }
            },
            "type": "scatterpolar"
           }
          ],
          "scatterpolargl": [
           {
            "marker": {
             "colorbar": {
              "outlinewidth": 1,
              "tickcolor": "rgb(36,36,36)",
              "ticks": "outside"
             }
            },
            "type": "scatterpolargl"
           }
          ],
          "scatterternary": [
           {
            "marker": {
             "colorbar": {
              "outlinewidth": 1,
              "tickcolor": "rgb(36,36,36)",
              "ticks": "outside"
             }
            },
            "type": "scatterternary"
           }
          ],
          "surface": [
           {
            "colorbar": {
             "outlinewidth": 1,
             "tickcolor": "rgb(36,36,36)",
             "ticks": "outside"
            },
            "colorscale": [
             [
              0,
              "#440154"
             ],
             [
              0.1111111111111111,
              "#482878"
             ],
             [
              0.2222222222222222,
              "#3e4989"
             ],
             [
              0.3333333333333333,
              "#31688e"
             ],
             [
              0.4444444444444444,
              "#26828e"
             ],
             [
              0.5555555555555556,
              "#1f9e89"
             ],
             [
              0.6666666666666666,
              "#35b779"
             ],
             [
              0.7777777777777778,
              "#6ece58"
             ],
             [
              0.8888888888888888,
              "#b5de2b"
             ],
             [
              1,
              "#fde725"
             ]
            ],
            "type": "surface"
           }
          ],
          "table": [
           {
            "cells": {
             "fill": {
              "color": "rgb(237,237,237)"
             },
             "line": {
              "color": "white"
             }
            },
            "header": {
             "fill": {
              "color": "rgb(217,217,217)"
             },
             "line": {
              "color": "white"
             }
            },
            "type": "table"
           }
          ]
         },
         "layout": {
          "annotationdefaults": {
           "arrowhead": 0,
           "arrowwidth": 1
          },
          "autotypenumbers": "strict",
          "coloraxis": {
           "colorbar": {
            "outlinewidth": 1,
            "tickcolor": "rgb(36,36,36)",
            "ticks": "outside"
           }
          },
          "colorscale": {
           "diverging": [
            [
             0,
             "rgb(103,0,31)"
            ],
            [
             0.1,
             "rgb(178,24,43)"
            ],
            [
             0.2,
             "rgb(214,96,77)"
            ],
            [
             0.3,
             "rgb(244,165,130)"
            ],
            [
             0.4,
             "rgb(253,219,199)"
            ],
            [
             0.5,
             "rgb(247,247,247)"
            ],
            [
             0.6,
             "rgb(209,229,240)"
            ],
            [
             0.7,
             "rgb(146,197,222)"
            ],
            [
             0.8,
             "rgb(67,147,195)"
            ],
            [
             0.9,
             "rgb(33,102,172)"
            ],
            [
             1,
             "rgb(5,48,97)"
            ]
           ],
           "sequential": [
            [
             0,
             "#440154"
            ],
            [
             0.1111111111111111,
             "#482878"
            ],
            [
             0.2222222222222222,
             "#3e4989"
            ],
            [
             0.3333333333333333,
             "#31688e"
            ],
            [
             0.4444444444444444,
             "#26828e"
            ],
            [
             0.5555555555555556,
             "#1f9e89"
            ],
            [
             0.6666666666666666,
             "#35b779"
            ],
            [
             0.7777777777777778,
             "#6ece58"
            ],
            [
             0.8888888888888888,
             "#b5de2b"
            ],
            [
             1,
             "#fde725"
            ]
           ],
           "sequentialminus": [
            [
             0,
             "#440154"
            ],
            [
             0.1111111111111111,
             "#482878"
            ],
            [
             0.2222222222222222,
             "#3e4989"
            ],
            [
             0.3333333333333333,
             "#31688e"
            ],
            [
             0.4444444444444444,
             "#26828e"
            ],
            [
             0.5555555555555556,
             "#1f9e89"
            ],
            [
             0.6666666666666666,
             "#35b779"
            ],
            [
             0.7777777777777778,
             "#6ece58"
            ],
            [
             0.8888888888888888,
             "#b5de2b"
            ],
            [
             1,
             "#fde725"
            ]
           ]
          },
          "colorway": [
           "#1F77B4",
           "#FF7F0E",
           "#2CA02C",
           "#D62728",
           "#9467BD",
           "#8C564B",
           "#E377C2",
           "#7F7F7F",
           "#BCBD22",
           "#17BECF"
          ],
          "font": {
           "color": "rgb(36,36,36)"
          },
          "geo": {
           "bgcolor": "white",
           "lakecolor": "white",
           "landcolor": "white",
           "showlakes": true,
           "showland": true,
           "subunitcolor": "white"
          },
          "hoverlabel": {
           "align": "left"
          },
          "hovermode": "closest",
          "mapbox": {
           "style": "light"
          },
          "paper_bgcolor": "white",
          "plot_bgcolor": "white",
          "polar": {
           "angularaxis": {
            "gridcolor": "rgb(232,232,232)",
            "linecolor": "rgb(36,36,36)",
            "showgrid": false,
            "showline": true,
            "ticks": "outside"
           },
           "bgcolor": "white",
           "radialaxis": {
            "gridcolor": "rgb(232,232,232)",
            "linecolor": "rgb(36,36,36)",
            "showgrid": false,
            "showline": true,
            "ticks": "outside"
           }
          },
          "scene": {
           "xaxis": {
            "backgroundcolor": "white",
            "gridcolor": "rgb(232,232,232)",
            "gridwidth": 2,
            "linecolor": "rgb(36,36,36)",
            "showbackground": true,
            "showgrid": false,
            "showline": true,
            "ticks": "outside",
            "zeroline": false,
            "zerolinecolor": "rgb(36,36,36)"
           },
           "yaxis": {
            "backgroundcolor": "white",
            "gridcolor": "rgb(232,232,232)",
            "gridwidth": 2,
            "linecolor": "rgb(36,36,36)",
            "showbackground": true,
            "showgrid": false,
            "showline": true,
            "ticks": "outside",
            "zeroline": false,
            "zerolinecolor": "rgb(36,36,36)"
           },
           "zaxis": {
            "backgroundcolor": "white",
            "gridcolor": "rgb(232,232,232)",
            "gridwidth": 2,
            "linecolor": "rgb(36,36,36)",
            "showbackground": true,
            "showgrid": false,
            "showline": true,
            "ticks": "outside",
            "zeroline": false,
            "zerolinecolor": "rgb(36,36,36)"
           }
          },
          "shapedefaults": {
           "fillcolor": "black",
           "line": {
            "width": 0
           },
           "opacity": 0.3
          },
          "ternary": {
           "aaxis": {
            "gridcolor": "rgb(232,232,232)",
            "linecolor": "rgb(36,36,36)",
            "showgrid": false,
            "showline": true,
            "ticks": "outside"
           },
           "baxis": {
            "gridcolor": "rgb(232,232,232)",
            "linecolor": "rgb(36,36,36)",
            "showgrid": false,
            "showline": true,
            "ticks": "outside"
           },
           "bgcolor": "white",
           "caxis": {
            "gridcolor": "rgb(232,232,232)",
            "linecolor": "rgb(36,36,36)",
            "showgrid": false,
            "showline": true,
            "ticks": "outside"
           }
          },
          "title": {
           "x": 0.05
          },
          "xaxis": {
           "automargin": true,
           "gridcolor": "rgb(232,232,232)",
           "linecolor": "rgb(36,36,36)",
           "showgrid": false,
           "showline": true,
           "ticks": "outside",
           "title": {
            "standoff": 15
           },
           "zeroline": false,
           "zerolinecolor": "rgb(36,36,36)"
          },
          "yaxis": {
           "automargin": true,
           "gridcolor": "rgb(232,232,232)",
           "linecolor": "rgb(36,36,36)",
           "showgrid": false,
           "showline": true,
           "ticks": "outside",
           "title": {
            "standoff": 15
           },
           "zeroline": false,
           "zerolinecolor": "rgb(36,36,36)"
          }
         }
        },
        "title": {
         "font": {
          "color": "Black",
          "size": 22
         },
         "text": "<b>Documents and Topics</b>",
         "x": 0.5,
         "xanchor": "center",
         "yanchor": "top"
        },
        "width": 1200,
        "xaxis": {
         "visible": false
        },
        "yaxis": {
         "visible": false
        }
       }
      }
     },
     "metadata": {},
     "output_type": "display_data"
    },
    {
     "name": "stdout",
     "output_type": "stream",
     "text": [
      "Processing JH_new_wars_1000...\n"
     ]
    },
    {
     "ename": "KeyboardInterrupt",
     "evalue": "",
     "output_type": "error",
     "traceback": [
      "\u001b[1;31m---------------------------------------------------------------------------\u001b[0m",
      "\u001b[1;31mKeyboardInterrupt\u001b[0m                         Traceback (most recent call last)",
      "Cell \u001b[1;32mIn[46], line 17\u001b[0m\n\u001b[0;32m     15\u001b[0m \u001b[38;5;28;01mfor\u001b[39;00m df_name, df \u001b[38;5;129;01min\u001b[39;00m dfs1\u001b[38;5;241m.\u001b[39mitems():\n\u001b[0;32m     16\u001b[0m     \u001b[38;5;28mprint\u001b[39m(\u001b[38;5;124mf\u001b[39m\u001b[38;5;124m\"\u001b[39m\u001b[38;5;124mProcessing \u001b[39m\u001b[38;5;132;01m{\u001b[39;00mdf_name\u001b[38;5;132;01m}\u001b[39;00m\u001b[38;5;124m...\u001b[39m\u001b[38;5;124m\"\u001b[39m)\n\u001b[1;32m---> 17\u001b[0m     topics, probs \u001b[38;5;241m=\u001b[39m \u001b[43membeddeding_001_model\u001b[49m\u001b[38;5;241;43m.\u001b[39;49m\u001b[43mfit_transform\u001b[49m\u001b[43m(\u001b[49m\u001b[43mdf\u001b[49m\u001b[43m[\u001b[49m\u001b[38;5;124;43m'\u001b[39;49m\u001b[38;5;124;43mcleaned_text\u001b[39;49m\u001b[38;5;124;43m'\u001b[39;49m\u001b[43m]\u001b[49m\u001b[38;5;241;43m.\u001b[39;49m\u001b[43mtolist\u001b[49m\u001b[43m(\u001b[49m\u001b[43m)\u001b[49m\u001b[43m)\u001b[49m\n\u001b[0;32m     18\u001b[0m     fig \u001b[38;5;241m=\u001b[39m embeddeding_001_model\u001b[38;5;241m.\u001b[39mvisualize_documents(docs\u001b[38;5;241m=\u001b[39mdf[\u001b[38;5;124m'\u001b[39m\u001b[38;5;124mcleaned_text\u001b[39m\u001b[38;5;124m'\u001b[39m]\u001b[38;5;241m.\u001b[39mtolist(), topics\u001b[38;5;241m=\u001b[39mtopics, custom_labels\u001b[38;5;241m=\u001b[39mdf[\u001b[38;5;124m'\u001b[39m\u001b[38;5;124mtext\u001b[39m\u001b[38;5;124m'\u001b[39m]\u001b[38;5;241m.\u001b[39mtolist())\n\u001b[0;32m     19\u001b[0m     fig\u001b[38;5;241m.\u001b[39mshow()\n",
      "File \u001b[1;32mc:\\Users\\HamamaHome\\anaconda3\\envs\\DS-101-Final\\Lib\\site-packages\\bertopic\\_bertopic.py:454\u001b[0m, in \u001b[0;36mBERTopic.fit_transform\u001b[1;34m(self, documents, embeddings, images, y)\u001b[0m\n\u001b[0;32m    452\u001b[0m     logger\u001b[38;5;241m.\u001b[39minfo(\u001b[38;5;124m\"\u001b[39m\u001b[38;5;124mEmbedding - Transforming documents to embeddings.\u001b[39m\u001b[38;5;124m\"\u001b[39m)\n\u001b[0;32m    453\u001b[0m     \u001b[38;5;28mself\u001b[39m\u001b[38;5;241m.\u001b[39membedding_model \u001b[38;5;241m=\u001b[39m select_backend(\u001b[38;5;28mself\u001b[39m\u001b[38;5;241m.\u001b[39membedding_model, language\u001b[38;5;241m=\u001b[39m\u001b[38;5;28mself\u001b[39m\u001b[38;5;241m.\u001b[39mlanguage, verbose\u001b[38;5;241m=\u001b[39m\u001b[38;5;28mself\u001b[39m\u001b[38;5;241m.\u001b[39mverbose)\n\u001b[1;32m--> 454\u001b[0m     embeddings \u001b[38;5;241m=\u001b[39m \u001b[38;5;28;43mself\u001b[39;49m\u001b[38;5;241;43m.\u001b[39;49m\u001b[43m_extract_embeddings\u001b[49m\u001b[43m(\u001b[49m\n\u001b[0;32m    455\u001b[0m \u001b[43m        \u001b[49m\u001b[43mdocuments\u001b[49m\u001b[38;5;241;43m.\u001b[39;49m\u001b[43mDocument\u001b[49m\u001b[38;5;241;43m.\u001b[39;49m\u001b[43mvalues\u001b[49m\u001b[38;5;241;43m.\u001b[39;49m\u001b[43mtolist\u001b[49m\u001b[43m(\u001b[49m\u001b[43m)\u001b[49m\u001b[43m,\u001b[49m\n\u001b[0;32m    456\u001b[0m \u001b[43m        \u001b[49m\u001b[43mimages\u001b[49m\u001b[38;5;241;43m=\u001b[39;49m\u001b[43mimages\u001b[49m\u001b[43m,\u001b[49m\n\u001b[0;32m    457\u001b[0m \u001b[43m        \u001b[49m\u001b[43mmethod\u001b[49m\u001b[38;5;241;43m=\u001b[39;49m\u001b[38;5;124;43m\"\u001b[39;49m\u001b[38;5;124;43mdocument\u001b[39;49m\u001b[38;5;124;43m\"\u001b[39;49m\u001b[43m,\u001b[49m\n\u001b[0;32m    458\u001b[0m \u001b[43m        \u001b[49m\u001b[43mverbose\u001b[49m\u001b[38;5;241;43m=\u001b[39;49m\u001b[38;5;28;43mself\u001b[39;49m\u001b[38;5;241;43m.\u001b[39;49m\u001b[43mverbose\u001b[49m\u001b[43m,\u001b[49m\n\u001b[0;32m    459\u001b[0m \u001b[43m    \u001b[49m\u001b[43m)\u001b[49m\n\u001b[0;32m    460\u001b[0m     logger\u001b[38;5;241m.\u001b[39minfo(\u001b[38;5;124m\"\u001b[39m\u001b[38;5;124mEmbedding - Completed \u001b[39m\u001b[38;5;130;01m\\u2713\u001b[39;00m\u001b[38;5;124m\"\u001b[39m)\n\u001b[0;32m    461\u001b[0m \u001b[38;5;28;01melse\u001b[39;00m:\n",
      "File \u001b[1;32mc:\\Users\\HamamaHome\\anaconda3\\envs\\DS-101-Final\\Lib\\site-packages\\bertopic\\_bertopic.py:3711\u001b[0m, in \u001b[0;36mBERTopic._extract_embeddings\u001b[1;34m(self, documents, images, method, verbose)\u001b[0m\n\u001b[0;32m   3709\u001b[0m     embeddings \u001b[38;5;241m=\u001b[39m \u001b[38;5;28mself\u001b[39m\u001b[38;5;241m.\u001b[39membedding_model\u001b[38;5;241m.\u001b[39membed_words(words\u001b[38;5;241m=\u001b[39mdocuments, verbose\u001b[38;5;241m=\u001b[39mverbose)\n\u001b[0;32m   3710\u001b[0m \u001b[38;5;28;01melif\u001b[39;00m method \u001b[38;5;241m==\u001b[39m \u001b[38;5;124m\"\u001b[39m\u001b[38;5;124mdocument\u001b[39m\u001b[38;5;124m\"\u001b[39m:\n\u001b[1;32m-> 3711\u001b[0m     embeddings \u001b[38;5;241m=\u001b[39m \u001b[38;5;28;43mself\u001b[39;49m\u001b[38;5;241;43m.\u001b[39;49m\u001b[43membedding_model\u001b[49m\u001b[38;5;241;43m.\u001b[39;49m\u001b[43membed_documents\u001b[49m\u001b[43m(\u001b[49m\u001b[43mdocuments\u001b[49m\u001b[43m,\u001b[49m\u001b[43m \u001b[49m\u001b[43mverbose\u001b[49m\u001b[38;5;241;43m=\u001b[39;49m\u001b[43mverbose\u001b[49m\u001b[43m)\u001b[49m\n\u001b[0;32m   3712\u001b[0m \u001b[38;5;28;01melif\u001b[39;00m documents[\u001b[38;5;241m0\u001b[39m] \u001b[38;5;129;01mis\u001b[39;00m \u001b[38;5;28;01mNone\u001b[39;00m \u001b[38;5;129;01mand\u001b[39;00m images \u001b[38;5;129;01mis\u001b[39;00m \u001b[38;5;28;01mNone\u001b[39;00m:\n\u001b[0;32m   3713\u001b[0m     \u001b[38;5;28;01mraise\u001b[39;00m \u001b[38;5;167;01mValueError\u001b[39;00m(\n\u001b[0;32m   3714\u001b[0m         \u001b[38;5;124m\"\u001b[39m\u001b[38;5;124mMake sure to use an embedding model that can either embed documents\u001b[39m\u001b[38;5;124m\"\u001b[39m\n\u001b[0;32m   3715\u001b[0m         \u001b[38;5;124m\"\u001b[39m\u001b[38;5;124mor images depending on which you want to embed.\u001b[39m\u001b[38;5;124m\"\u001b[39m\n\u001b[0;32m   3716\u001b[0m     )\n",
      "File \u001b[1;32mc:\\Users\\HamamaHome\\anaconda3\\envs\\DS-101-Final\\Lib\\site-packages\\bertopic\\backend\\_base.py:62\u001b[0m, in \u001b[0;36mBaseEmbedder.embed_documents\u001b[1;34m(self, document, verbose)\u001b[0m\n\u001b[0;32m     50\u001b[0m \u001b[38;5;28;01mdef\u001b[39;00m \u001b[38;5;21membed_documents\u001b[39m(\u001b[38;5;28mself\u001b[39m, document: List[\u001b[38;5;28mstr\u001b[39m], verbose: \u001b[38;5;28mbool\u001b[39m \u001b[38;5;241m=\u001b[39m \u001b[38;5;28;01mFalse\u001b[39;00m) \u001b[38;5;241m-\u001b[39m\u001b[38;5;241m>\u001b[39m np\u001b[38;5;241m.\u001b[39mndarray:\n\u001b[0;32m     51\u001b[0m \u001b[38;5;250m    \u001b[39m\u001b[38;5;124;03m\"\"\"Embed a list of n words into an n-dimensional\u001b[39;00m\n\u001b[0;32m     52\u001b[0m \u001b[38;5;124;03m    matrix of embeddings.\u001b[39;00m\n\u001b[0;32m     53\u001b[0m \n\u001b[1;32m   (...)\u001b[0m\n\u001b[0;32m     60\u001b[0m \u001b[38;5;124;03m        that each have an embeddings size of `m`\u001b[39;00m\n\u001b[0;32m     61\u001b[0m \u001b[38;5;124;03m    \"\"\"\u001b[39;00m\n\u001b[1;32m---> 62\u001b[0m     \u001b[38;5;28;01mreturn\u001b[39;00m \u001b[38;5;28;43mself\u001b[39;49m\u001b[38;5;241;43m.\u001b[39;49m\u001b[43membed\u001b[49m\u001b[43m(\u001b[49m\u001b[43mdocument\u001b[49m\u001b[43m,\u001b[49m\u001b[43m \u001b[49m\u001b[43mverbose\u001b[49m\u001b[43m)\u001b[49m\n",
      "Cell \u001b[1;32mIn[44], line 33\u001b[0m, in \u001b[0;36mGeminiEmbeddingBackend.embed\u001b[1;34m(self, documents, verbose)\u001b[0m\n\u001b[0;32m     30\u001b[0m \u001b[38;5;28;01mif\u001b[39;00m verbose:\n\u001b[0;32m     31\u001b[0m     \u001b[38;5;28mprint\u001b[39m(\u001b[38;5;124mf\u001b[39m\u001b[38;5;124m\"\u001b[39m\u001b[38;5;124mEmbedding docs \u001b[39m\u001b[38;5;132;01m{\u001b[39;00mstart\u001b[38;5;132;01m}\u001b[39;00m\u001b[38;5;124m–\u001b[39m\u001b[38;5;132;01m{\u001b[39;00mstart\u001b[38;5;241m+\u001b[39m\u001b[38;5;28mlen\u001b[39m(batch)\u001b[38;5;241m-\u001b[39m\u001b[38;5;241m1\u001b[39m\u001b[38;5;132;01m}\u001b[39;00m\u001b[38;5;124m / \u001b[39m\u001b[38;5;132;01m{\u001b[39;00m\u001b[38;5;28mlen\u001b[39m(documents)\u001b[38;5;132;01m}\u001b[39;00m\u001b[38;5;124m\"\u001b[39m)\n\u001b[1;32m---> 33\u001b[0m resp \u001b[38;5;241m=\u001b[39m \u001b[38;5;28;43mself\u001b[39;49m\u001b[38;5;241;43m.\u001b[39;49m\u001b[43mclient\u001b[49m\u001b[38;5;241;43m.\u001b[39;49m\u001b[43mmodels\u001b[49m\u001b[38;5;241;43m.\u001b[39;49m\u001b[43membed_content\u001b[49m\u001b[43m(\u001b[49m\n\u001b[0;32m     34\u001b[0m \u001b[43m    \u001b[49m\u001b[43mmodel\u001b[49m\u001b[43m      \u001b[49m\u001b[38;5;241;43m=\u001b[39;49m\u001b[43m \u001b[49m\u001b[38;5;28;43mself\u001b[39;49m\u001b[38;5;241;43m.\u001b[39;49m\u001b[43mmodel\u001b[49m\u001b[43m,\u001b[49m\n\u001b[0;32m     35\u001b[0m \u001b[43m    \u001b[49m\u001b[43mcontents\u001b[49m\u001b[43m    \u001b[49m\u001b[38;5;241;43m=\u001b[39;49m\u001b[43m \u001b[49m\u001b[43mbatch\u001b[49m\u001b[43m,\u001b[49m\u001b[43m         \u001b[49m\n\u001b[0;32m     36\u001b[0m \u001b[43m    \u001b[49m\u001b[43mconfig\u001b[49m\u001b[38;5;241;43m=\u001b[39;49m\u001b[43m \u001b[49m\u001b[43mgenai\u001b[49m\u001b[38;5;241;43m.\u001b[39;49m\u001b[43mtypes\u001b[49m\u001b[38;5;241;43m.\u001b[39;49m\u001b[43mEmbedContentConfig\u001b[49m\u001b[43m(\u001b[49m\n\u001b[0;32m     37\u001b[0m \u001b[43m        \u001b[49m\u001b[43mtask_type\u001b[49m\u001b[43m \u001b[49m\u001b[38;5;241;43m=\u001b[39;49m\u001b[43m \u001b[49m\u001b[38;5;28;43mself\u001b[39;49m\u001b[38;5;241;43m.\u001b[39;49m\u001b[43mtask_type\u001b[49m\u001b[43m,\u001b[49m\n\u001b[0;32m     38\u001b[0m \u001b[43m        \u001b[49m\u001b[43mtitle\u001b[49m\u001b[43m     \u001b[49m\u001b[38;5;241;43m=\u001b[39;49m\u001b[43m \u001b[49m\u001b[38;5;28;43mself\u001b[39;49m\u001b[38;5;241;43m.\u001b[39;49m\u001b[43mtitle\u001b[49m\u001b[43m,\u001b[49m\n\u001b[0;32m     39\u001b[0m \u001b[43m    \u001b[49m\u001b[43m)\u001b[49m\u001b[43m,\u001b[49m\n\u001b[0;32m     40\u001b[0m \u001b[43m    \u001b[49m\n\u001b[0;32m     41\u001b[0m \u001b[43m\u001b[49m\u001b[43m)\u001b[49m\n\u001b[0;32m     42\u001b[0m \u001b[38;5;66;03m# `resp` → google.genai.types.BatchEmbedContentsResponse\u001b[39;00m\n\u001b[0;32m     43\u001b[0m vectors\u001b[38;5;241m.\u001b[39mextend([e\u001b[38;5;241m.\u001b[39mvalues \u001b[38;5;28;01mfor\u001b[39;00m e \u001b[38;5;129;01min\u001b[39;00m resp\u001b[38;5;241m.\u001b[39membeddings])\n",
      "File \u001b[1;32mc:\\Users\\HamamaHome\\anaconda3\\envs\\DS-101-Final\\Lib\\site-packages\\google\\genai\\models.py:5086\u001b[0m, in \u001b[0;36mModels.embed_content\u001b[1;34m(self, model, contents, config)\u001b[0m\n\u001b[0;32m   5083\u001b[0m request_dict \u001b[38;5;241m=\u001b[39m _common\u001b[38;5;241m.\u001b[39mconvert_to_dict(request_dict)\n\u001b[0;32m   5084\u001b[0m request_dict \u001b[38;5;241m=\u001b[39m _common\u001b[38;5;241m.\u001b[39mencode_unserializable_types(request_dict)\n\u001b[1;32m-> 5086\u001b[0m response_dict \u001b[38;5;241m=\u001b[39m \u001b[38;5;28;43mself\u001b[39;49m\u001b[38;5;241;43m.\u001b[39;49m\u001b[43m_api_client\u001b[49m\u001b[38;5;241;43m.\u001b[39;49m\u001b[43mrequest\u001b[49m\u001b[43m(\u001b[49m\n\u001b[0;32m   5087\u001b[0m \u001b[43m    \u001b[49m\u001b[38;5;124;43m'\u001b[39;49m\u001b[38;5;124;43mpost\u001b[39;49m\u001b[38;5;124;43m'\u001b[39;49m\u001b[43m,\u001b[49m\u001b[43m \u001b[49m\u001b[43mpath\u001b[49m\u001b[43m,\u001b[49m\u001b[43m \u001b[49m\u001b[43mrequest_dict\u001b[49m\u001b[43m,\u001b[49m\u001b[43m \u001b[49m\u001b[43mhttp_options\u001b[49m\n\u001b[0;32m   5088\u001b[0m \u001b[43m\u001b[49m\u001b[43m)\u001b[49m\n\u001b[0;32m   5090\u001b[0m \u001b[38;5;28;01mif\u001b[39;00m \u001b[38;5;28mself\u001b[39m\u001b[38;5;241m.\u001b[39m_api_client\u001b[38;5;241m.\u001b[39mvertexai:\n\u001b[0;32m   5091\u001b[0m   response_dict \u001b[38;5;241m=\u001b[39m _EmbedContentResponse_from_vertex(\n\u001b[0;32m   5092\u001b[0m       \u001b[38;5;28mself\u001b[39m\u001b[38;5;241m.\u001b[39m_api_client, response_dict\n\u001b[0;32m   5093\u001b[0m   )\n",
      "File \u001b[1;32mc:\\Users\\HamamaHome\\anaconda3\\envs\\DS-101-Final\\Lib\\site-packages\\google\\genai\\_api_client.py:765\u001b[0m, in \u001b[0;36mBaseApiClient.request\u001b[1;34m(self, http_method, path, request_dict, http_options)\u001b[0m\n\u001b[0;32m    755\u001b[0m \u001b[38;5;28;01mdef\u001b[39;00m \u001b[38;5;21mrequest\u001b[39m(\n\u001b[0;32m    756\u001b[0m     \u001b[38;5;28mself\u001b[39m,\n\u001b[0;32m    757\u001b[0m     http_method: \u001b[38;5;28mstr\u001b[39m,\n\u001b[1;32m   (...)\u001b[0m\n\u001b[0;32m    760\u001b[0m     http_options: Optional[HttpOptionsOrDict] \u001b[38;5;241m=\u001b[39m \u001b[38;5;28;01mNone\u001b[39;00m,\n\u001b[0;32m    761\u001b[0m ) \u001b[38;5;241m-\u001b[39m\u001b[38;5;241m>\u001b[39m Union[BaseResponse, Any]:\n\u001b[0;32m    762\u001b[0m   http_request \u001b[38;5;241m=\u001b[39m \u001b[38;5;28mself\u001b[39m\u001b[38;5;241m.\u001b[39m_build_request(\n\u001b[0;32m    763\u001b[0m       http_method, path, request_dict, http_options\n\u001b[0;32m    764\u001b[0m   )\n\u001b[1;32m--> 765\u001b[0m   response \u001b[38;5;241m=\u001b[39m \u001b[38;5;28;43mself\u001b[39;49m\u001b[38;5;241;43m.\u001b[39;49m\u001b[43m_request\u001b[49m\u001b[43m(\u001b[49m\u001b[43mhttp_request\u001b[49m\u001b[43m,\u001b[49m\u001b[43m \u001b[49m\u001b[43mstream\u001b[49m\u001b[38;5;241;43m=\u001b[39;49m\u001b[38;5;28;43;01mFalse\u001b[39;49;00m\u001b[43m)\u001b[49m\n\u001b[0;32m    766\u001b[0m   json_response \u001b[38;5;241m=\u001b[39m response\u001b[38;5;241m.\u001b[39mjson\n\u001b[0;32m    767\u001b[0m   \u001b[38;5;28;01mif\u001b[39;00m \u001b[38;5;129;01mnot\u001b[39;00m json_response:\n",
      "File \u001b[1;32mc:\\Users\\HamamaHome\\anaconda3\\envs\\DS-101-Final\\Lib\\site-packages\\google\\genai\\_api_client.py:687\u001b[0m, in \u001b[0;36mBaseApiClient._request\u001b[1;34m(self, http_request, stream)\u001b[0m\n\u001b[0;32m    683\u001b[0m   \u001b[38;5;28;01mreturn\u001b[39;00m HttpResponse(\n\u001b[0;32m    684\u001b[0m       response\u001b[38;5;241m.\u001b[39mheaders, response \u001b[38;5;28;01mif\u001b[39;00m stream \u001b[38;5;28;01melse\u001b[39;00m [response\u001b[38;5;241m.\u001b[39mtext]\n\u001b[0;32m    685\u001b[0m   )\n\u001b[0;32m    686\u001b[0m \u001b[38;5;28;01melse\u001b[39;00m:\n\u001b[1;32m--> 687\u001b[0m   response \u001b[38;5;241m=\u001b[39m \u001b[38;5;28;43mself\u001b[39;49m\u001b[38;5;241;43m.\u001b[39;49m\u001b[43m_httpx_client\u001b[49m\u001b[38;5;241;43m.\u001b[39;49m\u001b[43mrequest\u001b[49m\u001b[43m(\u001b[49m\n\u001b[0;32m    688\u001b[0m \u001b[43m      \u001b[49m\u001b[43mmethod\u001b[49m\u001b[38;5;241;43m=\u001b[39;49m\u001b[43mhttp_request\u001b[49m\u001b[38;5;241;43m.\u001b[39;49m\u001b[43mmethod\u001b[49m\u001b[43m,\u001b[49m\n\u001b[0;32m    689\u001b[0m \u001b[43m      \u001b[49m\u001b[43murl\u001b[49m\u001b[38;5;241;43m=\u001b[39;49m\u001b[43mhttp_request\u001b[49m\u001b[38;5;241;43m.\u001b[39;49m\u001b[43murl\u001b[49m\u001b[43m,\u001b[49m\n\u001b[0;32m    690\u001b[0m \u001b[43m      \u001b[49m\u001b[43mheaders\u001b[49m\u001b[38;5;241;43m=\u001b[39;49m\u001b[43mhttp_request\u001b[49m\u001b[38;5;241;43m.\u001b[39;49m\u001b[43mheaders\u001b[49m\u001b[43m,\u001b[49m\n\u001b[0;32m    691\u001b[0m \u001b[43m      \u001b[49m\u001b[43mcontent\u001b[49m\u001b[38;5;241;43m=\u001b[39;49m\u001b[43mdata\u001b[49m\u001b[43m,\u001b[49m\n\u001b[0;32m    692\u001b[0m \u001b[43m      \u001b[49m\u001b[43mtimeout\u001b[49m\u001b[38;5;241;43m=\u001b[39;49m\u001b[43mhttp_request\u001b[49m\u001b[38;5;241;43m.\u001b[39;49m\u001b[43mtimeout\u001b[49m\u001b[43m,\u001b[49m\n\u001b[0;32m    693\u001b[0m \u001b[43m  \u001b[49m\u001b[43m)\u001b[49m\n\u001b[0;32m    694\u001b[0m   errors\u001b[38;5;241m.\u001b[39mAPIError\u001b[38;5;241m.\u001b[39mraise_for_response(response)\n\u001b[0;32m    695\u001b[0m   \u001b[38;5;28;01mreturn\u001b[39;00m HttpResponse(\n\u001b[0;32m    696\u001b[0m       response\u001b[38;5;241m.\u001b[39mheaders, response \u001b[38;5;28;01mif\u001b[39;00m stream \u001b[38;5;28;01melse\u001b[39;00m [response\u001b[38;5;241m.\u001b[39mtext]\n\u001b[0;32m    697\u001b[0m   )\n",
      "File \u001b[1;32mc:\\Users\\HamamaHome\\anaconda3\\envs\\DS-101-Final\\Lib\\site-packages\\httpx\\_client.py:825\u001b[0m, in \u001b[0;36mClient.request\u001b[1;34m(self, method, url, content, data, files, json, params, headers, cookies, auth, follow_redirects, timeout, extensions)\u001b[0m\n\u001b[0;32m    810\u001b[0m     warnings\u001b[38;5;241m.\u001b[39mwarn(message, \u001b[38;5;167;01mDeprecationWarning\u001b[39;00m, stacklevel\u001b[38;5;241m=\u001b[39m\u001b[38;5;241m2\u001b[39m)\n\u001b[0;32m    812\u001b[0m request \u001b[38;5;241m=\u001b[39m \u001b[38;5;28mself\u001b[39m\u001b[38;5;241m.\u001b[39mbuild_request(\n\u001b[0;32m    813\u001b[0m     method\u001b[38;5;241m=\u001b[39mmethod,\n\u001b[0;32m    814\u001b[0m     url\u001b[38;5;241m=\u001b[39murl,\n\u001b[1;32m   (...)\u001b[0m\n\u001b[0;32m    823\u001b[0m     extensions\u001b[38;5;241m=\u001b[39mextensions,\n\u001b[0;32m    824\u001b[0m )\n\u001b[1;32m--> 825\u001b[0m \u001b[38;5;28;01mreturn\u001b[39;00m \u001b[38;5;28;43mself\u001b[39;49m\u001b[38;5;241;43m.\u001b[39;49m\u001b[43msend\u001b[49m\u001b[43m(\u001b[49m\u001b[43mrequest\u001b[49m\u001b[43m,\u001b[49m\u001b[43m \u001b[49m\u001b[43mauth\u001b[49m\u001b[38;5;241;43m=\u001b[39;49m\u001b[43mauth\u001b[49m\u001b[43m,\u001b[49m\u001b[43m \u001b[49m\u001b[43mfollow_redirects\u001b[49m\u001b[38;5;241;43m=\u001b[39;49m\u001b[43mfollow_redirects\u001b[49m\u001b[43m)\u001b[49m\n",
      "File \u001b[1;32mc:\\Users\\HamamaHome\\anaconda3\\envs\\DS-101-Final\\Lib\\site-packages\\httpx\\_client.py:928\u001b[0m, in \u001b[0;36mClient.send\u001b[1;34m(self, request, stream, auth, follow_redirects)\u001b[0m\n\u001b[0;32m    926\u001b[0m \u001b[38;5;28;01mexcept\u001b[39;00m \u001b[38;5;167;01mBaseException\u001b[39;00m \u001b[38;5;28;01mas\u001b[39;00m exc:\n\u001b[0;32m    927\u001b[0m     response\u001b[38;5;241m.\u001b[39mclose()\n\u001b[1;32m--> 928\u001b[0m     \u001b[38;5;28;01mraise\u001b[39;00m exc\n",
      "File \u001b[1;32mc:\\Users\\HamamaHome\\anaconda3\\envs\\DS-101-Final\\Lib\\site-packages\\httpx\\_client.py:922\u001b[0m, in \u001b[0;36mClient.send\u001b[1;34m(self, request, stream, auth, follow_redirects)\u001b[0m\n\u001b[0;32m    920\u001b[0m \u001b[38;5;28;01mtry\u001b[39;00m:\n\u001b[0;32m    921\u001b[0m     \u001b[38;5;28;01mif\u001b[39;00m \u001b[38;5;129;01mnot\u001b[39;00m stream:\n\u001b[1;32m--> 922\u001b[0m         \u001b[43mresponse\u001b[49m\u001b[38;5;241;43m.\u001b[39;49m\u001b[43mread\u001b[49m\u001b[43m(\u001b[49m\u001b[43m)\u001b[49m\n\u001b[0;32m    924\u001b[0m     \u001b[38;5;28;01mreturn\u001b[39;00m response\n\u001b[0;32m    926\u001b[0m \u001b[38;5;28;01mexcept\u001b[39;00m \u001b[38;5;167;01mBaseException\u001b[39;00m \u001b[38;5;28;01mas\u001b[39;00m exc:\n",
      "File \u001b[1;32mc:\\Users\\HamamaHome\\anaconda3\\envs\\DS-101-Final\\Lib\\site-packages\\httpx\\_models.py:881\u001b[0m, in \u001b[0;36mResponse.read\u001b[1;34m(self)\u001b[0m\n\u001b[0;32m    877\u001b[0m \u001b[38;5;250m\u001b[39m\u001b[38;5;124;03m\"\"\"\u001b[39;00m\n\u001b[0;32m    878\u001b[0m \u001b[38;5;124;03mRead and return the response content.\u001b[39;00m\n\u001b[0;32m    879\u001b[0m \u001b[38;5;124;03m\"\"\"\u001b[39;00m\n\u001b[0;32m    880\u001b[0m \u001b[38;5;28;01mif\u001b[39;00m \u001b[38;5;129;01mnot\u001b[39;00m \u001b[38;5;28mhasattr\u001b[39m(\u001b[38;5;28mself\u001b[39m, \u001b[38;5;124m\"\u001b[39m\u001b[38;5;124m_content\u001b[39m\u001b[38;5;124m\"\u001b[39m):\n\u001b[1;32m--> 881\u001b[0m     \u001b[38;5;28mself\u001b[39m\u001b[38;5;241m.\u001b[39m_content \u001b[38;5;241m=\u001b[39m \u001b[38;5;124;43mb\u001b[39;49m\u001b[38;5;124;43m\"\u001b[39;49m\u001b[38;5;124;43m\"\u001b[39;49m\u001b[38;5;241;43m.\u001b[39;49m\u001b[43mjoin\u001b[49m\u001b[43m(\u001b[49m\u001b[38;5;28;43mself\u001b[39;49m\u001b[38;5;241;43m.\u001b[39;49m\u001b[43miter_bytes\u001b[49m\u001b[43m(\u001b[49m\u001b[43m)\u001b[49m\u001b[43m)\u001b[49m\n\u001b[0;32m    882\u001b[0m \u001b[38;5;28;01mreturn\u001b[39;00m \u001b[38;5;28mself\u001b[39m\u001b[38;5;241m.\u001b[39m_content\n",
      "File \u001b[1;32mc:\\Users\\HamamaHome\\anaconda3\\envs\\DS-101-Final\\Lib\\site-packages\\httpx\\_models.py:897\u001b[0m, in \u001b[0;36mResponse.iter_bytes\u001b[1;34m(self, chunk_size)\u001b[0m\n\u001b[0;32m    895\u001b[0m chunker \u001b[38;5;241m=\u001b[39m ByteChunker(chunk_size\u001b[38;5;241m=\u001b[39mchunk_size)\n\u001b[0;32m    896\u001b[0m \u001b[38;5;28;01mwith\u001b[39;00m request_context(request\u001b[38;5;241m=\u001b[39m\u001b[38;5;28mself\u001b[39m\u001b[38;5;241m.\u001b[39m_request):\n\u001b[1;32m--> 897\u001b[0m \u001b[43m    \u001b[49m\u001b[38;5;28;43;01mfor\u001b[39;49;00m\u001b[43m \u001b[49m\u001b[43mraw_bytes\u001b[49m\u001b[43m \u001b[49m\u001b[38;5;129;43;01min\u001b[39;49;00m\u001b[43m \u001b[49m\u001b[38;5;28;43mself\u001b[39;49m\u001b[38;5;241;43m.\u001b[39;49m\u001b[43miter_raw\u001b[49m\u001b[43m(\u001b[49m\u001b[43m)\u001b[49m\u001b[43m:\u001b[49m\n\u001b[0;32m    898\u001b[0m \u001b[43m        \u001b[49m\u001b[43mdecoded\u001b[49m\u001b[43m \u001b[49m\u001b[38;5;241;43m=\u001b[39;49m\u001b[43m \u001b[49m\u001b[43mdecoder\u001b[49m\u001b[38;5;241;43m.\u001b[39;49m\u001b[43mdecode\u001b[49m\u001b[43m(\u001b[49m\u001b[43mraw_bytes\u001b[49m\u001b[43m)\u001b[49m\n\u001b[0;32m    899\u001b[0m \u001b[43m        \u001b[49m\u001b[38;5;28;43;01mfor\u001b[39;49;00m\u001b[43m \u001b[49m\u001b[43mchunk\u001b[49m\u001b[43m \u001b[49m\u001b[38;5;129;43;01min\u001b[39;49;00m\u001b[43m \u001b[49m\u001b[43mchunker\u001b[49m\u001b[38;5;241;43m.\u001b[39;49m\u001b[43mdecode\u001b[49m\u001b[43m(\u001b[49m\u001b[43mdecoded\u001b[49m\u001b[43m)\u001b[49m\u001b[43m:\u001b[49m\n",
      "File \u001b[1;32mc:\\Users\\HamamaHome\\anaconda3\\envs\\DS-101-Final\\Lib\\site-packages\\httpx\\_models.py:951\u001b[0m, in \u001b[0;36mResponse.iter_raw\u001b[1;34m(self, chunk_size)\u001b[0m\n\u001b[0;32m    948\u001b[0m chunker \u001b[38;5;241m=\u001b[39m ByteChunker(chunk_size\u001b[38;5;241m=\u001b[39mchunk_size)\n\u001b[0;32m    950\u001b[0m \u001b[38;5;28;01mwith\u001b[39;00m request_context(request\u001b[38;5;241m=\u001b[39m\u001b[38;5;28mself\u001b[39m\u001b[38;5;241m.\u001b[39m_request):\n\u001b[1;32m--> 951\u001b[0m \u001b[43m    \u001b[49m\u001b[38;5;28;43;01mfor\u001b[39;49;00m\u001b[43m \u001b[49m\u001b[43mraw_stream_bytes\u001b[49m\u001b[43m \u001b[49m\u001b[38;5;129;43;01min\u001b[39;49;00m\u001b[43m \u001b[49m\u001b[38;5;28;43mself\u001b[39;49m\u001b[38;5;241;43m.\u001b[39;49m\u001b[43mstream\u001b[49m\u001b[43m:\u001b[49m\n\u001b[0;32m    952\u001b[0m \u001b[43m        \u001b[49m\u001b[38;5;28;43mself\u001b[39;49m\u001b[38;5;241;43m.\u001b[39;49m\u001b[43m_num_bytes_downloaded\u001b[49m\u001b[43m \u001b[49m\u001b[38;5;241;43m+\u001b[39;49m\u001b[38;5;241;43m=\u001b[39;49m\u001b[43m \u001b[49m\u001b[38;5;28;43mlen\u001b[39;49m\u001b[43m(\u001b[49m\u001b[43mraw_stream_bytes\u001b[49m\u001b[43m)\u001b[49m\n\u001b[0;32m    953\u001b[0m \u001b[43m        \u001b[49m\u001b[38;5;28;43;01mfor\u001b[39;49;00m\u001b[43m \u001b[49m\u001b[43mchunk\u001b[49m\u001b[43m \u001b[49m\u001b[38;5;129;43;01min\u001b[39;49;00m\u001b[43m \u001b[49m\u001b[43mchunker\u001b[49m\u001b[38;5;241;43m.\u001b[39;49m\u001b[43mdecode\u001b[49m\u001b[43m(\u001b[49m\u001b[43mraw_stream_bytes\u001b[49m\u001b[43m)\u001b[49m\u001b[43m:\u001b[49m\n",
      "File \u001b[1;32mc:\\Users\\HamamaHome\\anaconda3\\envs\\DS-101-Final\\Lib\\site-packages\\httpx\\_client.py:153\u001b[0m, in \u001b[0;36mBoundSyncStream.__iter__\u001b[1;34m(self)\u001b[0m\n\u001b[0;32m    152\u001b[0m \u001b[38;5;28;01mdef\u001b[39;00m \u001b[38;5;21m__iter__\u001b[39m(\u001b[38;5;28mself\u001b[39m) \u001b[38;5;241m-\u001b[39m\u001b[38;5;241m>\u001b[39m typing\u001b[38;5;241m.\u001b[39mIterator[\u001b[38;5;28mbytes\u001b[39m]:\n\u001b[1;32m--> 153\u001b[0m \u001b[43m    \u001b[49m\u001b[38;5;28;43;01mfor\u001b[39;49;00m\u001b[43m \u001b[49m\u001b[43mchunk\u001b[49m\u001b[43m \u001b[49m\u001b[38;5;129;43;01min\u001b[39;49;00m\u001b[43m \u001b[49m\u001b[38;5;28;43mself\u001b[39;49m\u001b[38;5;241;43m.\u001b[39;49m\u001b[43m_stream\u001b[49m\u001b[43m:\u001b[49m\n\u001b[0;32m    154\u001b[0m \u001b[43m        \u001b[49m\u001b[38;5;28;43;01myield\u001b[39;49;00m\u001b[43m \u001b[49m\u001b[43mchunk\u001b[49m\n",
      "File \u001b[1;32mc:\\Users\\HamamaHome\\anaconda3\\envs\\DS-101-Final\\Lib\\site-packages\\httpx\\_transports\\default.py:127\u001b[0m, in \u001b[0;36mResponseStream.__iter__\u001b[1;34m(self)\u001b[0m\n\u001b[0;32m    125\u001b[0m \u001b[38;5;28;01mdef\u001b[39;00m \u001b[38;5;21m__iter__\u001b[39m(\u001b[38;5;28mself\u001b[39m) \u001b[38;5;241m-\u001b[39m\u001b[38;5;241m>\u001b[39m typing\u001b[38;5;241m.\u001b[39mIterator[\u001b[38;5;28mbytes\u001b[39m]:\n\u001b[0;32m    126\u001b[0m     \u001b[38;5;28;01mwith\u001b[39;00m map_httpcore_exceptions():\n\u001b[1;32m--> 127\u001b[0m \u001b[43m        \u001b[49m\u001b[38;5;28;43;01mfor\u001b[39;49;00m\u001b[43m \u001b[49m\u001b[43mpart\u001b[49m\u001b[43m \u001b[49m\u001b[38;5;129;43;01min\u001b[39;49;00m\u001b[43m \u001b[49m\u001b[38;5;28;43mself\u001b[39;49m\u001b[38;5;241;43m.\u001b[39;49m\u001b[43m_httpcore_stream\u001b[49m\u001b[43m:\u001b[49m\n\u001b[0;32m    128\u001b[0m \u001b[43m            \u001b[49m\u001b[38;5;28;43;01myield\u001b[39;49;00m\u001b[43m \u001b[49m\u001b[43mpart\u001b[49m\n",
      "File \u001b[1;32mc:\\Users\\HamamaHome\\anaconda3\\envs\\DS-101-Final\\Lib\\site-packages\\httpcore\\_sync\\connection_pool.py:407\u001b[0m, in \u001b[0;36mPoolByteStream.__iter__\u001b[1;34m(self)\u001b[0m\n\u001b[0;32m    405\u001b[0m \u001b[38;5;28;01mexcept\u001b[39;00m \u001b[38;5;167;01mBaseException\u001b[39;00m \u001b[38;5;28;01mas\u001b[39;00m exc:\n\u001b[0;32m    406\u001b[0m     \u001b[38;5;28mself\u001b[39m\u001b[38;5;241m.\u001b[39mclose()\n\u001b[1;32m--> 407\u001b[0m     \u001b[38;5;28;01mraise\u001b[39;00m exc \u001b[38;5;28;01mfrom\u001b[39;00m \u001b[38;5;28;01mNone\u001b[39;00m\n",
      "File \u001b[1;32mc:\\Users\\HamamaHome\\anaconda3\\envs\\DS-101-Final\\Lib\\site-packages\\httpcore\\_sync\\connection_pool.py:403\u001b[0m, in \u001b[0;36mPoolByteStream.__iter__\u001b[1;34m(self)\u001b[0m\n\u001b[0;32m    401\u001b[0m \u001b[38;5;28;01mdef\u001b[39;00m \u001b[38;5;21m__iter__\u001b[39m(\u001b[38;5;28mself\u001b[39m) \u001b[38;5;241m-\u001b[39m\u001b[38;5;241m>\u001b[39m typing\u001b[38;5;241m.\u001b[39mIterator[\u001b[38;5;28mbytes\u001b[39m]:\n\u001b[0;32m    402\u001b[0m     \u001b[38;5;28;01mtry\u001b[39;00m:\n\u001b[1;32m--> 403\u001b[0m \u001b[43m        \u001b[49m\u001b[38;5;28;43;01mfor\u001b[39;49;00m\u001b[43m \u001b[49m\u001b[43mpart\u001b[49m\u001b[43m \u001b[49m\u001b[38;5;129;43;01min\u001b[39;49;00m\u001b[43m \u001b[49m\u001b[38;5;28;43mself\u001b[39;49m\u001b[38;5;241;43m.\u001b[39;49m\u001b[43m_stream\u001b[49m\u001b[43m:\u001b[49m\n\u001b[0;32m    404\u001b[0m \u001b[43m            \u001b[49m\u001b[38;5;28;43;01myield\u001b[39;49;00m\u001b[43m \u001b[49m\u001b[43mpart\u001b[49m\n\u001b[0;32m    405\u001b[0m     \u001b[38;5;28;01mexcept\u001b[39;00m \u001b[38;5;167;01mBaseException\u001b[39;00m \u001b[38;5;28;01mas\u001b[39;00m exc:\n",
      "File \u001b[1;32mc:\\Users\\HamamaHome\\anaconda3\\envs\\DS-101-Final\\Lib\\site-packages\\httpcore\\_sync\\http11.py:342\u001b[0m, in \u001b[0;36mHTTP11ConnectionByteStream.__iter__\u001b[1;34m(self)\u001b[0m\n\u001b[0;32m    340\u001b[0m \u001b[38;5;28;01mwith\u001b[39;00m ShieldCancellation():\n\u001b[0;32m    341\u001b[0m     \u001b[38;5;28mself\u001b[39m\u001b[38;5;241m.\u001b[39mclose()\n\u001b[1;32m--> 342\u001b[0m \u001b[38;5;28;01mraise\u001b[39;00m exc\n",
      "File \u001b[1;32mc:\\Users\\HamamaHome\\anaconda3\\envs\\DS-101-Final\\Lib\\site-packages\\httpcore\\_sync\\http11.py:334\u001b[0m, in \u001b[0;36mHTTP11ConnectionByteStream.__iter__\u001b[1;34m(self)\u001b[0m\n\u001b[0;32m    332\u001b[0m \u001b[38;5;28;01mtry\u001b[39;00m:\n\u001b[0;32m    333\u001b[0m     \u001b[38;5;28;01mwith\u001b[39;00m Trace(\u001b[38;5;124m\"\u001b[39m\u001b[38;5;124mreceive_response_body\u001b[39m\u001b[38;5;124m\"\u001b[39m, logger, \u001b[38;5;28mself\u001b[39m\u001b[38;5;241m.\u001b[39m_request, kwargs):\n\u001b[1;32m--> 334\u001b[0m \u001b[43m        \u001b[49m\u001b[38;5;28;43;01mfor\u001b[39;49;00m\u001b[43m \u001b[49m\u001b[43mchunk\u001b[49m\u001b[43m \u001b[49m\u001b[38;5;129;43;01min\u001b[39;49;00m\u001b[43m \u001b[49m\u001b[38;5;28;43mself\u001b[39;49m\u001b[38;5;241;43m.\u001b[39;49m\u001b[43m_connection\u001b[49m\u001b[38;5;241;43m.\u001b[39;49m\u001b[43m_receive_response_body\u001b[49m\u001b[43m(\u001b[49m\u001b[38;5;241;43m*\u001b[39;49m\u001b[38;5;241;43m*\u001b[39;49m\u001b[43mkwargs\u001b[49m\u001b[43m)\u001b[49m\u001b[43m:\u001b[49m\n\u001b[0;32m    335\u001b[0m \u001b[43m            \u001b[49m\u001b[38;5;28;43;01myield\u001b[39;49;00m\u001b[43m \u001b[49m\u001b[43mchunk\u001b[49m\n\u001b[0;32m    336\u001b[0m \u001b[38;5;28;01mexcept\u001b[39;00m \u001b[38;5;167;01mBaseException\u001b[39;00m \u001b[38;5;28;01mas\u001b[39;00m exc:\n\u001b[0;32m    337\u001b[0m     \u001b[38;5;66;03m# If we get an exception while streaming the response,\u001b[39;00m\n\u001b[0;32m    338\u001b[0m     \u001b[38;5;66;03m# we want to close the response (and possibly the connection)\u001b[39;00m\n\u001b[0;32m    339\u001b[0m     \u001b[38;5;66;03m# before raising that exception.\u001b[39;00m\n",
      "File \u001b[1;32mc:\\Users\\HamamaHome\\anaconda3\\envs\\DS-101-Final\\Lib\\site-packages\\httpcore\\_sync\\http11.py:203\u001b[0m, in \u001b[0;36mHTTP11Connection._receive_response_body\u001b[1;34m(self, request)\u001b[0m\n\u001b[0;32m    200\u001b[0m timeout \u001b[38;5;241m=\u001b[39m timeouts\u001b[38;5;241m.\u001b[39mget(\u001b[38;5;124m\"\u001b[39m\u001b[38;5;124mread\u001b[39m\u001b[38;5;124m\"\u001b[39m, \u001b[38;5;28;01mNone\u001b[39;00m)\n\u001b[0;32m    202\u001b[0m \u001b[38;5;28;01mwhile\u001b[39;00m \u001b[38;5;28;01mTrue\u001b[39;00m:\n\u001b[1;32m--> 203\u001b[0m     event \u001b[38;5;241m=\u001b[39m \u001b[38;5;28;43mself\u001b[39;49m\u001b[38;5;241;43m.\u001b[39;49m\u001b[43m_receive_event\u001b[49m\u001b[43m(\u001b[49m\u001b[43mtimeout\u001b[49m\u001b[38;5;241;43m=\u001b[39;49m\u001b[43mtimeout\u001b[49m\u001b[43m)\u001b[49m\n\u001b[0;32m    204\u001b[0m     \u001b[38;5;28;01mif\u001b[39;00m \u001b[38;5;28misinstance\u001b[39m(event, h11\u001b[38;5;241m.\u001b[39mData):\n\u001b[0;32m    205\u001b[0m         \u001b[38;5;28;01myield\u001b[39;00m \u001b[38;5;28mbytes\u001b[39m(event\u001b[38;5;241m.\u001b[39mdata)\n",
      "File \u001b[1;32mc:\\Users\\HamamaHome\\anaconda3\\envs\\DS-101-Final\\Lib\\site-packages\\httpcore\\_sync\\http11.py:217\u001b[0m, in \u001b[0;36mHTTP11Connection._receive_event\u001b[1;34m(self, timeout)\u001b[0m\n\u001b[0;32m    214\u001b[0m     event \u001b[38;5;241m=\u001b[39m \u001b[38;5;28mself\u001b[39m\u001b[38;5;241m.\u001b[39m_h11_state\u001b[38;5;241m.\u001b[39mnext_event()\n\u001b[0;32m    216\u001b[0m \u001b[38;5;28;01mif\u001b[39;00m event \u001b[38;5;129;01mis\u001b[39;00m h11\u001b[38;5;241m.\u001b[39mNEED_DATA:\n\u001b[1;32m--> 217\u001b[0m     data \u001b[38;5;241m=\u001b[39m \u001b[38;5;28;43mself\u001b[39;49m\u001b[38;5;241;43m.\u001b[39;49m\u001b[43m_network_stream\u001b[49m\u001b[38;5;241;43m.\u001b[39;49m\u001b[43mread\u001b[49m\u001b[43m(\u001b[49m\n\u001b[0;32m    218\u001b[0m \u001b[43m        \u001b[49m\u001b[38;5;28;43mself\u001b[39;49m\u001b[38;5;241;43m.\u001b[39;49m\u001b[43mREAD_NUM_BYTES\u001b[49m\u001b[43m,\u001b[49m\u001b[43m \u001b[49m\u001b[43mtimeout\u001b[49m\u001b[38;5;241;43m=\u001b[39;49m\u001b[43mtimeout\u001b[49m\n\u001b[0;32m    219\u001b[0m \u001b[43m    \u001b[49m\u001b[43m)\u001b[49m\n\u001b[0;32m    221\u001b[0m     \u001b[38;5;66;03m# If we feed this case through h11 we'll raise an exception like:\u001b[39;00m\n\u001b[0;32m    222\u001b[0m     \u001b[38;5;66;03m#\u001b[39;00m\n\u001b[0;32m    223\u001b[0m     \u001b[38;5;66;03m#     httpcore.RemoteProtocolError: can't handle event type\u001b[39;00m\n\u001b[1;32m   (...)\u001b[0m\n\u001b[0;32m    227\u001b[0m     \u001b[38;5;66;03m# perspective. Instead we handle this case distinctly and treat\u001b[39;00m\n\u001b[0;32m    228\u001b[0m     \u001b[38;5;66;03m# it as a ConnectError.\u001b[39;00m\n\u001b[0;32m    229\u001b[0m     \u001b[38;5;28;01mif\u001b[39;00m data \u001b[38;5;241m==\u001b[39m \u001b[38;5;124mb\u001b[39m\u001b[38;5;124m\"\u001b[39m\u001b[38;5;124m\"\u001b[39m \u001b[38;5;129;01mand\u001b[39;00m \u001b[38;5;28mself\u001b[39m\u001b[38;5;241m.\u001b[39m_h11_state\u001b[38;5;241m.\u001b[39mtheir_state \u001b[38;5;241m==\u001b[39m h11\u001b[38;5;241m.\u001b[39mSEND_RESPONSE:\n",
      "File \u001b[1;32mc:\\Users\\HamamaHome\\anaconda3\\envs\\DS-101-Final\\Lib\\site-packages\\httpcore\\_backends\\sync.py:128\u001b[0m, in \u001b[0;36mSyncStream.read\u001b[1;34m(self, max_bytes, timeout)\u001b[0m\n\u001b[0;32m    126\u001b[0m \u001b[38;5;28;01mwith\u001b[39;00m map_exceptions(exc_map):\n\u001b[0;32m    127\u001b[0m     \u001b[38;5;28mself\u001b[39m\u001b[38;5;241m.\u001b[39m_sock\u001b[38;5;241m.\u001b[39msettimeout(timeout)\n\u001b[1;32m--> 128\u001b[0m     \u001b[38;5;28;01mreturn\u001b[39;00m \u001b[38;5;28;43mself\u001b[39;49m\u001b[38;5;241;43m.\u001b[39;49m\u001b[43m_sock\u001b[49m\u001b[38;5;241;43m.\u001b[39;49m\u001b[43mrecv\u001b[49m\u001b[43m(\u001b[49m\u001b[43mmax_bytes\u001b[49m\u001b[43m)\u001b[49m\n",
      "File \u001b[1;32mc:\\Users\\HamamaHome\\anaconda3\\envs\\DS-101-Final\\Lib\\ssl.py:1232\u001b[0m, in \u001b[0;36mSSLSocket.recv\u001b[1;34m(self, buflen, flags)\u001b[0m\n\u001b[0;32m   1228\u001b[0m     \u001b[38;5;28;01mif\u001b[39;00m flags \u001b[38;5;241m!=\u001b[39m \u001b[38;5;241m0\u001b[39m:\n\u001b[0;32m   1229\u001b[0m         \u001b[38;5;28;01mraise\u001b[39;00m \u001b[38;5;167;01mValueError\u001b[39;00m(\n\u001b[0;32m   1230\u001b[0m             \u001b[38;5;124m\"\u001b[39m\u001b[38;5;124mnon-zero flags not allowed in calls to recv() on \u001b[39m\u001b[38;5;132;01m%s\u001b[39;00m\u001b[38;5;124m\"\u001b[39m \u001b[38;5;241m%\u001b[39m\n\u001b[0;32m   1231\u001b[0m             \u001b[38;5;28mself\u001b[39m\u001b[38;5;241m.\u001b[39m\u001b[38;5;18m__class__\u001b[39m)\n\u001b[1;32m-> 1232\u001b[0m     \u001b[38;5;28;01mreturn\u001b[39;00m \u001b[38;5;28;43mself\u001b[39;49m\u001b[38;5;241;43m.\u001b[39;49m\u001b[43mread\u001b[49m\u001b[43m(\u001b[49m\u001b[43mbuflen\u001b[49m\u001b[43m)\u001b[49m\n\u001b[0;32m   1233\u001b[0m \u001b[38;5;28;01melse\u001b[39;00m:\n\u001b[0;32m   1234\u001b[0m     \u001b[38;5;28;01mreturn\u001b[39;00m \u001b[38;5;28msuper\u001b[39m()\u001b[38;5;241m.\u001b[39mrecv(buflen, flags)\n",
      "File \u001b[1;32mc:\\Users\\HamamaHome\\anaconda3\\envs\\DS-101-Final\\Lib\\ssl.py:1105\u001b[0m, in \u001b[0;36mSSLSocket.read\u001b[1;34m(self, len, buffer)\u001b[0m\n\u001b[0;32m   1103\u001b[0m         \u001b[38;5;28;01mreturn\u001b[39;00m \u001b[38;5;28mself\u001b[39m\u001b[38;5;241m.\u001b[39m_sslobj\u001b[38;5;241m.\u001b[39mread(\u001b[38;5;28mlen\u001b[39m, buffer)\n\u001b[0;32m   1104\u001b[0m     \u001b[38;5;28;01melse\u001b[39;00m:\n\u001b[1;32m-> 1105\u001b[0m         \u001b[38;5;28;01mreturn\u001b[39;00m \u001b[38;5;28;43mself\u001b[39;49m\u001b[38;5;241;43m.\u001b[39;49m\u001b[43m_sslobj\u001b[49m\u001b[38;5;241;43m.\u001b[39;49m\u001b[43mread\u001b[49m\u001b[43m(\u001b[49m\u001b[38;5;28;43mlen\u001b[39;49m\u001b[43m)\u001b[49m\n\u001b[0;32m   1106\u001b[0m \u001b[38;5;28;01mexcept\u001b[39;00m SSLError \u001b[38;5;28;01mas\u001b[39;00m x:\n\u001b[0;32m   1107\u001b[0m     \u001b[38;5;28;01mif\u001b[39;00m x\u001b[38;5;241m.\u001b[39margs[\u001b[38;5;241m0\u001b[39m] \u001b[38;5;241m==\u001b[39m SSL_ERROR_EOF \u001b[38;5;129;01mand\u001b[39;00m \u001b[38;5;28mself\u001b[39m\u001b[38;5;241m.\u001b[39msuppress_ragged_eofs:\n",
      "\u001b[1;31mKeyboardInterrupt\u001b[0m: "
     ]
    }
   ],
   "source": [
    "import pandas as pd\n",
    "from bertopic import BERTopic\n",
    "\n",
    "\n",
    "dfs1 = {\n",
    "    'trump_gaza_1000.csv': pd.read_csv('../data/cleaned/trump_gaza_1000.csv'), \n",
    "    'JH_new_wars_1000': pd.read_csv('../data/cleaned/JH_new_wars_1000.csv'),\n",
    "    'jack_vs_calley_1000': pd.read_csv('../data/cleaned/jack_vs_calley_1000.csv')\n",
    "    }\n",
    "\n",
    "embeddeding_001_model = BERTopic(\n",
    "    embedding_model=GeminiEmbeddingBackend(),\n",
    "    \n",
    ")\n",
    "for df_name, df in dfs1.items():\n",
    "    print(f\"Processing {df_name}...\")\n",
    "    topics, probs = embeddeding_001_model.fit_transform(df['cleaned_text'].tolist())\n",
    "    fig = embeddeding_001_model.visualize_documents(docs=df['cleaned_text'].tolist(), topics=topics, custom_labels=df['text'].tolist())\n",
    "    fig.show()"
   ]
  },
  {
   "cell_type": "markdown",
   "id": "ffbea143",
   "metadata": {},
   "source": [
    "## Text Embedding 004 (Gecko)\n",
    "Gecko, or Text embedding 004 is a text embedding model, distilled from google's gemini LLm. "
   ]
  },
  {
   "cell_type": "code",
   "execution_count": 53,
   "id": "305a0cc8",
   "metadata": {},
   "outputs": [
    {
     "name": "stdout",
     "output_type": "stream",
     "text": [
      "Processing trump_gaza_1000.csv...\n"
     ]
    },
    {
     "data": {
      "application/vnd.plotly.v1+json": {
       "config": {
        "plotlyServerURL": "https://plot.ly"
       },
       "data": [
        {
         "hoverinfo": "text",
         "hovertext": [
          null
         ],
         "marker": {
          "color": "#CFD8DC",
          "opacity": 0.5,
          "size": 5
         },
         "mode": "markers+text",
         "name": "other",
         "showlegend": false,
         "type": "scattergl",
         "x": {
          "bdata": "AADAfw==",
          "dtype": "f4"
         },
         "y": {
          "bdata": "AADAfw==",
          "dtype": "f4"
         }
        },
        {
         "hoverinfo": "text",
         "hovertext": [
          "turning the ragebait up to .",
          "guys this is prophecized!!!! there shall be no golden statues. we must stop this",
          "i am for this development but oppose him on canada partition,greenland and most policies otherwise",
          "face_with_tears_of_joyface_with_tears_of_joyface_with_tears_of_joy love it clapping_handsclapping_handsclapping_handsbrilliant idea OK_hand",
          "the united states of trump",
          "he's the worst president in the history of this country. and today, he had the nerve to throw a temper tantrum in the oval office and say zelensky was the one that made a mockery of the united states and the oval office. it's only been a month, guys.... i knew he was going to be even worse this time around... but i truly didn't predict him being worse than my wildest nightmares.",
          "feast and dance the deal is done",
          "hysterical! this video makes me laugh every time i see it! epic!! face_with_tears_of_joyred_heartface_with_tears_of_joyred_heart",
          "this is insane! but the music is nice lol",
          "oh, americans, what have you done to this world...",
          "the united states is humiliating itself",
          "this song is so awesome",
          "if biden made a golden statue of himself and called himself king and only hired people in his inner circle...the guardian would have no problem with that",
          "this would be for the mega rich and not the people",
          "you will save no oneskull_and_crossbonesskull",
          "trump = murderer.                    netanyahu = murderer.                           both are not considered as human anymore",
          "i find it upsetting that the apostrophe is missing in the title phrase \"what's next?\"the rest of this is essentially trump playbook .egregious, rancid, execrable, offensive and quite predictable. face_with_open_mouth",
          "pmsl, this is brilliant, outstanding af. every guardian reader must watch this and post youtube videos of themselves having a hissy fit.",
          "this will surely bring down the price of eggs",
          "we can all of course have different opinions about the middle east conflict, especially about the hamas attack or the israeli attack, but this exceeds all moral boundaries of any humane person. it is disgusting, tasteless, degrading, wrong and repulsive! you just don't do that!",
          "this was exactly what i needed, thanks!",
          "he is totally insane !!",
          "the beat is quite sick ngl",
          "happy now with your fires!? i hope so.",
          "this advertisement is an insult to the palestinians who were kicked out of their land and were martyred by america and israel",
          "whoever my dealer is he hoooed me up because this cant be real",
          "you all are cooked. sincerely",
          "hope that iran will solve the problem and get rid off trump and netanjahu. if noone else can do it.",
          "don't worry, i don't think anyone thinks of you as \"cute.\"",
          "\"and i will run these streets, like i run my casinosmore police and less latinos\"face_with_tears_of_joyface_with_tears_of_joyface_with_tears_of_joy-epicrapbattlesofhistory",
          "he is clearly delusional!  will never happen!  this is palestinians home land and he thinks he is going to just displace the people and build something no one wants but him .",
          "american people, you voted for trump and he will bring trouble to the whole world. he will never leave the presidency. all your taxes will be spent on the destruction of other countries.",
          "\"bizarre\" the guardian?only \"bizarre\"?would you have said the same if putin published a video like that on ukraine?history will tell who closed their eyes on genocides?",
          "giving kim jung un energyface_with_tears_of_joy",
          "racist trump envisions a palestinian free gaza.",
          "im laughing hysterically for the first time in years",
          "how strange hilter also had artitecture plans too that nobody asked for to boost his speed induced ego.  face_with_rolling_eyes but you know must just be him \"throwing his heart out\" right.",
          "this will stay dreamyou never ever can take their land, if you want it you have to fight for it",
          "trump gaza number one....io penso: trump.....ummm copate....person_facepalmingperson_facepalmingperson_facepalming",
          "but, who is the artist of song?",
          "this hits to hard",
          "evidence saved for impending impeachment. just a matter of time before even the gop will fail to protect him.",
          "what a shame, below zero...",
          "madness what is the world live in ?",
          "face_with_tears_of_joyface_with_tears_of_joyface_with_tears_of_joy america has become a joke!!",
          "biff tannen's city paradise casino?",
          "insane and evil.  i don't even know what to say anymore...this seems like it would be an onion parody, but it's real.  i've been saying that a lot recently...",
          "trump have a sence of humor",
          "does anyone see the satire?",
          "i want to think that all of this is a global candid camera joke, run by either aliens or some prankster in the matrix.",
          "i think it's really funny.",
          "the best resort in the mediterranean: trump gaza.",
          "i can't believe they voted for this man!!",
          "pro-palestinians getting mad at this show they have no sense of humor. smiling_face_with_open_mouth_&_smiling_eyes",
          "ew what is that please",
          "hopefully the rest of the usa realizes that this trump is % psycho!!!",
          "this is actually the worst thing i have ever seen",
          "just so farfetched and nothing to do with reality.",
          "in what bizarre universe is this guy ok to be a president?!",
          "sort of obvious he's making fun of a bad joke.",
          "threw up in my mouth",
          "trump's dream that will never come true. free palestine",
          "enjoy the movie folks    frog_faceOK_hand...popcorn",
          "american is my favourite tv show starring president trump face_with_tears_of_joyface_with_tears_of_joyface_with_tears_of_joyface_with_tears_of_joyface_with_tears_of_joyface_with_tears_of_joyparty_popperparty_popperparty_popperparty_popper",
          "what lack of character and contempt for humanity can bring such cynicism into the world, while mothers are mourning their dead children in the bomb ruins of their houses!!!??? this is a disgrace for all of humanity!",
          "trump himself has posted this !!!!does he not realise that this video is satire that portrays him as a authoritarian dictator like saddam, gaddafi, stalin etc that have portraits of themselves everywhere to oppress their power, and elon musk as some oligarch henchman that relish showering themselves in the money they can make out of turning gaza into a millionaires playground.guess the ego aspect of his personality took over his thinking that this was a praising of him, and blinded him that this is in fact a protest.",
          "i need this song :d",
          "trump gaza number one",
          "nebuchadnezzar had a  foot statue built of himself. and we know the rest of the story...",
          "face_with_open_mouth_&_cold_sweat\"peter, don't! they say if you watch that video, you'll die!\"peter griffin: \"ahh that's a lot of baloni!\"the video:musical_notes\"donald trump is to set you free! donald trump number #!\"musical_notesalso peter:skull_and_crossbonesskull_and_crossbones",
          "who even thought of creating this advertisement, yet alone post it",
          "we got this before gtaface_with_tears_of_joy",
          "face_with_tears_of_joyface_with_tears_of_joyface_with_tears_of_joy a very stu pid president, u think gazan fighters r like your slaves in the other countries. we learn u meaning of manhood n dignity is. money can just buy material things. our lands value is above all your silly dreams victory_handraised_fist from gaza land of pride that you'll just find in gaza n palestine",
          "\"he will deceive the very elect.\"",
          "this is the best joke that even he fell for! face_with_tears_of_joyface_with_tears_of_joyface_with_tears_of_joyface_with_tears_of_joyface_with_tears_of_joy",
          "trump wants to make gaza like uae and qatarwhat's wrong with that?",
          "how often did i have to idiotically day to end in the plane of existence where this is reality?",
          "he cannot just take their home.......he is so self concerned.",
          "south park or real life?",
          "what's next, president camacho?",
          "disgusting. beyond all limits. no words.",
          ": above the trump gaza sign, you see what's obviously a baphommet or goat head. on the side of each pillar you see what looks like an owl, a common symbol that means wisdom; the baphommet is in a dome that's an eye like the all-seeing eye and on the right pillar you see the number \"\" a common symbol in the occult.",
          "people cannot afford eggs anymore, and then this.... a golden statue of trump and elon musk throwing money into the air... very smart message!",
          "trump will get his hands on the gas fields off the coast of gaza. that's all. he will take over every foreign country for his benefits and make money while he cuts off anyone else.",
          "this world is a prison",
          "just a distraction. its working.",
          "sick, sick, sick man!",
          "we are living in the craziest timeline rn",
          "this can't be real. but it is",
          "these people are sick.",
          "i will not support the idea..unless they add a golf terrain.",
          "shaytan trump and nethanjahu may your punishment be huge",
          "evil people worship themselves in absurd ways",
          "it has the same chord progression as the agustus gloop song",
          "hahahah this video is amazing. thank you ai rolling_on_the_floor_laughingrolling_on_the_floor_laughingrolling_on_the_floor_laughing",
          "hyped to visit trump gaza!looks beautiful and glorious!",
          "this videos is satire by someone unrelated to trump",
          "it must be a troll video. surely to goodness i has to be.",
          "trump's london, berlin, paris and so on will follow",
          "this is insane weary_face",
          "hope yhe folks in deerbrn approve",
          "idolatry at it's most disgusting...",
          "nope don't like the golden statue s of trump those are nothing but adols . other than that i'm all for trump",
          "hahahahaha look at all the pearl-clutching moralizers freaking out, the chan president strikes again rolling_on_the_floor_laughingface_with_tears_of_joy",
          "all the people posting \"it's impossible\" comments forget that the middle east has great potential - look at uae, ksa, etc. beirut used to be the paris of the middle east. why not gaza too? anyone can dream, and free markets, technology and capitalism are strong motors for progress.",
          "i actually kinda like the song its catchy",
          "biff tannen's pleasure paradise casino & hotel.",
          "disgusting people running and ruining this country.",
          "he's so far gone",
          "the original creators posted it as a joke, which makes the whole thing more ridiculous",
          "i thought you wanted the trans community and children to be closer...",
          "this is nuts great reporting guardian",
          "what an odd thing to say",
          "great vision! let's the dream come true!",
          "we have dogs running our country",
          "who is responsible for this commercial",
          "israel planned october th",
          "loved the content, keep it coming!",
          "like a disney movie super villian",
          "wait until we see ones about the ukrainian minerals and business in russia.",
          "trump will make netanyahu and musk be his downfall",
          "it's in your dream both goatface_with_tears_of_joyface_with_tears_of_joyface_with_tears_of_joy",
          "no gaza is sufringcrying_face",
          "shameless, just shameless!! nauseated_face",
          "get er done big don",
          "this isn't a timeline, it's a timemaze",
          "nice idea of trumpflexed_biceps",
          "does he have dementia??",
          "hold on this is real!!! seriously",
          "musical_notes donald's coming to set you freebringing the light for all to seeno more tunnels no more feartrump gaza is finally heretrump gaza shining brightgolden future, a brand new light feast and dance the deal is donetrump gaza number trump gaza shining brightgolden future, a brand new light feast and dance the deal is donetrump gaza number  musical_notes",
          "tuya homomi orzu qibdi",
          "trump gaza casino and beach resort  soonface_with_open_mouth.",
          "i wish people would realize there is more to life than the ignorance and immaturity that we currently call politics",
          "hilarious troll by trump.  surely no one's taking this seriously.  if you are,  get some help.",
          "this video was a parody mocking trump, his big ego and his bigly a'brain which trump reposted as soon as he saw his bigly golden statue face_with_tears_of_joy",
          "dis his dad leave gagza in inheritence to him?that's theiving private property and that also hunderds of miles away!",
          "you got what your voted for. america is a very, very lost dream now. europe has to stand",
          "i love my president!!face_with_tears_of_joy",
          "what tf  did i just see skull",
          "a gold statue of trump ridiculous",
          "trump gaza best gaza!",
          "this man is sick beyond belief.",
          "his last attempt at this was atlantic city. we all saw how that turned out.",
          "imagine killing hundreds of thousands and parodying it with this video. glad i am not american.",
          "why are we in league with israel?",
          "impossible trump clown_face  gaza is not a playground",
          "this is vile beyond description.",
          "let's face the fact that the president of the us is a lunatic!!",
          "this is a terroist ideas from trumb",
          "lord hold our hands while we stomach this mad age.",
          "you can't stop the force of stupidity, but you can change its direction",
          "this is visionary. true genius. what is the alternative? constant war, relief programs and living in dirt because of extremists? djt needs applauding!",
          "funny how everyone in the comments judge this project as \"pure evil\" while what they probably consider a reasonable policy has led us to hamas.",
          ":  face_with_tears_of_joy face_with_tears_of_joy face_with_tears_of_joy face_with_tears_of_joy",
          "mad man on throne of the most powerful country,now thing who elected him,are they normal? rolling_on_the_floor_laughing",
          "goofy comicbook supervillain behavior. living in the dumbest timeline.",
          "gaza is not for sale!!!",
          "trump gaza # face_with_tears_of_joyface_with_tears_of_joyface_with_tears_of_joyit's catchy",
          "he is elon musk's dog!",
          "i think his political opinions all revolve around the maximization of golf courses",
          "the song and ad is awesome!",
          "so disappointed in president trump for sharing this.",
          "zion don strikes again",
          "but who posted the video",
          "talking about braindead politics",
          "this is the most insane political gesture i have ever seen a qualified politician do",
          "weird way to ceasefire by buying the land between israel and palestinian territories so he can act as a buffer.",
          "since covid everything feels like a fever dream",
          "what a lovely vision for middle east lets hope president trump gonna deliver this project that could be tui top sell in ",
          "this is beyond psychotic. ...",
          "time to open your bibles and repent all you non believers are running out of time.",
          "even if you put the immorality aside, they guy's just tacky",
          "what about slums in the us pouting_face fix usa.",
          "pray for the palestinians please red_heartred_heartred_heart",
          "this is so hilarious",
          "all the world's psychologists and psychiatrists need to cut the b.s. and tell it like it is, to the planet.",
          "he and/or his councellors have gone mad!",
          "so, peaople of gaza ware fighting not to be under any ones shoe and to be separate nation (i still think that their war and prewar crimes ware horrid and they should be punishedConfusion  and now, the will be trmup gazians instead of palestinian.",
          "only when you thought you have seen it all",
          "this is the american dream speaking_headspeaking_headspeaking_head",
          "please tell me i am sleeping! this can't be true. i miss ...",
          "wow, that could be the new summer hit , just need some more lyrics. i watch trump from germany, everyday a new hammer. germany is also crazy. the indian holy scriptures say that  iss the end of kali yuga, the next  years a time of chaos and wars.",
          "this is a direct response to palestinian children celebrating the coffins of bibas family",
          "the giant gold statue tells you all you need to know.",
          "there are building paradise on the bones of  children. this is disgusting. please stop inhuman being.",
          "kogo wyscie wybrali pouting_facepouting_facepouting_face",
          "this is not from trump and is highly offensive please remove from your feed.",
          "the only explanation could be that he is senile, otherwise this is not just absurd, it's frightening as it's coming from a man with great power in his hands. happy i'm a european right now and really worried about my us friends",
          "absolutely no care for human decency.",
          "i absolutely love the media falling for this one. face_with_tears_of_joyface_with_tears_of_joyface_with_tears_of_joyface_with_tears_of_joy",
          "ah, this is the timeline in which the back to the future bully becomes powerful",
          "i thought nothing can beat skibidi toilett but thats insane",
          "with love from north korea",
          "xd how it is possible that us gov is so unhinged",
          "lyrics:donald trump to set you freebringing the light for all to seeno more tunnels no more feartrump gaza is finally heretrump gaza shining brightgolden future a brand new lightpeace and dance the deal is donetrump gaza number onetrump gaza shining brightgolden future a brand new lightfeast and dance the deal is donetrump gaza number one",
          "the peak of american politics indeed hot_beverage",
          "we truly are in a cyberpunk dystopia",
          "the fact that trump posted this proves he doesn't understand sarcasm,  irony, and parody",
          "he should be ashamed about those moobs",
          "..first prize in ideas, innovations and projects of shamelessness.",
          "content president is here.",
          "question for peoples who voted trump: are you sane?",
          "an embarressment to humanity, whats left of it",
          "my ma loves trump but she never mentions when he does weird sht like this",
          "so you take a mass grave site and do what with it? build condos?",
          "this seems pretty soulless",
          "face_with_open_mouthface_with_open_mouthface_with_open_mouthface_with_open_mouththis is so bad... he almost told the truth. face_with_open_mouth",
          "where's the respect for all the people who were murdered in gaza without mercy? that guy will definitely be the down fall of everything.",
          "hail the new world order!!!clapping_handsclapping_handsclapping_hands",
          "it is just so telling that his image of a better gaza is a resort for ultra-rich people full of beach attractions, balloons, expensive clubs and luxury cars (that seemingly stray into pedestrian spaces all the timeConfusion. where are the normal people? where is transportation for everyone who is presumably running this stuff? are there also normal places to go?their idea of improvement is just a tourist trap for m+ net worths.",
          "i cannot believe it. this is the end.",
          "real nu one-liked i'm student's trump of iran-",
          "i thought the united arab emirates was the riviera of the middle east.",
          "what is life crying_face",
          "i just threw up in my mouth.",
          "my deepest, heartfelt sympathy .... for those who don't get the joke.  reading the comment section you have to wonder how much of it is self projection...",
          "bro why tf are we living through a hoi mod playthrough",
          "this man was voted by the majotity of people ib the us, right? okeee..... lets talk about alternatives to demoraty.",
          "trump gaza here we come!!!!!",
          "\"i dont wanna be cute\"",
          "imagine crying_facetrump wanted to displaced the poor people of gaza for making the hotspot of  nude dance with girl... waahwhat a barbaric mind occupied he is...!",
          "love it. next uk!",
          "end of america ...",
          "why are guardian editors meeting with isreali generals and promoting trumps disgusting tripe?",
          "this is insanity beyond words",
          "the only thing worse than this is trump actually thinking this was something he should post!",
          "why is it the public thinks a.i. is just being created now?.we now have the means to communicate with this intelligence(that's not artificialConfusionthat's as old as time itself.we are in endless simulations to observe the different results.the world is a stage globe_showing_Americas",
          "just want to point out that musk is in the video and not vance.shows who the real vice president is.",
          "it is hard to believe this was not meant as a (sickConfusion joke. it must have been.",
          "bro we truly are in the darkest timeline",
          "they lost me on  : who ever made this video is truly in tune with their wild imagination .",
          "this is gonna be hilarious to read on history's books",
          "did trump really make this",
          "american citizens voted for him face_with_tears_of_joyface_with_tears_of_joy unbelieveable",
          "wait, i am so confused. is this video from the white house? or is this something a fan made and trump posted?",
          "trump is my gf",
          "oh i see thats why he give israel money and everything to make the palestinians hopeless and give up their lands",
          "this is the most american dystopian thing i have ever seen",
          "gaza lago lets gooo",
          "it was a satirical video unfortunately picked up by trump as beautiful. horrific for the creator.",
          ": literally a gold statue of our new lord and savior.",
          "exodus : - face_with_open_mouth",
          "it is possible. face_with_tears_of_joy",
          "i'm now convinced without a shadow of a doubt these guys not mentally well.",
          "i liked trump and would've voted for him if i was american but bruh... what is this",
          "i repent we are officially run by demons",
          "che schifo. che vergogna. mai con trump",
          "what. is. this?this isn't going to make anyone feel better of what gaza had been through. so many children have lost their families, alive or dead, and this is going to recover our pain?",
          "this is like how cartoons portray politicians",
          "new colonialism is worse than you think even most brutal dictators will be shocked if they sees this",
          "what did i just watched?! geez...",
          "miami vice moving to gaza",
          "this is what happens when know nothing know it alls take over..we are doomedcrying_face",
          "trump really is certifiable isn't he, it wasn't a question.",
          ": goated saddam hussein reference",
          "nebuchadnezzar in the book of daniel chapter . open_book",
          "alright trump is still funny",
          "its joeover.  the west has fallen chat pensive_face",
          "being a realist, trump gaza, if ain't happening in the next  years, it should not even start.",
          "best thing on the guardian in years face_with_tears_of_joy",
          "disappointed disturbing and disgusting!!!!!!!!!?!",
          "it's obviously a joke.  ai is hilarious.",
          "i thought our president in kenya was nuts... this one of the usa is utterly bonkers .",
          "i don't want to live on this earthly plane anymore",
          "this is really disturbing.",
          "the song is catchy.",
          "the donald trump statue will also speak face_with_tears_of_joy",
          "remember  shadrach,meshach and abednego",
          "who made that for him",
          "disgraceful and sickening. so callous it's off the scale. sad day",
          "haha .. my advise for you trump .. fix ur country first .. there is too much areas in ur country damage",
          "palestine will always remain a middle eastern country belonged by palestinians. not an american president and definitely not its spoiled child israel, will take it. not so dear usa try staying there away from middle east and europe and try minding your own business",
          "i mean, all things considered, i think it's better to live in a riviera than in a place completely destroyed by war",
          "this is most likely a trick deployed by the enemy. they're the only ones who create trump statues. don't believe it. it's a trick to manipulate your emotions.",
          "he makes me laugh so hard , that level of sarcasm face_with_tears_of_joyface_with_tears_of_joy",
          "he's talking about gaza like it belongs to he's mother",
          "it only gets worse from here. americans better get used to the taste of humble pie after the next four years. it will take decades to redeem themselves internationally after trump.",
          "and now we know why trump needs the gold from fort knox.",
          "he didnt make the ai. he just shared it like you. prob blew his mind too. gonna have to be more on the ball in what we see.guardian adding old speech the ai  at end, has just become a new ai in itself that they did do!",
          "bet you wish you'd voted now, eh face_with_tears_of_joyface_with_tears_of_joyface_with_tears_of_joy",
          "if they didn't have bibi there, it would be cool",
          "i'd rather live in the present gaza than trump's gaza",
          "if this happens then there is no justice in this world",
          "the video reminds me of the mocking videos the idf posted of themselves blowing gaza up. cruel.",
          "so this is possible, but accessible healthcare for the american working class is not?",
          "free free trump gaza free free trump gaza",
          "that was painful to watch through",
          "i'm not going to lie. if i travel to gaza for vacation, i will buy one of those golden statues as a souvenir.",
          "not sure how this could be any more offensive and wrong",
          "lets see how many supporters go on pretzel mode",
          "typical donald trump behaviour. why is anybody surprised?",
          "after disrespecting zelensky he is diverting attention of the people by disrespecting the middle east like someone who doesn't care anyone. smiling_face_with_open_mouth_&_cold_sweat",
          "trump's team is trolling you and you fall for it.",
          "that is the abomination of desolation",
          "most american governors won't have problem with that",
          ": it is here that he speaks truth for a literal millisecond.",
          "i so love trumps sense of humor. bring it on !!",
          "i would consider this a trump thing, however at :, i'm guessing that's not from or for  his folks.",
          " billion of our tax money for this?",
          "ok magas, now do you see the true character of trump?",
          "americans elected jimmy de santa from gta to run their country.",
          "trump is an absolute fool.",
          "\"i don't want to sound cute or be a wise guy\"--donald, you'll never sound cute and you'd never cut it as a wise guy.",
          "niveau has left the world direction mars ...",
          "he just stopped himself from saying valuable and changed it to magnificent face_with_tears_of_joy",
          "don't be cute, don't be wise, just be human please!!!!!",
          "a parte l'esaltazione, di trump. le immagini che vediamo giornalmente, di distruzione e morte, nn sono bella cosa. un paese ricostruito nel rispetto,delle usanze e tradizioni della sua popolazione, sarebbe bella cosa...... ma evitando i grattacieli",
          "this is proof of his total disregard for human life.",
          "but why does the song have to be such a bop?",
          "sick and disgusting, no words to describe this.....",
          "i just vomited  a little",
          "/th's of the worlds population knows this is a really bad idea.",
          "he aimed at a kingdom, he got a revolution, what an ignorant, story repeating",
          "just wants to be the golden idol of the middle east .",
          "i love donald trump because i love truth, and i hate hypocrisy. donald trump is not responsible for the genocides in gaza. he is even the one that force the killers to negotiate winking_face",
          "looks awesome, for everyone...",
          "he may be the president but there is nothing presidential about him. he's an embarrassment.",
          "trump ist the best president for the united staats of israel  !  i hope the usa get a president that loves so much his country smiling_face_with_smiling_eyes",
          "this gives me north korea vibes",
          "if only he had that much ambition for his own country.",
          "what is more impressive is that there are still people supporting this beast.",
          "what a joke this has become.",
          "that's too funny. i hope elon make america better. americans don't worry, trump is just a poster boy, real reason i am trusting the future is elon knows how to make things work. soon we might have actual flying cars.",
          "we are in a time when the psychopaths are ruling the world. sign for empires to collapse",
          "trump gaza number  party_poppermoney-mouth_face",
          "this is hilarious, but also disrespectful.",
          "maybe the ppl who vote trump should seem the pass",
          "great tips, thanks for sharing!",
          "and people still think he is a christian",
          "imagine an arab leader posting such thing about turning usa into their dream resort place face_with_tears_of_joy like trump should stay in the usa and fix america first before heading over to the middle east.",
          "omg, i love it!!! red_heartface_with_tears_of_joyred_heartface_with_tears_of_joy",
          "i am having issues waking up. how long am i trapped in this dream?",
          "orwell would be rolling over in his grace right now",
          "this guy is crazy face_with_open_mouth",
          "gross. he is despicable.",
          ", people died, including , children, and he wants to displace a million and a half people from gaza so that we can see this scene? i have become convinced that you are an alien who does not live with us on earth. please step aside and leave us humans to solve our problems.",
          "i should get pay for seeing this",
          "i'm sure he realizes that he's not talking to investors for a new trump dump, but to the entire planet.  he's acting like this is a real estate deal for himself when it's supposed to be about rebuilding homes for the people whose lives have been destroyed by the convict's buddy netty.",
          "trump screams out all the best held secrets.",
          "all can see donlad trump is isolationist. ha ha ha.",
          "there are no words..... nauseated_face",
          "this new update gonna be lit fire",
          "it's a top/down battle guys, not left/right...lest you all forget that.",
          "that will be great",
          "looks like a trailer for gta  lol",
          "i enjoy the melody",
          "this is beyond henous, sick and disturbing ! i'm horrified and embarrassed!",
          "that video is so sick!!! trump gaza #",
          "song low key catchy af",
          "bro became sadam hossain",
          "he is worse than dwayne elizondo mountain dew herbert camacho!",
          "the founding fathers would be so proud of what he's doing!",
          "trump is like a cross between saddam hussein and a james bond villain.",
          "lol now this is epic",
          "did he delete this from his twitter account?",
          "donald the world is not a shop window, the planet is not for sale. you can't  measure everything in money.",
          "haha very funny guys. ok now where are the cameras?",
          "..locomotive without transformation there is no progress..get on the train invite your friend..where are seats left. .....locomotive (smiling_face_with_smiling_eyessmiling_face_with_smiling_eyessmiling_face_with_smiling_eyesConfusion((jailConfusion(horse_face Confusion..",
          "this is a nightmare, it can't be real. what kind of man is him? is he really so shameless?",
          "i love it.  great idea from trump",
          "does egypt or jordan want palestinians in their country?",
          "america wants to be the villain so baaaaad.",
          "this could be something that could be so bad, this could be so magnificent... \" what?",
          "i also want a trump balloon smiling_face_with_open_mouth_&_cold_sweat",
          "what a joke of the president of the usa",
          "time to book a flight party_popper",
          "and people thought that king george iii was mad?",
          "what is elon musk eating?",
          "this is the most cringe think i have ever seen",
          "the most black mirror thing i have ever witnessed. omg, actually can't believe he posted this. how are republicans not embarrassed at this? like how can you look at him as a leader who cares about you when he literally onky cares about money and creating anjther dubai for his own selfish interests?",
          "hunger games real life what a dysttopian time to live",
          "a cruel art & plan of illuminati",
          "\"their heart is divided; now shall they be found faulty: he shall break down their altars, he shall spoil their images.\"hosea :, kingjamesversion",
          "so illegal immigration to the us is unacceptable, but illegal immigration to gaza is fine?",
          "this is so insane that i forgot that it actually happened.",
          "so...trump shares this.....does he know that by the time gaza looked like this he would literally be like  years old, and dead?",
          "he is an absolute wally",
          "is this real? as in, officially released by trump???",
          "looks awesome! much better looking than the last  years in gaza",
          "this is great thumbs_up  trump gaza we want to see. smiling_face_with_open_mouth_&_cold_sweat",
          "it's just a dream and it will never fulfill, how cruel is trump you can understand now",
          "shouldnt the headline be guardian news shares bizarre ai generated video of trump gaza.",
          "who even thought of creating this advertisement, yet alone post it",
          "do they have no shame?",
          "why do american-style rap and music videos always make it hard to distinguish between druggies and rappers alike? i'm really wonder about it.",
          "i'm literally shaking. i'll be busy all days writing furious entries in my diary",
          "no true. usa  no come gaza, palestiina is free",
          "this man is not well",
          "ai generated. americans dont feel this way.",
          "solo de escucharlo se me revuelve el estomago",
          "what a disgusting nauseated_face president!",
          "will he likewise build a \"riviera\" in greenland?",
          "trump gaza is finally here!",
          "back to future : when biff tannen found the almanach and george mcfly is dead.",
          "this is fire tho",
          "is this video intended for the people of gaza to watch?",
          "suddently cyberpunk doesn t feel like fiction anymore",
          "finalmente una soluzione finale al problema palestinese.",
          "\"that could be so bad.. that could be so magnificent\" even youtube's subtitles cought that face_with_tears_of_joy",
          "ew ew ew nauseated_facenauseated_facenauseated_face",
          "some one wake me up. is this even the real world any more?",
          "sorry gaza, i don't think we're going to help.",
          "make gaza great again! that's what you voted for right?",
          "that actually looks nice",
          "absolutely nauseating. what is wrong with this guy -- and the americans who voted for him?",
          "knowing of the history of gaza and the situation...this is just disgusting and disrespectful to the reality that is happening in this moment. crying_face",
          "trump will take over gaza",
          "billionaires and millionaires in politics are only there for themselves.",
          "elon musk is finally dressing up normally. if this was an alrernate realityface_with_tears_of_joy",
          "it is not earth we are living on",
          "this is sick beyond what words could ever describe crying_face",
          "you are dreaming, kid",
          "trump sending us weapons to israel takes on a whole new dimension when these plans are revealed. it is the clearing of palestinians as if they are no more than rubble from all the , pound bombs already dropped, to make way for his resort enterprise.",
          "waoooooow...(based based based basedConfusion",
          "the genocide coalition has lost its mind! the indigenous native gazans will never surrender to white settler colonization of their native lands.",
          "thank you trump! you've made me lose enough brain cells to actually worry about anything anymore!",
          "if you could have voted and didn't, don't complain now",
          "wuzhou, guangxi, is poised to be a major belt and road success for china, driven by a growing population, precision manufacturing, ai robotics, and semiconductor technology. with high speed connections to guangzhou, hong kong, and shenzhen extending into western china and vietnam, wuzhou is strategically positioned to become a key hub for innovation and trade.",
          "real time stamp on trumps ai video......drum roll please.drum .................. seconds!big surprise , right?for those of you that dont know,  is a revered by the free masons, who at the upper degrees, worship lucifer truth.  research.  stay aware.  stau alerts warning loudspeaker  get ready!!!",
          "this is idiocracy face_with_tears_of_joy",
          "you know you want it. trump for world president",
          "i am arab, this is so painful i am laughing so hard face_with_tears_of_joyface_with_tears_of_joyface_with_tears_of_joy",
          "please... to any trump voter out there... do you really think this is great? please let me know!",
          "the funniest thing is an anti trump company in la ... and it went viral not in the way they meant..face_with_tears_of_joyface_with_tears_of_joyface_with_tears_of_joy fail",
          "obscene and wicked.was it a time to accept money and garments, olive orchards and vineyards, sheep and oxen, male servants and female servants?",
          "so bad or magnificent .which donald",
          "i'm besotted with this piece of music. really.",
          "what an embarrassment for the us to have a nutcase as president hes crazy",
          "they did say he was a disruptor. face_with_tears_of_joy",
          "whats funny about this, is that trump made a bluff on this and egypt, qatar and the uae stepped in and handled it. he got gaza fixed without even spending a cent. art or the deal, baby!!",
          "arabs for trump voted for this.",
          "got to admit, it's a catchy tune",
          "i will never have been keep dreaming",
          "turn up the volume loudly oncoming_fistflexed_biceps",
          "a spectacle of disgrace at its finest",
          "\"i dont wanna be a wise guy. \" buddy, you are actively shaking down the ukrainian president for your protection money. you are a mobster.",
          "look at all these enemies of america saying how terrible it is",
          "love that movie idiocracy.   hold up that movie is us.  fu**.!!!  we have all been drinking the koolaid.   time to wakeup.",
          "new british eara has come and control the world again",
          "palestine got to move out of gaza or this will continue or history repeats itself as egypt went to war in gaza and jordon    now israel",
          "it was feb  ,the year when the us fell  .....",
          "whats the deal with this, the us takes over gaza and builds this monstrosity and then trump claims it as his?",
          "i never want to hear \"at least we now have a president that can speak coherently\" again because just no",
          "better than it is now. no doubt the raging left will find a way to complain.",
          "show must go onflexed_bicepsflexed_biceps",
          "what's wrong with him????",
          "\"so we were going to do gaza...and panama...and greenland...but i've talked to elon and we've decided that what the world needs most is continuity.  more trump.  that's what the world really needs for stability. so i've decided that in  years' time i will do you the honor of continuing to be your most-loved president - to keep protecting and saving you for many more years.  you'll thank me - you'll be so grateful, and you know how i like gratitude. no need for expensive elections that the slimy democrats just want to steal!  i will be your fabulous, brilliant president until i die. i'm doing it for you!\"fully expecting this.",
          "everybody knows the guardian doesn't care about palestinians. they smeared jeremy corbyn for their overlords.",
          "where does he think all the builders will come from?",
          "sad day for satire, because \"reality\" is doing satire's job already...",
          "why is everyone complaining? it looks really great if you ask me. compared to what it is now...",
          "this advertisement is an insult to the palestinians who were kicked out of their land and were martyred by america and israel",
          "we didnt know we needed this song !!!!once long time ago there was one king, than they were many kings , now we only have kongs without balls, than there is trumpy  the king of today kongs without balls",
          "don't let trump into the gaza",
          "i like how trump trolls everyone!",
          "das video kann nicht echt sein?",
          "the trump statue made me lol",
          "this is to remind that we are very close to  the end .",
          "it's been like two days and i'm still laughing. four more years of the content president to go folks clinking_glasses",
          "k dead...really?? shame on you",
          "seriously??? what a joke.",
          "he needs medical attention asap.",
          "we are gunna see some crazy prophetic, and ancient things returning in our lifetimes.",
          "when will trump and netanyahu be judged on this earth, who have the blood of innocent palestinian children on their hands?crying_facecrying_facecrying_face",
          "america is on  autopilot mode",
          "anyone that fell for this troll is not safe to be out in public or by themselves. you are a danger to society if you did not know, trump was trolling you.",
          "omg this came from trump ... i though some kid made an ai video as a joke and posted it on yt shorts",
          "the left have zero sense of humour,  just look at the comedians they like, they cry at things like this face_with_tears_of_joy",
          "trump gaza # hugging_facehugging_face",
          "it's just the beginning",
          "that was the worst music video i've ever watched",
          "red_heart too all these people that comment even tho the subject that brought us here was awful i feel safe reading the comments",
          "while i agree a new vision is needed this is so unfunny and poor taste is an understatement",
          "the red light is burning... america is truly on the brink of the abyss",
          "is ellon mask the real control man thinking_face",
          "these two are off their nuts face_with_tears_of_joy",
          "here for the song",
          "i like how trump is with the women , elon eating food face_with_tears_of_joy the song is catchy! i believe that trump could totally transform gaza",
          "the problem of these people, and i mean those making videos like this, is that they have no soul. they are talking machines with numbers in their minds",
          "has donald trump any idea how much he hurts all the people that lost their lives, their future, got badly injured. how horrible it must be if one of your friends or relatives are still buried under the rubble to see this videoclip. it just sparks more anger and terror(ismConfusion. in no way this makes america great again. it is an act of pure narcism.  how bizarre it is that the republican senators are ok with this.",
          "trump is totally unhinged, it is absolutely necessary for him to leave power, he is a danger to all humanity",
          "this is so disgusting. i'm ashamed of my so called \"leaders.\"",
          "never forget who voted for this",
          "and this is a bad idea because... ?",
          "as a trump supporter, i do not support this.",
          "guardian chief editor had a meeting with top i d f  staff one month into the  g e n o c i d e. guardian = controlled opposition. boycott gaurdian.",
          "people are crying but the idea of rebuilding gaza into a paradise is lovely. stop being so hysterical over an ai video people.",
          "this is from b, we dislike this video. we dislike donald trump even more. he is built like an orange. get out donald trump.",
          "it's gonna happen been prophecised zephania chapter .",
          "ha ha satirical masterclass and got the desired affect rolling_on_the_floor_laughing",
          "you calling it bizarre ? is that the first word that came to your mind to describe this monstruosity ? let me give you few adjectives you could have use instead : scary, shameful, disgusting, ridiculous, outrageous...stop minimizing what is now a dangerous reality.",
          "i can't wait for south park season ...",
          "can any one defend this?? repulsive",
          "thumbs up??? thumbs_upmedium-light_skin_toneto show the idiocy and decadence.  or thumbs down ????thumbs_down because of the idiocy and decadence.",
          "this kind of videos can may be creats . version of \"h***s\" to secure his own place. so dont underestimate the humans feelings",
          "is that really the president of the united states??",
          "what a jerkface_with_open_mouth how many people died here",
          "tackling all the most important problems first",
          "when trump simultaneously runs for world peacemaker, best potus, award-winning businessman, renaissance man and a grammy winner celebrity.",
          "so they want to clone dubai? can the rich saudis pick up the bill as well since it is all saudi style...",
          "all amaricans should be adhamed of this vedio",
          "we did it to north america, we can do it anywhere! - america man....",
          "lol murica is a dystopia",
          "trump video horrible and very disrespectful as a  christian it sickens me !  thousands of people have died men, woman , children on the both sides  the video is beyond pathetic !",
          "trump brings out the worst in everything",
          "interesting how all sides are upset by even a remote joke about prosperity for gaza",
          "is this the trailer of the new leslie nielsen movie??",
          "trump's non-sense insanity is bringing many to their sanity senses i guess!",
          "did someone just wrote a storyface_with_tears_of_joy",
          "europe happily takes on refugees from the usface_with_tears_of_joy",
          "someone from the avengers % changed smth in the past because this is definitely a new timeline we didnt ask for",
          "great idea! face_with_tears_of_joy and he will take  milion people from gaza to the us, right?face_with_tears_of_joyface_with_tears_of_joyface_with_tears_of_joy",
          "so palestine just loses their territory? it's as simple as that?",
          "so, he shares a cartoonish version of the possibilities of what gaza could become. i don't see any harm in that. i'm quite sure the average gazan would rather live in luxury than what they've been living in for almost a century now.",
          ":-: and one more thing,what is this?!?!",
          "gross. truly a terrible day to have eyes",
          "don't worry folks..the palestinians can afford to stay",
          "i am so glad i never voted for this fool. this is beyond pathetic..smh",
          "thank you, donald for maintaining your stupidity so that we can definitely mark you down as the worst president. the united states has had not once but twice.smiling_face_with_smiling_eyes",
          "it makes las vegas look almost tasteful.",
          "will the lions of gaza allow you to do that?",
          "if a palestinian released this video about the us we would have world war , scary how much of a double standard people have.",
          "sick. the images of a gold trump, the words of the song are concerning. gave me bad strange vibes. do not ignore it. he is showing himself. with musk.",
          "where can i download the whole song?",
          "how can a leader of a country be so disrespectful? what a shame",
          "cross on al aqsa the astonishing plan",
          "trump sux and that is being polite.",
          "the president of the usa lost his mind...",
          "who made this video?",
          "the palestinians  could have had a paradise; instead they spent billions on weapons & terror tunnels....",
          "i thought this was a joke or meme of some kind. this man is serious? someone okay'd this add? so this was his goal. to build a trump resort. i'm done.",
          "it is not bizarre, you are lying and you are evil.",
          "where was putin?  why wasn't he in the video?",
          "i miss when the onion was stupider than real politics",
          "mr.trump power player raised_fist new alliance dawning ",
          "kinda looks like president snow.... hmmm",
          "omg! trump has actually lost his mind! i want to gouge my eyes out because i can't unsee it! what a joke...",
          "make the world america again.",
          "if russia posted a video like this about the us ukraine or europe would we be laughing?",
          "is he a mad?!",
          "what happened with us? i think that we're living alternative reality",
          "trump is the end of civilisation as we know it.",
          "won't do usaid unless it's usannexation.",
          "this is hilarious face_with_tears_of_joy you have to hand it to him he is a provocateur with a great sense of humor face_with_tears_of_joy",
          "bahahaha, they're all driving teslas.face_with_tears_of_joy",
          "most commenter here want this to be real. that's his joke.",
          "elon can eat a lot.",
          "i like this videodems are madConfusionConfusion",
          "its nice to see the president is adapting to meme culture. too bad the left cant. trump can troll? oh, the agony",
          "finally, a glimpse of sanity",
          "it's the natural consequence of capitalism and socialdarwinism",
          "will no one rid us of this pestilence?",
          "i have to see the facebook comments about this loudly_crying_face",
          "tomorrow they will like greece, the day after malta, and after that cyprus, etc...when will people put their foot down once and for all and end colonization and genocide forever? i am beyond sick of expecting better of us as a species. we can not allow this to keep happening...empathy for each and every human is necessary because tomorrow, this could be any of us...on any given piece of land.",
          "hahah. that is so trump",
          "he's got you guys buy the balls face_with_tears_of_joyface_with_tears_of_joyface_with_tears_of_joy",
          "this should not be endorsed for any reasoneurope, canada, japan and all other countries should strongly oppose this.",
          "this is why i love trump. people were ignorant of gaza when biden was president. trump didn't even notice the bearded belly dancers!!! face_with_tears_of_joy",
          "trump is incarnation of reynald chatillon ( reynald planned to destroy of   holy places in mecca Confusion",
          "gaza is not for anyone to just take it!",
          "no like actually why is he praising himself so much",
          ": \"[...] this could be something that could be so bad [...]\"  ...\ror when a liar is betrayed by his own \"social truth\" . q.e.d.",
          "trump didn't release this nonsense, you guys are so gullible!",
          "trump gaza number  !face_with_tears_of_joy",
          "what a great video.",
          "looks great, go for it mister president, i like your vision.",
          "sickening.. the guy has absolutely no class..",
          "america's first crackhead president delivers....",
          "can i go to the real timeline now?",
          "in the book of daniel , king nebuchadnezzar  had a golden statue put up just like this one.",
          "fascinating how trump`s instinct in the speech is to say \"this could be so *bad*\" tells you everything you need to know how he usually likes to talk",
          "what a joke  !!!",
          "you all just got trolled by the goat!!!!",
          "yall are getting trolled so hard i can't stop laughing.",
          "old people cannot be politicians!!!!!!!!!!!!!!!!!!!!!!",
          "poor confused trump, who started his real estate dream with: 'will be so ba (badConfusion.', but quickly changed that in: 'will be so magnificent'. well, the first is more according the truth.",
          "trump, musk and netanyahu are out of their minds.  this is not what america does. we help the underprivileged not the dictator",
          "world war  is near",
          "smoke and mirrors to divert attention away from a budget that assaults the working class while giving tax cuts to the billionaire class.",
          "it was posted on truth social by his account",
          "trump gaza is finally here!",
          "i think trump's idea of turning gaza into a giant resort is terrible.  palestinians are not animals to be removed so that other people can take their place.",
          "call it \"trump gaza graveyard\"",
          "the arrival of the dajal",
          "trump gazans be like:\"netanyahu akbar!\"",
          "feeling sorry that america is about to loose all its been working on for decades. such a shame",
          "gaza is not in sale!",
          "yall are forgetting trump is the one. he can dodge bullets and make it look like he alsmot got shot!",
          "isreal won this war",
          "sick to the core",
          "-mom, mom! look there's a shell!-no, kim. it's a part of a human skull.-can i take it home so i could use it as a halloween decoration?-ah, ok.",
          "it was the best of times, it was the blurst of times.",
          "i'd pay to visit it though. like this comment if you would too. be honest guys smiling_face_with_open_mouth_&_cold_sweat",
          "gaza? he won't fix the homelessness on streets in america?",
          "\"welcome to aza now arab free\"disguesting",
          "let's crowdfund a time machine everybody",
          "as if dtrumph cannot be any more disgraceful",
          "it's funny but in a south park kind of way",
          "trampy started war in the beginning so he could build condos there",
          "bizarre that there could be peace and prosperity.  that would ruin everything.",
          "he pushes our emaginations to the limits..that we are less shocked what will happen ww is comming",
          "gaza is the  state .  us army get ready.",
          "this is a total disgrace. every u.s. citizen with morals should be outraged at trump. sick!!!",
          "this is a place where only . million palestinians who talk about human rights are violating human rights today only palestine",
          null
         ],
         "marker": {
          "opacity": 0.5,
          "size": 5
         },
         "mode": "markers+text",
         "name": "0_the_is_this",
         "text": [
          "",
          "",
          "",
          "",
          "",
          "",
          "",
          "",
          "",
          "",
          "",
          "",
          "",
          "",
          "",
          "",
          "",
          "",
          "",
          "",
          "",
          "",
          "",
          "",
          "",
          "",
          "",
          "",
          "",
          "",
          "",
          "",
          "",
          "",
          "",
          "",
          "",
          "",
          "",
          "",
          "",
          "",
          "",
          "",
          "",
          "",
          "",
          "",
          "",
          "",
          "",
          "",
          "",
          "",
          "",
          "",
          "",
          "",
          "",
          "",
          "",
          "",
          "",
          "",
          "",
          "",
          "",
          "",
          "",
          "",
          "",
          "",
          "",
          "",
          "",
          "",
          "",
          "",
          "",
          "",
          "",
          "",
          "",
          "",
          "",
          "",
          "",
          "",
          "",
          "",
          "",
          "",
          "",
          "",
          "",
          "",
          "",
          "",
          "",
          "",
          "",
          "",
          "",
          "",
          "",
          "",
          "",
          "",
          "",
          "",
          "",
          "",
          "",
          "",
          "",
          "",
          "",
          "",
          "",
          "",
          "",
          "",
          "",
          "",
          "",
          "",
          "",
          "",
          "",
          "",
          "",
          "",
          "",
          "",
          "",
          "",
          "",
          "",
          "",
          "",
          "",
          "",
          "",
          "",
          "",
          "",
          "",
          "",
          "",
          "",
          "",
          "",
          "",
          "",
          "",
          "",
          "",
          "",
          "",
          "",
          "",
          "",
          "",
          "",
          "",
          "",
          "",
          "",
          "",
          "",
          "",
          "",
          "",
          "",
          "",
          "",
          "",
          "",
          "",
          "",
          "",
          "",
          "",
          "",
          "",
          "",
          "",
          "",
          "",
          "",
          "",
          "",
          "",
          "",
          "",
          "",
          "",
          "",
          "",
          "",
          "",
          "",
          "",
          "",
          "",
          "",
          "",
          "",
          "",
          "",
          "",
          "",
          "",
          "",
          "",
          "",
          "",
          "",
          "",
          "",
          "",
          "",
          "",
          "",
          "",
          "",
          "",
          "",
          "",
          "",
          "",
          "",
          "",
          "",
          "",
          "",
          "",
          "",
          "",
          "",
          "",
          "",
          "",
          "",
          "",
          "",
          "",
          "",
          "",
          "",
          "",
          "",
          "",
          "",
          "",
          "",
          "",
          "",
          "",
          "",
          "",
          "",
          "",
          "",
          "",
          "",
          "",
          "",
          "",
          "",
          "",
          "",
          "",
          "",
          "",
          "",
          "",
          "",
          "",
          "",
          "",
          "",
          "",
          "",
          "",
          "",
          "",
          "",
          "",
          "",
          "",
          "",
          "",
          "",
          "",
          "",
          "",
          "",
          "",
          "",
          "",
          "",
          "",
          "",
          "",
          "",
          "",
          "",
          "",
          "",
          "",
          "",
          "",
          "",
          "",
          "",
          "",
          "",
          "",
          "",
          "",
          "",
          "",
          "",
          "",
          "",
          "",
          "",
          "",
          "",
          "",
          "",
          "",
          "",
          "",
          "",
          "",
          "",
          "",
          "",
          "",
          "",
          "",
          "",
          "",
          "",
          "",
          "",
          "",
          "",
          "",
          "",
          "",
          "",
          "",
          "",
          "",
          "",
          "",
          "",
          "",
          "",
          "",
          "",
          "",
          "",
          "",
          "",
          "",
          "",
          "",
          "",
          "",
          "",
          "",
          "",
          "",
          "",
          "",
          "",
          "",
          "",
          "",
          "",
          "",
          "",
          "",
          "",
          "",
          "",
          "",
          "",
          "",
          "",
          "",
          "",
          "",
          "",
          "",
          "",
          "",
          "",
          "",
          "",
          "",
          "",
          "",
          "",
          "",
          "",
          "",
          "",
          "",
          "",
          "",
          "",
          "",
          "",
          "",
          "",
          "",
          "",
          "",
          "",
          "",
          "",
          "",
          "",
          "",
          "",
          "",
          "",
          "",
          "",
          "",
          "",
          "",
          "",
          "",
          "",
          "",
          "",
          "",
          "",
          "",
          "",
          "",
          "",
          "",
          "",
          "",
          "",
          "",
          "",
          "",
          "",
          "",
          "",
          "",
          "",
          "",
          "",
          "",
          "",
          "",
          "",
          "",
          "",
          "",
          "",
          "",
          "",
          "",
          "",
          "",
          "",
          "",
          "",
          "",
          "",
          "",
          "",
          "",
          "",
          "",
          "",
          "",
          "",
          "",
          "",
          "",
          "",
          "",
          "",
          "",
          "",
          "",
          "",
          "",
          "",
          "",
          "",
          "",
          "",
          "",
          "",
          "",
          "",
          "",
          "",
          "",
          "",
          "",
          "",
          "",
          "",
          "",
          "",
          "",
          "",
          "",
          "",
          "",
          "",
          "",
          "",
          "",
          "",
          "",
          "",
          "",
          "",
          "",
          "",
          "",
          "",
          "",
          "",
          "",
          "",
          "",
          "",
          "",
          "",
          "",
          "",
          "",
          "",
          "",
          "",
          "",
          "",
          "",
          "",
          "",
          "",
          "",
          "",
          "",
          "",
          "",
          "",
          "",
          "",
          "",
          "",
          "",
          "",
          "",
          "",
          "",
          "",
          "",
          "",
          "",
          "",
          "",
          "",
          "",
          "",
          "",
          "",
          "",
          "",
          "",
          "",
          "",
          "",
          "",
          "",
          "",
          "",
          "",
          "",
          "",
          "",
          "",
          "",
          "",
          "",
          "",
          "",
          "",
          "",
          "0_the_is_this"
         ],
         "textfont": {
          "size": 12
         },
         "type": "scattergl",
         "x": {
          "bdata": "zJ4wQeGHKUHD5c9AzjsDQerZCUE9WAxB4n2cQM1NA0GM5CBB/3EOQZ0PD0HPWiJB+UjYQI0YHkFOajFBYh61QKPVKUEdROhA7kcDQdgGokBSuwhBOQI5QblCIUEvYxNBG04jQWUYH0EyABhBM9q3QDTUCkE8uv5AjAS2QJCpDEF/gttAizb7QEMvmUAyyQ5B8YAIQXxrGEG/qZxA8qsgQVBQLkGR2/1AMjkvQVVFI0FZKQ5B2vnBQMkLL0FgXflAoaIOQbBfEEFXPA5BZqKZQBoZGEFi+qFAAfoxQexNCkE9Jy9BMwkdQUx8FkHttxBBbsU5QdBOnkDMygNBzbAIQdZdJUHcOuBAVCshQd5MkkDxgClBgQygQOlAI0EBrf5A/G6dQLNGK0HajAFBDo+dQFZ1JkEdkbhAWk8PQbQBD0EjmTBB7iWeQJ+Y30CLVqJAUhkjQUlvDkFytDZBUcQvQdxrH0HYlDVBc0rXQF50uUBZfi5BYLIiQQQACUEqP5RAtmbnQCb8HEGA4cBAjME4QTHoA0EuXS1BPRrgQEHX+UCFDaVA2LciQW4FwUDzKSRB9Bg5QawuGEGD7CdBrGLlQARNKUH8TwRByXYkQeXRIkFceJZAEZ8IQUj5CkFOAd9AWGG3QBVk/UCJoppA8kk4QWXYAUESYDBByiH8QGTKOUGRQR5BjPqeQGuTAEGq2pxAGgkgQVt690CKkN9AA8WPQKt9DkE4cftAxSYxQQI44EBVCZNA3nk0Qe9XxEAtWuFAIw+WQCL7mUCyxC9BcdcLQX6a/0BT0SFBp0YLQVgSAUHbbp1AtHD+QDM4DUHKVi9BcM6KQIhBo0DaLrxAEFzTQOieIUFPq+5A3NUBQaMvHUECoyBBvBoeQSV9rkA83B5BRBOtQGTuMUEAxSVBAHIxQbyREEEFxqRAMqcPQQpQD0HFQztBhjSZQANcIUGIfhdBXaUdQYgfGkHgsKNAkJspQf4yqECsmjlBg6HrQDHlCEGs6jBBNMX3QNu7MEGGiC5BD2r9QATMCkFKN55AajYMQYTgFUF0FPRA+vsxQTWYAkF0Mf1AHG0FQdyLG0EW9/dATdyuQASHLkH/SjVBxWCgQPmyAkGB8KNAGmglQWXVuEBZQK1AiCs6QTPIOUFT2RFBv8AvQRqSFUEs1o9Aj7YKQfjOpEBVwQVBh40OQeN20kDXMDFB8zDyQPLLC0GjvudA1REYQecVMEFNOx5BCR0RQcRk8EA7fBBB6rvqQJ/v+EC6dphAuB8UQTxJkEC9weZAJs0pQVX4OEES3P5ARn02Qaio/kBUAyZBLSAAQXFToEBSsQhBcWYGQSJDLUG3B49AYUc4QYsNA0E2fAFBYVgpQbj9+UCHnzVBMZWRQNhI6UC9ujFBnCQNQVlgC0HfuyVBfkowQTZ0IkFC5N5AcxopQXN8HkHHyitB1FLyQH6Vn0D6fqhA/+PgQHTG/UDrVI5ApJIOQTfd6kBFSApBpor4QENVpUBoOJJAhbYvQQrkoUAUiBdBAJWVQDxqL0ED9aRAl9wqQagKGEGBvv5Aa0sIQYeW8kBMZipBMEYHQUuiIUG3IPlAkiH0QFTrH0H0ev5AMt8OQWvEB0H/YwlBnx0lQZ5fBEHvKwtBewP0QF2bMUENiSJBrFYyQQrXOkHVTCNBJ5jPQAZHsECtUaVAZ30GQREODkEEX7FAsbUGQTtxzUBsjBhBryUVQRAFvECm6Q9BWu+eQEW+E0E6rgFB/CMIQWEZG0FtSrdAZQwFQdFdHUEsJQNBGi84QfMSM0F5u6JAq6YuQcXJv0CUSvtA58/+QBVzOUFtYhRB0kEMQepSBEFJHBZBAe0iQS+5MkGOralAKrkiQcGVAEHUkzRBqRQBQfJbBkHOlBNBX9X/QDmrAUGNLg5BWBEBQc1DMUG9gf9A6P6PQNA0DUF2iyNBzBveQNbnBkH2c5xA01A7QWDau0Cu7S5B6vDOQL+dFUHMtg9ByNIqQSiGiEAbYyhBcRWcQBJBOUG6mvBApKCeQOWVpkBUHQBBYezOQC0RI0EcUDBBaR8kQYg/NUHr85JAHyU5QR28CEF35iJBQAgOQbX5xEAT+pBA6JAxQcR4FUEOcp9AnOQVQc4ykEBRiQNB+Js3QT6WHkHuiIpA5tCMQAohBkFjDRlBvE+hQI1HlED8kR5B/Ai7QDVcIkEjTThBdt8aQX8PoECRWRxB1M6MQLjkA0GWhRVBxv6vQNg850CHN/9A0ru7QMuy/kBEV/NAjNn2QD45LUEuuv5AhPgiQRxgDEF3G/dA/g6UQNS8E0FA9CJBMmcbQSv7+0A4WStB940IQcgCD0E+KBJBuFEEQahljkDGBA9BvLqUQAN4DUHXHgVBDyL7QFqkOUEi/7JAhV7VQN9vv0Aa7Q1BdNsGQSpKI0Gu0xtBIgiOQJTk90APwR1Be0bgQGu9JUGWfftA/KcpQToAGEFGtzlBhuknQXsMsECTUA5BvBbzQKDL6kD7FfZAEJ2hQF5IFUE43itBuzAIQertFEEF6w5Bup86QYq0+0D+xiBB5luqQK8MHkHqu+RAIk0IQb4OJkFrVRZBmwclQUql8EAx9tVApO2fQEJk40DpsSdBYtoAQaiILEHvcg5BWcMpQZp5L0FhjR1BFor9QPY0N0GmxgtBSvG1QOQEuEARZQlBNdYOQfI7EkFE++BALYwAQcEBokAFmhhBDbMFQa5L/kB9tOtABBcwQW+8pEDXppBAvPGiQF5YLUFgLjNBjBKVQAphGEErAwpBpa0HQVi2iUDgZuBA8vjfQE+vIUH0hyVBwvCWQHewB0FwqgpBY7sdQbZ+l0DrHsVAtEwsQaAE40ASiSJBkX8AQa0AA0HJxgRBwK8NQcbf4EDZCDtBRLkfQXUWCUGNI9BA5db4QED39UASmBFBvtm7QMP8FEGeivdAcakbQYTyCkEB3y9BIDE5QeUJl0C9ePpAIUr6QBNRJEEQRKRAUDb0QPBdikD2rQhBGRQiQVpE80DakqNAiL4OQb8WAkG4wzJBLxULQUN6MEEt2ClBc9v8QFTfEkGdfRdBg+MXQX/TH0Fk//pA8JG3QJq5JEFqkRxB4k4BQYwQkUBgsKJAYjSQQCanKUE4x5JAoFsOQWTciUDtu/xA5ZGRQB+zNUGoFDFBhm4jQREJNEGjTYdA42yXQA68MEELqxtB/mAOQc+dv0AuaylB144kQdfrjUDkBRxBCZyaQFxIBUE=",
          "dtype": "f4"
         },
         "y": {
          "bdata": "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",
          "dtype": "f4"
         }
        },
        {
         "hoverinfo": "text",
         "hovertext": [
          "that video is funny, yall ones getting mad are taking it way too seriously. its ai generated. robot made it. we cant fully orchestrate how an ai will make a video or image or whatever. find humor in it, jeez. dancers with beards. trump baloons. i think its funny and cool to watch.",
          "does he realize the women dancers have beards?",
          "so uhh are wegonna just ignore the beards on those girls dancing at : face_with_tears_of_joyface_with_tears_of_joy",
          "the dancing girls have beards. thrown under the bus by ai.",
          "what are those guys with beards and dancing on women's dresses ? are they trans or what ?",
          "why do the female dancers at : have beards? this can only mean two things: either the trump guys have secretly a heart for trans people  or this video has been assembled with the same meticulous care for detail typical for all of trump's actions.",
          "why do the belly dancers have beards face_with_tears_of_joy",
          "i would just like to point out : and say that's a nice detail for the ai to have included. bearded bikini dancers were not on my bingo card for this weeks' insanity, but i will take whatever shimmer of light(heartednessConfusion i can get.",
          "anyone see the trans woman belly-dancers?",
          "question?  why dancing men?",
          ": those women with beard is most american think ever",
          "belly dancers have beards at :  thinking_face",
          "is anybody seeing the bearded ladies face_with_tears_of_joyface_with_tears_of_joyface_with_tears_of_joyface_with_tears_of_joyface_with_tears_of_joyface_with_tears_of_joyface_with_tears_of_joyface_with_tears_of_joyface_with_tears_of_joyface_with_tears_of_joyface_with_tears_of_joyface_with_tears_of_joy",
          "why do the women have full beards?",
          "why do the beach belly dancers have full beards?out of control.",
          "what the heck with the bearded trans girl dancing hahaha",
          "why is no one discussing the bearded ladies belly dancing... thinking_facethinking_facethinking_face",
          "breaded belly dancers are next",
          "why does he have bearded women dancing",
          "i just find it funny that trump shared a video with belly dancers with beards",
          ": these women have beards... or better said men heads.",
          "im not sure at : wheter the people there want to have bearded women",
          "men in long beards dancing in genie costumes, wait what face_with_open_mouth?",
          ": i guess even trump himself didnt expect men with full grown beard dressed up as women dancing on the beach",
          "its the bearded dancers for meface_with_tears_of_joyface_with_tears_of_joy",
          "has anyone noticed the hula dancers look like don jr? i'm getting the feeling whoever generated this video is subtly mocking the president and his ridiculous, sickening vision. and he doesn't even pick up on it...",
          "why do the women at : have beards face_with_tears_of_joy",
          "harem girls on the beach had full beards.",
          "i anyone else noticed that the two ladies dancing on the beach right after elon eating have beards?face_with_tears_of_joyface_with_tears_of_joyface_with_tears_of_joyface_with_tears_of_joyface_with_tears_of_joy",
          ": why do the men in drag look like the brothers from opal in sky",
          "my favourite part is the bikini ladies with beards dancing on the beach",
          ": love to see how happy these bearded men in bikinis are dancing face_with_tears_of_joy",
          "in ww germans created funny images of yews with funny noses. nothing bad with that. we all laughed. till we saw the next steps. nothing bad showing a rebuild country where its bearded citizens entertain the world people with belly dances.",
          "no body seen the guy dancers with full beards??? eyes",
          "yeah, he really posted this...women with beards. uhuh, yeah that's totally something he would do.",
          null
         ],
         "marker": {
          "opacity": 0.5,
          "size": 5
         },
         "mode": "markers+text",
         "name": "1_beards_the_dancers",
         "text": [
          "",
          "",
          "",
          "",
          "",
          "",
          "",
          "",
          "",
          "",
          "",
          "",
          "",
          "",
          "",
          "",
          "",
          "",
          "",
          "",
          "",
          "",
          "",
          "",
          "",
          "",
          "",
          "",
          "",
          "",
          "",
          "",
          "",
          "",
          "",
          "1_beards_the_dancers"
         ],
         "textfont": {
          "size": 12
         },
         "type": "scattergl",
         "x": {
          "bdata": "cXt6QDihYEAP41RAlylgQFfJZkAWUHJAV2RXQLoiY0AHEmhAkKxjQOYwT0DZY19ApjRPQAHsUEBSe1tAuQ5qQA/qXUBunGFAsHZaQDkvdkCBE1FA5VpPQN7cXEC3dnJAndBXQOEIe0ClFlBApwhUQDw3VkB5bWVAwYFaQCgJV0B3HF5A6yZYQBBHTkCqhl5A",
          "dtype": "f4"
         },
         "y": {
          "bdata": "BYQgQLPtHECq8hFAfiQaQB39IUCSQCBA6GUZQNLSG0AHQB9AVI0gQAAJCkBjdB1Aq2UMQKDiC0CStRFAyWEfQIOYHEBpgB9ADvMeQNdBIEDKxwhA6DwJQOyVJUAaXCBApSwgQDZ7IEDivQpAU7UOQA2BFkDxxCFAwsoXQME+IEAqRhxA2F4aQNiOCkCXKBlA",
          "dtype": "f4"
         }
        }
       ],
       "layout": {
        "annotations": [
         {
          "showarrow": false,
          "text": "D1",
          "x": 2.7396242141723635,
          "y": 3.9550361290574076,
          "yshift": 10
         },
         {
          "showarrow": false,
          "text": "D2",
          "x": 8.101470780372619,
          "xshift": 10,
          "y": 7.421048784255982
         }
        ],
        "height": 750,
        "shapes": [
         {
          "line": {
           "color": "#CFD8DC",
           "width": 2
          },
          "type": "line",
          "x0": 8.101470780372619,
          "x1": 8.101470780372619,
          "y0": 0.4890234738588333,
          "y1": 7.421048784255982
         },
         {
          "line": {
           "color": "#9E9E9E",
           "width": 2
          },
          "type": "line",
          "x0": 2.7396242141723635,
          "x1": 13.463317346572875,
          "y0": 3.9550361290574076,
          "y1": 3.9550361290574076
         }
        ],
        "template": {
         "data": {
          "bar": [
           {
            "error_x": {
             "color": "rgb(36,36,36)"
            },
            "error_y": {
             "color": "rgb(36,36,36)"
            },
            "marker": {
             "line": {
              "color": "white",
              "width": 0.5
             },
             "pattern": {
              "fillmode": "overlay",
              "size": 10,
              "solidity": 0.2
             }
            },
            "type": "bar"
           }
          ],
          "barpolar": [
           {
            "marker": {
             "line": {
              "color": "white",
              "width": 0.5
             },
             "pattern": {
              "fillmode": "overlay",
              "size": 10,
              "solidity": 0.2
             }
            },
            "type": "barpolar"
           }
          ],
          "carpet": [
           {
            "aaxis": {
             "endlinecolor": "rgb(36,36,36)",
             "gridcolor": "white",
             "linecolor": "white",
             "minorgridcolor": "white",
             "startlinecolor": "rgb(36,36,36)"
            },
            "baxis": {
             "endlinecolor": "rgb(36,36,36)",
             "gridcolor": "white",
             "linecolor": "white",
             "minorgridcolor": "white",
             "startlinecolor": "rgb(36,36,36)"
            },
            "type": "carpet"
           }
          ],
          "choropleth": [
           {
            "colorbar": {
             "outlinewidth": 1,
             "tickcolor": "rgb(36,36,36)",
             "ticks": "outside"
            },
            "type": "choropleth"
           }
          ],
          "contour": [
           {
            "colorbar": {
             "outlinewidth": 1,
             "tickcolor": "rgb(36,36,36)",
             "ticks": "outside"
            },
            "colorscale": [
             [
              0,
              "#440154"
             ],
             [
              0.1111111111111111,
              "#482878"
             ],
             [
              0.2222222222222222,
              "#3e4989"
             ],
             [
              0.3333333333333333,
              "#31688e"
             ],
             [
              0.4444444444444444,
              "#26828e"
             ],
             [
              0.5555555555555556,
              "#1f9e89"
             ],
             [
              0.6666666666666666,
              "#35b779"
             ],
             [
              0.7777777777777778,
              "#6ece58"
             ],
             [
              0.8888888888888888,
              "#b5de2b"
             ],
             [
              1,
              "#fde725"
             ]
            ],
            "type": "contour"
           }
          ],
          "contourcarpet": [
           {
            "colorbar": {
             "outlinewidth": 1,
             "tickcolor": "rgb(36,36,36)",
             "ticks": "outside"
            },
            "type": "contourcarpet"
           }
          ],
          "heatmap": [
           {
            "colorbar": {
             "outlinewidth": 1,
             "tickcolor": "rgb(36,36,36)",
             "ticks": "outside"
            },
            "colorscale": [
             [
              0,
              "#440154"
             ],
             [
              0.1111111111111111,
              "#482878"
             ],
             [
              0.2222222222222222,
              "#3e4989"
             ],
             [
              0.3333333333333333,
              "#31688e"
             ],
             [
              0.4444444444444444,
              "#26828e"
             ],
             [
              0.5555555555555556,
              "#1f9e89"
             ],
             [
              0.6666666666666666,
              "#35b779"
             ],
             [
              0.7777777777777778,
              "#6ece58"
             ],
             [
              0.8888888888888888,
              "#b5de2b"
             ],
             [
              1,
              "#fde725"
             ]
            ],
            "type": "heatmap"
           }
          ],
          "histogram": [
           {
            "marker": {
             "line": {
              "color": "white",
              "width": 0.6
             }
            },
            "type": "histogram"
           }
          ],
          "histogram2d": [
           {
            "colorbar": {
             "outlinewidth": 1,
             "tickcolor": "rgb(36,36,36)",
             "ticks": "outside"
            },
            "colorscale": [
             [
              0,
              "#440154"
             ],
             [
              0.1111111111111111,
              "#482878"
             ],
             [
              0.2222222222222222,
              "#3e4989"
             ],
             [
              0.3333333333333333,
              "#31688e"
             ],
             [
              0.4444444444444444,
              "#26828e"
             ],
             [
              0.5555555555555556,
              "#1f9e89"
             ],
             [
              0.6666666666666666,
              "#35b779"
             ],
             [
              0.7777777777777778,
              "#6ece58"
             ],
             [
              0.8888888888888888,
              "#b5de2b"
             ],
             [
              1,
              "#fde725"
             ]
            ],
            "type": "histogram2d"
           }
          ],
          "histogram2dcontour": [
           {
            "colorbar": {
             "outlinewidth": 1,
             "tickcolor": "rgb(36,36,36)",
             "ticks": "outside"
            },
            "colorscale": [
             [
              0,
              "#440154"
             ],
             [
              0.1111111111111111,
              "#482878"
             ],
             [
              0.2222222222222222,
              "#3e4989"
             ],
             [
              0.3333333333333333,
              "#31688e"
             ],
             [
              0.4444444444444444,
              "#26828e"
             ],
             [
              0.5555555555555556,
              "#1f9e89"
             ],
             [
              0.6666666666666666,
              "#35b779"
             ],
             [
              0.7777777777777778,
              "#6ece58"
             ],
             [
              0.8888888888888888,
              "#b5de2b"
             ],
             [
              1,
              "#fde725"
             ]
            ],
            "type": "histogram2dcontour"
           }
          ],
          "mesh3d": [
           {
            "colorbar": {
             "outlinewidth": 1,
             "tickcolor": "rgb(36,36,36)",
             "ticks": "outside"
            },
            "type": "mesh3d"
           }
          ],
          "parcoords": [
           {
            "line": {
             "colorbar": {
              "outlinewidth": 1,
              "tickcolor": "rgb(36,36,36)",
              "ticks": "outside"
             }
            },
            "type": "parcoords"
           }
          ],
          "pie": [
           {
            "automargin": true,
            "type": "pie"
           }
          ],
          "scatter": [
           {
            "fillpattern": {
             "fillmode": "overlay",
             "size": 10,
             "solidity": 0.2
            },
            "type": "scatter"
           }
          ],
          "scatter3d": [
           {
            "line": {
             "colorbar": {
              "outlinewidth": 1,
              "tickcolor": "rgb(36,36,36)",
              "ticks": "outside"
             }
            },
            "marker": {
             "colorbar": {
              "outlinewidth": 1,
              "tickcolor": "rgb(36,36,36)",
              "ticks": "outside"
             }
            },
            "type": "scatter3d"
           }
          ],
          "scattercarpet": [
           {
            "marker": {
             "colorbar": {
              "outlinewidth": 1,
              "tickcolor": "rgb(36,36,36)",
              "ticks": "outside"
             }
            },
            "type": "scattercarpet"
           }
          ],
          "scattergeo": [
           {
            "marker": {
             "colorbar": {
              "outlinewidth": 1,
              "tickcolor": "rgb(36,36,36)",
              "ticks": "outside"
             }
            },
            "type": "scattergeo"
           }
          ],
          "scattergl": [
           {
            "marker": {
             "colorbar": {
              "outlinewidth": 1,
              "tickcolor": "rgb(36,36,36)",
              "ticks": "outside"
             }
            },
            "type": "scattergl"
           }
          ],
          "scattermap": [
           {
            "marker": {
             "colorbar": {
              "outlinewidth": 1,
              "tickcolor": "rgb(36,36,36)",
              "ticks": "outside"
             }
            },
            "type": "scattermap"
           }
          ],
          "scattermapbox": [
           {
            "marker": {
             "colorbar": {
              "outlinewidth": 1,
              "tickcolor": "rgb(36,36,36)",
              "ticks": "outside"
             }
            },
            "type": "scattermapbox"
           }
          ],
          "scatterpolar": [
           {
            "marker": {
             "colorbar": {
              "outlinewidth": 1,
              "tickcolor": "rgb(36,36,36)",
              "ticks": "outside"
             }
            },
            "type": "scatterpolar"
           }
          ],
          "scatterpolargl": [
           {
            "marker": {
             "colorbar": {
              "outlinewidth": 1,
              "tickcolor": "rgb(36,36,36)",
              "ticks": "outside"
             }
            },
            "type": "scatterpolargl"
           }
          ],
          "scatterternary": [
           {
            "marker": {
             "colorbar": {
              "outlinewidth": 1,
              "tickcolor": "rgb(36,36,36)",
              "ticks": "outside"
             }
            },
            "type": "scatterternary"
           }
          ],
          "surface": [
           {
            "colorbar": {
             "outlinewidth": 1,
             "tickcolor": "rgb(36,36,36)",
             "ticks": "outside"
            },
            "colorscale": [
             [
              0,
              "#440154"
             ],
             [
              0.1111111111111111,
              "#482878"
             ],
             [
              0.2222222222222222,
              "#3e4989"
             ],
             [
              0.3333333333333333,
              "#31688e"
             ],
             [
              0.4444444444444444,
              "#26828e"
             ],
             [
              0.5555555555555556,
              "#1f9e89"
             ],
             [
              0.6666666666666666,
              "#35b779"
             ],
             [
              0.7777777777777778,
              "#6ece58"
             ],
             [
              0.8888888888888888,
              "#b5de2b"
             ],
             [
              1,
              "#fde725"
             ]
            ],
            "type": "surface"
           }
          ],
          "table": [
           {
            "cells": {
             "fill": {
              "color": "rgb(237,237,237)"
             },
             "line": {
              "color": "white"
             }
            },
            "header": {
             "fill": {
              "color": "rgb(217,217,217)"
             },
             "line": {
              "color": "white"
             }
            },
            "type": "table"
           }
          ]
         },
         "layout": {
          "annotationdefaults": {
           "arrowhead": 0,
           "arrowwidth": 1
          },
          "autotypenumbers": "strict",
          "coloraxis": {
           "colorbar": {
            "outlinewidth": 1,
            "tickcolor": "rgb(36,36,36)",
            "ticks": "outside"
           }
          },
          "colorscale": {
           "diverging": [
            [
             0,
             "rgb(103,0,31)"
            ],
            [
             0.1,
             "rgb(178,24,43)"
            ],
            [
             0.2,
             "rgb(214,96,77)"
            ],
            [
             0.3,
             "rgb(244,165,130)"
            ],
            [
             0.4,
             "rgb(253,219,199)"
            ],
            [
             0.5,
             "rgb(247,247,247)"
            ],
            [
             0.6,
             "rgb(209,229,240)"
            ],
            [
             0.7,
             "rgb(146,197,222)"
            ],
            [
             0.8,
             "rgb(67,147,195)"
            ],
            [
             0.9,
             "rgb(33,102,172)"
            ],
            [
             1,
             "rgb(5,48,97)"
            ]
           ],
           "sequential": [
            [
             0,
             "#440154"
            ],
            [
             0.1111111111111111,
             "#482878"
            ],
            [
             0.2222222222222222,
             "#3e4989"
            ],
            [
             0.3333333333333333,
             "#31688e"
            ],
            [
             0.4444444444444444,
             "#26828e"
            ],
            [
             0.5555555555555556,
             "#1f9e89"
            ],
            [
             0.6666666666666666,
             "#35b779"
            ],
            [
             0.7777777777777778,
             "#6ece58"
            ],
            [
             0.8888888888888888,
             "#b5de2b"
            ],
            [
             1,
             "#fde725"
            ]
           ],
           "sequentialminus": [
            [
             0,
             "#440154"
            ],
            [
             0.1111111111111111,
             "#482878"
            ],
            [
             0.2222222222222222,
             "#3e4989"
            ],
            [
             0.3333333333333333,
             "#31688e"
            ],
            [
             0.4444444444444444,
             "#26828e"
            ],
            [
             0.5555555555555556,
             "#1f9e89"
            ],
            [
             0.6666666666666666,
             "#35b779"
            ],
            [
             0.7777777777777778,
             "#6ece58"
            ],
            [
             0.8888888888888888,
             "#b5de2b"
            ],
            [
             1,
             "#fde725"
            ]
           ]
          },
          "colorway": [
           "#1F77B4",
           "#FF7F0E",
           "#2CA02C",
           "#D62728",
           "#9467BD",
           "#8C564B",
           "#E377C2",
           "#7F7F7F",
           "#BCBD22",
           "#17BECF"
          ],
          "font": {
           "color": "rgb(36,36,36)"
          },
          "geo": {
           "bgcolor": "white",
           "lakecolor": "white",
           "landcolor": "white",
           "showlakes": true,
           "showland": true,
           "subunitcolor": "white"
          },
          "hoverlabel": {
           "align": "left"
          },
          "hovermode": "closest",
          "mapbox": {
           "style": "light"
          },
          "paper_bgcolor": "white",
          "plot_bgcolor": "white",
          "polar": {
           "angularaxis": {
            "gridcolor": "rgb(232,232,232)",
            "linecolor": "rgb(36,36,36)",
            "showgrid": false,
            "showline": true,
            "ticks": "outside"
           },
           "bgcolor": "white",
           "radialaxis": {
            "gridcolor": "rgb(232,232,232)",
            "linecolor": "rgb(36,36,36)",
            "showgrid": false,
            "showline": true,
            "ticks": "outside"
           }
          },
          "scene": {
           "xaxis": {
            "backgroundcolor": "white",
            "gridcolor": "rgb(232,232,232)",
            "gridwidth": 2,
            "linecolor": "rgb(36,36,36)",
            "showbackground": true,
            "showgrid": false,
            "showline": true,
            "ticks": "outside",
            "zeroline": false,
            "zerolinecolor": "rgb(36,36,36)"
           },
           "yaxis": {
            "backgroundcolor": "white",
            "gridcolor": "rgb(232,232,232)",
            "gridwidth": 2,
            "linecolor": "rgb(36,36,36)",
            "showbackground": true,
            "showgrid": false,
            "showline": true,
            "ticks": "outside",
            "zeroline": false,
            "zerolinecolor": "rgb(36,36,36)"
           },
           "zaxis": {
            "backgroundcolor": "white",
            "gridcolor": "rgb(232,232,232)",
            "gridwidth": 2,
            "linecolor": "rgb(36,36,36)",
            "showbackground": true,
            "showgrid": false,
            "showline": true,
            "ticks": "outside",
            "zeroline": false,
            "zerolinecolor": "rgb(36,36,36)"
           }
          },
          "shapedefaults": {
           "fillcolor": "black",
           "line": {
            "width": 0
           },
           "opacity": 0.3
          },
          "ternary": {
           "aaxis": {
            "gridcolor": "rgb(232,232,232)",
            "linecolor": "rgb(36,36,36)",
            "showgrid": false,
            "showline": true,
            "ticks": "outside"
           },
           "baxis": {
            "gridcolor": "rgb(232,232,232)",
            "linecolor": "rgb(36,36,36)",
            "showgrid": false,
            "showline": true,
            "ticks": "outside"
           },
           "bgcolor": "white",
           "caxis": {
            "gridcolor": "rgb(232,232,232)",
            "linecolor": "rgb(36,36,36)",
            "showgrid": false,
            "showline": true,
            "ticks": "outside"
           }
          },
          "title": {
           "x": 0.05
          },
          "xaxis": {
           "automargin": true,
           "gridcolor": "rgb(232,232,232)",
           "linecolor": "rgb(36,36,36)",
           "showgrid": false,
           "showline": true,
           "ticks": "outside",
           "title": {
            "standoff": 15
           },
           "zeroline": false,
           "zerolinecolor": "rgb(36,36,36)"
          },
          "yaxis": {
           "automargin": true,
           "gridcolor": "rgb(232,232,232)",
           "linecolor": "rgb(36,36,36)",
           "showgrid": false,
           "showline": true,
           "ticks": "outside",
           "title": {
            "standoff": 15
           },
           "zeroline": false,
           "zerolinecolor": "rgb(36,36,36)"
          }
         }
        },
        "title": {
         "font": {
          "color": "Black",
          "size": 22
         },
         "text": "<b>Documents and Topics</b>",
         "x": 0.5,
         "xanchor": "center",
         "yanchor": "top"
        },
        "width": 1200,
        "xaxis": {
         "visible": false
        },
        "yaxis": {
         "visible": false
        }
       }
      }
     },
     "metadata": {},
     "output_type": "display_data"
    },
    {
     "name": "stdout",
     "output_type": "stream",
     "text": [
      "Processing JH_new_wars_1000...\n"
     ]
    },
    {
     "data": {
      "application/vnd.plotly.v1+json": {
       "config": {
        "plotlyServerURL": "https://plot.ly"
       },
       "data": [
        {
         "hoverinfo": "text",
         "hovertext": [
          ": so basically up until world war two we were fighting with eachother at will, then the us took it too far and nuked japan and everybody else looked around like alright we got to chill fr before somebody else gets hurt face_with_tears_of_joy",
          "what's with the heavy piano notes face_with_open_mouth whew. .",
          "but hold up, didn't china send troops to support north korea and push back america and south korea? and also in vietnam? so they meddle in civil wars that are near their borders, just not abroad. which arguably is the smarter strategy, it's harder to maintain a war so far away, considering costs to ship soldiers, weapons, and equipment... the us has wasted tens of trillions of dollars on all these silly wars, bankrupting the american people. think back to how rich the us middle class was in the s. then think of the quality of life and social instability in the s and s.  the wars on the opposite side of the globe and ocean, i think, played a huge part in our decline as a nation, the decline and deterioration of quality of life of the middle class, and the slowing down of technological innovation, rising costs of housing and medicine.  if we spent those trillions on our own citiziens, our infrastrucutre, our technological innovation and productive capacity, we would be twice ahead of china. china only got ahead because they stayed out of these stupid costly wars that had no positive result. and look at the allies we made from these wars. europe cheats us on trade and then says we are \"unrealiable partners\" because we don't want to be carrying their weight for free anymore, and they have zero intention of repaying the favor that we provided them for  years. no gratitude at all. we are protecting their trade routes in the middle east, and provide aircraft carrier strike groups, troops, intelligence sharing, and nuclear umbrella to protect them for  years. meanwhile, we have gotten poorer and while they laugh at us and our horrible medicare system, our horrible chemical food products, without showing a lick of gratitude in how we essentiallize subsidized their quality of life and their way of life. they would all be speaking german today if it weren't for us, or perhaps russian, and living under a very different quaity of life and culture today if we didn't protect them and allow them to essentially do whatever they wanted while we protected them. and i don't think they ever repayed us or thanked us for it. meanwhile, we created enemies that hate us so much they can keep recruiting random people of theirs, or even ours, to suicide themselves with bomb vests or planes or cars, to kill as many of us as possible in acts of terror.  china doesn't have terrorism or insane crime like that. because they don't meddle in others' affairs, and its payed off for them. our meddling hasn't payed off, not at all.  we have different segments of \"the free world\" that don't even respect or care about helping us.  they haven't had to fight to protect our security, sure they helped in the fights in the middle east, in operation desert storm and others, but these were all lost causes to begin with.  all the extremist groups we killed just regrew two new heads for each we chopped off, because for each \"terrorist\" we kill, two civilians or children are killed in the crossfire, and then maybe  new terrorists are created. no reason to get involved in these places that don't want us there, seriously. learn from china, do better and be better. let american military protect americans, and allies that are willing to pay up for the service of protecting their freedom and way of life.  instead we've done it for free and asking to be payed back is met with hostility, like a disrespectful gambling addict who keeps borrowing money from loan sharks and acting insulted that they demand to be payed back. maybe we should stop doing free favors for countries that don't appreciate it, and let them figure it out, until they learn to appreciate it and find ways of equalizing with us. china doesn't have these issues because they don't waste trillions on military aid for other countries. no other country in the world does what the us does. everyone got a little too comfortable with getting free handouts from daddy, and its time to start paying your debts.",
          "the soviets were invited to afghanistan by the soviet allied government. not invaded.....",
          "watching this video made me think of a downside to democracy. technically there's a lot you can do as president but you can never really be transparent or make decisions that majority wouldn't like.i was thinking about how i would prefer to act as a detached ruler and let the problems these countries are having resolve themselves on their own without intervention, but if i did that and i was so open about it and i told people \"maybe it's okay to let things happen and maybe it'll become a bigger threat later on but at least it will be a more natural outcome of things and this bigger threat we may have could be easier to handle if we let it grow\" because, sounds like a crazy idea right? the kind you would put in practice in a videogame. i know anyone would. but if i tell that to people, especially in such a detached way that sounds like i don't care about the tragedies at all, then i won't be president next term. i will lose support, resources. i might get impeached, fired. so yeah, like, i would hate to have a king rule over me but i wouldn't mind being the king ruling over everybody.edit: could china be doing what i would do?",
          "honey wake up  a new cia harris video just dropped",
          "the soviets did not defeat in afghanistan, their marching out of that country with the th army commander was the last man crossing the bridge. the americans defeated in afghanistan when ee saw large crowds of afghans flooded the kabul airport chasing the last c plane, some grabbed a grip flew into midair and fell on the ground. the us backed kabul regieme lasted just a few days and surrender to taliban.",
          "they used to be rare?!?! hahahahaha have a look at the history on the usa buddy.",
          "let's talk about lnformatics of conflict. take the supposed 'peterpandemic' and 'safe and effective' as an example. how many livelihoods were shaken, businesses lost, money made by 'drug' (pharmakeiaConfusion carteis? infowars including propaganda? while the leaders of the western nations make wariike decisions, are not the cries of the population for 'no more war' and 'russia is nt the enemy, look within' being siienced? is there not a battle of the priviieged power-wieiding eiite being waged against the population? let's take into context the cognitive bias that distorts the picture. the algorithm with support your worldview. the developers of the software can dial the controls of the outflow of information thus steering the sheeple in a particular direction.ideas first appear in the mind before manifesting in reality.",
          "what you're not discussing is the pre-war tactics that are the cause of the wars. policies are orchestrated not happenstance. for example, a decrease in aid or refusal (of aidConfusion that fosters a siding of a people/group to one power or another.",
          "great, perspective. i think most people just look at this evil dictators but don't see the people  and states that support them",
          "thing is: the usa aren't a nation...nor do they have any soil since it's all native american and mexican.",
          "ok, you have usa . in your story, how about usa . being control from russia to weaken the opposition of russia? usa has become what they have done so many times.",
          "\"many of you will die but that's a sacrifice i'm willing to make\" (lord farquaadConfusion",
          "Happy_face_smiley easy. corruption. billions and billions of usd go into the pockets of corrupt ukrainian politicians and oligarchs. zelenskyy even said when trump talked to him about us funding. trump said something to the effect of, we've given $ billion and zelensky responded, we've only ever gotten $ billion. which doesn't makes sense, because we know the cost of fueling a war of this scale hasen't been seen since wwii, and that's not me exaggerating. there's dozens of pundits and eu politicians that have stated that on live television. anyway, it's not just ukrainian autocrats who are pocketing a nice retirement fund, it's us military industrial complex shareholders as well. i won't explain, that's fundamental knowlege of wars, if you're watching this channel, you know this. i will say this, zelenskyy better start to understand his position in the world. russia has, to say the least, played nicely. russia could at any moment end this war and level all of ukraine. the fact that zelenskyy continues to test  russia by bombing russian civilians, there's a video floating now of ukraine just last week bombing civilian apartment complexes in belgorod, is insane. beyond insane. i do believe that russia has a high potential of being the nd nation in history to nuke another country.",
          "completely butchered that ukraine angle, but makes sense given whose funding johnny",
          "i don't think the usa lost the vietnam war. the paris peace accord was undermined by congress after the impeachment of nixon. the nva realized that the usa was no longer backing the south \"bullet for  bullet\", so they made their move. saigon fell and many more vietnamese died. so began the \"reeducation\" of the masses. this may be an over simplification so if i have it wrong please correct me.thanks",
          "by this definition, every war ever fought was a proxy war, including your war of independence, if france didn't help you, your country wouldn't exits. this is a classic th century way of looking at wars only from the perspective of great power, which is something johnny is doing very well, small nations don't have their own desires for freedom, independence, a way of life, no, only people living in us, china and russia are developed enough to have them. by his logic, every country that's a victim in an agression should be left to die just so you don't have to read about it in news, pathetic.",
          "jonny harris rejected a cult that destroyed lives with lies....and then chooses to spread lies thru media....great job. hes suggesting at the  minute mark america should have just let communist countries take over other countries instead of helping them defend themselves.",
          "how kojima predicted all this almost  years ago... mgs never been more relevant than now.",
          "and now america is joining forces with russia to exploit all humans on earth",
          "the soviet union: afghanistan, you should embrace atheist communism. god/religion is not needed, absolute power is. cat_face_with_wry_smilethe us: afghanistan, you should embrace democracy. include people in policy making, make people happy, prevent bad leaders from staying in power for life. smiling_cat_face_with_open_mouthafghanistan: nah. sharia.the soviet union and the us: moai",
          "Happy_face_smiley that's not russian occupation. see this is what's fucked up about this war. the people living in donbas don't believe they are being invaded or occupied, they believe they are being liberated. the zelenskyy regime is bombing and killing them, russia is saving them. i'm unbelievably pissed at this channels bias!",
          "because we forced the idea of democracy to a place that is not ready for it. in democracy, people had to be tolerant to those with different opinions, religions, cultures, races than them. that's why a strong authoritarian system was needed for such place and we bomb it, thus chaos ensued. have you guys learnt nothing from iraq, syria, libya, yemen, sudan, etc?",
          "israel is behind most of them today.",
          "plz make a vedio about russia ukraine war",
          "you are describing how your country,(usConfusion has been using this tactics against other nations. incidentally a certain country  in the middle east has been playing the us for its own purpose  the same way, what goes round comes around.",
          "did someone say cia",
          "the new way is the old way.only the point in time, the tools, and locations on the map, are different...",
          "all in the name of democracy.",
          "over  years ago, i was watching tv in iran that a military guy was boasting about spending money elsewhere to do the fight for us.",
          "my dad read a book about the cia arming the afghans against the soviets in the 's and 's and described it as the time period in which the intelligence and military communities in the west were able to determine the \"equilibrium\" of what is and is not a good investment in terms of a proxy war. he told me it was when a military coup meets moneyball.",
          "snow white? crying_face johnny harris? smiling_face_with_smiling_eyes",
          "god dammit metal gear was right again",
          "massive proxy war that occurred in angola that sent south africans into the border war. it was our vietnam.",
          "i would've liked a section discussing the impact of one side losing it's patron like trump has been implying about ukraine, or how trump did to syria a few years ago, or biden with leaving afganistan, not participating also has consequences, and a dive in those would've been helpful",
          "deep state runs the script !",
          "i've been saying it for years; our adversaries have been waging cold war with the us to destabilize the west with cold civil war. sadly it's working, americans hate each other. civil war is not the option, we all are american!",
          "it's myanmar, not, \"me-n-ma\"",
          "izzyyyface_with_tears_of_joy red_heart i miss watching both of you!",
          "hi brother,  can you comment on ongoing issues in gaza including actions of israel and draw some parallels with ukraine issue.",
          "oh brother you know. the font for the name of your guests... smirking_face bravo",
          "please do a deep dive into myanmar civil war.... the longest civil war in history.",
          "this is not new, permanent cold war is the natural state between nations. this goes back to athens and sparta.",
          ": you missed out the part where these mujahideens are actually what we call the taliban today. so practically this brutal force which evil according to the usa and aslo had involvement in sheltering / attackers is actually created by usa in the first place.",
          "another new doctrine add recently is killing civilians to weaken the opposition. started by non other than israel in gaza and followed by fellow zionists the uae in sudan conflict. this is extremely dangerous precident for future wars.",
          "i like this channel but i notice when johnny spews us propaganda. assad did not gas his own people.",
          "i'm really surprised you didn't bring up the spanish civil war, which was a proxy between germany/italy and ussr. one key thing that proxy wars provide their sponsors is fresh details on how to fight using current technology. in spain the nazis perfected their blitzgrieg attacks. with ukraine, they're bringing the lessons of their proxy war to jatec in poland and informing nato how to fight russia. in your last video you played a safe wargame. to the sponsors, these proxy wars are another level of wargaming.",
          "i love johnny's production value and many of his insights, but my friend, you really need to hire a historian. just hire one. with a phd. they'll help you from making some blaring errors, so you don't have to retract videos (like the one on nato expansionConfusion and so you avoid blatant mistakes, like your video where you confused one battle of manila for a different battle of manila.",
          "the whole world know united states of america is the truth proxy to israhell",
          "you are sketchy enough for me to wonder if you're paid by the c.i.a.  the dumb mormon thing kinda works, but there's enough push behind you",
          "literally, what the cold war was about, no?",
          "yeah, it makes sense. what's the goal of it, though? what is the excuse, and why lie? testing.",
          "do the panama canel next",
          "i'm a fan of your creation johnny.i've seen that you created a content about myanmar. you didn't get much engagement to compare to your other contents. i would like to give you much more information  about \"myanmar civil war and current revolution with solid footage\". just let me know if you would like to make another content about myanmar. thank you.",
          "thank you for making geopolitics interesting party_popper",
          "stop talking on and then off cam camera it's annoying smiling_face_with_open_mouth_&_cold_sweat",
          "is israel - palestine conflict a proxy or not?",
          "good video however for some of the illustrations shown for the different sides of the cival conflict i would make them black and white or any other neutral color , rather than red or blue, so as to not make it seem like one side is good or bad. after all when looked through the lens of patrons it doesnt matter as long as they win",
          "so its the golden age of islam!",
          "just track the money, and what it means to guns market, who is gonna miss billion of dollars worth of money.",
          "im lebanese, but i grew up in the west, i was  when we immigrated to canada. and growing up here we were, of course, heavily influenced by american media. and growing up i always thought and believed the u.s.a. was fighting for democracy and i'd rather be under american rule rather than russian, middle-eastern, or chinese rule. but the older i get and the more i learn about the u.s., the more i realize it's the u.s. that's the evil empire and not china.",
          "i find it interesting today , why the east (putin, xi jinping and probably kimConfusion wants to separate us from their allies, and trump eating it up going up against everybody with his tariffs and crap and bailing on nato.. either trump is as delulu as he seems and doing it just out of his own stupidity, or (i thinkConfusion putin is playing him and has been for years and when all nations are pissed off and at some trade war with the us, china, russia and n-korea will attack the us.. at least that's how i currently picture ww Happy_face_or_smiley",
          "leave it to johnny and his leftist ideology to not call ukraine a proxy war.. why do i watch this shit",
          "nice video. i would have loved if you could have talked about gaza as well.",
          "the guy looks so similar to the forest galante !",
          "very interesting topic, specially the part related to china that something new to me. we need full video about china policies and how it handle world conflicts. thank you johny",
          "get an exclusive % discount on saily data plans! use code johnnyharris at checkout. download saily app or go to ",
          "supporting the mujahidin didn't turn out to be that cheap considering it backfired and led to the war on terror.",
          "i mean with the term \"new\" i'd at the very least expect something that was conceptualized after i was born",
          "harris, nice video, congrats,. but where does it start to be help defend a country or nation and it will be engaging a proxy war? is the a line to cross?",
          "china has special interests in myanmar and to say otherwise is naive (energy transport / failover from strait of malaccaConfusion. please be more self-aware, your admiration china persists through many of your videos. this is for a country that is incredibly homogenous and not welcoming of outsiders, meanwhile expansion in their world narrative. think harder and have more conviction in your discourse.",
          "so israel managed to get the usa to be it's proxy against  libya, iraq, syria and soon to be iran... that's wild!",
          "propaganda takes over minds",
          "right now it's happening for my country, greenland. trump is trying to annexing us!! so scary!",
          "can't help feeling like there is an insinuation in the video that ukraine is just another proxy war and us involvement is bad. that is at best a oversimplification and gives the video a feeling of bias.",
          "path of least resistance",
          "no mention of usa creating modern day iran by supporting the ayatollah move from paris to iran to expose and deal with  the communist mujahadeen......us is not very good at this stuff",
          "russia has found a new way to wage a proxy war using politics instead of militia and has basically won in the us. they have successfully divided the nation and placed their own dictator in the white house, taking over the house and senate in the process, as well as dismantling all checks and balances defined in the constitution.",
          "my senator in pa invests in china missile company. teacher's pensions invest billions in defense corporations ( calstrsConfusion. even canada's socal security system (cppConfusion invests in lockheed martin. ww is financially guaranteed",
          "Happy_face_smiley wait, you were supposed to talk about the korean peninsula here, not ukraine.",
          "ohh those are years the countries became nuclear... the thought of france having  nukes with a warning shot doctrine frightened me a bit face_with_tears_of_joy",
          "that's a lot of maps. Happy_face_or_smiley",
          "kojima was trying to tell us",
          "Happy_face_smiley no mention of you father america ... nice propaganda video....!",
          "pains me to say we are the bad guys. china respects other countries sovereignty, and usa does not. usa destabilizes the world, while china stabilizes it. china builds up other countries, sure you can say they are just doing it to indebt them. but at the end of the day, the country receiving china's aid becomes built up with infrastructure and people live better lives there as a result. when usa does something, there literally is only ruins left, truly. usa has fake democracy, rife with corruption. sucks.",
          "it's highly immoral to associate the concept of proxy war with ukrainian defending russian invasion, especially if you live in a country where freedom and democracy prevails. freedom is not free, and as a citizen who lives in a democracy nation, we have the obligation to eliminate dictatorships. cause if you don't break them, they'll break you. yes, people are suffering, but if they surrender, they will suffer more, also we will start to suffer, and our children will also suffer. it's only rational and just to support the people of ukraine. let's learn the lesson from china card that dictatorship and authoritarian government will never end by itself and they are incompatible with our beliefs and values no matter how much they pretend to be innocent.",
          "it make me understand that usa fight with china using ukraine vs russia as a proxy war. until now chinese smash usa, unfortunately for eastern countries which are used as proxy hybrid wars by the eu vs oh no, russia again.",
          ": this is misleading, the us admitted they funded islamists in afghanistan prior to the soviet invasion to bait them into entering",
          "is this.... controlled opposition?",
          "this isnt new at all lmao",
          "it's very sad how the strong countries are willing to destroy a whole nation just for meaningless reasons me myself i'm a victim of this chaos as am from sudan , , they've not only destroyed my present but also my future as i couldn't finish my education and that's a small scale destruction there is a million of cases like me and there are people who lost their lives so i'm really thankful at least i have my life and my family is safe, thankfully the war in sudan is towards ending ,but what is terrifying that we are so vulnerable for this kind of  conflicts that's potentially in the future we will experience this again broken_heart",
          "korea- just gonna brush over the us already having their military there? johnny harris seems way to smart and well informed to be 'accidentally' allowing as much bias as he does, or be ignorant of reality.meh, i'll watch anyway, cause it is pretty good. but i'm gonna be rolling my eyes alot in this one i think Frown_sad_andry_or_pouting",
          "is that a bad haircut beanie?",
          "propaganda about ukraine war is a bit crazy",
          "how are we supposed to proxy war canada? maybe tell panama they can keep the canal if they take out canada for up?",
          "you and your team are part of cia. i know it and you don't have to prove me wrong.",
          "babe wake up our favorite ccp agent posted",
          "this is american level ignorance really. sure you can integrate it that way but if you live in the countries communist and dictatorship is a treat, you would not think it as my country is a proxy war but grateful for the support their get to stand what is right.",
          "china actually has been pretty involved in myanmar's civil war. china had provided the military junta in myanmar with support, though china may have stopped or lessened aid before due to the junta not doing enough to crackdown on scam/enslavement centers in myanmar iirc. do keep in mind i do not know too much about the conflict, but china has definitely been involved in myanmar's \"internal affairs\".",
          "this is gonna sound bad but the ukraine-russia war has cost the united states a lot of money but of all the countries they've also gained the most. get rid of expiring stockpiles instead of paying to dispose of them. almost every country has raised their defense spending and who gets most of that? america.... if they do end up getting their rare earth mineral deal even more money. i feel like that's pulling a gun on someone that just got knocked out but just my  cents. russia's economy is going to be in shambles once the war ends. they've showed all their hands. lost hundreds of thousands of soldiers. lost a lot of their top of the line kit. planes,tanks,artillery, sams, as well as their black sea navy.",
          "bro says \"it's one left wing propaganda arm versus the other left wing propaganda arm\" -sounds like a beautiful analogy. i have no doubt that to you that is absolutely truesmiling_face_with_open_mouth_&_cold_sweat",
          ": es eso, o enfrentar el apocalipsis",
          "if you do relevant content like tariff wars and its consequences for everyone it would be really helpful for viewers of yours",
          "what are you talking about? cuba has been in proxy wars for a long time. they have many african countries indebted to them for natural resources. they fund the cartels to cause problems in the u.s. they sell resources to russia and other u.s. enemies, and keep wars going in order to keep the business going. they may seem to not pick sides, but that's because they want everyone else to exhaust their resources. why do you think trump is trying to convince russia to do business with us instead of with china?",
          "all of this results in blowback w/ much of our efforts being used against us in the future.",
          "even more jonny harris channels! made my day smiling_face",
          "what have the un, eu, au, and others been doing all this while?thinking_face",
          ": - money & power",
          "bro i don't get it why you haven't still covered one of the deadliest civil war of st century w/c was fought under silence...the tigray war",
          "usa is playing d chess and will start an internal war. face_with_tears_of_joy",
          "hey dude johnny soyboy are you still but hurt that trump won the election face_with_tears_of_joyface_with_tears_of_joyface_with_tears_of_joy?",
          "\"new\" as in \"ancient\"",
          "very carefully crafted propaganda from this guy, but propaganda nonetheless.",
          "damn lost credibility with this one.",
          "i feel this video falls into a previous and consistent pitfall of yours, that of ignoring the agency of \"minor powers.\"you also, as many other comments have stated, are failing to address how common proxy wars arr throughout human history, i do not trust the data that lynchpins this video's premise.",
          "this strategy was used by us (ciaConfusion for decades and now other countries are joining the trends",
          "it was ahmad sha massoud in afghanistan thats why they win the war. he was a great leader for his people",
          "toyota, toyota never changes.",
          "so israel is a proxy of america. got it.",
          "great video but i honestly thought you were gonna talk about trade wars not proxy wars",
          "i use airelo, and it has been great now. i rarely switch sim unless i am saying in a place for a long time for over a month. i will keep saily in mind",
          ": when life influences art?",
          "commi china like stability? no! they don't interfere? no! is johnny harris now a china apologist?",
          "this is like that lobsters with knives fighting each other while the white ppl are throwing down money and cheering meme.",
          "this is not new.",
          "do one on the great depression next",
          "yes follow the money",
          "i love history and modern politics regarding international affairs. i am not scared of any of this. god has a plan for everyone and i trust in his plan. history repeats itself and i am entertained and i learn. thank you god",
          "if you want to know why it rised in ! its was also the rise of social media platforms facebook, youtube ect we the people, had instant access to one another! the ability to record and upload in real time! the ability to educate ourselves with access to infinite knowledge! the ability to show what was going on, on the ground without the mainstream filters and agenda  plot twists! fast forward  years. here we are today! an information, miss information, and diss information soup! the battle of the media air waves!",
          "talk about how russia took over usa by using social media.  that's the most dangerous type of war.",
          "but i think this would eventually change the dynamics of civil wars... ie the soon to be warring parties would come together and make peace knowing that if it gets internationalized then the destruction would be much greater and none of them would end up on top",
          "maturity is realising usa is more evil than russia and china, destroyed and murdered the lives and people of iraq",
          "nah, nature of war is the same as it always has been. ... but people deceive themselves into thinking there's something new (under the sunConfusion.as sun tzu says, \"military operations involve deception\".",
          "this isn't new.  the cia has been doing this since it was established and others for eons before as well.",
          "no one likes change , but it happens . people adjust .",
          "every day i think the chinese are not the bad guys we've been told they are and the americans are not the good guys we've been told they are...",
          "the usa keeps talking about freedom and democracy and fuels proxy wars, meanwhile china not doing anything as such makes you really wonder if democracy is really just a pile of pile_of_poo",
          "we recently studied a course on ir and proxy wars in detail in our first semester of mphil. really informative and helpful and this video when combined with theoretical text of the course enhances the understanding of proxy wars. thanks johnny you've outdone yourself once again. i really love your content and have been following you from different accounts for few years now.",
          "hey jhonny been following you for timebut i would appreciate if you use right map of india",
          "becoming more aligned with china than the usa at this point.think you might have been the bad guys all along.",
          "Happy_face_smiley the lighting makes jeremy's face look filtered/deepfaked",
          "this is the problem in the israeli-palestinian conflict",
          "summary (powered by concisegptConfusionhighlights:- definition of proxy war:  - a proxy war occurs when external parties instrumentalize a conflict, using it as a stand-in for their larger disputes.- advantages for great powers:  - proxy wars offer great powers deniability, allow them to avoid sacrificing their own citizens, and contain violence within another country's borders.- cold war examples:  - the korean war, vietnam war, and the conflict in afghanistan exemplify how the us and the soviet union used proxy wars to fight each other indirectly, spreading their influence and ideologies.- post-cold war shift:  - the end of the cold war did not reduce proxy wars; instead, they increased due to the rise of multiple global powers and the lower cost of supporting proxy forces.- modern proxy wars:  - conflicts in libya, syria, and sudan demonstrate how proxy wars have become longer, deadlier, and more resistant to peace due to multiple patrons supporting different factions.- ukraine as a half-proxy war:  - the conflict in ukraine is described as a \"half proxy war\" because while ukraine is supported by the west against russian aggression, russia itself is deeply engaged and views the conflict as existential.- china's approach:  - china has largely avoided engaging in proxy wars, adhering to a policy of non-interference in the internal affairs of other countries, although this is being tested in situations like the civil war in myanmar.key insights:- changing nature of warfare:  - direct wars between major powers have become less common due to the threat of nuclear weapons, leading to the rise of proxy wars as the primary means of geopolitical competition.- increased complexity:  - modern proxy wars are more complex than those during the cold war due to the presence of multiple patrons, making conflicts harder to resolve and prolonging the violence.- deadly equilibrium:  - proxy wars often reach a \"dynamic equilibrium\" where external supporters provide just enough assistance to keep the conflict going but not enough to achieve a decisive victory, leading to protracted and devastating wars.- local perspectives:  - while proxy wars are often analyzed from the perspective of great powers, it's crucial to understand the motivations of local groups who may seek external support as a means of survival or to achieve their own objectives.- potential for escalation:  - the conflict in ukraine highlights the risk of escalation in proxy wars, especially when a major power views the outcome as existential, potentially leading to broader and more dangerous confrontations.```",
          "please make a video focusing on information wars especially involving social media influence by external actors and using misinformation tactically against a country.",
          "johnny harris liberation front is so funny",
          "Happy_face_smiley - zimbabwe and zambia is not the same thing.another rather interesting aspect of proxy wars, with lots of nuance and layers to investigate is the border war of south africa and swa against angola in the /'s, with the covert backing of the us and israel. - not a peep about it in this video.also, the ukrainian chapter seemed to really be a rush job and barely an afterthought - like, of the quality of someone submitting an essay a minute before deadline quality.as a closing thought - on topic of this video, especially with the title of 'new ways nation are fighting' - you have absolutely no thoughts on the current trend where the current us administration is destabilising and tanking established trade agreements and the sabotaging of the norm with un/eu/nato? how it is super clear to anyone with a relatively working brain to figure out that they are in the pocket of the russians and actively looking to destabilise the unity of nations who are a threat to russia? the absolute deconstruction of law and order and checks and balances in the us as a flaming canary in the mineshaft? perhaps it will come in a future video, but it does seem disingenuous to gloss over such blatant and definitely relevant context at this time and current context.",
          "so much psychology on this video. almost propaganda. so sad weak minds wont look pass the way one side looks at things. even at the lowest level.",
          "can you make a video on the salvadorian civil war???",
          "usa is proxy of israel, israel is real boss",
          "here we go again with jonny propaganda. i have my popcorn ready, it really is entertaining to watch",
          "honey_pot honey_pot honey_pot :",
          "when you show imagery of war, why is it always everu single time, brown, asian and black people? you already set the tone with this propaganda war video by again depicting brown people in a state of protest in the streets and with guns. do your white people not engage in protests and war?",
          "old as the cold war",
          "man johnny harris got wierd. it went from a balanced journalism, to pushing edgy content that is america is maniplating everyone and everyone else is completely innocent. i get it, it's easy to pander to this stuff because propaganda makes is easier to monetise on social media. the reality is that many locals wanted a change and were simply looking for backing. i'm sure china has never taken over regions like tibet by playing the long con. i remember having a housemate who said that they built all the roads in tibet and so tibet really just belonged to them.",
          "the cold war never ended, you fool  the enemy suffered a setback in the s, they are resurgent.  democracy is fighting for its life because we forgot how to fight!",
          "thank you for making sense of this poisoned profitiering system of the elites.",
          "as a vietnamese, vietnam war not a proxy war. we fought for ourselves.",
          "what did tony stark said \"keep your friends rich, and your enemies rich, and wait to find out which is which\"",
          "que bueno que les dices esto a los defensores de usa jajaja",
          "metal gear told you this would happen.",
          "??? if this is new to you, the th century has a few things to say",
          "thank you for this really important video! i was hoping there would be a \"solutions\" section: have any thinkers considered how we might escape this game theory trap and spare the lives of so many innocent civilians?",
          null
         ],
         "marker": {
          "color": "#CFD8DC",
          "opacity": 0.5,
          "size": 5
         },
         "mode": "markers+text",
         "name": "other",
         "showlegend": false,
         "type": "scattergl",
         "x": {
          "bdata": "PP5ZQbjcKEEEHldBADJFQdeQVkHaySJBuklFQZXIWEEyHmFBfANlQRj7UEHM/VZBdDNoQaVqV0F1mFlBTtgeQft7PkFw2h9BBJgeQX9kLkF0o2lBH7hFQeb1XUEoJ1ZBdgJaQeUxZkEOPlRBxso7Qci4PUHZpFNBXppSQcO4d0GEGBZBr2guQSgrQkGtQHJBqThaQeg7f0EwizVB3tkmQdEZVkEMrypB5PQ0QQa6gEGXhUVB1PVTQZ1TQ0ECEYJBYgkvQXRhW0HyfTtBwEqBQcF7OUF2InFBYQMbQTKAOkFOFiZBw6pcQaVJPEHpAD5BxU5rQaHkVUFcAFlBkaMfQVAXUEFLwTBBTgcaQZ2cGUE6BUdBRV09QQOtbkFpKzZBps9aQXNJPEG/fGZBISJuQVOuVUGtDEdBxR9sQZYGbUHiY1dBh2RbQUY2KEE+XC5B2pg9QcPKVUHrZVBBE5NLQeiURUGtGT1BaRk8QTxFU0GZWh9Bv90pQcvgPEHYsXJBjRQ8QRgzI0HH3E5Bfvg1QcM6Z0Fd8jtBFdJcQbV4Z0GqFl1BMvdTQYVLFUH35E9BXnRiQZN1SEFgC1dBKdgVQQNvPUGqATtBwGYxQZpkdUEcxlBBxp9FQZLSPEH2ulpBRYV2QcyfK0Ht8TtBEy8lQSuvN0FkQD1BOW4YQeXQYUGXoDtBQThjQcykaEGoPmdBVnFXQSm8Z0HGDz5BCo48QZAoVUGMfVNBn9obQeXVJEGzIlVBbq5FQezlVUFwO3pB0YRnQRuqF0HoLGdBO2M6Qc7LZEGo7FpBI5cRQTomLUFbJjxBfe2AQTF8IEH7WIBBOd9fQe5NQEHLoV1BhctcQeybLkFPeT1BwF5TQTEbSkE=",
          "dtype": "f4"
         },
         "y": {
          "bdata": "SHekQCkMYkAWmw5Bwf8KQTMLEUHvgQpBZ38KQTkZoEDq9uBAvvXgQE/M+UASY+ZA8s7WQNVX3UAoz7ZAXVH+QNSCD0FYD/lANXcJQWJ2pUDgGdlAcrwKQR8JskB0Dg9BCAPGQHt1zkAl69NA10+zQMz5pkDaZQ9B5dQIQd8eAEFPTdtAZlSkQHB0EUHrLchA6xHUQB9uAkFkvyRBGf+hQFoFv0AH0ptAKyckQZRZAkGJ1wpBsqLEQFG44EB/NvVAwJgLQdvsxkBQVrFA4MUBQZXysEDibdxA9Kv3QIz4QUCDh2lAAkDBQOi0fUC9+6ZACYMHQUX4EEHwXLdA4ov7QBrat0AJUoRACrD3QA11BEERFQpBzNulQDgJykCNCiVBNk/GQLg6iUATN6NA0hTJQEgKMUFALwpBy7XbQEd7C0Fy5rRA17GhQGvAqkB4gqZAwNqPQKa8EEF1Pw5B4JoXQYDLCkGiZY1ACdOjQAcqw0AxVQlBFWV4QHBViUA1Bd1A0fiyQAlfCkGyAAxBQrYkQffcBkGEFo5A0IuZQH09zkCGhApBEezUQEFI/0D058pA7OMCQaQUy0BsNM5A2NLYQKA0pkAZ5YhAFFV6QEKi2EDzxM1AS4EKQR0RpUAfA8VAug7YQIuRQkARIKRAlEoPQbSelEBQ7qVAvmTrQF2VBEHE2T5A/unfQA+y2UDVzOVAbWwPQdx470DEDa9Aj72kQOelFEHqzRBBHYHzQKJP8UDUgxRBZX6yQOPYvkAzxOpAOyHYQNkqA0HBwspAG3yGQIZC0ECsdsZArNvxQCdcmkCF8o5AbTcCQQ1CC0FoBQNBa5v/QAnoEEF2CApB36KbQI/+pEDIL6ZA7nXCQJCG2kA=",
          "dtype": "f4"
         }
        },
        {
         "hoverinfo": "text",
         "hovertext": [
          "china's approach to warfare is profoundly influenced by , years of confucian and taoist philosophy. the classic text \"the art of war\" offers valuable insights into this perspective. one significant concept is that of proxy wars, which highlight the harmful psychological impacts that ultimately damage a nation. for example, former president carter discussed the united states' conflicts with other countries, noting that the long-term effects of the misleading narratives promoted by the u.s. war department have weakened the nation economically.china recognizes that all forms of war lead to destruction, regardless of how much a nation invests. the crucial takeaway is to prioritize what truly matters for a country's advancement and the growth of its civilization. this focus has contributed to china's endurance over , years, driven by merit and the philosophy of fostering positive contributions to neighboring nations. those in the west lacking a deep understanding of chinese philosophy may struggle to fully grasp these concepts.",
          "i enjoyed this video, but did i miss china's involvement in the korean war? i have been to the battlefields and monuments. the chinese clearly fought in that war, and overlooking that as they were a proxy of the ussr is irresponsible.",
          "china is actually on a proxy war with the us through mexico with the amount of fntnil passing each week, china fights by debilitating economically and socially other countries, just look at the rising amount of chinese companies in mexico for the last - years",
          "if china starts playing proxy wars, it will be like in victoria  when they industrialize and crash the entire game economy. in another words: endless wars.",
          "this is happening in the philippines. pro china politicians spreading fake news to divide filipinos and destabilize the government",
          "bro, russia is china's proxy against the us's ukraine.",
          ": what?china do get involved into internal matters of other countries like maoist groups in india gets weapons support from china...many terrorist died while crossing from pak occupied kashmir to indian side of kashmir had chinese weapons",
          "doesnt china support north korea?",
          "thanks for pointing out a good thing about china - didn't knew there was such a thing",
          "china by being passive and keeping peace narrative, could be playing meta-proxy war of them all. don't you know the metaphor of the wise monkey who watched from atop the mountain as two tigers fought in the valley below? how about that? they aren't impatient, by far, their empire has been there since  years, so either in this decade, century or the next, they may come down to see what's left. now, with the ai and space race this could happen rather sooner than later and they are getting ahead technologically, because (surpise surprise!Confusion they don't engage in those cheap wars. mark my words or let me know how wrong i am",
          "don't think i can agree with your take about china, i really don't believe they're doing out of principle, they're just using a more covert and subtle way. i think a big difference here is that most countries culture have a set values and worldview, and they're more or less make decision according to it, but the ccp rn is more interest focus rather than having a rigid worldview, as long as it benefits the ccp regime and gives them good reputation, they can do anything, even adopting a certain degree of capitalism for example. as an ethnic han asian i can tell you, this kind of attitude is complete in line with how most of us live, alot of us think having a rigid conviction or beliefs is somewhat stupid, our values, worldview, religions, lifestyle, relationship all comes down to whether or not is serves our own benefits & interests. hence the idea of societal change via revolution, or like willing to sacrifice my whole being for a particular cause, are very foreign to alot of chinese, since these are more or less concept rooted in abrahamic religions. the west need to start to be aware of this, otherwise we're just gonna keep misjudging them, and they'll continue to be the \"smart\" one in geopolitics.",
          "china is involved in proxy wars, but not necessarily by choice. don't forget that 'muricans have been supporting kmt/islandchina for over a hundred years now. edit: might've been only  years, not . i'm too tired rn.",
          "your may discounts china esp within pakistan",
          "china does the proxy war game...kid",
          "china be moving smart",
          "china did proxy war against india for  yrs",
          "the ccp may not fund proxy wars as far as we know, but they definitely meddle in countries all over the world, the most obvious of which is taiwan.  they've been caught numerous times messing with elections and attempting to spur on attacks with civilian ships etc.  so your statements at the end about that regime are very wrong",
          "china is one of the most peaceful civilizations in human history",
          "no interferir en los problemas internos de otro pais, en pocas palabras yi no me voy a ir a meter a tu casa a decirte como debes asear tu casa o como debes cocinar, cosa que usa si hace, en pocas palabras, todos los problemas modernos, la guerra en ucrania son solo el reflejo de usa por su hambre de poder, al ver que china se los va a comer",
          "if proxy war is bad and should be avoided, then in like taiwan's case, do the free world just look on while the free people of taiwan get swallowed up by commi china and subjected to suppression like hong kongers are now, because no one chose to intervene for hong kong prior to ?",
          "china is almost the smartest in using soft power, by giving huge loans to african and south american countries for different construction projects. they are playing the long game.",
          "i really appreciate your content, and i'm happy that you put out a video covering this topic. i think i understand how they fight proxy wars, but a deep dive like this helps me and others understand why. so, does that mean china is the model from proxy wars?! kind of makes you think about it more than we should.",
          "time for a chapter on how china sees war... read the art of war and unrestricted warfare...for the ccp , kinetic war is just the last stage of war (to be avoided if possibleConfusion but all the other forms of war they use (grey zone tactics, lawfare, propaganda warfare, cyber warfare, weaponization of civilian population etc... Confusion are also very destructive",
          ": the reason it fueling up is because usa could do what ever they want after the fall of ussr as there was no one to oppose and usa would almost always win.but with the rise of china that can not be done. that is why usa is wants to stop china.",
          "china absolutely does get involved in the internal affairs of other countries.  they're much more subtle about it, and usually do it through money, espionage, etc.  they do send troops.  they intervened in korea, sent hundreds of thousands to vietnam.  thinking otherwise is just ignorant and naiive.  they also send guns, tanks, and other supplies.",
          "china has funded a lot of support financially and with weapons to insurgent groups in my state and in all of northeast india. and this fact cannot be ignored.",
          "the british sent over ships to the confederates as well, what we know as the confederate raiders. the czar of russia found this out and sent % of his navy to our shorelines. we had russian navy ships in every major american port. the russian commander had orders, if britain were to harm american civilians, the czars commander (nikolai karlovich krabbeConfusion would take direct orders from washington d.c from president lincoln.\r  russian sailors lost their lives fighting the san-francisco fires.\r this is all been officially written history navy mil site. as well the \rnational museum of civil war medicine made a youtube video about it.p.s johnny, i don't always agree with your political takes (the very few you do haveConfusion. but you are the essence of what a journalist should be. this is excellent work!! keep this type of stuff up!! you barely ever get into the political side and just stick to analyzing. its brillant!!!",
          "china interferes with the internal affairs of other nations via social media bots as well as applying pressure on their former citizens.",
          "china brings trade, america brings bombs.",
          "china doesn't stay out of proxy wars. that's bs",
          "i would argue that china being involved in the korean war is a proxy it was involved with",
          "war is lose-lose, peace is win-win.\rwhile some question china's military readiness due to four decades without major conflict, such skepticism ignores the traumatic lessons carved in blood across modern chinese history. between  and , our land endureTongue_sticking_out_cheeky_playful_or_blowing_a_raspberry\r the humiliation of the opium wars (-, -Confusion, where british gunboats forced open chinese ports through chemical warfare and unequal treaties;\r the plundering of beijing by anglo-french forces in , who burned the old summer palace - a cultural genocide destroying  years of imperial treasures;\r the first sino-japanese war (-Confusion that severed taiwan and exposed qing dynasty's military decay;\r the eight-nation alliance invasion (Confusion where foreign troops occupied the forbidden city and imposed crippling indemnities equivalent to  years of qing revenue;\r the nanjing massacre (Confusion where japanese forces slaughtered , civilians in six weeks through methods of bayoneting infants and live burials;\r civil war chaos (-Confusion claiming over  million lives through famine and artillery bombardments.\r these wounds, still vivid in our collective memory.those who mock this resolve forget that true wisdom lies not in glorifying war, but in understanding why the war-scarred cherish peace most profoundly.",
          "dont forget the other  countries that sent troops under the un flag to the korean war.",
          "you completely missed a major point, this isn't just about nations, religion absolutely plays a role, the entire state of israel exist for the sole purpose of weaking the islamic worldthe reason china doesn't get involved is because they've completely abandoned religion, christian neighbors or jewish neighbors or muslim neighbors",
          "somehow this video goes almost  minutes before even mentioning vietnam.",
          "china just let the triads run wild.",
          "historical inaccuracies i noticed in johnny's videoConfusion ccp winning the chinese civil war was not a major blow to the united states at the time. nationalist forces had been significantly weakened by japan during ww. russian aid helped but was not the key factor, ccp was going to win regardless.Confusion johnny briefly alludes to this but dprk wanted to invade the rok far more than ussr wanted to. after a year of talks stalin greenlit the invasion once soviets had their own nukes and could protect themselves from back splash. i feel like johnny was incorrectly implying the soviets were the driving force when they were not.Confusion flat out inaccuracy, the us did not have troops in korea at the start of the war. this was one of the initial issues for the americans, lack of battle ready units in the region.Confusion johnny implies china was acting as a proxy to ussr in the korean war. reality is ccp and ussr had tense relations and ccp was acting more in its own service than in the service of ussr. china counter invaded the peninsula to ensure the americans didn't get a foothold directly on their own border. china is more of a rd patron in this conflict than a rd proxy.Confusion escalating the conflict for years is a bit misleading. its true that if the us did not intervene the dprk would have soundly defeated the rok in a matter of months. but us and ccp involvement really only escalated things for about another year. from then on it was basically a stalemate for another  years until armistice agreement.Confusion johnny says stalin \"knew his side couldnt win\" which is highly misleading given that at this point in the war it had developed into a stalemate. johhny is implying dprk was losing when in reality the situation was stabilized. also remember ccp is the main fighting force on the ground and while stalin has sway, ussr and china are both patrons, its not a patron - proxy relationship like ussr with dprk.Confusion johnny's implication that the korean war destroyed the peninsula all so great powers could fight each other is honestly b.s. dprk and rok had been begging to fight each other since the end of ww. they both actively wanted great powers to intervene and help their side win. korean war is a great example of a proxy war, its not an example of great powers wanting to fight each other so they use a rd country's people and territory as collateral.johnny spending so much time on korea and getting a lot wrong, and then barely mentioning vietnam which much better suits his overall point is a weird decision.",
          "@johnnyharris this is probably your most inaccurate video. your bit about china not participating in proxy wars is the most glaring. please look up chinese involvement in the korean and vietnam wars. china sent millions of soldiers to north korea's aid costing upto , chinese lives. they also sent , troops into vietnam though mostly in supporting roles. they were also involved in the afghan - soviet war supporting the mujahadeen, and the cambodian civil war supporting the khmer rouge. we expect better from you johnny, don't spread misinformation smiling_face_with_open_mouth_&_cold_sweatthumbs_down",
          "your diagnosis of china's foreign policy couldn't be further from the truth.  just look at canada. they've messed with our politics for like  decades now. our liberal government is so vulnerable to the ccp",
          "your assertion about china not meddling in other countries affairs is absolutely incorrect.",
          ": the us lost india as well - and you won't hear about this one too often. us sent in an aircraft carrier group to approach india and was warded off thanks to the soviet union. what was india doing? liberating east pakistan (now bangladeshConfusion from terror attacks by west pakistan (now just pakistanConfusion.i've noticed an ongoing trend where johnny prefers not to talk about india in general. did something happen guys? i'd love to hear your opinion.",
          "china definitely interferes internally in external politics. it's happened in usa, canada and australia where spies have been deported in all cases. that said, they do it to gain an economic edge, not a militaristic one.",
          "pretty sure china been a patron for a hot minute...",
          "in the case of myanmar, i don't think what u said is true. mndaa, wa, tnla, and kia are supported by china. on the other hand, the myanmar military is supported by china.",
          "china is not interesting in other countries 's business, they buy it own country by debt Happy_face_or_smileyConfusionConfusionthey want to own something, not just other 's trust",
          "china is involved is north east insurgency in india so yes they are involved in proxy wars.",
          "theres no way china is not involved",
          "china doesn't interfere with other countries? take a look at:- china invading and annexing tibet.- china invading vietnam after the u.s. vietnam war.- china invading korea to fight the u.s.- china fighting and annexing parts of the ussr.- if not for the u.s., china would probably control taiwan right now.what are we even talking about johnny?",
          "ukraine vs russia is chinas proxy war with usa & europe. while both sides waste their resources fighting, china gets to build up its capabilities to dominate its region. by  china will break through the first island chain & by  china will be capable of going toe to toe directly with the us.",
          "johnny, your \"insightful\" beliefs that prc/china does not get involved in foreign countries proxy war because of supposed foreign policy tenants just proved how much people in the west are mistaken about china.the overthrowing of myanmmar's democratically elected government by the militay junta regime is precisely because the previous democratic government was regarded by china as being too pro-us & favoring the west. unlike the more direct, open approach from western powers, such as can be seen from attention-seeking headline news from trump's tariffs annoucement, china's ccp regime prefers way more subtle approach in interference, sneaky, even insidious way infiltration by supporting their preferred factions through economic trade support as a legitimate front. without prc china strong support for myammar military junta regime, the factions gathered under the toppled myammar  governmnt could have retaken powers except they do not have other foreign nations with strong military powers backing them. & there is also support for russia, in spite of all the sanctions from the west, europe & usa, russia still manage to function properly as a state for  years because russia secured prc china replacing & supplying the shortfalls of all those products & goods that russia use to import from the west. so it is inaccurate to state that prc china was not involved in proxy wars, since supplying military weapons & technologies is only one part of a modern proxy war. furthermore, russia's current wartime economy manage to churn out all its advance military hardwares which could not obtain needed western components, manage by replacing those with china supplied parts, whether supply directly in the guise of dual-use household electronics parts & products or re-routing these needed equipments through other nations like iran/ north korea etc. countries who first receive those components & parts from china directly.",
          ">china doesn't play the proxy war game>stares in myanmar civil war",
          "china maybe staying out of interferring in the affairs of other countries for now but we all know that they have big interests in the south china sea and how they are influencing their neighbors.interestingly, currently the philippines is in a political turmoil now because former president duterte was sent by the current president marcos to the icc for crimes against humanity.duterte was china-leaning during his time while current president marcos is pivoting to us now.both of these two political families have a very strong support. dutertes from southern philippines while marcoses has the north.to add, southern philippines has a growing discontent in the capital north because of unequal distributionof wealth and lack of growth, among others. there are talks now of separation from the northern philippines, but not yet as passionate, for now. china is open for a duterte asylum and will probably leverage this to change the political landscape that will favor them. because of tensions and geopolitics of this region, and us and china's interests, the ingredients are there and there's a big chance both meddle in the philippines if its political drama continues.",
          "biggest proxy war going on for decades. proxy war in kashmir against india stoked by pakistan and china",
          "china is doing this with russia.  giving them just enough aid to keep them fighting, but not enough to reduce their losses.",
          "the chinese civil war was way bigger than korea in scope and consequences.  it's just that us troops were then involved, so it was a \"bigger deal\" in the us public consciousness.  china is still communist, and still an enemy, because we lost the first and most important battle of the cold war",
          ": i like how there's a whole chapter on where's china? in the environment of proxy wars where you can clearly tell china is not an aggressor, like how so much anti-china propaganda makes the country out to be. but still hilarious how jh spins this fact into a \"what if china starts proxy wars\" to add to the irrational fearmongering",
          "i wonder if china played a roll with north korean troops in ukraine?",
          "prc meddled in canadian elections & leadership races.",
          "many poor patrons have good funding through bilateral trade with china. so i think they are in it too.",
          "china does not do proxy wars is almost as believable as wumao's claiming ccp china never invaded another nation.",
          "it makes sense why china is so triggered by the us then. chinas policy is to not meddle, and the us policy is to meddle everywhere face_with_tears_of_joy",
          "india and pakistan as well!the us actively supported pakistan in its war against india, because the us considered pakistan as an ally in their cold war against russia. us supported by deliberately undermining the bangladeshi genocide during the bangladesh's war of independence against pakistan. actively supported pakistan, suppliing weapons to pakistan during the  kargil war against india and india ultimately received support from russia.this is one of the reasons why there is a very high perception of russia being friendly and us being a traitor among indians",
          "what about one country supports both side and make money from it?",
          "china is supporting the burmese army in the ongoing civil war. so to say chinese are out of this dangerous dynamics is misleading. china has boots in the mud already. how deep is questionable though.",
          "china is selling ammunition to the dictator of myanmar , so yes china is fueling the civil war there what are you on?",
          "the last part of the video is just wrong. the prc has done proxy wars frequently throughout its history. korea and vietnam were mentioned in the episode, but more recently they armed and funded zanu against zapu in zimbabwe. their support was key in lengthening the genocide in cambodia. they supported various sides in the angolan civil war and the iran-iraq war.in all of this, you have to recognize the agency of the people on the ground. koreans actually fought for korean reasons, not because they had puppet-masters in other countries (except for the very end of the war, on one side, when johnny's right that stalin really did prolong the warConfusion. secondly, you have to be careful with generalizing all of this to \"powerful countries\" as if the actions of the usa, ussr, and prc are morally equivalent. you might have noticed that in all the examples that johnny mentioned during the cold war--korea, vietnam, afghanistan--the us was helping independent peoples defend themselves from communist tyranny.and if you have a problem with the term \"communist tyranny\" then you should do a quick wikipedia walkthrough of the gulag slave labor camp system, laogai, great leap forward, dekulakization, and the cultural revolution. there's a reason the us was so opposed to communism spreading (you can take the analogy of \"why was the us so obsessed with stopping fascism in wwii?\"--that sounds like a stupid objection right? now try saying \"why was the us so obsessed with stopping communism in the cold war?\"--because it was bad, y'all.Confusion",
          "i actually know a bit about the koran war and in this video it was so over simplified that it discredits the video for me. the korean war was a un war, us was a massive player in the conflict with boots on the ground, it was also supported by the british, french, dutch, turkish and other nations. it then became a war between un and china with remnants of kpa (north koreansConfusion holding a long stalemate. i dont think its a good example of a proxy war",
          "great video but a fair amount of inaccuracies. i am writing a paper on the rise of warfare in modern world, this would help. also, if you'd focus more on vietnam than korea, you'd make even a better point i believe.",
          "chinese also funding proxies.",
          "great china pro video video_camera",
          ": ah yes the all peaceful chinese government.",
          "what the content creator lacks here is who the  powers actually are. it's not the us contrary to what most people believe or even russia.  the  powers are the crown, aka roman empire, and the other side is the head of the greek orthodox church the patriarch! if vietnam was a us war, then explain the french being there before the us? that is the reality most people fail to see through no fault of their own. to know what i just laid out here, one would have to be very vigilant on reading many, many books. the split of the catholic church created the east and west worlds we know today.",
          "how can say china isn't into proxy wars with vietnam war/american war and korean war? real question first time comment long time listener. videos always bangers",
          "china is building their empire through deals around the world just like the us was after ww. participating in wars right now for them would interfere with this.",
          "what you are essentially saying is: western countries are provoking china to be in a situation like russia is with ukraine. so that they maybe really change their attitude and become as proxy friendly as the us is.",
          "\"beijing wants stability\". oh come on johnny! don't get too attached to your sponsors. ask people from south east asia if beijing really wants stability.",
          "there are plenty of articles from varuous news sources that talk about how the chinese are supporting russians war in ukraine and how they're helping iran handle us sanctuons. keeping the us busy fighting and supporting these other wars is the chinese style of a proxy war.",
          "kinda interesting how china has maintained non-participation in foreign wars for the last  years, and instead of meddling decided to wield soft power through trade, finance and infrastructure. even though they're doing the things i would prefer my country to do, they are still the global villain though haha",
          "china supported north korea during the korean war.",
          "johnny tries so hard to make china look bad that he has to resort to \"but what if they weren't doing what they are doing\" as his only critique.",
          "fyi china did support the proxy war in afghanistan in the s, it sided with the us and supplied weapons to the mujahadeen against the soviets.",
          "as for china, they're not as peaceful as you think. their incursions in the south china sea is a result of them knowing the other side would not escalate and continue to push further, doing bolder and grander moves that does not result to a shooting conflict, provoking the other side to fire the first shot.also, china does interfere with politics a lot, not just in plain sight. in the philippines, how do you think a murderer like duterte won, then suddenly shifted towards russia and china from a traditionally us friendly country?though yeah i think china's weakness is that they always want to save face. there were reports that duterte travelled to hong kong specifically to seek asylum to china when an arrest warrant was issued by the icc but was denied, so he had to return home. for that, they lost their greatest asset. i also think his allies will not take kindly of their betrayal and the duterte camp may turn against the ccp should they get back in power again, even if it's through his daugther or one of his political allies.",
          ": \"china doesn't play proxy war\" got to be the joke of the century. what is pakistan to china lol",
          "china is one of those patrons too, except that they use only the commercial and tech strategies.",
          "good video... but the chinese influence is slow and deliberate. it is still a proxy of taking over another country. piece by piece until it's too late.",
          "this why the big countries wants war for exp philippines with th most natural recourse rich country in the world natural gas oil gold etc they want it",
          "us politicians always portrays china as it is a bad country and will try to annex other countries. and, they even do not participate in proxy wars expressionless_face",
          "china's criticisms of the us are reflections of the things they are doing. china is not just considering giving drones, it already has.  you're lying johnny. why are you lying?",
          "i think so china and india have there present in almost all of the world. they just keep a very low profile.",
          "well china has literally sent soldiers to the front line alongside russian forces. they may not be there because they're necessarily invested in ukrainian defeat but saying they're not involved or not meddlesome in foreign affairs is just categorically incorrect.",
          "is 'do nothing, win'  a real thing?",
          "china not meddling in other countries internal policy is a load of crap. ask india, pak, nepal, bhutan, maldives, sri lanka and bangladesh.",
          "lol. video ends by saying that china doesn't do any proxy wars and wondering what would happen if they started.the prc chinese have constantly been subverting taiwan and america, in addition to the european union, for a half-century for taiwan and decades for america and europe. ... the increased proxy wars are actually caused by china versus america.",
          ": china has a massive level of propaganda in other countries to create instability in stable nations they cannot control with debt. they may not overtly engage in military conflict, but to say they don't involve themselves in the affairs of others is false.",
          "Happy_face_smiley so china has participated in a \"modern\" proxy war? so is the later part of the video considering the korean war an exception? or was china's role small enough that i shouldnt really count as them contributing?",
          "chinese use money and debt to influence not weapons for now (they do support weapon materialsConfusion. confucius centers in usa, newspaper aids. against arts and culture that undermine their one party rule legitimacy (china hates shen yun/ taiwainConfusion. money support politicians of other countries usa, australia, etc.",
          "china is like that boxer waiting for the other guy to exhaust and overextend himself before making its move.   while at the same time leveraging all the bets against the exhausted guy.   which is why no one should let down their guard.",
          "johny the liar face_with_tears_of_joychina meddles in india, bangladesh, nepal, myanmar taiwan and johnny says china policy is not of proxy wars...johnny must be funded by chinese, so guys be careful dont believe what johnny saysface_with_tears_of_joy",
          "how did the relationship between the us and the ussr and china deteriorate so quickly after ww when those two countries were the ones who faced the worst casualties at the hands of the germans? and the us ended it?",
          "you sound like a china mouthpiece. so totally ignor the fact that china salami slices it's neighbors land and territories and is asserting it's dominance by claiming and occupying islands and sea that does not belong to them! very poor feedback and research on this item and topic.",
          "china doesn't get involved with internal affairs of other countries??? have you not heard of confucius institutes or honey potting (ie eric swalwellConfusion or the creation fentanyl for the drug cartel...",
          "are you serious? china is involved, they are most involved, spies espionage of intelligence, military intelligence, and just straight up binding poorer countries to be indebted for china's own personal gains. look at cook islands, vanuatu, whole africa.",
          "ccp not funding proxies is flat out wrong. they have a long history of supplying weapons to less than credible groups. they have been selling weapons to various african countries in exchange for mining rights.",
          "philippines is next into this proxy war by siding with us",
          "well the motive of giving them support does matter.if it is preventing a war in your country you better stop it earlier in an other country.and remember china has no side to pick because most other political systems are not like them.",
          "why the misinformation??? north korea almost won the war at some point before usa sent massive amount of troops but conveniently not mentioned",
          "china does not do hard military proxy war like the us, but sure does bullies smaller countries like srilanka, maldives etc. chinese warships have also docked in srilanka and myanmar waters. and don't forget about south china sea.",
          "china has a proxy called duterte diehard supporters.",
          "so... despite the mistakes, the final conclusion is just dumb. china of course participates in proxy wars.",
          "where's china? in the south china sea relieved_face",
          "wow, carefull, this almost looks like the chineses are the good guys in this instance :dwe can't be having that kind of narrative!",
          ": i want to know what johnny smoked to give china a free pass, loltalk about taking a l",
          "didn't we just the other day release the report that showed that these were chinese microchips that were in iranian drones that were sold and found on the ukrainian front lines?",
          "johnny. china is meddling in africa. they own major infrastructure through dept capture, they own important mines, they own large industries and land. when time comes china would rather preform proximity war than ingage directly. like they do with us (westernConfusion universities, bribes of politicians, etcetera. i'm surprised the west is not making a stance against them more directly and allowed that they would infuriate so deeply. they must be in denial due to china being the west's miracle economic baby, that baby is now there to overthrow the west. china is not the hero here, they are one of the key influences that brings chaos to the west, they prefer us seeing them as friendly and peaceful.",
          "what if china does the opposite... sends in humanitarian aid and anti war propaganda into myanmar..",
          "i think china lets it play out and then support the winner rebuilding.",
          "check what's happening now in the philippines.",
          "china meddles through propaganda",
          "so communist china did or did not get involved in the korean and vietnam wars?",
          "Happy_face_smiley wtf you yapping bro, i'm from . i know what china does. china interferes with canada too btw",
          "china doesn't use proxy war. china uses economic invasion",
          "are you funded by china??? just because china is not involved in wars that you like, you refuse to see it? china has sided with and funded russia. until recently, it sided with and funded pakistan against india. it is also many a times connected with the three brother alliance in myanmar, it has conducted operations with the rebel alliance to rescue chinese nationals from the illegal casinos in the country. then, there is india. there are groups in india called, wait for me and you to be surprised, maoists, they were present in nepal too. these groups received not just funding and arms from china but also training. there is an active insurgency in manipur where the terrorists are routinely caught with chinese arms and instruments. jhonny, at best, you were ignorant, and at worst, you are a stooge for china, but i hope you know more now.",
          "you mentioned in the video that china wasn't involved in proxy wars: mao and stalin met in  and agreed to aid vietnam. the us didn't get involved until the s.it directly invaded korea with millions of it soldiers, being the only nation to attack in mass un authorized soldiers. it won, crippling the un and forever ending the rules based order of the post wwii world.supporting russia is still a light proxy war. chips and machine tools are critical for modern weapon production. i'm fairly certain the west gives ukraine materials to produce things locally and that's consider proxy war support.proxy wars are an ancient way to fight wars. i'd consider bribing one faction to fight another a proxy war and that was common in history.",
          "so the only major power that doesn't do proxy war is china? and yet they are vilified as a threat to global peace by western media?",
          "the world should learn from china's policies and principles for world peace, harmony and the sake of humanity red_heart",
          "saying that china doesn't get involved in proxy wars is a gross misrepresentation.",
          "sorry, at : u said china do not get involved in the internal affairs of the other countries, as an indian can't agree with that",
          "to say that china doesn't play the proxy war game is a bit wrong. they do. they were one of the main backers of the viet minh in the first indochina war against the french (-Confusion, an active supporter with troops on the ground in the korean war (johnny mentioned this himselfConfusion, a main backer in the second indochina war (-Confusion, and the main backer of the khmer rouge regime in the third indochina war period.so the so-called principle of not interfering is just a lie. they do interfere when they need to / want to with however much resources they can afford.",
          "china geopolitic strategy seems like asean style",
          "mr harris, china has been meddling with the nine dash line but i don't know if this category is accepted in the proxy war but it's like china is strong arming every south east asian countries by their powerful navy, now might be taiwan will invade and all of us the philippines, malaysia, brunei, vietnam, singapore, will be aware of their threat on the indo pacific waters and especially now philippines have a really juicy confrontation against the people's republic of china.",
          "you should have also talked about india vs pakistan. it was also fueled by us and ussr.",
          "the us supplying south korea with weapons is like the british supplying the confederacy with weapons. it is a rogue state, trying to be independent from the sovereign state.",
          "hmm, about that chinese participation in proxy wars (from a direct participantConfusion: missing is just the information war that china does by paying influencers to conform to their agenda and censorship. i'm all for open disclosure of influencer financing sources",
          "china not playing the proxy war game is patently false.  they are one of the main players in foreign influence and geopolitical over-reach.",
          "i wonder why he says beijing instead of china",
          "china is creating so much infrastructure and has overtaken america in world trade so you could say it's already rd superpower that could start proxy war (eg taiwanConfusion",
          "china not meddling in foreign internal affairs is hardly true. china engages in proxy wars just like everyone else. china is currently funding the uwsa in myanmar as their direct proxy, and continues to sell arms to the myanmar military. china funds non-state militias to harass vietnam, the philippines, and half of sea. historically, china was either a belligerent and propped up their proxies in half of the examples you shared, from korea to cambodia. and that's just direct military aid - if ukraine is a proxy war, then china is propping up russia as their \"proxy\" by keeping their economy alive and bypassing western sanctions. china has fingers around the globe and is gaining power and position through diplomatic and economic means - just look at somaliland and sri lanka. if china doesn't meddle in international affairs, then why does the pla ssf publicly conduct disinformation campaigns in other countries against taiwanese, tibetan, uyghur, and hong kong? china excels in diplomatic, economic, and information warfare, which is generally how proxy wars, including by the us, are fought.",
          "china is % involved in the ukraine war. it is b/c of them that russia can continue fighting. china has been continuously buying russia's ga, intentionally giving russia indirectly the money necessary to fight the war. otherwise russia would have no significant buyers of their gas and would not be able to fund the war",
          "no johnny that's incorrect, china absolutely interferes with other countries, it's just not through military power. how they interfere is through unfavorable trade deals, bloated infrastructure projects that indebts nations into lengthy port leases to expand their influence and also logistical network. many countries who have been victims for lack of a better term a racketing scheme from china are not happy about the positions they find themselves in.this is yet another anti-american piece from johnny, look i get it your not happy about your own country. alot of other countries aren't either. but painting a narrative that these other powers are mostly fine... is no.",
          "the blatant ignorance of the framing around china, which is still selling microelectronics to russia, and that north korea would clearly have gotten a green light from china to send troops and shells, and that iran is sending tons of drones, demotes this video to long form propaganda. what could have been a good video undermines itself with blatant bias. it's very clear that the ukraine war is a proxy war, it's just somehow inconceivable (to uninformed westerners?Confusion that russia is the proxy, albeit more powerful than your typical proxy combatant.",
          "that's utter malarkey- china govt fully engages in other nation's internal affairs, less overtly though!",
          "@: so is john china glazing or telling fact? what happen to china is existential threat to western democracies!?",
          "i don't see china as supporter? whyy?",
          "china: do nothing - win",
          "nuclear-capable russia is nuclear-capable china's proxy.",
          "russia is a china proxy, so basically trump is a chinese ally, so they won this war without fighting, well play pekin.",
          "as for china, they're not as peaceful as you think. their incursions in the south china sea is a result of them knowing the other side would not escalate and continue to push further, doing bolder and grander moves that does not result to a shooting conflict, provoking the other side to fire the first shot.also, china does interfere with politics a lot, not just in plain sight. in the philippines, how do you think a murderer like duterte won, then suddenly shifted towards russia and china from a traditionally us friendly country?though yeah i think china's weakness is that they always want to save face. there were reports that duterte travelled to hong kong specifically to seek asylum to china when an arrest warrant was issued by the icc but was denied, so he had to return home. for that, they lost their greatest asset. i also think his allies will not take kindly of their betrayal and the duterte camp may turn against the ccp should they get back in power again, even if it's through his daugther or one of his political allies.",
          "so... if the ccp in china collapsed, there will be proxy wars fought for decades due to the power vacuum?? crying_face",
          "but ... china supports the sudanese army.",
          "@johnnyharris is completely wrong in saying that china does not engage in proxy wars. it has been propping up pakistan against india for years now with new military handouts and donations. it also fuelled internal militancy in india in the form of the naxalism and other conflicts. it also creates trouble in places like myanmar and nepal in the form of civil strife to keep them and india in check. at the end, it just seemed that johnny was engaging in ccp propaganda. china is no better, if not worse than the other major superpowers.",
          "china: do nothing and win",
          "the world needs more countries with china's mindset of never meddling with outside countries",
          "china is promoting the fact that they are not interfering with other countries because when china want to take over taiwan, the government will say that this is purely an \"internal\" affair and other countries should stay out of it.",
          "china being the good one in a jonnhy harris video?",
          "china used proxy war on mongol tribes for around  years they will do it as soon as russia can't push any longer",
          "bro, chinese troops are present in balochistan",
          "this video essentially explains why i support independence from american support between japan, korea, taiwan and the philippines (possibly also other countries in southeast asiaConfusion. the proxy wars supported by the us and the soviet union split the korean peninsula after a millennium of unity among the korean people. the korean war made it clear that the us never cared for the koreans, as they shot thousands of south koreans in the nogeun li massacre simply because they thought there could have been communists among them. they were willing to end the lives of millions of korean civilians just so their puppet regime wouldn't fall into enemy hands; the soviet union was not so different. vietnam potentially could have ended up the same way as korea. if north korea invades south korea or china invades taiwan, the outcome is purely dependent on american support and it's the people of east asia who will have to pay the price",
          "china took part in proxy wars in the past -- vietnam, korea, congo crisis.",
          "c'mon, man. china doesn't do proxy wars? so, please, enlighten me: what happened in cambodia? why vietnam had to fight cambodia? sino-soviet split. it was a proxy war between ussr and china.",
          "bro went on a whole bit about the chinese and soviets getting involved in the korean and vietnam wars then is like \"the chinese have this golden rule about not getting into proxy wars they love stability\" like what?",
          "china is fighting for world super power and information war...",
          "to say that china does not interfere with the internal affairs of a country is total bs. the ccp interferes in countries all over the world. even in the usa. its misinformation campaigns and meddling in the us elections is well-known. it oppresses the chinese diaspora to \"toe the ccp line\" no matter if they live in the us, or the uk or australia. they even kidnap dissidents from countries and smuggle them out of the country to face trial back in china. china may not be dropping bombs on other countries but they certainly operate in the \"grey zone\" of combat.",
          "are you kidding me? china doesn't get involved in the internal issues of other countries????? did you see what they did to the african union headcourts, when they offered to construct their building?face_with_tears_of_joy",
          "no word on irans proxies or taiwan?",
          "this is why china is gaining more influence over the world.",
          "china has been arming combatants and funding low intensity conflict in india for at least  years",
          ": excuse me hamas terrorist's main ammo producer is china, a special ap .x round.was probably smuggled through egypt, shipped from iran, and supplied by china/russia.and btw the idf found many weapon creates in gaza, syria and lebanon that were shipped directly from russia, with authentic markers to prove that.",
          "please don't say china and russia, use putin and xi jinping because nobody wants that war except putin. china is a mono dictatorship under one man's rule. they do not represent their countries. this is very important please",
          "china gives weapons, planes, tech etc to pakistan. guess where its used? not a proxy?",
          "saying china is not involved is a bit of a stretch.  their trade deals, supplying their allies with weapons, brics, and belt & road initiative is their version of proxy wars.  their violence is internal and against their own people.",
          "through history china has gone through those models. the people in china believe in ultimate paybacks. don't stick your nose into someone's conflict, but try to mediate through diplomatic dialogue is how you establish influence.",
          "china: does nothing, wins",
          "china will rule the world not by force or military power. they will rule the world by hard work,money, technology, intelligence and most importantly wisdom. they don't threat other countries. they just outsmart everyone.",
          "@: so we are just going to ignore china's involvement in the korean war, vietnam war, their invasion of mongolia and to a lesser extent tibet and their continued hectoring of taiwan? i know the sovereignty of tibet and taiwan are \"sorta\" in question but mongolia has been a separate country for centuries before china split it in half in the th century and again they had boots on the ground in korea and vietnam. they haven't been tangibly involved recently but don't act like that its some sacrosanct value they never violate, when they have gotten involved in proxy wars too.i mean your statement is just false.",
          "china has enough ppl to worry about",
          null
         ],
         "marker": {
          "opacity": 0.5,
          "size": 5
         },
         "mode": "markers+text",
         "name": "0_china_the_in",
         "text": [
          "",
          "",
          "",
          "",
          "",
          "",
          "",
          "",
          "",
          "",
          "",
          "",
          "",
          "",
          "",
          "",
          "",
          "",
          "",
          "",
          "",
          "",
          "",
          "",
          "",
          "",
          "",
          "",
          "",
          "",
          "",
          "",
          "",
          "",
          "",
          "",
          "",
          "",
          "",
          "",
          "",
          "",
          "",
          "",
          "",
          "",
          "",
          "",
          "",
          "",
          "",
          "",
          "",
          "",
          "",
          "",
          "",
          "",
          "",
          "",
          "",
          "",
          "",
          "",
          "",
          "",
          "",
          "",
          "",
          "",
          "",
          "",
          "",
          "",
          "",
          "",
          "",
          "",
          "",
          "",
          "",
          "",
          "",
          "",
          "",
          "",
          "",
          "",
          "",
          "",
          "",
          "",
          "",
          "",
          "",
          "",
          "",
          "",
          "",
          "",
          "",
          "",
          "",
          "",
          "",
          "",
          "",
          "",
          "",
          "",
          "",
          "",
          "",
          "",
          "",
          "",
          "",
          "",
          "",
          "",
          "",
          "",
          "",
          "",
          "",
          "",
          "",
          "",
          "",
          "",
          "",
          "",
          "",
          "",
          "",
          "",
          "",
          "",
          "",
          "",
          "",
          "",
          "",
          "",
          "",
          "",
          "",
          "",
          "",
          "",
          "",
          "",
          "",
          "",
          "",
          "",
          "",
          "",
          "",
          "",
          "",
          "",
          "",
          "",
          "",
          "",
          "",
          "",
          "",
          "",
          "",
          "",
          "",
          "",
          "",
          "0_china_the_in"
         ],
         "textfont": {
          "size": 12
         },
         "type": "scattergl",
         "x": {
          "bdata": "riVPQb1iOkGlDERBBz9DQZ80V0Fh1kpBIKVAQammOkGdY09B42NIQWT4UEGShkNBtxY/QfoSQ0ELhFFBCHg+QfABQ0F82U9BS3JSQVmtQ0GQ3U5B9gFBQfywTUGJN09BzYVEQQlpPUE1kjFBBbFFQRwAUkEm3EFB2zk7Qa11T0EbvjlB/8dHQdjCOkHad0NB3nMzQYq1LEH7RUVBXupFQe+qMkHgiUVBsfFHQaapNkE800xBMUk+Qeq+RUHQbCpBGjVKQcLfLEGqpzZBXHdXQbLAPUGvs0hBdKY3Qf/cQUHVRjtBNQlFQUQ6SEEe1UFBxcNQQW2lN0GUAkxBDiU2QRJGNkGtmjNBcy4/QSe8OkGIUkRBp9I/QchdUEG97zNB9l07QcKeSkHxs0hBJ1YoQRHsRUHPik5ByDs5QUnGJ0F+Tj9ByMtVQaqmQEH+9kdBeBtAQXCYWUFkuU1BUU8pQY+LSUENhkVBfipVQQ+xREFgaENBoaVJQfg0PkHKmUtBI2NKQdqYKkGznzdBxvhEQWdoRUEKhkZB7vJCQVnmWkH5yUpB5Ns2Qab/REEzgVRB81JBQUygVUG7E05BDpYnQR2IQUFdHSlBOxA2QX2KS0H+1FhB93lGQe78OEHX1ERBTmdEQXj8K0GHOj5BKwVEQaaJT0G59kFBq71EQTOeOkFYx1NBhFBYQaIdN0FR0TtBGUNCQZ2rQUGKOiRB4TtJQcG+PkEaXEZB23IoQcaHQkH3fkRB5/QoQRaySUFkclRBzUtMQXiySkG6EVZBSJVFQeWGOEGaGStBsExUQex6TkF37EtB79okQRHpQkHxfD9BXb43QepWPEFbsjtBmEM6QWWoSkGVO0VBMtdEQXIBREEXdU9B1Gw9QdNiQUFcYUtBXww/QY1xRUE7rU5BCIZUQWS0UEGwUjpBLXhPQQPsQkE=",
          "dtype": "f4"
         },
         "y": {
          "bdata": "sJckQQFXFEFrDhxB8nMfQZFaJkEmgRlB8MssQQ7AHUEUJyxB53IjQa3PKUG8Lh1BaaEpQR16IkEKYixB4xInQeoFIUGGqSxB1IkbQdF4HEFrhytBOagZQSTXI0FJ1xtB7o8vQeVCKEHdeQxB9C4yQR14GEEB4SFBYakUQU7pIkE21RNBcukoQQOvEUEw1yNBhwkQQRg0EUGzwzFBj54vQUsqDkFt6DFBKmwjQSdZJEEjTC1BahEnQfjmKUGueRJBx4QcQfSiFEEVfiRBgn4mQfG0JkGuJidBLBoUQXALIUF61BxBVVgyQbHXI0HHeyFBS7QaQb4zDUHkcCBBDcIkQZfqJEFuAhBBtbsSQR/lEUFhoR5BC+kZQeazLUE4VA9BsxkXQY3yJEErzRpBZ+sRQXEaG0En2ClBkmoZQYdCEkHuwRNBGosnQaVuJ0GZwiNBPHUZQWzxJEHzPxxBWisTQXibLkFxBCpBLZQxQUFlMEFxbhxB4CEuQUVIFEETfSxBmZEkQfKAEkEIGxRB0zYwQWh3L0GGHCtBDQchQVk1JEHw8CRBeTkSQYRoI0GaCiVBY94fQbueJ0H6MipBsLoRQRSaGkGbqhNBJtUkQTEWJUFtlCVBxtAwQRPcFkGMfjFBEdgiQb5nE0EyuBVBeqQgQVdALEHZ8yBBFmswQf1bGEG9HyhBCbMlQYyRDUEafAtBpq0dQboKIkE2JBJBLJMdQVJ7IUG7tChBRT0TQXSCFkGFjTBBo7MTQf5UI0GRajFBzv8YQRIZGkFuYydBgzQfQULOIUGk5BJBawsxQadiLUES/S5BnnIPQam6I0H3DCpBOY8OQT5pGEEQtRZBhXwWQWbPIEGpKzFBpzsxQREKHUHqRSZBPW0oQToiK0EyqR9BlzcoQWKKKEEtpCdBsDUxQe3/KkE0exhBHSwtQRMJIUE=",
          "dtype": "f4"
         }
        },
        {
         "hoverinfo": "text",
         "hovertext": [
          "i thought the last part was going to be   corporations   that become too large and influential to also funds  proxy wars , fundamentally  isnt that what happening in places like  congo now ? or was he  afraid to talk about them  being that it  actually the deadliest mordern  low intensity warfare smirking_face",
          "the europeans were already using proxirs and mercenaries during the early modern period though",
          "we indians are fighting a proxy war for the last  years & it has only made us strionger as a nation but the stress has eroded our quality of democracy, & our greatest enemy is a global radical nightmare,, ideological enemity is far more self destructutive than we think",
          "thanks to nuclear weapons world war iii, aka the cold war, was fought by proxies, and now world war iv is also being fought by proxies.",
          "all wars are bankers wars.",
          "interest point view for geopolitician , what happened in short time for country what have resource mining example in latinoamerica",
          "notice how they go up when obama takes office. levels off in  then ramps up again when biden took office?",
          "im dubious that there are more proxy wars going on in the s than during the cold war",
          "anyone who wants more then his land, which is to be gifted to all individuals,  worldwide, ...the town shared land by everyone:  need more than that is eternal death to you.  no one owns land, gaias body.  no one bosses the other guy. everyone knows real fairness, is the only law.    ...everyone has to live somewhere.  is everyone's right of birth.",
          "i'm confused. proxy wars are as old as the romans and chinese. and this type of warfare been new norm for war since the s. the cold war was literally built on this. we are just seeing a new cold war.the only thing that's new is that we are seeing some proxy states having immense soft power over their patron states (through groups like aipac and cufiConfusion.",
          "i think strategic historical figures like cardinal richelieu were using proxy wars for a very long time. even caesar. & kublai khan.",
          "funny enough, i had this realization several months ago. actually if you go back to every major civil war, there is always some level of foreign influence or assistance, often by a country or side that is at odds with the country. and also, that every \"independence movement\" is actually very simply a civil war that was successful, and if it wasn't successful, we just refer to it as a civil war, without the romanticization of it being a fight for independence. but i guarantee you that any group that takes up arms against their own country is fighting for their independence and freedom and autonomy, to either separate from the country. there is always the side that fights for the country and its authority and dominance over the smaller group, and that group which wants to break away and have its own autonomy and freedom, and be free from what they see as an oppressive authority that makes laws against them they don't want.  another thing about nation states, there will always be winners and losers within the country, there are those who are subsidized (the recipient of more tax dollars than they payedConfusion and those who are subsidizees (the ones that pay more taxes than they receiveConfusion. for example, in america, there are mining towns in very sparsely populated states like idaho or montana that create insane amounts of wealth in a very small space, a single mining town. however, they are taxed very highly and see alot of that wealth go to the federal government, which then gets sent into cities and urban centers in all shapes and sizes, from low-income housing grants, to investment in infrastructure that only benefits those in cities, to student scholarship grants that only help those going to college. all of these things are payed for by people who will not benefit in any way from those policies. this is what creates and builds resentments inside a country by groups of people towards the central authority/government and becomes the source of a \"civil war\".  groups that feel being taken advantage of, and seeing a government that doesn't equally represent their interests based on their own notions of fairness.  as another example to that effect, there is a growing sentiment in america that the weight of someone's representation in the government should be based on how much you're putting in, like if you're in the class of people paying hundreds of thousands in taxes each year, you should have more representation in the government than a bunch of people who are paying zero dollars in taxes. this is a hotly contested issue ofcourse, but this difference in views about \"fairness\" is really the driving motivation for \"rebellious\" activity that can ultimately lead to \"civil war\" or physical conflict involving many armed skirmishes over weeks, months, years.  this is what the revolutionary war was in american against britain. it is also what the american civil war was, with the south against the north. there still exists sentiments in these highly productive smaller towns, whose labors support the financing and growth of the urban centers, but never see any reward or payoff for such things.  in some very indirect ways, maybe a new technological innovation in an urban center may occasionally offer benefits to these places to improve farming and agriculture practices, productivity, or mining safety, etc.  and this caveat might be the only thing that appeases those resentments, besides the threat of retaliation by the federal government.  but if everyone that payed more taxes than they got back unionized together into a single massive union, and threatened to stop paying their taxes in unison, this would essentially be a declaration of civil war, as it threatens the survival of the country bu threatening the authority of the country, which relies on that tax money to operate.  in any case, the realization that every civil war is also almost always instigated or assisted by a foreign power attempting to undermine the authority of that country, is a big realization. the us for example only broke awake from britain because france wanted to deprive them of the american colonies. it became the battle ground for a war between britain and france that had already been in fierce conflict in the past. this itself was a proxy war for them.  however, then france had its own civil war, so in some ways it could be seen as a group inside france was using american fight for independence as a way to get a foothold in american influence that would then support their own movement for independence, except not to break away from their own country, but to completely displace the current monarchy authority in place of their own selected authority, democracy! and they ended up with napoleon who for a short time adopted the name of king, and they treated him as if royalty.  not to get too off track though, it's important to simply realize there is always bigger forces at play when two smaller forces start fighting. it's an opportunity for the larger forces to find advantages against their rivals. any sort of power struggle or instability is seen as a way to build influence, to support a side, and if they win they become more friendly and favorable to you, and thus you have new allies in high places. the us has done this quite alot in south america and in the middle east. however when you support a side that loses, it really does not bode well for your image and world authority. makes you look bad, like a loser, and the people there will remember and resent you. this is happening in africa towards france, as russia displaces french military presence there and thus their influences there.",
          "proxy wars existed from the beginning of time, nothing new.  pretty sure france and spain helped the us in the revolutionary war. france was weakening england and spain gaining florida back.  however, modern liberals like john stewart like to think it was only about a few american drunks not wanting to pay tax on tea. gets more laughs and breaks down barriers for those that want to intrude.",
          "does the korean war in  not count as a proxy war? according to the chart?",
          "hello military industrial complex.. ffs",
          "all the world is a stage and you are just a player in gta.",
          "war will not cease until the world is destroyed.",
          "the cold war was all about proxy war.",
          "proxy wars have been going on for a very long time. they aren't new",
          "seems like the increase in proxies started in /. why?",
          "proxy wars have been around for time immemorial. what's happening is there are more wars in general, and more of them are civil wars that are proxy wars. the american revolution was a proxy war.",
          "guatemalas proxy war lasted around  years, the weird thing is that there have been more deaths due to violent crimes than the total amount of people that disappeared or were killed during the war.... the world is a cluster fuck and we should be able to fix it through dialog not more power projection.",
          "in short, \"elites\" aka deep state are playing chess and working to gain full control over us, land, all other resources, while the rest of us are just trying to survive day by day.",
          "i wonder if aliens use earth for proxy wars.",
          "how profitable are proxy wars for the superpowers? can you do a assessment of what the usa has spent in the last  years and what it's gotten back?",
          "america forever destabilizing countries for its own gain",
          "proxy wars aren't new bron",
          "damn, they're out-sourcing war now too.",
          "define the difference between a \"proxy war\" and another country just selling weapons to a country that needs them for defense.",
          "wasn't the civil war in america a proxy war? we start revolution... and got a ton of help from the french who wanted to destabilize england's worldwide interests?",
          "bro how r proxy wars new they have been around since the start of war",
          "have you ever heard about heartland and rimm land theory?? if you study rimm land theory all the countries are trying to win over rimm land",
          "us is the sole evil and danger to world peace dove",
          "in case you haven't noticed, usa is part of almost every proxy war, and they say they're peaceful...",
          "the current multiplayer + proxy wars situation reminds me much more of the ww than ww.   proxy wars before ww? well, you know what happened into the balkans that spiraled into the ww.",
          "the united states, acting as the world's policeman, is the source of all evil wars.",
          "as a west asian i can assure you that proxy wars are as old as it gets, well that's how mesopotamian city-states fought wars",
          "as an american, we should just stop. let the world deal with it own problems. just rules the seas and keep trade going.",
          "jacinder adern during her leadership of new zealand. jacinder adern locked out new zealand citizens from their own sovereign nation. and then jacinder adern laughed and forced sovereign citizens of their own sovereign nation to play jacinder adern lottery system just to enter their own nation. jacinder adern never was kind or card of the hardship jacinder adern caused.the new zealand poverty after her leadership is the highest in the oecd. jacinder adern has the highest suicide rate. the highest devoirce rate and the highest level of child poverty",
          "proxy wars also were happening before ww",
          ": honest question: have proxy wars truly increased or has the identification and reporting of them become more effective in recent years?",
          "garbage.  countries are looking for ways to harm each other is true only if those countries are western countries, specifically, the usa.  great power sees each other as a threat is also only true only if those countries are western countries, specifically, the usa.  big countries see an opportunity to fight each other indirectly is true again if only those countries are western countries, specifically, the usa.  to generalize what the wests and specifically what the usa does to the whole world is to spread lies and malicious propaganda, i.e., spreading garbage, evil lies.  the world knows that the only countries that goes around the invading, killing, destroying, pillaging, enslaving, and oppressing others are the wests, and in today's time mainly the spearhead usa.  only ignorant, arrogant, brainwashed, hypocritical racists believe that they are doing the world justice by killing and enslaving others in the name of championing democracy, freedom, human rights, and justice.",
          "proxy war is trend after the wwii",
          "knew this was about proxy wars before i even clicked",
          "since they can't use mercenary armies no more, what did you expect. they should've seen this coming.",
          "in nutshell \"in  the most deadliest war you could ever start is the one you going to do with your own brother\"",
          "everyone wants to believe that as a species we have advanced and that the world super powers have invented some new way to fight. the reality on the ground is still dying in the trenches, attacking supply lines, and begging foreign powers for men and material to fight their enemies in your home. surprisingly little has changed since the th century. at the end of the day the we are still trying to secure resources and strategic positions. we are still using men on the ground to do it. same as it has always been. the french helped the us fight a proxy war with the british. the russians gave material to the union forces during the civil war to fight the confederates who had british support. the only thing to change was that after ww we came up with all these conventions and treaties wrongly thinking that we could occupy and administer land we don't own in perpetuity without killing everyone that opposes us.",
          "proxy wars are nothing new. the real news story is that the majority of civilians don't even have the concept of a proxy war in their brains, and they have no clue how geopolitics really works.",
          "and they say how wars are declining, when in fact it's the opposite when you use the broader definition.",
          "war is good for economics, terrible for anything living. these wars last so long because there is more money to be made, consequences be damned.",
          "we have a new type of proxy war: a civil proxy war. the u.s has one currently happing. the government has brainwashed it's people with propaganda to side them by making them believe what they want like migrants or illegal migrants, the using religion as to control, promising change in ecconomy, use of intimidation, double moral use of standards, cutting education,etc. they use a little bit of truth, yet lie about everything else to gain credibility. all of this to manipulate to create an war. while this serves as a distraction of all the currupt movement they are doing. and the government is not fighting for this civil proxy war. the far right vs everyone is fighting their war for the governmentd agendas.",
          ": maybe ww was just an anomaly and we are on the brink of a next direct war",
          "just because you just learnt about them doesn't make proxy wars new.",
          ": the us be bombing countries every other week it seems. coup d'etats and funding them.",
          "i thought you were going to get into th generation warfare on this one.  this cold war, espionage, and proxy war is so  th generation.",
          "every war since ww is a proxy war for the us",
          "also called \"limited wars\", as krameh nkurumah wrote in \"neo-colonialism, last stage of colonialism\".",
          "maybe what happens in haiti is turning into a proxy war... just maybe.",
          "you forgot to mention that proxy wars are almost always initiated by the usa to keep their mic afloat.",
          "it takes some real cowards to still be at war in this day and and age, after all we're so civilized!",
          "there's a new kind of proxy war going around, firearms are last resort.",
          "bro just learned about proxy wars",
          "which great powers behind the proxy wars of democrats vs republicans",
          "and who benefits most from these???? no guess ..straight answer",
          "proxy wars are more common, not more popular. think of international relationships as stretched rubber bands between countries, in an unstable equilibrium, but an equilibrium nonetheless. every time one of those rubber bands get tensioned further, the rest of them have to get thighter, so that fragile equilibrium doesn't fall. when that happens, people die. we need to relax those rubber bands all at once, so we can all, as a world, stop worrying about not only our global neighbours, but about the very present, always escalating chance of fighting so hard that after the battle, there will be nothing left to fight for.",
          "cant we all just agree the world is in problems becz of western countries greed",
          "while i do personally know about the proxy nature of several of these - korea, vietnam, sudan, congo, syria, and let's not forget cuba and venezuela.... just looking at them together in this context is more horrific.a perpetual war machine.",
          "history rhymes.the events later called world wars i and ii were part of the same conflagration that began around , when the naval powers encircled their continental neighbours. for the american century after , sitting on the globe's biggest \"fence\" (atlantic ocean/distanceConfusion while \"eating popcorn\" (waiting gameConfusion, europe was simply a slightly larger area than britain was for rome around the year \"\": the technique used by both empires was the same, namely, exploiting existing divisions. exploiting such divisions for one's own ends is the \"divide-and-rule/conquer\" strategy. a proactive means of advancing one's own interests at the expense of others is to favor some (increase the power of the favouredConfusion at the expense of others (decrease the power of the outcastConfusion. in the initial stages while the uk kept its power to be the \"divider in in chief\" herself up to the s, washington dc did not have to engage much, apart from the overt favouritism of ww, disguised behind the \"nice sounding story\".the outsiders' strategy was always \"if a local/limited war on the continent expands, then the engineered long war scenario,\" and this was declared by the hegemon.  this is not different today than it was  years ago,  years ago, or  years ago. the outsiders who avoid avoiding war benefit if all others fight to mutual exhaustion. this will not be different today now that zelenski has recognized how he had been duped into the long war by boris johnson (istanbul proposals torpedoed, whilst \"blaming the other side\"Confusion. for the \"divider,\" sitting on the fence watching, the multitude of reasons, motivations, ideologies, justifications, opinions, excuses, or the interests of those who cooperate in achieving the beneficial division for the higher power are not important. for the dividing power, it does not matter how the division is implemented, or how existing divisions are deepened, or who is helping for whatever reasons, or whether those who favor and abet the division even know that they are supporting the division: what matters is that division is implemented. for the outside divider with a geographical advantage of distance from violent events, it is not important why the chosen tools choose to work together for the gains of the empire, but the fact that the chosen tools work together to create division and overwhelm a part of the planet somewhere. \"how\" and \"that\" are different premises.the empire is in search of profit, only \"interests\" are important. there are more than enough examples of strategists who openly admit this. the apologists will never address this, since they instinctively realize that they benefit from wars elsewhere. all these \"fence sitters\" have to do is wait for the crash, boom, bang, then sail in and benefit...the conflagration that took place after the s have a prequel in european history, in the events of the s up to  and at versailles. in case anybody doubts the validity of the above assessment i suggest a \"map\", upon which one can plot the encirclement of central europe after the s. maps are a primary source of information more valuable than words spoken by another human being, prone to lies and deception. this setup continued after ww, with the only change being that instead of a small number of large \"encirclers,\" (pre-Confusion there were now a large number of small \"encirclers\" (post-Confusion. the \"world war\" after  was another european -year war (with a -year break in betweenConfusion. the divisions thus established around the year  were:Confusion the naval powers (britain/usaConfusion with their continental allies as \"buck catchers\" (such as france after  and russia after Confusion favouring long wars.set up against:Confusion the continental alliances favouring short wars, which were encircled and prevented from reaching sufficient spheres of influence for their growth by the naval supremacy of Confusion, and this encirclement strategy began as a deliberate action by the naval powers around .the albion used its unassailable geographical location on the map to play games, not only in europe, but globally:divide-and-gain (power for own systemsConfusion.if not.divide-and-control (a situation from the high groundConfusion.if not.divide-and-rule (by drawing lines on the map, weakening others, etc.Confusion.if not.divide-and-conquer (markets, sphere of influence, whateverConfusion.if not.divide-and-destroy (those who refuse to bow down to exploitation and divisionConfusion.this strategy was simply repeated after a short respite called the cold war (-Confusion, with the 's wolfowitz doctrine/us imperialist claim to power with \"us primacy\" as the top priority, and yugoslavian unity the first victim on the marching route.  written down in strategy papers, for all to see. this time around the \"targets\" of the global strategy of divide-and-rule were not central europe/central powers (treaty of versailles, and othersConfusion, but rather china and russia. the new default rivals were shifted further east. the final goal of our off-continental (non-eurasianConfusion \"friends\" in washington dc is to crush china as they once crushed europe, then carve it up into little pieces like they did with europe, via their \"friends\" the uk and france (london and parisConfusion, using the block mentality of blockheads, in the form of divided neighbours as \"tools\" on a \"chessboard\" and later claim total innocence and \"world saviour\"-status for themselves. after a short halt called \"cold war\", the march of the empire continued, on the marching route of the empire, which started when the ussr economically faltered in the late-s.systemic/ideological expansion into, as concerted effort called divide-and-rule.- eastern europe.- balkans/black sea/caucasus region (southern pincer of advanceConfusion.- baltic/scandinavia (northern pincer of advanceConfusion.this was simply the continuation of the scheme to overpower russia which dated from ww, to make use of the weakness created by  years of war (-/eastern frontConfusion exhausting and extending all. therefore, it was never in the \"interest\" of the victors to achieve a fair balance of powers in europe, as was the case in  (balance of power/concert of europeConfusion. the intention was to create an imbalance of powers as foundation, which could be exploited, regardless of what the political doves thought they were doing. keep on marching, marching, and when there is a reaction or resistance (aka \"defensive realism\"Confusion by those encroached upon or encircled, get the propagandists to start \"pointing fingers\" (narrative controlConfusion at those being encircled or encroached upon.  this type of imperialist behaviour as evident by washington dc, and their subservient \"collective west/nato\", did not only start after ww. ask the first nations, or mexico.because of the own ideological indoctrination (something gladly attributed to others, aka \"finger pointing\"Confusion and proudly stated by such tropes as being \"good guys\" or \"on right side of history\" and being an \"indispensable nation\", the encirclers will never admit their own corruption because they feel better about the realities they have imposed on their neighbours either directly or by proxy, and do not intend to follow a simple moral logic of a strategy of power called the golden rule: \"don't do unto others what you do not want done to you.\"  do you want to be encircled and encroached upon? then do not do it to others. if you cannot follow such a simple logic, you must follow the logic of causality where there is a muddy trench waiting for you.  note: not these so-called \"leaders\" who deceive you here. for you, personally, the one reading this. the bunker boys and manipulators are safely tucked away in the bunkers, chanting slogans from their \"mommy's basements\", or hiding behind their keyboards (keyboard warriorsConfusion, hoping they'll never end up where they cheer for.the current \"greenland narrative\" is nothing else but systemic expansion, started in  and never stopped. an insatiable empire, hiding behind a narrative. fact is that during ww planners in london, washington dc and paris were already planning their war against russia in , as systemic expansion, and needed \"new best fwiends\" (eastern europeansConfusion to sacrifice as proxies, doing most of the fighting and dying, while they stood off and used their navies to \"nibble around the edges\" of russia, and later step in with systemic expansion, and systemic profit and gain. why is this a fact? because it actually happened. this habit of finding proxies to do most of the fighting and dying repeated after the s, looking for slavic people who could be set up against their neighbours. trust the albion once, and you are in its \"fangs\" forever...today?history is repeating.albion .anybody who \"believes\" ww/ww ever \"ended\" is already the fool, sacrificing himself for the systemic expansion and gain of \"friends\".imagine not knowing what ww and ww was about, and getting emotionally triggered every time your ideological standpoint is contested. ww and ww was about the destruction of the european balance of power, est. , and this destruction was carried out by outside ideologues, who entered europe \"trojan horse\"-style, initially into the uk and france (destruction of the reign of monarchy, \"sold\" to the plebs as an \"advantage\"Confusion, and other countries on the fringes of europe, intent on systemic gain. they used tools (aka \"proxies\"Confusion to do most of the fighting and dying for them. the treaty of versailles was the first attempt to keep germany \"down\" in european/global affairs, russia \"out\" of european/global affairs, and the usa \"in\" (lord ismayConfusion european/global affairs. it only failed because the usa did not sign up. the usa could afford to wait. distance = impunity = advantage.this is divide-and-rule.",
          "canada only really represents (and servesConfusion the east of the nation, because it has an overwhelming french population and they do not like to share power.  that leaves the middle end west of canada screwed.  so, it would be foolish to accept all of canada as a st state, but it would be much better for all, if they broke apart and those minority regions joined the us and the east of canada joining france as a commonwealth.",
          "was the spanish civil war the last proxy war before nuclear weapons?",
          "america is involved in % of the wars in the last  yrs, proxy, cold, intrastate, pretty much every war america has a hand in it one way or another",
          "with all the sheets, maps and graphs on the table, i thought this will be a well thought-out, put-together, in-depth analysis. insteaTongue_sticking_out_cheeky_playful_or_blowing_a_raspberry we learn what armed proxy war is, and it took mins!!!??? new way nations fight? really??what about technology? economy? trade? propaganda/ideology/soft-power? etc.",
          "this video was made to confuse you. the real reason for all these wars in the last two decades is us",
          "looking at your proxy maps i think that you should discount those countries that have us military bases. those countries themselves are proxies or client states.",
          "hmmm, usa started funding proxy wars back in the obama admin, makes sense look at that ' spike!",
          "workers of the world unite! don't let nationalist ideology separates us: our politicians don't care about us.",
          "its mostly bad people in charge since the neolithic.",
          "when the bible quite literally says, \"rumors of wars\" closer to the end times. matthew :-: \"you will hear of wars and rumors of wars, but see to it that you are not alarmed. such things must happen, but the end is still to come. --------- but also notice the money making war profiteering that's going on.",
          "war is a racket - smedley butler ",
          "okay so the us had patrons assist in funding its revolution against the british empire. it wasn't the modern era but was it still a proxy war? and it seems like funding geo political rivals' adversaries was common place then as well? is the difference scale, intent, & motivation of patrons?",
          "proxy wars are the easiest catalyst for world war .",
          "do one on how corrupt turkeyis",
          "proxy-ww started on the palindrome date in ",
          "the question presents itself, when putin is toppled, if there is not a strongman to take the reins, will russia descend into civil war and become a ground for proxy fighting?",
          "if you go back to prior to ww proxy wars were faught all the time, it was done through mercenaries hired by the country.",
          "if imperialism wouldnt exist your video would be right as a wolrd war game table, you are so smart to get some geopolitical things but not about to get the ones as we from the south politics actualy live, the right axes politcs still work as its always worked, it is isnt about how some countries are victims but about some imperialist countries are stilll de villlains, since ww...",
          ": thank god for president trump. we got to get out of that war.",
          "this is why we need a one world government.",
          "did we skip the part where we learned in wwii america was supplying england and germany with weapons?there are trillions of dollars available for us to either supply or out right fight for any country with a big enough wallet.im looking at you saudi arabia.",
          "covers proxy wars but conveniently never mentions the israel-palestine conflict.",
          "in case you were wondering, this is why \"oceania had always been at war with eastasia.\" because both sides had their economies tied to the war, and couldn't afford to finish the war. so they had to keep the war going.",
          "didn't france kinda do a proxy war against great britain, by sending funding and weapons to americans under the american revolution?",
          "iran iraq ages ago",
          "war is profitable to the rich and the rl chess games they play for fun. we are the pieces.",
          "ah proxy wars, the little ''friendly'' tournaments rival superpowers stage to compete for influence, instead of destroying their own heartland... wwii truly taught all great powers the lessons that wars shall be fought on someone else's soil, and nuclear weapons' advent truly nailed that fact.",
          "it's sad that you have not addressed the propaganda and how patriots become dictators by the media or how arms dealers sponsor these wars purely for profit.",
          "is this guy some naive liberal? that whole wars for resources is a marxist narrative",
          "\"hey i've seen this one!\" type of wars",
          "republican or democrat we can hopefully all agree that foreign wars that don't directly pertain to national security don't need to be fought or funded.",
          "when people stop wasting money and resources to fight wars for influence or global dominance then maybe the aliens will want to make contact with humans ! what is the point of being dominant ? the global elites don't know the thing that always comes a bigger bully to show you the lesson!",
          "it is not countries fighting. it's the capitalistic elite instrumentalizing their population via psy ops to sacrifice their children and their lifetime for their own benefit. micdrop.",
          "america was created during the revolutionary war as a proxy war between france and england",
          "\"war, war has changed\" - mgs",
          "lol great britain sent guns to the south and flooded the north with irish and german soldiers.",
          "proxy wars for selling military technology.",
          "if it weren't for proxy wars then who would the us, russia, europe, china, and did i mention the us military industrial complex sell their weaponry to. it's a very lucrative market.",
          "can we establish that the first modern proxy war was the spanish civil war?",
          "humans will never learn crying_facegreed is the reason for this. all this bs",
          "i hate contemparly humanity. is there nothing that unite us so we stop killing members of our own species for such stupid things like borders?",
          "it would be interesting to cut the graph of proxy wars into more digestible segments. some questions could be: has the # of patron's increased, is it still increasing? has the economic size of a patron changed over time? is the geographic location of patrons & proxy wars changing over time? is the current middle-east situation with iran a big driver here or are these conflicts more global or african? are the patrons getting more local (i.e., iran funding proxies in their back yard could be more interesting vs. russia funding them from very far awayConfusion",
          "so when the hidden new world order want to take over, they try to stimulate a race war by behind the scenes fuelling and organising of illegal immigration, which would lead to a breakdown in law and order, and the need for new draconian powers, and thus a new world order, but it's a one sided war, because our politicians are too imperceptive and won't trace back the organising and funding to people like putin and bill gates? but a lot of us knew that already, so..... are the rebels against the covid- tyranny one step ahead of you already? but thanks for your leg-up to proving it all. another impending tyranny is the net zero tyranny.",
          "there is a better question, who creates the most proxies? lol",
          "this is what happens when we vote in old fools to run our countries.  same as there is a minimum age in most places, there needs to be a maximum.same type of restrictions need to be placed on wealth.  not on having it personally or how much, but limits to when you are allowed to interact politically.  more then a hundred million?  it's no longer legal for you to interact with politicians.  period.",
          "the governments are fighting through proxies whether it's political allies or military partners. they are resorting to cyber attacks to bleed critical infrastructure of its adversaries. they are resorting to false narratives, misinformation to sow division and doubt in other nations.",
          "wild that there was no mention of private military companies here face_with_tears_of_joy",
          "new? this isn't new. we have been using proxy wars as a tool for decades, + years. read confessions of an economic hitman. it changed how i saw the planet.",
          "i see just one main cause , which fuel these proxy wars and that fiat currency .",
          "while proxy wars are far from new, this is a great video john",
          "looks like during the biden administration, it started increasing",
          "jacinder adern during her leadership of new zealand. jacinder adern locked out new zealand citizens from their own sovereign nation. and then jacinder adern laughed and forced sovereign citizens of their own sovereign nation to play jacinder adern lottery system just to enter their own nation. jacinder adern never was kind or card of the hardship jacinder adern caused.the new zealand poverty after her leadership is the highest in the oecd. jacinder adern has the highest suicide rate. the highest devoirce rate and the highest level of child poverty",
          "all war are proxy war now, even if it happen to usa a lot of country would get involved too.",
          "what does it matter if people know how to look for a proxy war or not? many people have known for years, but it still hasnt changed anything",
          "if you want to see a legit new way to fight a war then look up cyber war. nearly all countries are engaging in cyber war or cyber espionage including allies. there is a really cool website where you can see cyber attacks among countries in real time, it's crazy.",
          "think this video neglects two big aspects of proxy wars...- the st real proxy war was ww...where the usa supplied the allied forces through the lend-lease programme to, to quote, \"defend american interests against the axis forces\"...- we failled to address how much of a business these are for the parent countries...frequently they lend money - that really never leaves the country as it is used to purchase military gear that is then sent at no cost or backed on a number of promisses (e.g. access to key regions, supplies, etcConfusion to the client state",
          "definitely show which countries have aipac as proxies war",
          "humanloids are animals, fighting and wars are routine of lives. european tribes fight their own tribal wars, so as in sub-continent(indiaConfusion, africa, west asia, indo-asia, and far east asia.",
          "surprised you didn't talk about a politician's incentive to be involved in these wars. why could a proxy war and especially a prolonged proxy war be good for a politician?",
          "in every war america is involved in anyway",
          "the title is literally false proxy wars are not new.",
          "panama was created by proxy wars against colombia  years ago to get ownership of the canals rights and history is just being history and repeating because humanity has ran out of growth",
          "almost all wars in human history are proxy wars. l take",
          "proxy wars are devastating but in certain circumstances they do free people from dictators and greater long term suffering. look at north korea vs south korea. i wish the modern proxy wars were not \"selfishly\" complicated.",
          "jacinder adern during her leadership of new zealand. jacinder adern locked out new zealand citizens from their own sovereign nation. and then jacinder adern laughed and forced sovereign citizens of their own sovereign nation to play jacinder adern lottery system just to enter their own nation. jacinder adern never was kind or card of the hardship jacinder adern caused.the new zealand poverty after her leadership is the highest in the oecd. jacinder adern has the highest suicide rate. the highest devoirce rate and the highest level of child poverty",
          "arguably the change towards proxy wars predates ww by a couple of years, and a good example of this would be the spanish civil war! really good video though Happy_face_or_smiley",
          "i'm surprised you didn't talk about how banks and other financiers lend to both sides of these proxy conflicts and leave the countries saddled with debt. then deals are struck with countries' leaders to bring in foreign contractors to rebuild infrastructure. the economic hitman game.",
          ": you fail to mention that all of the so called \"uprisings\" were us sponsored opposition, rebellions or what have you. basically coups.",
          "so america is just medling as always",
          "outsourcing is the ultimatum method of saving and achieving goal. it applies to all industries. of course, it applies to war as well.",
          "i will point out that vlad putin has been in power since the rise of proxy wars.",
          "the real proxy war is all the enemies we made along the way.",
          "it's not because of nukes but of what follows. the nuclear winter. chemical warfare. plauge. riots. distribution of society.that's what we try to avoid and are attempting to research with these proxy wars.",
          "now imagine where humanity would be, if we used all this \"inguinity\" and resources for peace and collaboration instead of war.",
          "you did not mention another benefit of proxy wars is to send soon to be outdated war technology to these nations so patron states can replenish their arsenal with the latest technology. thereby providing profits to their industrial war complex on both sales",
          "you didn't mention anything about industrial complexes whose sole intent is to sell weapons of mass destruction. all wars are fueled by weapon manufacturers lobbyists. just make an analysis on the shares of weapon manufacturers against wars at any different times",
          "why do proxy wars become more numerous recently? it's just a guess, but the main reason could be something that starts with the letter u and rhymes with \"essay\"",
          "its basically a way to have a war without telling your citizens you are involved.",
          "by the 's, we'll have moved all battles to syberia, or other barren areas where giant mech warriors controlled by a fighter from each contry will proxy our nations disputes over resource, territorial claims, or other political reconciliations.. of course that's if skynet doesn't put a stop to all that before we get that far into the future joker",
          "because america needs to sell its weapons. it's economy depends on military industrial complex",
          "not after the cold war, but after the  financial crash, and subsequent declining living standards ever since. poverty fuels conflicts.",
          "we need ai takeover",
          "most time these proxy wars only happen in sand expressionless_face countries and authoritarian and dictator states",
          "the way this is going, it's only a matter of time that ww will happen. what can be done to stop it?",
          "good video but dude proxy wars are like not new",
          "proxy wars arent that new, pretty much most conflicts since ww. where a form of proxywar.",
          "a video on proxy wars  years after they started seems kinda meh",
          "at the end always it will be blood on the roads",
          null
         ],
         "marker": {
          "opacity": 0.5,
          "size": 5
         },
         "mode": "markers+text",
         "name": "1_the_of_to",
         "text": [
          "",
          "",
          "",
          "",
          "",
          "",
          "",
          "",
          "",
          "",
          "",
          "",
          "",
          "",
          "",
          "",
          "",
          "",
          "",
          "",
          "",
          "",
          "",
          "",
          "",
          "",
          "",
          "",
          "",
          "",
          "",
          "",
          "",
          "",
          "",
          "",
          "",
          "",
          "",
          "",
          "",
          "",
          "",
          "",
          "",
          "",
          "",
          "",
          "",
          "",
          "",
          "",
          "",
          "",
          "",
          "",
          "",
          "",
          "",
          "",
          "",
          "",
          "",
          "",
          "",
          "",
          "",
          "",
          "",
          "",
          "",
          "",
          "",
          "",
          "",
          "",
          "",
          "",
          "",
          "",
          "",
          "",
          "",
          "",
          "",
          "",
          "",
          "",
          "",
          "",
          "",
          "",
          "",
          "",
          "",
          "",
          "",
          "",
          "",
          "",
          "",
          "",
          "",
          "",
          "",
          "",
          "",
          "",
          "",
          "",
          "",
          "",
          "",
          "",
          "",
          "",
          "",
          "",
          "",
          "",
          "",
          "",
          "",
          "",
          "",
          "",
          "",
          "",
          "",
          "",
          "",
          "",
          "",
          "",
          "",
          "",
          "",
          "",
          "",
          "",
          "",
          "",
          "",
          "",
          "",
          "",
          "",
          "",
          "",
          "",
          "",
          "",
          "",
          "",
          "",
          "",
          "1_the_of_to"
         ],
         "textfont": {
          "size": 12
         },
         "type": "scattergl",
         "x": {
          "bdata": "2RF2Qec7fUGgO3hBFcmAQYV5Z0Eq4FxBVY1qQQ3bfkFl/1dBlx59QWG6fEGEAWBBWSB0QTeMPkHi+XBB7GE2QY/4Z0GemIBBvIJ+QdVKgEELsnlBrlx1QfwtXkHEfXVB6o5zQWY7bkHcmH5BfpptQYvndUEkBG1Bvet+QdsHWkEfSmhBzU5xQUDTfEHrKWpBVH99QaE4akGS21RB/2N+QaYDf0GUTFdBmrF/QRBsfUEqznJBOtVuQclQY0E9WX5BkYRrQdSMZkEMU3RBr35yQcTGfUGPp25BFyJ9QV1Nc0HtkHZBBkR1Qb28ckEkkGNBxoN9QZO8fUFNGHxB0KFeQREqd0HqzVdBadBxQW/0WkEWxl1BcJuBQcC3bkFZeHlBUCVuQcCgckE2JnFBR1hcQZc/VkEmuWdBhbFnQWk0b0HLtXhBpRhWQYNZfkGJOnhBQUF9QcCeXEEHumRBavlbQWkucEHE03lBH/llQR8EbkE9KVVBFM1iQd0vgEFBkHJBPbpdQSsNb0Huf2hBTJlkQbz4YUFBT25BOnxpQVUQbUFahnVBFzl1QdK+gUFV3lZBCshcQfsdekFtbV5BGBZ/QRHmVEHG+HNBlf1yQYvye0EV43hB39YeQbOxaUExylRBL+5zQVH8fkFlvnNB1aV1QROlfEH7L15BeY92QUe8bUFJsH5BNi9yQf5pdUG5RHlB8NNUQYbagUGwKndBIJhwQfDxbEEv0m1Bjjp9QR+weEHIj4BB97pkQbbqdEG/VXFB4e9+QfHDf0GYJVxBW3hwQYiUf0GszVtBcWl5QasocEFgAXpBHUJ7QSojeUGKPmlBOOduQQ==",
          "dtype": "f4"
         },
         "y": {
          "bdata": "bnMCQeS+80CiFPRAUeL3QMwnAEEtYONAGH34QBFa80CJ1+FAS9frQPhG80A/t+JA1N7lQEAvE0FiYQdBwt7BQBqd+kAyAvlADrjuQKMg5UAGOvBAEt7sQAIa9UAro+5A/NsAQa1N/kAvuO5A+rgEQd3IAkHVBeNABsroQFQ/3kB/PQJB5qL9QF298EDc2ABBMonyQA+v/kCxY/RA+rb1QAya7kDZXvRAQ5rxQCV94UBwBwVBA6L0QJmO60CfsuhAIKz5QCyDAEErpepAIVTxQPzB50DZSQBB1W3iQAnp+0DWbgJBeejEQJP6/kApuPRAchLwQNPn4kAcou1ACDwBQaiE70C9lPRApJv6QK0J3kC8BuRAEjD3QEoH/kCF69tAI8f6QDai/0A2q/xAo1f0QPKT9UBElABB8/X/QFu55EAxkPNASprxQG+F5EAhNOhARrzyQBuI4kBwD/dACLbzQKY1BkFbDNxAtRUBQYdC40AkNQdB3Vz8QDRY9EA4RQVBzNHkQBF6+UD30vtAb/TuQL5Q8UBMCONAOFz2QIzn4kDl8wNBKZ8DQZKR9UBC4PFAtGHxQGLo6kCWs+JAZeniQKNx9EDSS+tArR8GQegy9kCfEfZA/k/zQLkD80BvFfRA3jvyQLiQ5kBXxedAVmP7QDZi3UCmQ+1A19oBQXhb/UDgfOpAmw3gQDR19UAziu9AHjr0QBhB9UBJVAFBUP8AQQoX/0AQ5QRB8LHqQBcC80AUQvhAYGXuQI2EBEFA6QdBRXnvQD9g6kCB1dxAVDMHQdY0AUGwMPJAVD7tQIuj8ECxsttAOwfzQO1o20CqufhA0IXzQA==",
          "dtype": "f4"
         }
        },
        {
         "hoverinfo": "text",
         "hovertext": [
          "black hat, grey shirt",
          "wow, interesting breakdown. insightful.",
          "cool. another world economic forum video",
          "as i watch this i can't help but wonder \"how much of this is as true as it's being made out to be?\"  no offense, it's just you've seen so authoritative in the past and been called out a bit, it's hard to know which things are going to be subject to 'clarification'.  anyway, very thought-provoking either way.",
          "did you already change the cover picture for the video or am i crazy!?",
          "another great vid clapping_hands",
          "to anyone interested in history and geopolitics, remember this is purely an entertainment channel by a journalist social justice warrior. this channel provides oversimplified and often incorrect summaries of complex subjects, and should be viewed as such. the graphics are top tier though.",
          "i still cannot believe how many people are soaking bias and propaganda by this channel, its just insane.",
          "this guy does his sponsers like hes being held gun point hes so jittery lol",
          "lovely break down! thxs",
          "buen analisis, objetivo e instructivo.gracias.",
          "production quality that is this good for so long needs to be studiedred_heart.",
          "why you shouldn't avoid it?just a suggestion",
          "i love how you can make a min video and i will not be distracted or bored for a single one of those minutes",
          " seconds in: well any graph is flat if you pick a maximum y value that's over  times the maximum value...but i like the rest of the video, nice work!",
          "you are among the most infointeractive journalists, and your videos among dome more channels help me go through my depression and anxiety from time to time. so i thank you.",
          "unsubscribing, hit another low",
          "your thumbnails are getting awesome. btw",
          "thanks for the spanish version red_heart i love your channel",
          "this guy repeat fake news narrative.",
          "thanks for sharing it. victory_hand",
          "tunnel vision is a great name for your new channel, you're blind. and i think you need a search party to find your principles.  you're a fallen journalist. i'm so disappointed in you.",
          "what happened with the previous video cover ?^^",
          "big fan of your platform bro keepitup from ethiopia",
          "one of the most insightful videos i have watched in a long time... so i subscribed, i'm impressed.",
          "you are the best",
          "last video was a snooze fest. this looks interesting tho eyes",
          "lot of errors in this piece",
          "i wonder... when i see your thumbnail, title, and video length in the morning and it is super clickable, but i don't have time to watch it... then i click it in the evening when i have time, but it's a less clickable thumbnail or title i might have skipped if i didn't see the one in the morning... (honestly i never would miss one but this is hypothetical.Confusiondoes that mess up your stats/experiments? obviously not from my one case, but surely i'm not alone, right?",
          "i watched that two times and just came to put the commentsmiling_face_with_open_mouth_&_cold_sweat  you're someone that are,that i come to watch every time and i learn something new! thanks budfolded_hands",
          "we still think this guy is credible after misleading people and deliberately leaving out important facts ? just because he orchestrates his videos very well, that doesnt mean he is genuine",
          ": are you going to show us how through a western bias, dramatic music, a lot of slow unsure affirmations, maps and a small amount of information but when edited together seems quite convincing?",
          "the fact that we get free videos on youtube by mister harris is truly priceless!  clapping_handsclapping_handsclapping_handsgreenland for native greenlanders, europe for native europeans, africa for native africans, america for native americans, asia-pacific for native asians-pacific islanders. person_shrugging",
          "you are heavy biased",
          "another great video! hailing from finland - made a lot of sense of our internal politics and the horrendously wide-open overton window that i see in the news.",
          "great visuals, could provide any resources to be able to do similar fluid visuals",
          "i hear violins, i click away.",
          "can you give me a list of your background music.",
          "a little bit misleading, a lot of errors",
          "this video would have been more useful  years ago",
          "many mistakes in this video and biased. but good attempt",
          "thanks from sudan red_heart",
          "this was interesting. thanks.",
          "your videos are awesome, always",
          "this guy just gonna keep making the same video over and over again",
          "mr no shampoo is balding wash your damn head",
          "and disturbing part is.. we now know all this ,and cant do nothing about it ,why are people not more interested in this stuff ?",
          "is tunnel vision just christophe's channel? it's cool if it is, i just can't find it otherwise.",
          "great journalism as always and content is spot on. always learn something watching your channel. much appreciated to you and the team.",
          "useless video. you always surprised us with inside info.",
          "this is an entertianment video.",
          "this video was so interesting. thank you for making this kind of educational content",
          "i love you and your videos soo much",
          "very surface level info with enough production value to satisfy the youtube business model.",
          "wow. so enjoyable to watch and very informative on global affairs.excellent workclapping_handsclapping_hands",
          "a questions about sponsors. i get that they help the creator make more videos for us to watch but does it matter if just skip forward through the add?",
          "the graphics on this channel are very beautiful.",
          "nicely done.  good research and excellent presentation.  bz",
          "i've been arguing this to people for years nice to see a video on it",
          "the bias in his videos is getting louder while still somehow remaining quiet",
          "the hbo and netflix analogy was spot on lol",
          "not trying to be a hater but hear me out. you really need to get a military advisor to chop your stuff. if you don't know what that word means (i will give a hint,  you cant just google it easilyConfusion then i kind of proved my point. a lot of your military specific knowledge is very amatuer or naive, which is not something i expect from a huge channel with plenty of funds. a real historian and comtemporary analyst should review your stuff as well, and it should be someone getting paid... i get that this type of content is catered to people who know literally nothing about these topics but if you want to take yourself seriously as a 'journalist' i'd consider this.",
          "and with this, made sure to click the \"don't recommend channel\" button :d!",
          "first time i give a like to an esfj. you do a very important work man",
          "lol rigorous independent journalism isn't what i would call this channel when the last video i saw of yours was an apology for that rigorous journalism.",
          "this is very dumbed down for something that doesnt need to be",
          "who told you to make videos % faster?!",
          "there is no way anybody takes this guy seriously.",
          "fix your hat i near unsubscribed, god damn.",
          "lose the toboggan dude! vulcan_salute",
          "do people really just read a title without listening to the video and make a wrong opinion? smiling_face_with_open_mouth_&_closed_eyes",
          "congratulations for this video. well-balanced and very clear. please continue with this work. sincerely jp",
          "mind blowing video red_heartred_heartred_heartred_heartred_heart",
          "i dont like this video dont feel like i learned anything new",
          "biggest no shit video ever.",
          "why do you delete my comments? i wrote about your inaccuracies in stories and you delete the comments?",
          "insightful reporting and discussion",
          "this is a particularly good video.  spot on.",
          "very good breakdown an easy to digest. very objective and non-biased.",
          null
         ],
         "marker": {
          "opacity": 0.5,
          "size": 5
         },
         "mode": "markers+text",
         "name": "2_this_video_you",
         "text": [
          "",
          "",
          "",
          "",
          "",
          "",
          "",
          "",
          "",
          "",
          "",
          "",
          "",
          "",
          "",
          "",
          "",
          "",
          "",
          "",
          "",
          "",
          "",
          "",
          "",
          "",
          "",
          "",
          "",
          "",
          "",
          "",
          "",
          "",
          "",
          "",
          "",
          "",
          "",
          "",
          "",
          "",
          "",
          "",
          "",
          "",
          "",
          "",
          "",
          "",
          "",
          "",
          "",
          "",
          "",
          "",
          "",
          "",
          "",
          "",
          "",
          "",
          "",
          "",
          "",
          "",
          "",
          "",
          "",
          "",
          "",
          "",
          "",
          "",
          "",
          "",
          "",
          "",
          "",
          "2_this_video_you"
         ],
         "textfont": {
          "size": 12
         },
         "type": "scattergl",
         "x": {
          "bdata": "MdUqQRBLNEEUUDRBURU0QUprK0ECrzJBz/k5QUmaOEHwIzBBakcyQbJLNEE89ilBf1wxQUBSK0FPWTFBHwI5Qe3uK0FFvyxBdDIqQQ/XN0GAcTJBl3o4QbSiK0HCnipBVG8yQVwkLUGqLS5BR4UyQb70KkGvNzJBelw1QWMUNUFEiDZBcao2QUu3M0Hu9i1BzuIpQes9LUHzfzNB9GExQTwRM0G/ZSpBMJMyQWw+LEGJlDFBve4qQWCBNEHrUTZBu004QW9HLkHHMC5BVSkyQU9gLEE6cjFBGho5QXkvL0EU6ixBX84yQRzHMUHSkDZBwQUzQcqzOEGYki1BUrQyQXqVOEFJ6DFBtGEpQdu4MkE0tipB+lwrQSaHKUGS3zFBnLMqQWVlMEGGkyxB8TA3Qc4AOUEUIjJBV2M0QfQiMUE=",
          "dtype": "f4"
         },
         "y": {
          "bdata": "BW97QLQZOkDnBEFARLJSQPpUVkCrBDRAmm90QMicfUAyQ4BAPCY1QBCMNUB4dTJAegdTQDFRO0DaxD1AKi1EQG+LZkBWEzZA9t8yQLtNgkDuuTZAKGFrQOSIW0AtATJA6mRBQB7tMUAW7ldAJxhpQKrYS0DQbz9A5Px3QK5DYUCkrzlAACF4QHVrP0DiaTVAaL1dQEEFPUACgWpA581SQM+6aEBbiTBAcl04QIxqNUAxiX5AIKR0QD/aVkCpnmpASGpFQGijZECeTk5AJC8/QJ0HNkAJO2NAVSU+QCzDckAbJzhA2rI1QHFDT0C95HdAUhhBQOnicEAIEFNA4l08QOR6bUDEB2xArxJGQNmog0B/jHJAwrhxQE8yXEDGwDpAn4EzQMh5XEDBamVA5AZzQL3JQ0CdQEVAgfA4QK3TUkA=",
          "dtype": "f4"
         }
        },
        {
         "hoverinfo": "text",
         "hovertext": [
          "so urakrain is a proxy of europe and usa(natoConfusion",
          "ukraine war is a proxy war started by america in . victoria nuland was on the ground overthrowing the government. admit it, johnny.",
          "the us is using ukraine to weaken russia",
          "the mental gymnastics to not call the ukraine war a proxy war is hilarious",
          "so you admit the biden admin took stalins place in upholding the ukrainian proxy war against russia.....",
          "is the ukrainian war not a prime example of a non-proxy war? for the first time since world war ii, one of the patrons is directly involved in the invasion of a sovereign country.  \rit breaks the pattern. there has indeed been an increase in proxy wars, to the point that the patrons are now willing to become hands-on with these conflicts.",
          "is haiti going through a proxy war as well cause i was told by my dad who still lives there, and is heavily involved in politics, that there has been some chinese and russian presence along with americans, and the un is basically not helping.",
          "european proxy of usa.",
          "the russo-ukrainian war is an imperialistic war. russia wants its colony back!",
          "ukraine is % a proxy war",
          "this is why i feel more foreign policy needs to be directed towards alliances and putting direct war on the table. ironically to prevent war. my take is when russia was amassing troops on the border of ukraine. the bold choice would have been to directly announce provisional nato status to ukraine, thus placing it under article  during the admission process. likely avoiding a conflict. ukraine likely was a roadblock here as they did not want to give up claim to crimea. which that would have required. but that move could have prevented a lot of fighting.",
          "ome thing about ukrane we offered to defend them if they gave up thier nukes. to russia lol",
          "sorry guys, anyone can explain, a little bit about what are the different between proxy and non-proxy war; why ukraine doesnt count to be proxy war? or just backed by western countries?  what is the boundary of non proxy and proxy itself till we can decide whether or not it is or it is not?",
          "you can still consider ukraine as a proxy war, when you consider who is helping russia. sure, russia is a super power fighting its own war, but china, nk, and others were getting some gains there.",
          "the usa did not want to fight russia in ukraine, whether putin did or not although putin did want to fight the us by arming iran, lebanon and the palestinians against israel to draw attention away from the war in ukraine.",
          "no nukes, no mustard gas, no bombing civilian infrastructure without a weeks notice to evacuate, tanks jets and ships are good, no war crimes, winner takes all",
          "\"let an entire country burn just to embarrass an opponent\"  - the ukraine war in a nutshell.",
          "why no mention of the fact that the us is no longer backing ukraine and is virtually in the process of siding with russia?",
          "you should go to donbass and tell people there that russia kidnapped children they will laugh at you.",
          "about the russia and ukrain war, there's one question why russia started invasion? because it wanted to prevent ukrain joining  the eu, why? because if ukrain did join the eu they would place their troops russia's borders which causes a threat to russia.",
          "this makes sense why trump stop giving money to ukraine and pulling out of the un",
          ": usa started the proxy war in ukraine for business (eu gas marketConfusion and to debilitate russia",
          "i also do not think that in the case of ukraine the eu can only be seen as a patron. for ukraine this was is about becoming a member of the eu, and the eu largely sees it the same way",
          "ukraine is more like the vietnam war in reverse, because the russians are one of the main combatants.",
          "how is ukraine different than vietnam or afghanistan?",
          ": this was exactly the situation with u.s. backed ukraine while dangling nato hopes, never to be reached. ukrainians suffered for it.",
          "i think ukraine is definitely a proxy war. not half proxy. we also have korean troops on the russian side, and chinese technology. european and american defense systems. armies all over the world are paying attention to that conflict because that is our first modern war, with technologies we have never seen before in the battlefield. all want to participate on it, one way or another, because they can learn new tactics. they are using a country that is not theirs to practice. and the real people suffering are the ukrainians.",
          "are we speak about ukraine ?when we say proxy ?",
          "the united states is fighting a proxy war in ukraine.",
          "ukrainian war is indeed a proxy one.",
          "i've been an avid supporter of ukraine for a while now. even though i understand it's a proxy war, i believe it's in the best interest of us and our fellow allies. we can't allow bullies to take what they want when they want. it's not the same kind of proxy war where we are involved in something we weren't before. we've been involved with ukraine and other european countries for a long time. and we should treat ukraine as an alliance with the u.s.",
          "another pathetic attempt to justify russia's invasion of ukraine!",
          ">ukraine is differentstill waiting to hear how. because it's the partisan conflict du jour between libs and cons in the u.s.?",
          "ukraine is no different than any other proxy war, stop putting spin on it. you research things so thoroughly, it's disappointing to see you not research this fully. look into the history of ukraines route of independence, the promises made to russia by nato after the the soviet union collapsed. \"not an inch east\". it also started as a civil war with the ukrainian state crushing the ethnic russians to the east, russia backed one side, nato the other, it then escalated. the current us administration has also admitted it's a proxy war. the path to the war in ukraine was started under george bush. watch some jeffery sachs (he gave a great speech to the eu, he was there during most of the important talks and historical diplomatic moments over the past  yearsConfusion. watch some john mersheimer too. do your due diligence.",
          "i live in finland and i'm afraid that we will become another proxy for us vs rus. joining nato and doing more military business with us if like going to that direction",
          "ukraine is not a proxy of the united stated, these people are fighting for thier existence to exist. they kicked out the russian puppet themselves as they are no puppet to us or russia. trump has turn away from ukraine",
          "why don't you mention the start of ukraine story. uprising in  and then classic civil war with patrons.",
          "as a ukrainian i do not see it as a proxy war.russians do not fight nato in ukraine, their government will tell them a lot of stuff they just choose what they like more, some yes, believe fighting nato. check their ministers, deputies, their children live in europe/usa and want to stay there, they own land and have citizenships. what they do is earning money of the war, and prolonging their stay close to government funds... and russian citizens just too chicken to do anything about itso, please do not try to find a reason like \"russians believe fighting nato in ukraine, now it makes sense\". no, they do not. and yes, it is unfortunately that stupid",
          "i am starting to see germany as a half-proxy war aswell...",
          "greenland about to become the battleground for another proxy war btw",
          "everything was proxi war until it gets to ukraine face_with_tears_of_joyface_with_tears_of_joy what a farce of an analogy . fool me once shame on you fool you  twice shame on me",
          "i like how his timeline conveniently  missed the invasion of ukraine in  and hamas .",
          "so now people could understand why trump wants to negotiate peace in ukraine.",
          "hahaha the hypocrisy when it came to ukraine",
          ": so ukraine lost already?",
          "usa biden administration proxy short on poland and pis party t.",
          "the day before russia invaded in the east the us state department warned all us citizens you know in case you wanted to travel to ukraine that the ukrainian government is one of the most corrupt on the planet, and to literally watch out for the nazis in the east. . .  wtf.  i'm not saying putin's a great guy but jesus christ even a broken clock is right twice a day.",
          "*british boris* sabotaged the peace deal  years ago. w. t .a. f.",
          "i quite understand why you picture it that way and appreciate that you underline that those conflicts are usually not articilially created by patrons but grow as internal wars. and you almost got it.but to put that usa sent soldiers to korea and vietnam \"to prevent from turning this country red\" is understatement. usa came to aid an invaded country, in korea it was even un mandated mission. you could also say that ww was proxy war between usa and usrr when those patrons involved in european conflict and stalin just switched sides in  to the allies. i know, the line between \"real war\" and \"proxy war\" is very thin and curvy, but that is why we watch good journalism: to have complex issues explained in a fair way. because as you said in ukraine part: when you are attacked, you muster every support you can to defend.",
          "the ukraine war needs to end soon",
          "this is why america should not pay for ukraine war.",
          ". saying that war in ukraine is a proxy war is repeating russian propaganda. it was always russia fighting ukraine, just  trying to mask themselves behind \"local militia\". . it cannot be called proxy war according to what you said at the beginning. two powers inside the country. here russian invaded, like their army entered internationally recognized borders of ukraine (twice , Confusion. . us, uk, russian, ukraine signed budapest memorandum, which saiTongue_sticking_out_cheeky_playful_or_blowing_a_raspberry ukraine gets rid of the nukes, others will make sure ukraine is safe. so they are helping not extend their influence, but because they talked ukraine into destroying their nukes. scale and consistency is a question that we should ask them. . finally, we, ukrainians, don't fight for us, uk, eu interest, this our existential war, our independence war from blood hungry despot russians that for centuries were oppressing nations in this part of the world. they are imperialists, who didn't have their much needed defeat in the era of empires, to become normal country like uk, france, netherlands, spain, austria.if we had nukes, they would not dare to attack us, but we don't have them, so we fight with what we can.",
          "you are wrong about the ukraine war, do your research first then talk about it.",
          "there are only four sovereign nation in the world usa, russia , india and china , france a semi remaining others are just vassal / puppets .",
          "there is no any militia left in ukraine. it so plain war between ukraine and russia. where russia is aggressor.",
          "literally what us does to ukraine @ Happy_face_smiley",
          null
         ],
         "marker": {
          "opacity": 0.5,
          "size": 5
         },
         "mode": "markers+text",
         "name": "3_ukraine_war_to",
         "text": [
          "",
          "",
          "",
          "",
          "",
          "",
          "",
          "",
          "",
          "",
          "",
          "",
          "",
          "",
          "",
          "",
          "",
          "",
          "",
          "",
          "",
          "",
          "",
          "",
          "",
          "",
          "",
          "",
          "",
          "",
          "",
          "",
          "",
          "",
          "",
          "",
          "",
          "",
          "",
          "",
          "",
          "",
          "",
          "",
          "",
          "",
          "",
          "",
          "",
          "",
          "",
          "",
          "",
          "",
          "",
          "",
          "3_ukraine_war_to"
         ],
         "textfont": {
          "size": 12
         },
         "type": "scattergl",
         "x": {
          "bdata": "1uBsQYolcUE4bGtBI0lxQZ5kcEF9UHFBGMx1QadscEHcXGpBkURyQRuwbEHMlGJBtiNyQVfWdEFWDWtBItBhQfR9Y0H6MWxB0Y5gQezKbEFuvmlBnOFsQae7bUEAZ3JBXSVyQQ8CbUHC+nRBIj1yQTdvb0H4AHRBBkBwQbYWZUGJC3FB5YJuQXGVbEHB9GpB91FvQbroakFfoXRBg/1zQVFabEFCAlBBja5rQQghYkHf4mZBbRJwQWOFX0FsP2tBm8FvQfEWZUFqCGlB/e9qQQ2TZkEIlF9BdwFrQUAYXkHLxWtB",
          "dtype": "f4"
         },
         "y": {
          "bdata": "Ad25QJgkvkAyz8tA4jm9QAfowUBhsLlAVG7GQF75wUC6ELdAXUvAQF/wtkBx1KlA9Wm7QOL8wUAyt8RAqEO0QMiDskC4NsVAS5+yQDfgtkADCbpAbFHHQHvbt0ATnbZADM+1QNtltkATqsNAaRe9QNLpw0D/F8JASF+9QL27skA2L7RAde6zQOhBuECe4LlAtISyQB5vtUAQNMNAdwrCQM1ltUCTerlAWNO3QEw7skDbBrVAKrvFQI41tUCktrVA6Nu5QEPTtEBLgLxA76a1QPaNs0CRHM5A0kW1QFtBsUA+sbpA",
          "dtype": "f4"
         }
        },
        {
         "hoverinfo": "text",
         "hovertext": [
          ": johnny, you forgot to take your trash out.",
          "johnny had all of johnnyland behind him, guy across town never had a chance. guy should have allied with izistan, it could have saved them both and little-leagueism. izistan surely had the incentive.i'm really happy with the half-proxy war label in regard to ukraine. i've always had a problem when people just give it a lazy proxy war label, without looking at the complexity of the situation.",
          "is johnny getting a divorce?",
          "they know how to throw a party in johnny land! wooo party_popper those guys are crazy!",
          "johnny please stay alive and leak more! party_popper",
          "johnny has been alledged to make so many mistakes by these comments, that i believe he should delve into fictional writing for games and film rather than make these videos on sensitive topics. with this kind of content, being wrong means you lose all value but at the same time with this video he has taught many concepts, trend, and ideas that people were not aware ofi love to play videogames because they have an incredible way to present complex matters such as the ones shown in this video. you can learn a lot from videogames and films, because the creators of these mediums create their work with a passion to spread their knowledge to a general audience.",
          "johnny you are getting lazy with your research.",
          "yet another masterpiece by johnny",
          "this video only touches the basicnow days, they infiltrate the government, law systems, corporate with a - year plan. get back to your books johnny.",
          "johnny boy! this was interesting! thank you!",
          "this is a really good vid johnny breaking it down modern geo politics and modern proxy wars for the avg person - i actually recently read an pretty good book by john mearsheimer - the tragedy of great power politics and this reminded me of that",
          "this video has such important lessons for iranian people. i hope we learn from the history.thank you johnnyfolded_hands",
          "johnny getting ratioed by youtube community comments is crazy",
          "hi johnny.please do a jfk video. thanks",
          "lol johnny says proxy wars are the new mode of conflict as if they havnt been the norm for us foreign policy since the korean war",
          "i bet this video was only made because johnny wanted to make his own maps",
          "johnny learns about proxy wars. spoiler alert: they aren't new",
          "half of these comments read as ai slop. good job johnny ignore the hate.",
          "johnny spent hours getting the beanie angle just right....",
          "i really would like to see johnny to go over the new jfk files that have been released",
          "we need you johny during these difficult times to examine and explain this craziness!",
          "hey johnny, good video as always.maybe you can make a video about how classified information should be handled, in response of the signal chat leak.",
          "imagine if nolan directed with johnny in it. oh boy",
          "thank you johnny. btw i'm from  and this was eye opening.",
          "johnny's hat is fighting a proxy war with gravity",
          "do the jfk files next",
          "johnnys work never disappoints well doneclapping_hands",
          "insert comment here: random person pretending to be a historian and \"fact checking\" johnny...",
          "johnny, this is a good video to highlight how modern conflict equations work. good work.",
          "well done, johnny! thanks for what you do!",
          "love the content johnny please keep it up. also i would love another video on iran specifically discussing their nuclear programs and what they mean for the us and global stage at large.",
          "johnny you are not reliable having ties with yes theory connected to scandal when matt had to leave as your buddy thomas was in bed with matts brother and what did you do you just promote them",
          "we all know how johnny is compromised and bought for.. Happy_face_or_smiley nice productions though Wink_or_smirk Happy_face_or_smiley.. usa - the mother of proxy wars: - pls show israel's nuclear bombstell why hezbolla and hamas were formed too - coz of israel and usa intervening and invading. illlegally occupying breaking international law-  nothing is above the law.(:Confusion gadaffi wasnt a dictator. it was an illegal coup the usa did destroying that country. usa interference in the middle east has been the worst for humanity. iraq..ukraine, israel all proxy watchdogs for the usa expansionism.",
          "the first time johnny has uploaded two videos with less than two weeks in between them in a long time lol. great video though.",
          "johnny is making less content to focus on serious and shocked face photoshoots for the thumbnails.",
          "damn dude, i love this topic. well done johnny!",
          "evolved johnny: look at this graph and these maps",
          "more information here one can learn than any news channel inmainstream could provide!!!! thanks johnny OK_handlight_skin_tone",
          "johnny, isn't the same thing happening in the political podcasting space?  tons of resources/access to conservatives, not so much from the liberal side.  a type of proxy war for our attention and vote?",
          null
         ],
         "marker": {
          "opacity": 0.5,
          "size": 5
         },
         "mode": "markers+text",
         "name": "4_johnny_video_this",
         "text": [
          "",
          "",
          "",
          "",
          "",
          "",
          "",
          "",
          "",
          "",
          "",
          "",
          "",
          "",
          "",
          "",
          "",
          "",
          "",
          "",
          "",
          "",
          "",
          "",
          "",
          "",
          "",
          "",
          "",
          "",
          "",
          "",
          "",
          "",
          "",
          "",
          "",
          "",
          "",
          "4_johnny_video_this"
         ],
         "textfont": {
          "size": 12
         },
         "type": "scattergl",
         "x": {
          "bdata": "aDANQcaYHkEQ7Q5ByuMMQSBgD0HpthBBpK4OQUOcC0Ew9xhBrc0OQcSZHEGkiRlB8YIPQbC5FEGLWx9BuFwPQarbHkEgcA5BSf8LQX9EFEEfPA5BbXgVQWDzC0ENQA9BV8MMQYMnF0HjOQxB/EEPQdo8G0GCCAxB8GQZQWoED0Hg/h9BCHUQQV87EEFd0Q1BhaEPQWCjDkEgJh9B5LkSQQ==",
          "dtype": "f4"
         },
         "y": {
          "bdata": "90HkQKxQ9EBRM+tA6MrlQEl160B3YutAcpPpQAHo5EAEt/BAyoLqQBmg80CxtPNAPzbqQH5H7kC23vZALSfpQElg9UAELOlAmXPlQFW87UAC9upATCvvQM7F5UB0velAdcXmQOBq7EDEv+VAEDbrQIuU8kADMOZArITzQBnb7UD7aPdAI8vsQOE07UD0zOhAtFvrQLDf6kAcePZA+ZPsQA==",
          "dtype": "f4"
         }
        },
        {
         "hoverinfo": "text",
         "hovertext": [
          "dude, where is the mention of palestine/israel in all of this? i was waiting for that climax",
          "where india come plays here",
          "the fact that you chose what clearly is based on germany and poland as your example countries well that was quite a choice and a half, maybe use abstract  shapes next time it felt really well not great to see that as a polish person don't just redraw borders of countries that have so much historical tension",
          "Happy_face_smiley,i feel as though there's a country missing from this list.",
          " - only eritrea-djubouti? are you sure?",
          "so it's like pal world.. but with countries ..",
          "where is israel on that map?",
          "Happy_face_smiley are we not missing one more country or what?",
          "example on map as poland vs germany? interesting choice , hmmm",
          "never spoke about palestine. perhaps because mr. shapiro was a guest. person_shrugginglight_skin_tone",
          ": \"an imaginary world, a fake map we made up\" hold up, that's europe",
          "Happy_face_smiley reminds me of captain haddock",
          "why would you put a map of europe with roughly germany and poland fighting in czech :",
          "and that's germany & poland & the czech republic.",
          ": proof that americans don't know geography",
          "and of course, palestine isn't nearly mentioned face_with_rolling_eyes",
          "at Happy_face_smiley who are you quoting?  you imply stalin, but you do not source...",
          "its really funny to me how much jeremy shapiro looks like ben shapiros partner jeremy boering lmao",
          "where does south america fall into this?",
          "wow a map with all the countries on it will be pretty educational for the average american",
          ": why is israel missing from the list of nations with nukes? everybody knows they have them, even if israel denies it. sure, there's no set date to israel's first test, but they were probably involved in french testing in , and there is a highly probable israeli test in  (an american spy satellite caught a flash of light near the prince edward islands, halfway between the continents of africa and antarctica. us satellites only saw these types of flashes in nuclear tests, so it's generally agreed this was a joint test between south africa and israelConfusion. plus there's the leaks in  by mordechai vanunu, who pretty much confirmed that israel was mass-producing nuclear weapons.",
          "ah yes the nonexistant countries of germany and poland. lets just assume them for a thought experiment lol",
          "thanks, jeremy shapiro for the ukrainian flag on your table",
          "lmao at you dancing around the topical blood on isreal's hands. this video sponsored by mr. shapiro or wtvr",
          "the map of ukraine is aConfusion wrong and bConfusion only shows russia as the adversity where it should have north-korea, iran and china as well if we're adding us and eu to the map",
          "why is this imaginary conflict over sudetenland?",
          ": that's how different countries map india differently.",
          "next time can you please mention yemen and what is going on there and how many countries is involved?smiling_face_with_smiling_eyes",
          "china is really the odd one out here huh face_with_open_mouth",
          null
         ],
         "marker": {
          "opacity": 0.5,
          "size": 5
         },
         "mode": "markers+text",
         "name": "5_map_israel_germany",
         "text": [
          "",
          "",
          "",
          "",
          "",
          "",
          "",
          "",
          "",
          "",
          "",
          "",
          "",
          "",
          "",
          "",
          "",
          "",
          "",
          "",
          "",
          "",
          "",
          "",
          "",
          "",
          "",
          "",
          "",
          "5_map_israel_germany"
         ],
         "textfont": {
          "size": 12
         },
         "type": "scattergl",
         "x": {
          "bdata": "JdFNQSMrMUFf8jNBBIZJQeiUSEF/ejRBOIBJQeg3SEHASjNBYYJNQXp6NEEM7EVB6x80QYqVM0HH9DRB2bNNQQ1sVkEDcktBKKRIQX2DNEHYZ0xBdjszQQXCTEFPx01B+/ozQXULNEG5SDJBc0lMQR1GSEGO20BB",
          "dtype": "f4"
         },
         "y": {
          "bdata": "AWS5QP9j10BsUs9AQKi8QEafwUD05c5A3xO/QEXMukBMidBAsIK2QCmSz0B4eLVAODTQQARB0EDfgtJAVfO6QFOPs0AIg7JAJvu+QPVSz0AC97pA4ZXQQCZqs0BvDrZAKYrQQG6nz0A9BNVATaa/QHXYvkCjWsRA",
          "dtype": "f4"
         }
        },
        {
         "hoverinfo": "text",
         "hovertext": [
          "i'm so proud of you mr. harris. but in all honesty, it's best for domestic stability, if you just cede to izistan. smiling_face_with_open_mouth_&_closed_eyes",
          "does johnnyland have links to the cia and mossad?",
          "i don't get the \"... johnnyland forgot to sign the kids of for little league and izistan is angry about it\" reference, what is that from?",
          "i am from izistan.",
          "im with izistan. no one messes with little league rolling_on_the_floor_laughingrolling_on_the_floor_laughing",
          "can't wait for the \"little league is a scam\" video coming soon smiling_face_with_open_mouth_&_cold_sweat",
          "i'm beginning to suspect that \"johnnyland\" and \"izistan\" are a proxy for some underlying, larger conflict...",
          "i oppose to call poland izistan okay, countries could be fake but the coastlines clearly aren't thinking_face",
          "main takeaway for me is to remember to sign your kids up to little league.",
          "jonny land = christian /land izistan= muslim/stanwell we all are learning face_with_tears_of_joy",
          "johnnyland would be a communist nightmare, high taxes, government monopoly and the false primise of free everything",
          "yes, it's so not acceptable to forget, especially kids' activities. we all have a reminder. just use it if you want to avoid war smiling_face_with_smiling_eyes",
          "is izzy planning to take over poland?",
          "how dare you miss the kids sports signup deadline!!!!!",
          "can't blame izistan, little league's a pretty big deal! shame johnnyland, shame",
          "izistan come on johnny",
          "ah the great little league war of ",
          "better to call one of them kurvastan",
          "as a brit i'm childishly chuckling at johnnyland",
          "luckily johnnyland and izistan have a strong interdependence on political, economic and financial levels these days. dzien dobry from johnnyland!",
          "sorry, but izistan is modified shape of poland! not cool to attack us, johnny!",
          "as a polish person i will from now on introduce myself as being from izistan.",
          "we would like a vox borders episode on johnnyland, please.",
          "seems like citizens from johhnyland are sleeping on the couch",
          "why do i have the feeling johnny forgot to sign his kids up for little league face_with_tears_of_joy",
          "ez istan, we get it bro face_with_tears_of_joyface_with_tears_of_joy",
          "jonnyland germany izystan poland smiling_face_with_open_mouth_&_cold_sweat",
          "izistan sound legit tbh",
          null
         ],
         "marker": {
          "opacity": 0.5,
          "size": 5
         },
         "mode": "markers+text",
         "name": "6_izistan_johnnyland_league",
         "text": [
          "",
          "",
          "",
          "",
          "",
          "",
          "",
          "",
          "",
          "",
          "",
          "",
          "",
          "",
          "",
          "",
          "",
          "",
          "",
          "",
          "",
          "",
          "",
          "",
          "",
          "",
          "",
          "",
          "6_izistan_johnnyland_league"
         ],
         "textfont": {
          "size": 12
         },
         "type": "scattergl",
         "x": {
          "bdata": "1h4cQbjiFUFqdBRByOQaQXiTEkFeZRFBgxsXQbfKGUH6JhFBFBAaQSq4FUGbuBBBKnMZQcJ4EEEw7xJB9r0YQfthEUGzNxlBmEkVQWY1GEH+5RhBeIMZQeGmFUGuBBVBdzURQd3DHkFdzRhBf4QaQY5/FkE=",
          "dtype": "f4"
         },
         "y": {
          "bdata": "U+y4QH4NyEAkcMlABIW6QOsyxkDdzcZArgHEQDqwvkBPK8lASa28QEdtyECihcpAOhW/QI39yUBg7cVAEFG/QDoKx0ARkr5AmtbIQLezwECWQb9AkDq+QE8LyUDbMMlA41XOQFsOs0BpvL9Azzq7QCobw0A=",
          "dtype": "f4"
         }
        },
        {
         "hoverinfo": "text",
         "hovertext": [
          "source: trust me bro",
          "are you still woke?honest question",
          "when someone says 'don't ask me for sources', then they're about to start lying and that's when i'm out lol.",
          "bro is onto absolutely nothing. not one important take my guy",
          "does anyone miss that \"take a look at this map\" intro?smiling_face_with_open_mouth_&_cold_sweatsmiling_face_with_open_mouth_&_cold_sweat",
          "fighting over deals, smh",
          "never thought i would say this but bring back wars version . face_with_tears_of_joyface_with_tears_of_joy",
          ": bro justifying and indirectly supporting one side",
          "bro is gagging for pooh",
          "honestly you don't know anything about what is going on, just fucking wow.",
          "does anyone miss that \"take a look at this map\" intro?smiling_face_with_open_mouth_&_cold_sweatsmiling_face_with_open_mouth_&_cold_sweat",
          "this guy could  say the sky is blue and make it sound like the worlds going to win face_with_tears_of_joy",
          ": - : you lost me right here, my dude",
          "let's take a look at the map face_with_tears_of_joy",
          "did someone say cheap... is it possible for an individual to sponsor one face_with_tears_of_joy",
          ": source: trust me bro!",
          "when you and your sister fight for the tv remote and big bro supports you then dad supports her then uncle joins in face_with_tears_of_joy",
          "bros talking about this like its not obvious face_with_tears_of_joy",
          "hidden rain village anyone",
          "very st guest and his literal very st sentence; \" don't ask me for references, ok? \" .... face_with_tears_of_joy face_with_tears_of_joy .... noiceee* ... #factz",
          "how is it possible that is in not original, bro",
          null
         ],
         "marker": {
          "opacity": 0.5,
          "size": 5
         },
         "mode": "markers+text",
         "name": "7_face_with_tears_of_joy_bro_me",
         "text": [
          "",
          "",
          "",
          "",
          "",
          "",
          "",
          "",
          "",
          "",
          "",
          "",
          "",
          "",
          "",
          "",
          "",
          "",
          "",
          "",
          "",
          "7_face_with_tears_of_joy_bro_me"
         ],
         "textfont": {
          "size": 12
         },
         "type": "scattergl",
         "x": {
          "bdata": "76AtQaDKM0HGJy1BZqAvQaiGJ0GyjzZBtYgnQdWSMUHKmi5BiGoxQeCSJ0EBuidBtBwwQRtXJ0Hc8iZBu3AtQeyFJ0GQdShBupwnQdxcKkGcTi9BAEcsQQ==",
          "dtype": "f4"
         },
         "y": {
          "bdata": "1AqYQHc3k0AAYZpAjqeTQMt+qUDp8JNAvMCjQPcIkkBFn5NAQ4iSQIdBqUAv6qJAeQyWQL5/qEB64aVAoy6ZQGdpokCjL6FAmeuoQK4znUBaMpZAjMecQA==",
          "dtype": "f4"
         }
        },
        {
         "hoverinfo": "text",
         "hovertext": [
          ": that is the wrong flag of rwanda since .",
          ": you said zimbabwe but show zambia, worth correcting",
          ": you say zimbabwe when the map clearly says zambia",
          "iwe did you just call zambia zimbabwe??",
          "so now zambia pronounced as zimbabwe",
          "thatwasn't zimbabwe that was zambia bro",
          "lumumba was not a soviet backed president(nor was he a presidentConfusion",
          "your s congo summary was terrible.Confusion belgium backed sessionists in katanga and south kasaiConfusion lumumba asked us for weapons and belgium said \"don't he's a commie!\" so eisenhower didn't. Confusion lumumba gets soviet weapons and kills south kasai people in a bloodbath for trying to secedeConfusion eisenhower fears lumumba would be \"african castro\" and the un didn't like lumumba's slaughter... it was almost called a genocide Confusion joseph kasavubu and mobutu leave lumumba's government and makes a new one and the cia and beligum backs them to remove lumumba.",
          "you used the incorrect flag for rwanda during the congo wars",
          ": thats not zimbabwe thats zambia. please alter this if possible",
          "calling zambia zimbabwe is crazy face_with_tears_of_joythey  different countries jonny i know cause am from there",
          ": zambia on the map, but you mention zimbabwe face_with_tears_of_joy",
          "that's zambia not zimbabwe we are two different countries we just share borders face_with_tears_of_joy",
          "hello johnny ! great work. but just one thing, what you called the republic of congo is actually the republic democratic of congo. they both are two different countries. cheers !!",
          "you said zimbabwe but showed zambia and its flag.  minutes in.",
          "to all concerneTongue_sticking_out_cheeky_playful_or_blowing_a_raspberry henceforth...doge is to be pronounced in the flemish vernacular, douche!please make a note of it.",
          ": hey johnny that country is zambia not zimbabwe",
          "bro how do you say zimbabwe when you have spent time editing the video to show zambia",
          null
         ],
         "marker": {
          "opacity": 0.5,
          "size": 5
         },
         "mode": "markers+text",
         "name": "8_zambia_zimbabwe_lumumba",
         "text": [
          "",
          "",
          "",
          "",
          "",
          "",
          "",
          "",
          "",
          "",
          "",
          "",
          "",
          "",
          "",
          "",
          "",
          "",
          "8_zambia_zimbabwe_lumumba"
         ],
         "textfont": {
          "size": 12
         },
         "type": "scattergl",
         "x": {
          "bdata": "euD5QNNn+EC8gPdArj/4QMXS9kCLbfhAdgT6QOLB/kD31/lACRf4QJ28+UC1BPlAhYT3QJNnAUHAhvhALzT/QMbp+0BvMvhABQ36QA==",
          "dtype": "f4"
         },
         "y": {
          "bdata": "Gr8PQZZaEEEarxBBsxwQQTvRDkG2XBBBkCoRQcHNEUFr4Q9BcFgQQd2sD0HOExBB9NAQQelvDEELYBBBbbUMQUaVDkFaohBBWc8PQQ==",
          "dtype": "f4"
         }
        },
        {
         "hoverinfo": "text",
         "hovertext": [
          "what an awful video, did no one else catch the moment he basically says syria only gas'ed it's citizens because of outside forces, genuinely disgusting and incredibly poorly researched. usually if you watch a video from a you-tuber and it claims that modern politics has a simple easy to understand feature and it's x thing i made a whole youtube video about, it's absolute nonsense... really wish people would actually listen to what is in the continence of the video and not just second monitor slop it.",
          "i think it's pretty stupid to say that libyans overthrew khadafi  !!! the u s. was responsible for the overthrow !!!",
          "really interesting to see the libya war has  sides, with france and russia against us and italy, even though they're good allies. all very interesting to see",
          "wasn't it the usa who supported an uprising in libya? also, could the us have backed off from the korean war too?",
          "usa and russia in libya.",
          "gaddafi was a leader not dictator",
          "the video was going well until libya. \"the people rose up and overthrow their leader\"??? objectivity and neutrality out the window. smh!",
          "assad never gased his own people. that is a western lie with zero evidence.",
          ": wait, france and italy are on opposite sides in the libyan civil war?....",
          "libya was toppled by the us",
          "jesus, the description of the lybian war as \"people just took out the dictator and then civil war starts\". like, really? not gonna talk about the usa direct interference in that one?",
          "france was on  side of the syrian conflict and then just switched sides face_with_tears_of_joy wassup wit the french or can we get an explanation on which side france supports and if both then why?",
          "the libya chart was unnecessarily confusing. withe countries arranged haphazardly and funding lines crossing for no reason. the flag bubbles used could easily have been split into two columns on either side of the country's map, with each column representing the support for each libyan faction. then instead of having several lines connecting onto the map, you could've just had  lines going from each column of countries to the faction on the map.",
          "\"gassing his own people\" ... pretty sure he didn't see it that way.",
          "bro in lybia people didnt rise up, nato invaded lybia and ruined the country",
          null
         ],
         "marker": {
          "opacity": 0.5,
          "size": 5
         },
         "mode": "markers+text",
         "name": "9_libya_the_people",
         "text": [
          "",
          "",
          "",
          "",
          "",
          "",
          "",
          "",
          "",
          "",
          "",
          "",
          "",
          "",
          "",
          "9_libya_the_people"
         ],
         "textfont": {
          "size": 12
         },
         "type": "scattergl",
         "x": {
          "bdata": "rDZEQT7WRkFQ2kdBO9FGQZH6RkFL2EZB1whGQcWvQ0EH/EdBY/tGQdLNRkHo50hBDINGQZUdREHnAkdBYIFGQQ==",
          "dtype": "f4"
         },
         "y": {
          "bdata": "7GjfQHuO7UDBiexA80PuQM2m7UCMdO1ALcfqQE324EDtEexA5ZvtQCAp7UBeIetAPPPrQEiO4EC2lu1A5U/qQA==",
          "dtype": "f4"
         }
        },
        {
         "hoverinfo": "text",
         "hovertext": [
          "falto colombia y mexico o no se si se conderaria guerra de poder",
          "ukraine war so did the usa army was training the man had to move to flee to avoid a direct war ..",
          "ukraine war so did the usa army was training the man had to move to flee to avoid a direct war ..",
          "usa are also afraid of russia can nuke the usa duh.. -.-",
          "usa and russia cant fight directly cause they  know usa will lose million of man and make him unpolipo duh ",
          "usa are also afraid of russia can nuke the usa duh.. -.-",
          "usa and russia cant fight directly cause they  know usa will lose million of man and make him unpolipo duh ",
          "usa and russia cant fight directly cause they  know usa will lose million of man and make him unpolipo duh ",
          "usa and russia cant fight directly cause they  know usa will lose million of man and make him unpolipo duh ",
          "ukraine war so did the usa army was training the man had to move to flee to avoid a direct war ..usa and russia cant fight directly cause they  know usa will lose million of man and make him unpolipo duh usa are also afraid of russia can nuke the usa duh.. -.-",
          "usa are also afraid of russia can nuke the usa duh.. -.-",
          "usa are also afraid of russia can nuke the usa duh.. -.-",
          "the us and russia never fought each other directly in the entire history of these two countries. to be fair, most of the time they were on the same side. russia even helped the us get independence given the fact that there was rivalry between the uk and russia. people forget history so easily.",
          "ukraine war so did the usa army was training the man had to move to flee to avoid a direct war ..",
          "ukraine war so did the usa army was training the man had to move to flee to avoid a direct war ..",
          null
         ],
         "marker": {
          "opacity": 0.5,
          "size": 5
         },
         "mode": "markers+text",
         "name": "10_usa_duh_man",
         "text": [
          "",
          "",
          "",
          "",
          "",
          "",
          "",
          "",
          "",
          "",
          "",
          "",
          "",
          "",
          "",
          "10_usa_duh_man"
         ],
         "textfont": {
          "size": 12
         },
         "type": "scattergl",
         "x": {
          "bdata": "jVhgQRPrYUGz7mFBlV1jQaYmYUGmdGNBBJJhQRVWYUGmcmFBfadiQR5vY0Fzz2NBeAphQXQLYkHB+mFBYRliQQ==",
          "dtype": "f4"
         },
         "y": {
          "bdata": "x/mWQMidiEBiUIlA7/2MQPFkkkCqrY1AefmQQATDkUDtR5FArImMQIkMjUAQno1A5m+SQAUbiUDvV4lAmkWOQA==",
          "dtype": "f4"
         }
        },
        {
         "hoverinfo": "text",
         "hovertext": [
          "please stop adding other audio tracks to your videos, it makes them hard to watch as they strt in other languages as youtube doesn't allow to set \"original\" as default disappointed_face dubbing is horrible...",
          "i would like to dub your vids into bangla, if you agree.",
          "what just happened white de spanish voiceover? i do not know if you hired a person or if it was ai. if it was a person, i world strongly recommend to gire a native sapiens speaker. the voiceover just feels floffy. spanish speaking people are not used to hear ai voices or strong accento. it is preferable to read subtitles t han hearing that butchering voice.",
          "speaking of podcasts please start a podcast",
          "stop dubbing your videos",
          "why are you not making videos in hindi voice crying_face please make this happen crying_face",
          "please johnny - deactivate auto translate in your video title . so annoying . # please stop auto translating video titles.",
          "merecemos un mejor doblaje",
          "hey, i am a mexican fan, i love your content and had always watch you in english as it is your first languague, i tried today to watch you in the translation you make in spanish and, it is not bad but it sounds completely as a robot, it is not a critic just a reccomendation, sorry if i had bad english, ty and super good content",
          "hmmm anyone else having audio issues ??",
          "add hindi audio for indian audience",
          "please, disable auto ai dubbing! let the user turn it on if needed.",
          "why youtube is forcing me to watch this video in spanish?",
          null
         ],
         "marker": {
          "opacity": 0.5,
          "size": 5
         },
         "mode": "markers+text",
         "name": "11_please_spanish_dubbing",
         "text": [
          "",
          "",
          "",
          "",
          "",
          "",
          "",
          "",
          "",
          "",
          "",
          "",
          "",
          "11_please_spanish_dubbing"
         ],
         "textfont": {
          "size": 12
         },
         "type": "scattergl",
         "x": {
          "bdata": "EF8bQYYaG0FEShtB0JMaQa3aG0GeChtBTusaQQw6HEHGuhtBnc4aQYHRGkGHpBpB6iUbQdIxG0E=",
          "dtype": "f4"
         },
         "y": {
          "bdata": "ChJOQKZgTUDCKk5Aa+JRQE81TEDRyk1AZ05NQL9nUUBwNUxAOY1NQNSVTUCuO0xA3GZNQBfwTUA=",
          "dtype": "f4"
         }
        },
        {
         "hoverinfo": "text",
         "hovertext": [
          "i'd like to see a johnny harris video about lumumba.",
          "johnny pro trump harris says what????",
          "johnny is on next level doing bullshit.he is openly biased towards eastern countries. he has no knowledfe what he is talking about. just his views on how war has been going on. someone pays johnny harris for this propaganda",
          "dear johnny harris, i think you would be the perfect person to investigate the atlas network and how they meddle in other countries like australia and new zealand. love your work. raising_hands",
          "johnny harris liar and fake. maybe you want to stop promoting russian propaganda mr. harris.",
          "how the ** is little johnny getting the view on russian invasion to ukraine still so wrong. in previous deleted video he made a russia to look like victim. now he makes ukraine to look like a eu backed militia fighting a civil proxy war against other militia... what the f**** f***. f***. we are f*****. us is lost with this point of view.",
          "johnnny harris liberation front",
          "johnny haris talking about ukraine -   how usa sending weapons and with no effect haha",
          "harris may be a plant",
          "jonny harris you are compromised",
          null
         ],
         "marker": {
          "opacity": 0.5,
          "size": 5
         },
         "mode": "markers+text",
         "name": "12_harris_johnny_he",
         "text": [
          "",
          "",
          "",
          "",
          "",
          "",
          "",
          "",
          "",
          "",
          "12_harris_johnny_he"
         ],
         "textfont": {
          "size": 12
         },
         "type": "scattergl",
         "x": {
          "bdata": "RwYXQS3jGkFS9hxBJQEdQSkuG0FaGB9ByRIZQa0MHUGKfxpBoysaQWdLG0E=",
          "dtype": "f4"
         },
         "y": {
          "bdata": "v5UDQRXbBUFrNwZB2ssHQf3HBUH9Mv5At88EQQC5BEFThwVBlnAFQTniBEE=",
          "dtype": "f4"
         }
        }
       ],
       "layout": {
        "annotations": [
         {
          "showarrow": false,
          "text": "D1",
          "x": 6.5562443971633915,
          "y": 7.581588119268417,
          "yshift": 10
         },
         {
          "showarrow": false,
          "text": "D2",
          "x": 12.626647341251374,
          "xshift": 10,
          "y": 12.818550252914429
         }
        ],
        "height": 750,
        "shapes": [
         {
          "line": {
           "color": "#CFD8DC",
           "width": 2
          },
          "type": "line",
          "x0": 12.626647341251374,
          "x1": 12.626647341251374,
          "y0": 2.344625985622406,
          "y1": 12.818550252914429
         },
         {
          "line": {
           "color": "#9E9E9E",
           "width": 2
          },
          "type": "line",
          "x0": 6.5562443971633915,
          "x1": 18.697050285339355,
          "y0": 7.581588119268417,
          "y1": 7.581588119268417
         }
        ],
        "template": {
         "data": {
          "bar": [
           {
            "error_x": {
             "color": "rgb(36,36,36)"
            },
            "error_y": {
             "color": "rgb(36,36,36)"
            },
            "marker": {
             "line": {
              "color": "white",
              "width": 0.5
             },
             "pattern": {
              "fillmode": "overlay",
              "size": 10,
              "solidity": 0.2
             }
            },
            "type": "bar"
           }
          ],
          "barpolar": [
           {
            "marker": {
             "line": {
              "color": "white",
              "width": 0.5
             },
             "pattern": {
              "fillmode": "overlay",
              "size": 10,
              "solidity": 0.2
             }
            },
            "type": "barpolar"
           }
          ],
          "carpet": [
           {
            "aaxis": {
             "endlinecolor": "rgb(36,36,36)",
             "gridcolor": "white",
             "linecolor": "white",
             "minorgridcolor": "white",
             "startlinecolor": "rgb(36,36,36)"
            },
            "baxis": {
             "endlinecolor": "rgb(36,36,36)",
             "gridcolor": "white",
             "linecolor": "white",
             "minorgridcolor": "white",
             "startlinecolor": "rgb(36,36,36)"
            },
            "type": "carpet"
           }
          ],
          "choropleth": [
           {
            "colorbar": {
             "outlinewidth": 1,
             "tickcolor": "rgb(36,36,36)",
             "ticks": "outside"
            },
            "type": "choropleth"
           }
          ],
          "contour": [
           {
            "colorbar": {
             "outlinewidth": 1,
             "tickcolor": "rgb(36,36,36)",
             "ticks": "outside"
            },
            "colorscale": [
             [
              0,
              "#440154"
             ],
             [
              0.1111111111111111,
              "#482878"
             ],
             [
              0.2222222222222222,
              "#3e4989"
             ],
             [
              0.3333333333333333,
              "#31688e"
             ],
             [
              0.4444444444444444,
              "#26828e"
             ],
             [
              0.5555555555555556,
              "#1f9e89"
             ],
             [
              0.6666666666666666,
              "#35b779"
             ],
             [
              0.7777777777777778,
              "#6ece58"
             ],
             [
              0.8888888888888888,
              "#b5de2b"
             ],
             [
              1,
              "#fde725"
             ]
            ],
            "type": "contour"
           }
          ],
          "contourcarpet": [
           {
            "colorbar": {
             "outlinewidth": 1,
             "tickcolor": "rgb(36,36,36)",
             "ticks": "outside"
            },
            "type": "contourcarpet"
           }
          ],
          "heatmap": [
           {
            "colorbar": {
             "outlinewidth": 1,
             "tickcolor": "rgb(36,36,36)",
             "ticks": "outside"
            },
            "colorscale": [
             [
              0,
              "#440154"
             ],
             [
              0.1111111111111111,
              "#482878"
             ],
             [
              0.2222222222222222,
              "#3e4989"
             ],
             [
              0.3333333333333333,
              "#31688e"
             ],
             [
              0.4444444444444444,
              "#26828e"
             ],
             [
              0.5555555555555556,
              "#1f9e89"
             ],
             [
              0.6666666666666666,
              "#35b779"
             ],
             [
              0.7777777777777778,
              "#6ece58"
             ],
             [
              0.8888888888888888,
              "#b5de2b"
             ],
             [
              1,
              "#fde725"
             ]
            ],
            "type": "heatmap"
           }
          ],
          "histogram": [
           {
            "marker": {
             "line": {
              "color": "white",
              "width": 0.6
             }
            },
            "type": "histogram"
           }
          ],
          "histogram2d": [
           {
            "colorbar": {
             "outlinewidth": 1,
             "tickcolor": "rgb(36,36,36)",
             "ticks": "outside"
            },
            "colorscale": [
             [
              0,
              "#440154"
             ],
             [
              0.1111111111111111,
              "#482878"
             ],
             [
              0.2222222222222222,
              "#3e4989"
             ],
             [
              0.3333333333333333,
              "#31688e"
             ],
             [
              0.4444444444444444,
              "#26828e"
             ],
             [
              0.5555555555555556,
              "#1f9e89"
             ],
             [
              0.6666666666666666,
              "#35b779"
             ],
             [
              0.7777777777777778,
              "#6ece58"
             ],
             [
              0.8888888888888888,
              "#b5de2b"
             ],
             [
              1,
              "#fde725"
             ]
            ],
            "type": "histogram2d"
           }
          ],
          "histogram2dcontour": [
           {
            "colorbar": {
             "outlinewidth": 1,
             "tickcolor": "rgb(36,36,36)",
             "ticks": "outside"
            },
            "colorscale": [
             [
              0,
              "#440154"
             ],
             [
              0.1111111111111111,
              "#482878"
             ],
             [
              0.2222222222222222,
              "#3e4989"
             ],
             [
              0.3333333333333333,
              "#31688e"
             ],
             [
              0.4444444444444444,
              "#26828e"
             ],
             [
              0.5555555555555556,
              "#1f9e89"
             ],
             [
              0.6666666666666666,
              "#35b779"
             ],
             [
              0.7777777777777778,
              "#6ece58"
             ],
             [
              0.8888888888888888,
              "#b5de2b"
             ],
             [
              1,
              "#fde725"
             ]
            ],
            "type": "histogram2dcontour"
           }
          ],
          "mesh3d": [
           {
            "colorbar": {
             "outlinewidth": 1,
             "tickcolor": "rgb(36,36,36)",
             "ticks": "outside"
            },
            "type": "mesh3d"
           }
          ],
          "parcoords": [
           {
            "line": {
             "colorbar": {
              "outlinewidth": 1,
              "tickcolor": "rgb(36,36,36)",
              "ticks": "outside"
             }
            },
            "type": "parcoords"
           }
          ],
          "pie": [
           {
            "automargin": true,
            "type": "pie"
           }
          ],
          "scatter": [
           {
            "fillpattern": {
             "fillmode": "overlay",
             "size": 10,
             "solidity": 0.2
            },
            "type": "scatter"
           }
          ],
          "scatter3d": [
           {
            "line": {
             "colorbar": {
              "outlinewidth": 1,
              "tickcolor": "rgb(36,36,36)",
              "ticks": "outside"
             }
            },
            "marker": {
             "colorbar": {
              "outlinewidth": 1,
              "tickcolor": "rgb(36,36,36)",
              "ticks": "outside"
             }
            },
            "type": "scatter3d"
           }
          ],
          "scattercarpet": [
           {
            "marker": {
             "colorbar": {
              "outlinewidth": 1,
              "tickcolor": "rgb(36,36,36)",
              "ticks": "outside"
             }
            },
            "type": "scattercarpet"
           }
          ],
          "scattergeo": [
           {
            "marker": {
             "colorbar": {
              "outlinewidth": 1,
              "tickcolor": "rgb(36,36,36)",
              "ticks": "outside"
             }
            },
            "type": "scattergeo"
           }
          ],
          "scattergl": [
           {
            "marker": {
             "colorbar": {
              "outlinewidth": 1,
              "tickcolor": "rgb(36,36,36)",
              "ticks": "outside"
             }
            },
            "type": "scattergl"
           }
          ],
          "scattermap": [
           {
            "marker": {
             "colorbar": {
              "outlinewidth": 1,
              "tickcolor": "rgb(36,36,36)",
              "ticks": "outside"
             }
            },
            "type": "scattermap"
           }
          ],
          "scattermapbox": [
           {
            "marker": {
             "colorbar": {
              "outlinewidth": 1,
              "tickcolor": "rgb(36,36,36)",
              "ticks": "outside"
             }
            },
            "type": "scattermapbox"
           }
          ],
          "scatterpolar": [
           {
            "marker": {
             "colorbar": {
              "outlinewidth": 1,
              "tickcolor": "rgb(36,36,36)",
              "ticks": "outside"
             }
            },
            "type": "scatterpolar"
           }
          ],
          "scatterpolargl": [
           {
            "marker": {
             "colorbar": {
              "outlinewidth": 1,
              "tickcolor": "rgb(36,36,36)",
              "ticks": "outside"
             }
            },
            "type": "scatterpolargl"
           }
          ],
          "scatterternary": [
           {
            "marker": {
             "colorbar": {
              "outlinewidth": 1,
              "tickcolor": "rgb(36,36,36)",
              "ticks": "outside"
             }
            },
            "type": "scatterternary"
           }
          ],
          "surface": [
           {
            "colorbar": {
             "outlinewidth": 1,
             "tickcolor": "rgb(36,36,36)",
             "ticks": "outside"
            },
            "colorscale": [
             [
              0,
              "#440154"
             ],
             [
              0.1111111111111111,
              "#482878"
             ],
             [
              0.2222222222222222,
              "#3e4989"
             ],
             [
              0.3333333333333333,
              "#31688e"
             ],
             [
              0.4444444444444444,
              "#26828e"
             ],
             [
              0.5555555555555556,
              "#1f9e89"
             ],
             [
              0.6666666666666666,
              "#35b779"
             ],
             [
              0.7777777777777778,
              "#6ece58"
             ],
             [
              0.8888888888888888,
              "#b5de2b"
             ],
             [
              1,
              "#fde725"
             ]
            ],
            "type": "surface"
           }
          ],
          "table": [
           {
            "cells": {
             "fill": {
              "color": "rgb(237,237,237)"
             },
             "line": {
              "color": "white"
             }
            },
            "header": {
             "fill": {
              "color": "rgb(217,217,217)"
             },
             "line": {
              "color": "white"
             }
            },
            "type": "table"
           }
          ]
         },
         "layout": {
          "annotationdefaults": {
           "arrowhead": 0,
           "arrowwidth": 1
          },
          "autotypenumbers": "strict",
          "coloraxis": {
           "colorbar": {
            "outlinewidth": 1,
            "tickcolor": "rgb(36,36,36)",
            "ticks": "outside"
           }
          },
          "colorscale": {
           "diverging": [
            [
             0,
             "rgb(103,0,31)"
            ],
            [
             0.1,
             "rgb(178,24,43)"
            ],
            [
             0.2,
             "rgb(214,96,77)"
            ],
            [
             0.3,
             "rgb(244,165,130)"
            ],
            [
             0.4,
             "rgb(253,219,199)"
            ],
            [
             0.5,
             "rgb(247,247,247)"
            ],
            [
             0.6,
             "rgb(209,229,240)"
            ],
            [
             0.7,
             "rgb(146,197,222)"
            ],
            [
             0.8,
             "rgb(67,147,195)"
            ],
            [
             0.9,
             "rgb(33,102,172)"
            ],
            [
             1,
             "rgb(5,48,97)"
            ]
           ],
           "sequential": [
            [
             0,
             "#440154"
            ],
            [
             0.1111111111111111,
             "#482878"
            ],
            [
             0.2222222222222222,
             "#3e4989"
            ],
            [
             0.3333333333333333,
             "#31688e"
            ],
            [
             0.4444444444444444,
             "#26828e"
            ],
            [
             0.5555555555555556,
             "#1f9e89"
            ],
            [
             0.6666666666666666,
             "#35b779"
            ],
            [
             0.7777777777777778,
             "#6ece58"
            ],
            [
             0.8888888888888888,
             "#b5de2b"
            ],
            [
             1,
             "#fde725"
            ]
           ],
           "sequentialminus": [
            [
             0,
             "#440154"
            ],
            [
             0.1111111111111111,
             "#482878"
            ],
            [
             0.2222222222222222,
             "#3e4989"
            ],
            [
             0.3333333333333333,
             "#31688e"
            ],
            [
             0.4444444444444444,
             "#26828e"
            ],
            [
             0.5555555555555556,
             "#1f9e89"
            ],
            [
             0.6666666666666666,
             "#35b779"
            ],
            [
             0.7777777777777778,
             "#6ece58"
            ],
            [
             0.8888888888888888,
             "#b5de2b"
            ],
            [
             1,
             "#fde725"
            ]
           ]
          },
          "colorway": [
           "#1F77B4",
           "#FF7F0E",
           "#2CA02C",
           "#D62728",
           "#9467BD",
           "#8C564B",
           "#E377C2",
           "#7F7F7F",
           "#BCBD22",
           "#17BECF"
          ],
          "font": {
           "color": "rgb(36,36,36)"
          },
          "geo": {
           "bgcolor": "white",
           "lakecolor": "white",
           "landcolor": "white",
           "showlakes": true,
           "showland": true,
           "subunitcolor": "white"
          },
          "hoverlabel": {
           "align": "left"
          },
          "hovermode": "closest",
          "mapbox": {
           "style": "light"
          },
          "paper_bgcolor": "white",
          "plot_bgcolor": "white",
          "polar": {
           "angularaxis": {
            "gridcolor": "rgb(232,232,232)",
            "linecolor": "rgb(36,36,36)",
            "showgrid": false,
            "showline": true,
            "ticks": "outside"
           },
           "bgcolor": "white",
           "radialaxis": {
            "gridcolor": "rgb(232,232,232)",
            "linecolor": "rgb(36,36,36)",
            "showgrid": false,
            "showline": true,
            "ticks": "outside"
           }
          },
          "scene": {
           "xaxis": {
            "backgroundcolor": "white",
            "gridcolor": "rgb(232,232,232)",
            "gridwidth": 2,
            "linecolor": "rgb(36,36,36)",
            "showbackground": true,
            "showgrid": false,
            "showline": true,
            "ticks": "outside",
            "zeroline": false,
            "zerolinecolor": "rgb(36,36,36)"
           },
           "yaxis": {
            "backgroundcolor": "white",
            "gridcolor": "rgb(232,232,232)",
            "gridwidth": 2,
            "linecolor": "rgb(36,36,36)",
            "showbackground": true,
            "showgrid": false,
            "showline": true,
            "ticks": "outside",
            "zeroline": false,
            "zerolinecolor": "rgb(36,36,36)"
           },
           "zaxis": {
            "backgroundcolor": "white",
            "gridcolor": "rgb(232,232,232)",
            "gridwidth": 2,
            "linecolor": "rgb(36,36,36)",
            "showbackground": true,
            "showgrid": false,
            "showline": true,
            "ticks": "outside",
            "zeroline": false,
            "zerolinecolor": "rgb(36,36,36)"
           }
          },
          "shapedefaults": {
           "fillcolor": "black",
           "line": {
            "width": 0
           },
           "opacity": 0.3
          },
          "ternary": {
           "aaxis": {
            "gridcolor": "rgb(232,232,232)",
            "linecolor": "rgb(36,36,36)",
            "showgrid": false,
            "showline": true,
            "ticks": "outside"
           },
           "baxis": {
            "gridcolor": "rgb(232,232,232)",
            "linecolor": "rgb(36,36,36)",
            "showgrid": false,
            "showline": true,
            "ticks": "outside"
           },
           "bgcolor": "white",
           "caxis": {
            "gridcolor": "rgb(232,232,232)",
            "linecolor": "rgb(36,36,36)",
            "showgrid": false,
            "showline": true,
            "ticks": "outside"
           }
          },
          "title": {
           "x": 0.05
          },
          "xaxis": {
           "automargin": true,
           "gridcolor": "rgb(232,232,232)",
           "linecolor": "rgb(36,36,36)",
           "showgrid": false,
           "showline": true,
           "ticks": "outside",
           "title": {
            "standoff": 15
           },
           "zeroline": false,
           "zerolinecolor": "rgb(36,36,36)"
          },
          "yaxis": {
           "automargin": true,
           "gridcolor": "rgb(232,232,232)",
           "linecolor": "rgb(36,36,36)",
           "showgrid": false,
           "showline": true,
           "ticks": "outside",
           "title": {
            "standoff": 15
           },
           "zeroline": false,
           "zerolinecolor": "rgb(36,36,36)"
          }
         }
        },
        "title": {
         "font": {
          "color": "Black",
          "size": 22
         },
         "text": "<b>Documents and Topics</b>",
         "x": 0.5,
         "xanchor": "center",
         "yanchor": "top"
        },
        "width": 1200,
        "xaxis": {
         "visible": false
        },
        "yaxis": {
         "visible": false
        }
       }
      }
     },
     "metadata": {},
     "output_type": "display_data"
    },
    {
     "name": "stdout",
     "output_type": "stream",
     "text": [
      "Processing jack_vs_calley_1000...\n"
     ]
    },
    {
     "data": {
      "application/vnd.plotly.v1+json": {
       "config": {
        "plotlyServerURL": "https://plot.ly"
       },
       "data": [
        {
         "hoverinfo": "text",
         "hovertext": [
          null
         ],
         "marker": {
          "color": "#CFD8DC",
          "opacity": 0.5,
          "size": 5
         },
         "mode": "markers+text",
         "name": "other",
         "showlegend": false,
         "type": "scattergl",
         "x": {
          "bdata": "AADAfw==",
          "dtype": "f4"
         },
         "y": {
          "bdata": "AADAfw==",
          "dtype": "f4"
         }
        },
        {
         "hoverinfo": "text",
         "hovertext": [
          "prayers for these  fine doctor's  safetyfolded_hands",
          "jihad face_with_tears_of_joy this idiot couldn't answer a single question from jack",
          "so too bad for people my daughter and my new grandson who they tried to force the vaccine on?  will having a conversation help if they or others are harmed while you talk or just too bad for them?",
          "no one is interested in your 'story' calley, we just want the truth.",
          "put jack and calley in the thunderdome, and let them settle this in mad max fashion.",
          "if you dont see through this calley guys words, your blind. dr. j. kruse calling them as he sees them. casey book with brother is bullsnot.stanford/ harvard all i need to know",
          "what beanie is that?",
          "great podcast but i think jack was a bit out of line calling into question the death of calleys mother.",
          "i know as soooooon as i get paid i haveee to join patron i need moresmiling_face_with_open_mouth_&_cold_sweatsmiling_face_with_open_mouth_&_cold_sweatparty_popper",
          "that lobbyists guy is double talking like a politician.  why would wef want him to write a book ? to gain credibility for misdirection.",
          "this guy is lying thru his teeth typical politician rest in peace america brothers and sisters get ready for one world order u will own nothing and be happy do your soul searching ladies and gents",
          "nobody makes that mossad comment about /... if it's true we should talk about the evidence for that and it being a control demolish.",
          "i am  % backing the man jack . i got the glasses from listen to the last one thanks",
          "if parents are that stupid to not know the difference between junk processed food their kids sick and dumbed down they have no business having kids and parents who even buy that type of book he wrote should have been told to not give their kids the vaccines! poor parents are not going to buy books on food to feed their kids. get real.",
          "wow! i wondered the same thing why aren't the people in the \"know\" so afraid of big pharma! i get it but if we all turned our selves to faith and god just maybe we all can tell the psychopaths to f themselves and shutdown big pharma murderers!!",
          "valley is such a libtard pussy liar",
          "most doctors are weak no backbone sad",
          "i i i i and like like like as well as laughing = fraud in my opinion",
          "harvard indoctrination is what i see",
          "calley doesn't not answer a direct question when jack ask. because he gains time by delays the answer to not make mistakes on the answer. he his a total fraud and does not care about any of americans health issue. but i would say that jack his risking he life to unfold the truth. jack is a hero.",
          "the fda pulls about ten drugs off the market per day. calley is wrong. we already have the data to know the shots are too dangerous.",
          "i have read many of the comments and i do not necessarily disagree with them, but i would like to offer a potential alternative consideration. think about all of the \"conspiracy theories\" going back decades that activists and journalists have tried to verify, expose, and publicize. how far did they get? not far. some may have even succumbed to early and questionable deaths, while others were imprisoned or publicly humiliated and discredited. the corrupt powers and the big money trail use mainstream media to brainwash the public. exposing the truth is a chronic and dangerous uphill battle. some times it may seem more safe to play along to get a foot in the door and to then show the bravery of jack and mary.  i personally appreciate that caley and casey means have shed light on the corruption of big food and big pharma, as well as helping people to make better health choices. i wish we had more people like jack and mary, in this uphill battle, and there are more out there, but unless we, the masses, are willing to be so bold and active also, instead of armchair quarterbacking, how far do you think we will get? thank you for this program.",
          "calley means is a jackass. thanks for shedding light on him!",
          "im probably more on jacks side but hes being childish and conspiritorial, esepecially with calleys mother. you have to have a conversation not just jab at people if youre trying to get somewhere",
          "america is the island the land of the lawyer, the land of the loophole, this lobbyist just goes to show how when one is selective and quote\" deliberately delicate with their word choice, one could essentially dance around the seriousness of any topic or issue and walk away on the moral high ground. what is happening is despicable and faith in a kennedy or a trunk to do anything is just absurd to me to think that anyone would even believe in a fairy tale thought like that",
          "jack would be dope if he could stop leveling more accusations at calley while calley is answering the question or previous allegations jack made about him. theres a reason more people dont believe the truth and its because they let it be bandied about by dudes without the ability to converse. jack just waits for his turn to talk the whole time.",
          "i can understand that jack and mary feel very strongly about their positions, and rightfully so, but their attitude (mostly jacksConfusion is frankly overly aggressive and off putting. a huge number of people still buy into the covid narrative and response measures. these are the people who need to be convinced, and it won't happen through someone like jack. imo, if he actually cares about his message, he should be more tactful. is calley some wef globalist agenda shill? i don't know, but neither does jack. he's making accusations with circumstantial evidence. everyone should be skeptical, but being skeptical also means being open-minded. jack does not come across this way and at many times seems very narrow-minded. regardless of whether jack is entirely right, he needs to be able to reach people in a more effective way. one of his big points of suspicion is, \"well why haven't i gotten as much attention as calley?\" from my perspective it's because he comes across in a very unpleasant and condescending way. he is shooting himself in the foot by carrying himself in this fashion and won't get very far with spreading his message.",
          "well one's influence is solely money... especially when it comes to big pharma.  lobbyists become lobbyists because money and lies are their game. so i would trust the brain surgeon before i ever trust anything a lobbyists says. lobbyists (professionals in the field of briberyConfusion have split tongues.... and they are loyal to the money that pays them... period.  sounds like he is trying to deflect and redirect blame toward medications (not jabsConfusion and the food system.  you can tell he is kikely being paid to be projab.... but won't let his own kids get those shots.   when someone won't say yes or no.... there is a reason.  likely a backroom deal behind closed doors reason.",
          "plus he just keeps talking rude!!!",
          "jack talks about what we did to the kraut ms and what we did to the japs but he doesn't realize that what he's talking about what the yankees are going to be doing to the yankees.  having said that i agree that he a doctor should be sent to guantanamo. maybe we'll let mary get a pass on  good behavior but definitely not him because he hasn't done jack shit.  all he did was retire. and then  days a week volunteer .  he nevter achieved his goals and he went to a s*** school so now he's trying to s*** on everyone else. what they used to say in the s is that guy's got to get laid but he's not going to get laid because no b** , even the former jewish head of our federal health agency  would consent.  .",
          "wow kinda losing lots of respect for cali meanes....... %",
          "thanks for posting this exchange. it certainly takes the shine off of calley means - exposes that he does not want to leave the golden hand that has fed him and that continues to smooth-pave his way. he is essentially just has pat, trendy phrases and no real convictions. illuminating!",
          "death certificates during the plandemic were all documented as covid !",
          "this dark hair doctor is deep state doctor.",
          "how do we see the referenced kieran interview or however you spell his name",
          "i dont trust his bullsnot either dr. jack. thank you danny jones",
          "looks like jack put calley's d*ck in a jar!  go get 'em, tiger! so great to see jack and mary cutting through the thick fog of calley's b.s.",
          "cally means is lying. he won't answer simple answers.  he's a scared liar.",
          "mr.calley means will need a lawyer soon...fool",
          "total jack count anyone?",
          "it's so obvious when calley is lying...constantly interrupting and attempting to shut jack down, just to squirm and say absolutely nothing. calley stfu and listen. you're disingenuous, not that interesting, and not important enough to listen to your trash propaganda story.",
          "whoa! calley really took a shit on himself on this one!",
          "this guy jack might be a genuine good guy that's just righteously pissed off and rightly so if what he is saying is true, but he needs to stfu and let calley speak. his attitude isn't doing his argument any favors imo, he's being very aggressive and condescending. not to mention that he thinks every other person or group that he mentions is some kind of a gotcha moment against  calley. meanwhile calley isn't trying to hide or deflect from anything.",
          "calley's use of the person's name over and over again is his attempt to control and humiliate...he's a jerk.",
          "\"nothing gets fixed\" because of people like calley. i wouldnt buy a used car from this guy and he expects us to buy his bs? face_with_tears_of_joy. not today, davos man.",
          "the prophet jack red_heartred_heartthe man is a legend smiling_face_with_halo",
          "the lobbyist, its obvious who he is beholding to.  it's gross and criminal but nothing will happen.",
          "in this podcast i'm starting to think danny j is bought and paid for too. stop interrupting, please sir.",
          "why does a person educated at stanford and harvard use \"like\" sooooo many times.",
          "one guy calling it the way it is.... another guy obfuscating the way it is.",
          "they literally released a  page document about covid response failures at literally every domain from the science, to the media, to fraud for relief funds. i guess this guy never read it.",
          "difficult to watch calley reminds me of a lawyer",
          "this was difficult to watch but very interesting.!!!",
          "seems like calley is a jew....all about lies and deception",
          "means is going down if he keeps acting this way!",
          "jack should start a journalism school",
          "he works for them",
          "it's scary how deep he is involved and dose not see it....hopefully y'all help himcrying_face",
          "they mentioned an episode with someone from the human genome project and the episode was oulled, which episode was that and is it avail on spotify/patreon?",
          "longer that the pharma guy wont answer the question, delegitimizes himself.  love the doctor.  straight, no bs, well versed, did his research.",
          ": sounds like an xbox live lobby face_with_tears_of_joy",
          "good episod! thank you for moderation of adults that can't have a regular conversation without cutting people off. lol it's amazing how incredibly immature activist are. if we cherry pick the relevant information and apply our own critical thinking, we can learn something here. although all parties are completely biased to their own agendas there a few intelligent things that aren't agenda or marketing  material",
          ":: yeah and tennessee is gonna put vaccines in food face_with_tears_of_joy",
          "jack rocks!! calley is a total tool, a politician, a condescending jerk and a slimy asset of the dark side posing as a critic of pharma but working for them. classic psychology...",
          "oh my god!  sponsored by a drug company that  sells cannabis products. hardly supportive of the overall message all of your guests supposedly stand for.",
          "omg  danny thank you for hosting this discussion.  i watched it twice, and the suit guy is so full of double speak, it was hard to sit through.   scary to think he's headed back to washington and speaking for us. no wonder us is in such a hot mess.",
          "jack. jack. jackkkkkkkk jack. jaaaaaaaackkkkkkkk",
          "hi, yes, can someone please get uncle jack on trumps team? that would make my  the best, thanks.",
          "jack is a fn rockstar! dude is a straight shooter. whether you like him or not",
          "calley waffles a lot to say a little",
          "my th child died  days after receiving her dpt jab which i was forced to have her have. it took years before it was banned. other children are autistic due to it and the other  plus they are now forced to take.",
          "jack really pisses me off. terrible, terrible podcast guest. i keep wanting to turn this off but i want to hear what cal has to say.",
          "what is more important. you ban one vax, or you destroy the whole system that created it... that's what calley is aiming for.",
          "whether jack is right nor not he just comes off like a giant prick. lmao i had no idea who he is but by the end of the first half i fucking hate that guy.",
          "oops!  just heard the psycho-narcissist, means, mention that he is trying to spread a message of light at/around the -hour mark.  what question should come to mind when the globalists mention light?  what kind of light?  get that. winking_face",
          "cally sounds like fauci...talk, talk, talk.! probably $$$$!!      jack and mary get it!!!  stop the shots!",
          "no more comments from me i swear",
          "jack, you are way too alienating and if you have information you want to give then just give it. stop asking leading questions and then not liking the answer you hear. bottom line, if you come at the government the way you are nothing will happen. you have to play the game and if the first thing you say is we need to ban the jab then guess what you will go nowhere and nothing will get done. jack, you don't let anyone finish any thoughts either.",
          "jack is an old school treasure.  droppin' hammers and truth bombs.  great episode.",
          "excellent job danny! this was a banger for sure. you have come a long way from filming drunken deckhands and i have been along the entire time.",
          "the moment i hear \"truth and reconciliation\" coming out of anyone's mouth who is even remotely connected to the government i know the person is full of it.",
          "can you frigging answer the questions lmao",
          "these people are scientologists... it's a cult podcast.",
          ": i was vaccine injured  years ago with all of those symptoms combined besides the tremors and i still havent recovered. covid blew the lid open on the fact that they are dangerous but people dont realise they are  all dangerous and that they've been covering up injuries since their inception including low level side effects like allergies. karma is coming for these people that have commited a worldwide sickness and death epidemic worse than any other humans in the history of mankind.",
          "calley, as you state that radical transparency is a necessary condition for this product to remain on the market, and we don't have even mild transparency at this time, wouldn't it make sense to pull the product until radical transparency has been disseminated to the people of the united states (and other nations which relied on assurances from the fda to approve the product in their nationsConfusion?  honestly, even you seemed not to know about the contamination and you are a well connected individual.  if you didn't know about this, how are people who don't have your connections going to be informed and have transparency?",
          "nah buddy, everybody doesn't \"have their inner-wounded-child\", haha damn.  you are something else. all you gotta do is a little research and you'll learn, there are actually only a very few of us, who actually have pain that's important.    i can't believe i'm being oppressed like this.",
          "all you ppl blindly following jack and not giving calley a chance are sheep yourselves. food is important. mrna should also be banned. jack is silly. their all helping americans imo.",
          "from an evaluation of emotional tone, jack is very antagonistic...",
          "five topics to fix society via discussion:-anti-natalism vs natalism -the  basic needs/prenatal needsthree things necessary for human evolution that are provided while in the womb which are; food, shelter and medical care.-platinum rule do whatever makes one happier unless it interferes with another persons ability to do the same.-mbti (research yours and connect with othersConfusion-art (pick one and get better at it!Confusion",
          "lol danny literally put his head in his hands when callie says thay thr wef contacted him directly to publish his book",
          "man is super frustrating that you interrupt debate to do your ads bud. i love the channel and content you provide but thats so irritating on every video rhat i had to pause and once again type this out. why dont hou just do an ad read break or knock it out at the beginning like lex? or if theres an intermission,  great. its just mid conversation, you throw it all off at terrible times and destroy the momentum and more importantly the focus on discussion",
          "so if a person goes to stanford or harvard, you are full of darkness?",
          "calley means did not win any fans today.",
          "hes a cfr shill to try to keep the institutions that we want to dismantle stay in tact. jack sussed it out  min mark",
          "wow. super unprofessional podcasts hosts, i can't watch this. the angry guy...well uh....we all know how many people it's killing and hurting. there is something way-out there though that he's too angry to even imagine could be going on. i hate it as much as everyone else if not more. i'm just saying.....wow.....not all has been revealed because our human brains are fragile and were not created to handle such revelations too quickly...remember all the insane asylums? we don't want that to happen again do we?? we've been lied to in so many ways, yes, but we can't assume we've figured it all out yet. we are still in the discovery and reaction stage. full disclosure can be dangerous to the human mind and sane minds are important now so we can do what needs to be done to protect our humanity. angry man....i agree with you, but try to remember and try hard to stay just humble enough to know we don't know it all. but stay angry enough to keep digging and digging and digging without causing a dangerous backlash.",
          "i think what jack is trying to say is answer the damn call to service jonah before you get thrown overboard and get swallowed by a whale and taken to hell for three days like jordan peterson said.",
          "i wanted to watch this because jack was on it.but i can't stand the others who just blather and interrupt.",
          "mr means, i feel your sincerity and yes sri and intelligence's are all directed by a specific agenda, when you put all the skull and bones and all the structure itself, you know you did not fit in the mold but you made compromises in yourself (ignoring call things conspiraciesConfusion to be able to have a career in such programming, you can call it brainwashing, just as long you go along they will not let you know more if you don't ask the right questions and if you ask the questions it is because you already know the answer. walking a narrows path that was set/ programmed before you. view it this way, they best keep you busy than truly aligning with your heart, i believe now at this moment you start seeing, it's one big vibe,if you think the way they want. you are chosen.",
          "jack thinks fitbits and cgms are more harmful than sugar and seed oils. i am not buying it. ive listened to low carb and fasting podcasts for  years. cutting out sugar and processed food heals people- almost miraculously.",
          "stanford being dark is odd to me",
          "take a shot for every \"jack, jack, jack\"",
          "i think jack should work next to mr kennedy,  i think each should have a staff of there choice,  although mr jack should seek the mina ball from the mount as the true medicail symbol makes adjustments global , and yes his knowledge and the way he presents the light in technology and nature is what we need globaly .light of true god. dendera.he is deserving of a peice of hey from the bow to the  arrows.no bitcoin for me, chit hurts my teeth .",
          "goddamn, so much politicking on one side and bullying on the other, hard to learn anything here",
          "the rich and powerful love cash! ask them if they got the jab and they did not! where did the flu go in !",
          "jack...jack....jack...jack....what a creepy dude.",
          "calley is a p*ssy who is following orders because he is scare. eat him up jack.",
          "the truth came ou! i am with jack. this guy is a snake .",
          "cdc protocol had my paraplegic son killed by his dr and hospital!  $, for respirator, $ for death!",
          ":: and the \"anti-globalist\" shows his lack of patriotism in saying \"screw my native country i'll run away to el-salvador\" face_with_tears_of_joy",
          "jack you need to calm down",
          "anyone else get the feeling that this is just like the \"matrix man\" vs neo.  the corporate suit is the tell tale sign. it screams money is my god over humanity.",
          "the young man thinks this is his podcast, he keeps telling everyone to hold on about  times. arrogance is such a turn off.",
          "fruit loop.... yourrrrrrrrrrrr outtttttta here!",
          "anybody who is a pharma lobbyist has't got a conscience therefore is not human! i am sure calley sleeps soundly every night and has the sweetest dreams!",
          "serious patrick bateman vibes..",
          "i don't trust this asshole either",
          "dr. jack kruse i really appreciate you for standing up for health and identifying without a doubt how globalist calley means is and how disappointing kennedy is. absolutely the jab and other mrn  should be called off the market and people behind this assault need to pay.",
          "drinking game: take a sip at the mention of jack",
          "jack stop being angry",
          "calley is a useful idiot.",
          "wow please listen and share.  at  hours and  min on.  calley is not who you think he is",
          "great interview, danny! after hearing this podcast and the first one you did with uncle jack, i subscribed to your channel! thanks for letting this extremely important topic come out. when the jabs came out, even before i studied up on the jab, i heard loudly in my soul! don't take this!! of course, afterward, i studied with various doctors like dr. mccullough, etc. i watched the roundtable with senator ron johnson, with doctors, scientists, patients, and representatives of close ones that died!!  among many other studies that included world statistics!   i knew when\"covid\" and  this jab came out.the world would never be the same! people would tell me that they took the jab and that the description of this jab, ingredients  and contraindications weren't on the paper with the box. it was blank!! who would take that?? to see all of the deaths even in my own small family happen, i couldn't believe this was not taken off the market. i've heard the ceo of fizer state that they knew this didn't prevent immunity!! i also  knew instinctively the game was genocide, early on!!   uncle jack, i  remember the day that i realized that our government has been lying to us all along! i don't  think i will ever believe the gov't and any  lettered agencies  ever again!   thank you again for this very important podcast!",
          "he hasn't lost loved ones yet due to that garbage",
          "sounds like government and phrama want a real war... sorry  to anyone who gets in the way!",
          "half of the podcast we listen word \"jack?\" \"jack\"? waste of tyme this debate",
          "calley \"i believe people should have the free will to take a product they have no fucking information about but not my kids\" signs of a snake.",
          "now i get it. this is why they brought the democrat rfk in...face_with_open_mouththey're not going to ban anything,  they want the money themselves.",
          "please, please have dr. tenpenny on this show! she knows about the facts about vaccines! the lord told me years ago do not take vaccines!",
          "always follow the money.",
          "twho people that agree with each other and  cant see it",
          "here is my observation - he wants to change woo woo consciousness and bring truth energy but he acts like acknowledging a globalist agenda to hide their control of governments and humankind through food, healthcare, wars is a conspiracy. that says everything.",
          "thank goodness this dude is speaking \"from the heart\" ... i was certainly worried about that instead of getting real answers...",
          "wait did he say he wrote a book about a trans flamingo? calley needs a hug and a padded room. throw that sister in there as well. i bet she is tougher than that guy. pretty sad. you go calle. get that flamingo and you guys go preen it out at brunch. leave fixing shit to folks that are interested in correcting your folks screw ups. so sensitive....",
          "i will never thumbs_down use vaccines or use the medical institute. the devil is real and he runs the world.",
          "every ribosome in every cell is under attack and their cytochrome p system is being hacked causing unknown damage!",
          "i'm a fan of jack, but he does have a condescending way of debating.  he comes off as \"i know all the answers before you answer my question\".",
          "when jack said....  \"your the gmo guy now\" the reality of what this means for people that took even one of these shots really hit me hard...  was this jab the mark of the fckng beast or what ...?",
          "surely the cov shot mandate being rebuked will kickstart the momentum to clean up the unhealth industry",
          "omg! calls talks sooo slow!!!",
          "who is danny? how does he get these guests and has no idea who council of foreign relations?",
          "i had never heard of this means jack@ss until today. holy cow is he totally and utterly obnoxious, and has zero idea how to have a conversation or dialogue. i hope to never hear from him again.",
          "thank you for really pressing calley on this subject, it shows where his loyalties lie. when the government added poison to alcohol during the moonshine era, would calley have just required transparency, or an outright ban of the poisoning?",
          "wow , this guy will not say yes or no . they really must go to school to learn to never commit to an answer . an answer so obviousFrown_sad_andry_or_pouting",
          "this pr dude smells like he contracted justine mk ultra language diseas.",
          "i think what jack is trying to say is answer the damn call to service jonah before you get thrown overboard and get swallowed by a whale and taken to hell for three days like jordan peterson said.",
          "all calley can come back with is 'like, like, like, like, ad infinitum.' terrible to listen to. a laborious, torturous  hrs of a wimpy, winey, wishy-washy, apologist for the people who've put up with him to achieve their political ends. a product of mkultra but doesn't know it. no political future for the guy, especially not with maga or maha. he's a rino at best, but not with the balls or required treachery involved. a democrat? yes he'd make a good supplicant democrat full of platitudes, dot point narrative.  a weak, low energy, gut-less person who does not represent maga-maha in any way. maga people will be appalled that he has influence on trump, the transition team, rfkjr or maha. a deep state supplicant. a mealy mouthed social climber, a career lobbyist (liarConfusion. how he's made it this far up the ladder is mystifying, but it seems pretty clear that he has powerful background support from what is (from a maga-maha perspectiveConfusion a nefarious and questionable background. like obumma had. glad kruse was there to counter his pre-planned narrative, and had done some research on him that was telling. calley wasn't sure what kruse would ambush him with next. all he had was a wordy expression of zero that the average maga supporter wants to hear. he's a testosterone free zone. yes, he talks a lot of crap with little substance. an entitled brat with ivy school degrees, no brains or any meaningful life experience. zero. a soy boy. interesting watching him squirm as he was asked simple questions that he wouldn't answer. true maga people come out and say it out loud, blunt and clear. backed up with facts, data, evidence or sound experience and spoken forcefully with confidence. this guy's got nothing.  he's not maga. he's a mouse. he's in it for himself. if maga people saw this episode they'd be worried. calley can't listen to words of experience. he simply doesn't get what jack kruse says. and kruse has a warm and wonderful way of speaking, with authority. calley has zero of that. he doesn't listen to questions, his mind is racing trying to find words to put together an evasive and in his head, believable non-answer. anyone who can't answer a straight simple closed question with either a yes or a no answer cannot be trusted. period. trump has to jettison this liability before he has any real influence. g",
          "@:: flashes devil horns? face_with_open_mouth",
          "how do you have true transpancy with incentivizing????face_with_open_mouth",
          "just watched the  hour podcast over a few days from a few months ago. and just found this one. happy to listen to other participants.",
          "this lobbyist is just trying to get rich by working in washington",
          "why would jack turn down rogan and tucker? he could call them out just like he did this guy",
          "this is all controlled opposition. you cannot even post the real issue. or yall really have no clue. but i doubt it.",
          "i work for the canadian air force and i was forced to take the shot or i get fired.. the first shot i took got me super sick. i refuse to give my kids the shots and they have been doing great.my baby got trough covid perfectly fone with no shots face_with_rolling_eyes",
          "Happy_face_smiley: well wef called me... face_with_tears_of_joyface_with_tears_of_joyface_with_tears_of_joy",
          "according to calley, maha is most deeply concerned with children's health.  if this is true then the majic juice would, of necessity, be a priority concern for this organization.  why? there is a % increase in child endings at this time.  this increase coincides with the introduction of child juice.  if this were purely a matter of food these ending would not have occured.  thank you for airing this important discussion.",
          ":: is a classic few moments that are, i think, prophetic! ...edit: followed by a statement:  ::  Happy_face_or_smiley",
          "had to shut this down  minutes in. most unprofessional display of \"wits\" i have ever seen.",
          "this soft serve pleases you and never answers the question....are a fraud or, are you legit?",
          "calle definitely is fake..% voice and hands fake..sounds more like a fake politician...jack is a monster, love the guy...",
          "\"we should burn it down.\"... while i agree with the sentiment and think there needs to be accountability amd criminal charges brought, that is the most reductive and reactionary solution possible.  i understand why jack is so angry, but he's let all that emotion turn him into a petulant child.",
          "calley is a piece of garbage, a fraud, a grifter, a world economic form stooge. people need to be put in jail for life for crimes against humanity !!!!!!!",
          "there will never be full transparency as long as there are corrupt people in power.  we need to have people in power who make decisions that are best for the american people.",
          "dr mary bowden is being a massive cunt on this podcast and is not doing her cause any favours",
          "danster said that calley wouldn't come on if he was nefarious.  psychopaths always think they are the cleverest one in the room.",
          "obviously.... the lobbyists job is to protect the profits of shareholders.  that is the core issue.  everyone knows all this is wrong.... but no one wants to lose their money.",
          "calley means must have trained with harris because all he gives is word salads.   he is well trained in lying and deception.  you can tell because anytime the dr's call him out he gets nervous.  dr mary didn't get to talk much so she needs her own podcast.",
          "typical            j                                        e                                                                     wtypical            j                                        e                                                                     wtypical            j                                        e                                                                     wtypical            j                                        e                                                                     wtypical            j                                        e                                                                     wtypical            j                                        e                                                                     w",
          "calley is obviously a pretty slimey guy",
          "exactly people!  strategyopen up the listening!",
          "jack has great bullshit radar,or maybe he was genuinely compartmentalized by his job and didnt question enough..he needs to decide what side of history he is on.at moment im not sure",
          "not a fan of some of the word salads political speak from calley.  i now share jacks concerns about him.",
          "calley, stfu! you're clueless. you're completely out of touch with americans...real americans.",
          "dr jack, please talk to ltgov winsome earle-sears here in va, it would be great to get a va constitutional amendment for medical freedom!",
          "calley has shown who he truly is. fraud!",
          "jack dropping truth bombs all over the place. fire",
          "talk about a word salad !",
          "i just got an email, i can't reply to, telling me how if i want to hear your show, i can pay for the privilege. sorry i just don't think you're that special, which is why i am unsubscribing!and go to hell patreon angry_face_with_horns",
          "ugh....first time watching this podcast so i do not know who these people are but holy hell jack needs to take a few breaks and stop being rude!!!! don't care who you are or what you know.....maybe take your passion somewhere else dude!",
          "calley is a globalist.   jack made him his bitch.",
          "ahh. i see. jack is biased against food  being the main cause of our illnesses. he thinks it is:. covid vax. non native emf.covid vax was a reckless and irresponsible, yet very profitable approach. hate everything about it.non native emfs, though. how in the world do we get away from that in the modern world? i would like to hear some ideas. not eating sugary crap or drinking sugary drinks sounds like an easy fix to me.",
          "the laugh tells are deafening",
          "i was soo happy about trump and rfk but now have the same worries bc of who he has put in his cabinet..",
          "calley is more slippery than a vat of hydrogenated vegetable oil.",
          "i want jack to read all comments and replies.  other than just getting everyone agreeing with him.",
          " mins in- why is the conversation revolving around the most annoying person? he is so slimy. 'jack, jack, jack'",
          "Happy_face_smiley \"the trust\" is out of network. the start of a massive fall.",
          "i respect calley and cassie, with that said, there is reason to be suspicious. he can't afford to get butthurt if he wants to be out in front taking shots at big pharma.",
          "jack's fury is puzzling",
          "i don't trust this brain surgeon he hiding something! i don't care about your past. just say yes or no vaccines it is a bioweapons.",
          "i believe people are going to take back their power and start paying attention more to their body's. trust your gut not doctors. the lord said the people have given their power away to doctors and the government. the lord is showing you the darkness in both now.  so we will not do it again. he says lots will die!",
          "jack is a very intelligent man. calley is a totally different person compared to the podcast on tucker & rogan",
          "this bitcoin clown with that swagger, trying to look like he is a tough guy is a caricature.he shouldn't be participating in any dialogue ,much less with decent people.if he truly feels that the powerful have crossed the line(which is trueConfusion then he should physically fight against the the system like the men of action not of words.this clown saint clous has jumped out of reality and gotten into a movie, go out there  s=,shut your big mouth and fight like the the men you think you are in your own film.",
          "it sounds like cali wants a truce that's what he means by a science reset like just look past all the crimes against humanity and forget about it all. no we wont forget! i am starting to wonder about how much this administration will actually get done that truly benefits we the people and our freedoms.",
          "j                               e                                    w                                     s                         make me cringe.j                               e                                    w                                     s                         make me cringe.j                               e                                    w                                     s                         make me cringe.j                               e                                    w                                     s                         make me cringe.",
          "i can't do this mary and jsck",
          "wasn't jnj covid- vaccine was pulled out? why not pfizer and moderna?",
          "i have cancer, and i declined medical treatment because i know there has been a cure for cancer for  years that i know  of.",
          "fda, dod, fbi, cia want us dead",
          "i agree w the doctorsred_heart",
          "jack is very off putting.",
          "this guy is so disconnected from what actually being an american means!",
          "calley should be re-named cagey. it's easy to tell he's not being fully honest. he's doing his best to handle the direct heat brought by jack and by mary, to a lesser extent, but his best is not so great. he's clearly not being fully honest.",
          "i will unite with anyone to do good, and no one to do harm - douglass :",
          "jack is my new favourite man on the planet!typical politician can't answer a single question. said that fit bit had lower emf but then couldnt answer yesnor no on whether it had it face_with_tears_of_joy what a farse. and why tf can we still not say covid without blocking it out? what a stupid world we live in. boycott youtube!",
          "danny is a evil globalist & payd well to do his  evil job.his not human",
          "jack jack jackjack jack",
          "jack is right about the jabs but his beligerant attitude, interrupting and arrogance make it impossible to listen to him.",
          "the reality is that there are multiple issues. food, vaccines, prescription drugs, water quality, health insurance, etc.etc.etc. basically, we all agree.",
          "the fact that jack specifically chickens out of doing his hit piece on tucker or rogan by saying he wont go  on either show because they are \"globalist\" and then slaps callie for not taking jack's  option when he went on their shows is extremely weak and  in bad faith.jacks problem is the usa is not argentina. you can't fix us by closing everything in  days.pick the intelligence and doj pick the nih pick the corporations but the people will not make it through closing all at once. they are being a little myopic in my opinion.  i think doj fbi and intelligence and state  have to be first  or what jack is arguing for cant legitimately  happen.",
          "pharma can't make any money off ivermectin because it's been on the market. ivermectin   is a cure for cancer and it has been proven in medical reports.",
          "americans side with jack!",
          "calley is very patronizing....",
          "this dude is so full of shit",
          "calley is stuttering  a lot!",
          "calley means is a tool of the establishment!,,",
          "that woman just can't shut up",
          "one side likes to argue by haulting the conversation with interjections of, \"hold on, hold on, hold on on...\" then talking over the first person speaking. that is debate strategy and sensorship. i'm worried if this is the influencer who has our govt's ear on health  care. we have a chance to make some huge, required changes in our broken health care system. let's not sacrifice our needs to gain small steps. it never worked before. truth is whole truth, not censored truth. ask dr malone (one of the creators of the treatmentConfusion what an mrna treatment is. it was never intended for vaccines or the general public. he is one of many doctors and scientists internationally who have been protesting for several years to hault mrna misuse. uncensor their reports.we deserve more than a ban of bad cereal colorants. we all deserve a safer, more ethical health system. let us not debate and settle for less than a complete reformation. we all witnessed deaths. profits over people is a total fail that can never be acceptable. stay healthy, stay strong.",
          "i thought calley was genuine know i do not, he has his own agenda, i think he is a wolf in sheep's clothing.",
          "mr na is in your food",
          "jack seems to be lying. :: ::",
          "nice one jack he's shady and of hiding shying away from truths so call him out mate",
          "i liked the contentionness of this. that would be me if i were an elected person, a bull in a china shop. i would not allow lobbyists to thwart me in following the constitution. i agree these vaccines should literally be banned. no pussyfooting/\"transparency\".    people are being literally murdered all around the world.  and we must push back as if our lives depend on it, because it does.",
          "calley is beating around the bush he# a snake trying to convince us he is not kissing up to get in trumps band wagon",
          ":: dear calley, yeeeeeeeeeeeeeeeeeeeeeeeeeeeeeeessssssssssssssssssssssssssssssssssssssssss",
          "medical industry is a tyranny, not is a good way",
          "watch judy mikovits get destroyed by dr kaufman over sv lol",
          "calley is an ignorant fraudred_heart",
          "why are we spending over  hours interrogating calley means?",
          "a message of light??? face_with_tears_of_joy",
          "methylene blue and red light therapy maybe.  i don't think anyone can see my posts since i'm % shadow banned for years now",
          "unbearable to listen to. arguing over each other is not good at all.",
          "i want to know more about you danny jones? who do you work for? what deals have you made? why the all seeing eye? checkered floor? who knows what to truely trust besides christs word. remember what dr kruse said where many smart people who attend colleges are brainwashed (mk ultra/etcConfusion to push the narrative.",
          "who the fuck does this guy think he is acting like.",
          "calley is to blind to see he is programmed and dr. kruse was trying to have calley see he is, blinded by money, power success and lies. its hard to see through the fogs of war",
          "this lobyist talks in circles and jugles at the same time, cant answer straight questions.",
          "im halfwsy through and i cant take anymore. i dont know whos the worst jack, mary, ir the other guyjack is bad but mary seems to really irk me. but i cant stand when grown ass adults cant let other grown ass adults speak their peace  then when theyre done, give your reply. so bye bye",
          "i am out,can not have a conversation without people talking over each other.",
          "jack for president !!!",
          "public relations = propaganda",
          "i have a friend.  his grandfather said his  year old grandson very active and talks a lot. after vaccines stop talking and not active.",
          "the book deals have been for a long time ago way of payment for the globalist cabal agents or those working for the agenda. that's obviously why the lobbyist sold  mill copies right off rip. it's just another way of payment or bribery duh.",
          "why ask a question if you don't let the person answer? they need a talking stick.",
          "great example of emotions trumping logic in this one. even though they agree on most everything, just because jack and mary think calley should prioritize according to their ideas and want to tear him down because he doesn't? i like jack but the whole indignant anger is juvenile when someone comes willing to engage in discussion, whom at least mary admits they both love his message. danny even brings up that just because somethings bad doesn't mean we ban it. have to disagree with most commenters, mary and jack came across as jackasses.",
          "i liked the black spikey things on the wall what happened to those",
          "my conclusion and dr. jack is absolutely right, that anybody listening to this interview will make up their own minds. my mind is that calley means is a fraud, and a definite misdirect by the powers that be! it's very concerning to me that he has the ear of bobby kennedy jr and trump.",
          "big pharma is run by devils",
          "jack, jack, jack... this could have been a great discussion",
          "i agree with jack...calley is totally full of pile_of_poo",
          "we need a nuremberg ., cally, you frickin drip.",
          "oh my word! i am  hr  into this. i wish jack would stop hinting and asking questions and just say what his worry is. spit it out already. what book did cally's dad write? why does it matter?",
          "and still there is no mention of the real elephant(sConfusion in the room.",
          "a few dank, cringe and edgy moments",
          "jack, people have been getting chronically ill long before the jab. it is ok to write a book about food. the keto / carnivore diet has healed a lot of people.",
          "this lobbyist is kindly showing up all of his skills and tactics of how to mislead every topic to his side, which is always misleading to where he will sound good.but in this particular debate it was clearly seen that this lobbyist is ignorant and is willing to do every dirty bit to show the loyalty to his masters.imagine a video of compiling every question that was originally asked and comparing it to what calley actualy finally answered.",
          "i found out about this podcast because i was listening to brett weinstein attack what he calls fractures in the alliance for people who are under the umbrella of maha. although brret is usually  quite logical in his analysis but he's missing the point which is that one person can't be all things to all people and that's the same with the maja movement. he's not even in the new administration but bobby junior is and bobby junior would definitely be attacking the vaccine problem. as for who's attacking the food problem in the administration i'm not quite sure unless bobby is able to delegate that and maybe he'll bring on calley and casey means to spearhead that. mary  and jack are wrong-headed if they think that the callley and casey need to do this as well as put huge emphasis on the sick food system we have that is making our children sick. they can't do everything.",
          "both sides are right. cally is right in that our food is dogshit poison, that needs to change. and jack and mary are right in that the jab needs to be pulled from public consumption and trials need to be held to punish those individuals/companies/ government entities who pushed it.",
          "grateful that jack is waking people up! and i'm appaulled that not enough people are angry!! we see right through the bs. thank you jack for helping us!!!red_heartcollisionsmiling_face_with_halopurple_heartfolded_hands",
          "calley means is a fraud, clearly.",
          "calley grossly underestimated uncle jack and his knowledgeface_with_tears_of_joy",
          "wow is calley tongue tied.",
          "jack and his hysteria are why we can't get things done. who can take him seriously with his attitude? he is the flipside of a coin with a screeching liberal cat lady on the other side. he has so much valid information, but he's useless to the cause. either help for real or get out of the way.",
          "the dude is too much. he tries talking over her every words and then wile he talkin. shuu her.  what a narcissist.  another prick with a title thinks better everyone else.  but i bet give him  months were no daddy money and no help and toss out. like rest of country. see were is  months. he be dead from od or in jail. it's almost against law to be poor in this country.  jail is full poor ppl.  but if u got oj money or mj money.",
          "i think jack would accomplish alot more if he weren't so confrontational.",
          "jack jack jack jack j-j-j-jack jack jack jack jack jack jack i'm speaking from the heart jack jack jack jack jack jack jack jack jack jack jack jack jack jack jack jack jack jack jack",
          "this guy has no idea about love well done jack pulling this guy apart",
          "should have thrown dr. andrew kaufman in the middle of this face_with_tears_of_joy",
          ": calle looking very nervous",
          "i cannot stand calley...he is soooooo fake! its so blatantly obvious he's fake. thank you jack and mary!!",
          "praise yah wow an empath for the people!!!!!!!bless you doc yes crimes against humanity ,constitutional amendment!!!!! stop kicking the can were not interested in another can kicker!!!!!!!!!!!!",
          "calley is so pompus and creepy.",
          "jack is very hard in his questioning when talking about calleys mothers death, however, what i will add is that it is easy for calley to separate himself from the pain and suffering from all the people that have died at the hands of big pharma",
          "this guy is a pro propagandaist.  his debate style isnt organic.",
          "the way calley kept saying \"i'm just giving you where my heart is\" felt extremely unnerving to me, it did not seem genuine at all. i've seen people who are very good at acting innocent when accused, and calley seems like one of those people. of course i could be wrong.",
          "let people freely make a decision about taking a bioweapon? wtf??",
          "how about remdezivir killing people in hospitals...this was murder by the hospitals",
          "raise your hand if you think calley is the most annoying human being you have seen in the public space (and i'm only  minutes into the conversationConfusion ... i really wanna break my phone just so i will never hear \"hold on, hold on, hold on, hold on, hold on,  hold on, hold on, hold on, hold on, hold on, hold on, hold on,",
          "difficult to listen with those incessant, constant, repetitive words being used . too bad those cudnt be edited out... just saying the rest was great!!!",
          "i think that calley on purpose refuses to condemn the shots because the subject is too controversial. most  americans have taken one or more of the shots and they do not want to know the truth because they are terrified of the complications they will be forced to face with their own health down the road!",
          "this jack guy needs to go. hold on. hold on he needs to go!!!",
          "blueprints from the club of rome",
          "cali you worked for the enemy how the hell can we trust you! this is a disgrace cali your future is sadly very grim for you have a role in the death march towards transhumanisum!!",
          "it was a great discussion",
          "this  idiot lobbyist cant answer a question  and wont let anyone talk.",
          "my bullshit meter is off the charts with this calley guy!",
          "his linkedin page is poorly written, as is his website; i did find it strange that he went to harvard and wrote multiple books, but he writes like an eighth grader.",
          "save the kids folded_hands",
          "my husband was a methodist patient last week, the staff is still mandated to wear masks!face_with_rolling_eyes",
          "the level of political discourse in america is far behind basically every other developed western nation it's jaw dropping",
          "jack is brilliant,  calley is a smooth talker",
          "stop killing us !!!!! take it off now. your full of shit cally and you murder.",
          "was he just returning video tapes?",
          "rogan will have jack, for sure",
          "calley uses all the techniques of evasion, avoidance, distraction, emotion, control, but jack saw right through it all. go jack OK_handthumbs_up",
          "***who is this snake?***",
          "jack guy is a complete nut. he is alex jones with a medical degree face_with_tears_of_joyface_with_tears_of_joyface_with_tears_of_joy",
          "that politician is full of crap.",
          "still putting sv in kids  !!!!????? that is pure criminal !!!  that 'sh*t' was in my vaccine when  yrs old in southern california.",
          "calley has no red_heartface_with_tears_of_joy",
          "jack i agree hundred_points! the whole system needs to be broken down! i do have faith that this will happen!why? because we are the creators and people listening to these conversations are just the beginning. jack you have more power than you think! we are listening! thank you and we love you!",
          "that jack guy is deranged.",
          "shouldn't thalidomide be put back on the market and give pregnant mothers full transparency and let them make their own choice calley?",
          "jack jack jack jack jack jack jack jack jack jack jack jack let me talk.. lmaothis guy reminds me of justin trudeau abd wont let jack speak",
          "i think jack may legitimately be a narcissist. he constantly seeks praise and tries to destroy anyone who takes the spotlight away from him, even if for a moment.",
          "he's a complete plant and he's been found wanting!! so many red flags i stopped counting. a wolf in sheep's clothing for sure.",
          "pretty obvious that 'calley' is tasked by his pharma overlords with distracting the public that 'junk food is bad' which has been known for  years, in order to cover up the massively destructive j a b.  calley and his 'never practiced' 'doctor' sister, are two pawns of the oligarchs.",
          "very impressive that the dod allowed this conversation to be had.",
          "means = , coincidence?",
          "he says the americam people....globalist",
          "no way did this guy take any jabs.",
          "he says \"war crimes\" and also refuses to call for them to be taken off the market simultaneously. that is double speak.",
          "calley did himself no favors here",
          "i think calley shot himself in the foot with his bs and not willing to answer questions.",
          "do you think you look good in this podcast? just answer the question!!! OK_handlight_skin_toneclown_face",
          "i and my husband do not trust the medical industry.  we avoid contact.  i'm afraid the trust is gone for good.  it's too late.",
          "we are absolutely with jack on swift and immediately decisions and accountability. thepeople are waaayyy past transparency!!!!!!! let us be very clear!!",
          "he has mentioned manny times that he is trying to talk from that heart. he shouldn't say that if it was true because if he did, we should recognize it. but he's delayed on answer and hundred_points bs. when he does not want to give an answer, he acts like he does not know.",
          "hate to comment again but i have to give thanks to dr. peter mccullough who i heard trying to make his points heard to our ignorant leaders here in the once great state of texas. because of his credentials and his info i refused the jab and still live a healthy life. the funny thing about it all is you never ever hear an apology from the smug ilk of karens both male and female that made up the blindly ignorant pro experimental injection regime. from big pharma all the way down to the passerbys sporting facmasks and praising the lock down. where are they now? no apology. no admitting how uninformed and brain washed they are. oh well, go get your shots!",
          "it has just startedhe is telling his storythen he saysi think bobby kennedy being on a national stage is miraclewell, that's disingenuoushe is a kennedynot only that his name mirrors the horrors and tragedy that befell bobby kennedymaybe it is miraculous that he is on the national stagebut disingenuousto imply it is a miracle that bobby kennedy is on a national stage.",
          "calley means is very condescending towards dr. jack kruse.he keeps saying,  \"jack, jack, jack\"...  to try and silence him and treat him like a child. calley is the least educated of this bunch.and it shows.",
          "it's hard to watch this. i cant stand jack on twitter either.",
          "i believe that a lot was achieved during these deliberations, heated as they were at times. thank you all for the fight you are fighting on behalf of all those who were misled by the propaganda from / onwards, and the genuine doctors and health professionals who have lost their reputations, and careers, and have suffered these hate campaigns because of raising awareness.",
          "other countries know about the poisoning of the food we need that changed also",
          "great podcast, more people need to see this. crazy that there's only , likes.",
          "why is calley constantly being accused of wierd vague shit? being born to a privileged family a crime now?i would have walked out way early, this is not an interrogation, it is a podcast.if one side is not asking qs in good faith f em.wierd thing is, they agree on most stuff, just disagree on implementation details. good luck going against pharma corpo lobbisyts. they wont be disorganized.",
          "calley is looking like flint dibble with the kruse missle aimed his direction",
          "jack, jack, jack, jack, jack.",
          "this has to be one of the most uncomfortable things i've ever watched on youtube. it reminds me of christmas day with my mums family, its definitely seasonal.",
          "had i not been in a weird situation where i couldn't turn this off, i would have. jack was incredibly menacing, contradictory, condesending, and had his mind already made up before a word was said. asking  questions then constantly interrupting eith \"just answer the question\" made this unlistenable. i'm surprised cally didn't walk off and disappointed danny didn't keep it cordial. jack is probably right about a lot, but accusing anyone who isn't completely (and unrealisticallyConfusion on board with \"burning it all down\" as being bought, or part of a global conspiracy is insane.  he's is so naive its nauseating and was firing shots at someone for being pragmatic. he will never make a real difference by acting how he did and thinking like he does",
          "so full of shyt. love to see that % of us are on the same page.",
          "calley look's guilty. why is he so cagey and just doesn't answer the questions?",
          "means are straight out of the un playbook. globalist much? lobbyist? yes. ",
          "i agree with jack on everything! and rfk jr. is no good anymore....no trusting trump nor rfk anymore. this jerk keeps studdering and very ignorant.....what a nut! come on people! trump is the father of the jab!!! no vaccines for me in  years.",
          "why wasn't calley called out for his psychological ploys used in this podcast? i respect moderators who moderate. rules could be laid out in the beginning, then like a referee, he could shut down the ploy in play. calley saying jack's name, especially over and over, when calley wanted to tamp him down? psychological ploy to put jack lower than calley; childish. that should not have been allowed, and should have been called out and told to not do that again. that was difficult to watch and listen to. and, calley wondering(?Confusion why jack gets so angry at him? that deflecting from the topic to put the audience's attention on jack's 'supposed' faults, just shines the light on the obvious deflector's ruse (the ruse that calley doesn't have much to stand on to convince himself nor the audienceConfusion. i'm only  minutes in, and maybe i can stomach more of this.",
          "i may have to start using the term \"jabs\". i spent a whole eight weeks studying anti vax theory for a class and research proposal. where are all these sources on death toll? even when looking on retraction watch website, don't see much.",
          "sorry i think i got the men mix up. it's the dark hair guy i don't trust he is guilty of working for the deep state. i don't trust lobbyists.",
          "david rockefeller was a pedophile, there is woman who talks about her being groomed by him. go down the rabbit hole.",
          "callie obviously trained very well on talking word salad for  hours.....only words i hear loud and clear is politics, excuse me,  i don't want obummer making any of my, family, friends and coworkers decisions on health matters. agenda, paid op that's all he is.",
          "doctors who stand up fear being killed, losing their license, and their practice destroyed and their kick backs of $,. a year, plus vacations paid by pharma to push their drugs. most doctors  now work for a hospital or a corporation requiring them to push pharma. the only difference between doctors and the person selling drugs on the street is that the doctor has a license. doctors get a kickback for the number of drugs they push per month!",
          "pulling everything and adding back is what is done with allergies, why not in public health medicine",
          "like watching a guilty worm squirm. diverting and using all the tactics possible to avoid the truth and fire. he was expecting a nice warm light and got the blowtorch. hahahahaha well done jack and danny. i hope this is cause for a real spiritual shake of for you calley. go home and question who you are, what you're doing and your role in this cosmos. come to the light mate. the truth will set you free.",
          "jack is basically a tyrant. his word is law to him in a manner of speaking. the guy is totally impossible to talk to. no matter how educated he is a complete idiot. does nothing but totally assault anyone that doesnt have his exact same opinion. dud is a moron",
          "policy processing.  in order to get the vac out like it was.  there had to be nothing else that was able to do same job.  well now we all no ivermectin was just as good if not better.  but no money to be made on it because patents was open ..no monopoly on it.  id like to know who got paid what during that big rob of tax payers . out grand kids kids will be paying for that. this country is a joke .greed has destroyed it .  greedy bastards goin destroy this planet.",
          "thank you danny!! you are one of the very few that stop people talking over each other  i stop listening to podcasts where people talk over each other.  and as you say, it becomes unlistenable. the food problem is the foundation of health.",
          "love my nig jack, but if he kept bringing up my momma, we def woulda had to wrap that show up because ida been leaving in a police car god damn man face_with_tears_of_joy",
          "there isn't a sense of optimism, there is fear that t will be a dictator who sells off the united states to the highest bidder, puts nut jobs in his cabinet, and lines his own pockets. those thinking t is great is ignoring facts and reality.",
          "it would be interesting to know if calley avoids hfcs products!?",
          "watch this episode fully uncensored & ad-free on patreon:  the show by checking out our sponsors: - try viia & use code danny - use code djp for % off",
          "man... i'm only / of the way through this and it's hard to listen to. i commend calley for coming on to the podcast, so far it's tough to hear him seemingly skirting important issues. i'm not really familiar yet with him or his sister, though i know they're suddenly everywhere and my wife read their book. why he won't even give a clear answer on why he doesn't feel the \"you know whats\" should be immediately banned is very troubling. dr jack kruse is extremely impressive. i wouldn't want to ever get on his bad side and have to debate him.",
          "a few months before the plandemic rfk said he would mandate a \"safe\" vaccine",
          "i red_heart @megynkelly and if she says sth, you can % take it to the bank. she is a truthteller. however, my truthometer/griftometer is also pretty good smiling_face_with_smiling_eyes, and i thought @megynkelly let herself be taken in during her interview w/ @caseymeansmd who w/her bro came out of nowhere to fame (&fortuneConfusion. too good (&fastConfusion to pass the stink test? face_with_rolling_eyes",
          "you can clearly see calley is scared shitless of jack fing hilarious face_with_tears_of_joy smiling_face_with_open_mouth smiling_face_with_open_mouth_&_smiling_eyes grinning_face_with_smiling_eyes rolling_on_the_floor_laughing ....",
          "he stayed and dealt with the firestorm.. i believe calley. hes just waking up and had no idea how deep the rabbit hole goes and from a totally different world than jack. give him time. see what he does when his bosses do come to him and say something that triggers that seed jack planted in him. hell,  he might even come back and talk about it and he and jack join forces. brilliant episode! thanks, danny for bringing these two together for the epic talk!",
          "yearv review of the data'' sure  years later",
          "jack is shooting himself.  and he discredits himself by sounding so fanatical and paranoid.",
          "globalist definitely a fraud!!",
          "the suit is a freaking moronic liar... he is part of the problem... just like all who we set in places to rule over us which is bs... he will not vaccinate his children but will not pull what is harmful to all children...",
          "yeah if he knew who he was really working for that is a moral compromise for evil, not against it. thank you dr. jack for your diligent truths and exposing the fruits of labor this man produces!",
          "we also want to keep in mind that calley is pushing back on the medical system after his sister saw inside it and opted out. how are we missing this part?? can we engage?",
          "yeah unfortunately i couldn't stand the constant talking over each other. sorry and you called it from the start it's too many people.",
          "to many powers in be aka...(globalistsConfusion only care about $$$ and they installed the cia to desensitize the human mind is disturbing.  programming & propaganda rolled out over the populous using the big megaphone main stream media.",
          "he is full of shit! don't trust him!",
          "an authoritarian in a bitcoin santa hat is still an authoritarian. OK_handlight_skin_toneclown_face",
          "every time calley opens his  mouth , it's a red flag , it's so frustrating to listen to this phoney expert .",
          "this fucking guy is impossible to even listen to",
          "calley, how many deaths qualifies \"politically,\" for these things to be pulled off the market? that's the question he needs to be asked. back decades ago, the number was . we are now a thousand plus times more than that previous number, and this still does not \"qualify\"!?",
          "if you have heard of them they work for the enemy. those who speak truth and \"from the heart\" dont ever have to say it, you feel it and you wont see them on tucker or anywhere on your feed. the truth and heart is hidden by those who wish to control them. crying_face",
          "my dad did get the jab and within a year was diagnosed with stage  cancer and  months after his diagnosis he was deceased..  i absolutely believe the jab should %  be pulled from distribution bc the mrna vaccine is a weapon",
          "calley is incapable of giving a straight answer. he's full of sh*t",
          "never before, in the history of mankind, has one man spoken so many words, and said fuck all.",
          "hardest episode to listen too.jack came on way to strong, never had an open dialog.literally great topic, super hard to stay tuned. but i did....",
          "means won't answer the questions, instead he talks about his upbringing... kamala's trick!",
          "dont forget the unregulated administration of mrna into our food (cattle, pork, chickenConfusion. ive heard rumors of gmo lettuce with mrna from sandiego university.",
          "well this is getting nowhere lol",
          ": when i was a kid, i never heard of myocarditis. why is the rush increased by  in young people today? isn't this a rare disease? thinking_face",
          "this was just a bunch of crazy antivaxers bullying a guy who just wants to virtue signal and gain power. i really hope these people don't get a hold of trump's ear.",
          "if they took vaccines off the market / the country would lose their shit.  these two lunatics want to sacrifice the good for the perfect.",
          "seven thousand comments, two hundred thousand views.  take that youtube!",
          "the lord said he would take pharma and the medical because of the greed, and they are making people sick. after he takes pharma down, there will not be sickness on earth.",
          "for those if you who have not watched jacks other big podcast i really recommend it so you all understand why he's so angry. i highly recommend it will open your eyes",
          "\"uncle jack\" is a retarded ape, who ate way too much acid as a kid.  i can't believe callie sat through  hours of this...",
          "the two doctors want to blow everything up.  the lobbies guy has the clearest, best path forward with minimal consequences.  the doctors are passionate and correct.  but you can't blow up the ship and create chaos.i am a hawaiian, in  the permanent court of arbitration in the hague recognized that hawaii is an independent  nation state, not part of the us.  in  years the progress, towards ending the longest running military occupation in modern history, appears to be minimal.  we are living the \"dont blow the ship up\" and it sucks.",
          "this is how the architects of our destruction operate. they work both sides of debates of their choosing, averting our attention from the apparently not so obvious solutions. every logical solution to all of our species' problems is designated by people like this as either naive or outright not possible for fill in the blank, already-proven-no-need-to-check reasons. we are truly a conquered and extremely closely monitored and micro-managed species",
          "calley means is a real hypocrite.",
          "\"this is infuriating...\"  you're right jack.  either Confusion he hasn't looked at the obvious data.  Confusion or he's stupid, (which i don't think he isConfusion Confusion or he's corrupt.  i'm extremely suspicious.  who can you trust?????  answer: not means' siblings",
          "let's just say it. jack may be incredibly informed, but he is also an a-hole with arrogance that can hardly be overstated. he reminds me of trump in the first presidency when he spewed so much crap about so many things.  he sees conspiracies everywhere. he makes huge assumptions without any real evidence to support things.",
          "its funny the name of his sisters book is good energy because he has the opposite of that",
          "the fat doctor doesn't think food has anything to do with health lmao",
          "this is super dumb. big pharma employs lots of people. huge corporations hire lots of people. big corporations have tons of money to rig things in their favor. duh.",
          "i left this with a completely different view of the means.  i can't help but think he's pushing propaganda.  thank you danny jones for this discussion.  we need more dr. jacks out there.",
          "dr jack cruz  bravoclapping_handsthumbs_uplight_skin_tone you managed to debunked the guy who is camoulage in pharmaceutical industry.",
          " deaths in the first month. should it stop? it's not a tough question to a normal person.",
          "until the nuremberg code is not made into law with heavy criminal penalties attached, we'd have this shit again!",
          "jack is a rude nasty nut job... and the other doc is wacko... every illness people get isn't from the jab lol. calley handles these clowns really well. talking about his dead mother like that.. twisting his past to make him look bad... ffs... the guy has turned away from the coca cola and bad medicine... the jab loonies are just paranoid and plain rude!",
          "i love the way that kelly slipped in at  hours  minutes the bio weapon line",
          "lol  hour  min mark where he says the wef called me....",
          "i'm only  minutes into this, but it strikes me that calley means is dealing with the political reality that rfk jr needs to be confirmed by the senate and cannot afford to be seen as a hardline anti-vaxxer. the unfortunate truth is that calley, rfk jr, and to some degree, trump have to play it cool until the time is right to expose and eliminate these harmful vaccines and the regimes that push them.  until then, we can do our best to exercise our freedom and not get the shots.",
          "i think jack (and to a lesser extent maryConfusion would have made their point more convincingly if they had let calley means complete his answers, and if they had been less personally offensive. calley means has not trodden the perfect path--who of us has? who is born instantly perfect?this doesn't mean that jack and mary's concerns are not valid. the substance jack and mary want to remove from the market should be removed, in my view,  fundamentally because they were not tested to any standard whatever firstly, because of fraud in the original trial, and even more importantly, because of the switch to a different production method and the resultant undisclosed additional substances that were present in what was given to the public.",
          "did i did i did i did i stu stu stud studder?",
          "i don't quite understand why there bashing this dude and bringing to light that pharma and food are killing people seems like the same agenda",
          "calley comes off shady af.",
          "this needs more views. share this!!",
          "dont fuck with bad santa jack smiling_face_with_open_mouth_&_cold_sweat",
          "top level cringe porn",
          "alpha santa vs soylent lobbyist",
          "when people with a small following go after people with a large following to try to get more clicks and followers.",
          "for those of us who missed the kevin mckinnon interview that was taken down-how can we find it?",
          "jack said stand ford is dark who else went to stand",
          "hes acting like things are not already out there and the data is not there....by saying we should....its already there....pharma guy is dishonest scumbag",
          "cally means is lying. he won't answer simple answers.  he's a scared liar.",
          "ooooook...let people make their own decisions. but the people are retarded.",
          "calley means is an obvious slimeball...",
          "calley needs to check out deborah tovaris, jeff berwick, max igan, david icke and peggy hall",
          "beware of this stuttering pricking.",
          "cali is so full of sh!t it's obvious. he says utter transparency and truth smiling_face_with_open_mouth_&_closed_eyes but that would mean immediately banning and arresting a whole lot of people. he keeps reiterating oh it's not a debate because he can't debate any of the real data. the lady and jack are fantastic we need more people like them that don't pull punches and say what they mean.",
          "calley said he interned for lobby firms who used miss direction for the benefit of cigarette companies and now rises to go after food but doesn't look at jabs or blue light. he doesn't really say a lot in the episode and gives politician answers......insider plant??",
          "all people eat. not everyone takes shots. docs are too myopic",
          "yes or no danny why are you letting means dance around yes or no your mediator here jack is asking yes or no questions means answer without saying yes or no ????????????",
          "caley sounds like the typical politician/lobbyist",
          "jacks entire goal is truth, truth is what is so needed today.",
          "calley... the level of cringe this man caused in the universe while trying to act like hes not completely controlled opposition!!",
          "i just watched a lady who said it affects the pancreas too.  in the first  minutes of raynoths show on rumble about a week ago.  pod cast with  people.  starts w one guy.",
          "means reminds me of vivek, another big pharma narcissist. face_with_rolling_eyes",
          "before mk ultra was mentioned i got the mk ultra vibe from this phoney shill.",
          "here because of warmode.",
          "watching the first  minutes of the pharma guy disgusts me",
          "omfg!!!  i couldn't make it past  minutes of this shit show...  i unfollowed mary on x a couple of months ago because she just seems like a very angry b!tch and this \"conversation\" did absolutely nothing to change my mind.  and, i've never seen or heard of jack before, but he's almost worse!  i really wanted to hear all sides of this topic and have been opposed to vaccines my whole and long life (my kids and grandkids are unjabbedConfusion, but i would have to recommend anger management classes for these idiots!!!",
          "good for you, jack.",
          "if jack were a detective his interrogation would be thrown out of court.",
          "this is ridiculous.calley & casey means walked out of their respective careers because their eyes were opened to the devastating effects of pharma/food on their mother.  their mother. if they were weaker, less intelligent, less driven individuals (clearly inherited/taught - in part- by the same motherConfusion they wouldn't have walked away from the env'ts that caused her chronic disease and death. the timing of their efforts was perfect for gaining awareness & coincided with (likelyConfusion the biggest mass-awakening in us history. tucker then opened the floodgates when he interviewed calley.people who have been insiders & then had awakenings are exactly the people you should want on your side.  they are whistleblowers.who makes the best doctors? the ones who've woken up to the corruption & limitations of their own training in allopathic medicine, and retrain in functional med. this is exactly what casey means is, and calley is her analog from the pr/marketing world.jack's incessant unhinged & ludicrously conspiratorial attack just makes him look hysterical.mary's rage after her treatment at the hands of houston methodist and the tx medical board is completely understandable, but pointing fingers at calley because he happened to have effectively the same awakening as her but has been more successful smacks of envy.",
          "that woman keeps interrupting. love jack. he knows the truth.glad he called danny out.",
          "anybody pushing the jab and trying to sell their book rather than answering the question we shouldn't trust i agree with jack",
          "cally means is highlighting the problems of the world. he has  a lot of words and soft tones and nothing to offer. everything that he is asked to validate he knows nothing about but supposedly he's a professional...and he seems more insulted and interested in the way he is being addressed, than the well being of any and all humans.",
          "his \"dc two step\" responses are interesting. only a little ways into the video, but no direct answers is worrying",
          "this guy sounds sleezy as hell. i thought \"jack\" was spoken too much in titanic .. this dude sounds like rose",
          "my family was real close friends with john carol calhoun and his family from -. john worked at fort dietrich through the n.s.a. as a civilian after enlisting in the airforce prior to that. smartest human being i've ever met! he said a thing or two about our government that would blow your mind.",
          "a constitutional amendment requires a / majority jack, do you get that bro?",
          "i don't understand how so many believe jack's demeanor and relational style were helpful to the conversation! i think he was hostile, judgmental and asked questions that were very controlling and manipulative. my opinion of him was significantly diminished listening to this podcast.",
          "also, we do not need to vote for personal sovereignty!!!we are born with god given rights, period!!",
          "pretty sure i counted calley say \"jack\"  times.",
          "wow... i've never heard of the female on this podcast, so to my surprise, i was delighted that she and dr kruse were on the \"right\" side... although i've heard callie on tucker, i really liked what he and his sister had to say, but now that i know about his stance on the jabby-jab, i'm not sure about him anymore face_with_open_mouth",
          "this was a waste of time. casey: let me tell you what i think. mary: i can't stand that you are not saying what i want you to say! my issue is the most important and it must become your issue!! jack: you're not talking about what i want you to talk about so i dont trust you! people aren't listening to me and implemeting the changes i want made immediately!!",
          "seek first to understand and then to be understood. interrupting in the middle of an answer to ask other questions completely turns me off from jack. jack has a predisponsition of something nefarious going on... is he right? maybe... but his tone of questions and his \"i got all the answers and you don't\" mentality kill him. it is not professional, whatsoever. jack is going to grind his ax no matter how or what calley says. if jack has all the answers, become a lobbyist or run for office in washington. outside of that, shut the hll up, jack.",
          "jab jaab research was being done when obama was in office.....   and if you look in the rt places you can find a patient......   patent ....  patty cake # u know lol",
          "danny, jack has totally ruined his credibility here for me. i know he's a smart guy but he's damaging his own message because of his conspiracy brain. crazy how he kept derailing the conversation from healthcare and actual issues. he's obviously a plant",
          "one issue i take with jack is his uncontrolled intensity. he's always ready to connect the next dot, maybe even when there's no need to draw a connection between two stand alone issues. i've got no doubts that jack is intelligent and has done the legwork himself to bring himself to the current version of himself that has been convinced he's % correct in all things plastered on his spiral. it's hard to watch with accusations such as the guy's dad's book and a few other points similar to. at the end of all this there is room for cohesive direction and i just don't think jack will be an instrument in making progress in the mainstream. he's better left as the resource and research guy, imho. he's too abrasive due to his overly passionate emotions tied to his beliefs. fact or not, it comes across as some alex jones style 'retraining camp' guest speaker",
          "when need the see the public servants bank accounts!",
          "calley is not trustworthy. he doesn't grasp what's actually transpired over the last eighty years. swift definitive action is needed with these criminals, and i'm not very optimistic about trump or kennedy anymore. them not wanting to make a constitutional amendment to protect us is very telling. the only way to take on this evil cabal is to shut down all the intelligence agencies, fda etc. honestly just short of divine intervention i'm not sure if anything can fix this, other than we the people, and half of we the people are under some level of mass mind control. more power to you jack and mary. great podcast.",
          "to all those looking for the full kevin mckernan interview it is not on screw tube! i was able to listen to it on my podcast app, if you made it through this one, it's  / hours and it'll be a lot easier. no bloodbath, but the blood shed we saw here was thoroughly necessary. thank you to all.p.s. oz is the wef",
          "the cracking fake voice of the very well trained psychopath... calle's job is  to spread confusion...cia chump.",
          "this is really something.",
          "calley is the equivalent of netflix airing the social dilemma  or the epstein files.  all just misdirection and watered down shit",
          "you gave calley too much air space",
          "i agree with dr kruse and dr bowden; we are seeing a huge mistrust in the medical community because, \"first,  do no harm.\" people are doing harm and i am an angry physician. i disagree with dr kruse in that too many people who know nothing about vaccines are talking about them as experts ! mr. cally does not want to comment on vaccines, fine.",
          ". 'jack, jack, jake i want the people to decide so i'll agree with that' well according to the comments section calley we have unanimously decided that you are not fit for the job.",
          "jack is such an ass, i don't want to listen",
          "::  calley and jack should collaborate on a new book about pharmaceuticals and the deep state.",
          "jack is the real deal red_heart",
          "jack! thank you!knowledge is power!tell it like it is.",
          "so vaccine damage is generational weve known this before covid    so if we get corporations   vaccine destroy present and future  health from childhood keep you at the dr and medicated   then the terrible food they surround us with is less important to the goal   keep us battered with health issues broken down immune system",
          ": i had no idea people are still giving a newborn these \"s h o t s\"  i fought hard against it then and thank god my son who is now  and my daughter who is  are both not pandemic jab receivers (trying to carefully word thisConfusion my husbands work forced it and he was one of two employees in the whole company who stood strong, managed to somehow keep his job until the supreme court reversed the mandate. so none of us got any. cut to now, almost everyone at his work who got it either had to be forced to take retirement early or had to try to get disability they were injured so bad. one guy got it \"to protect his elderly mother\" and he got so so bad we dont even know if he is alive now. was in a wheelchair after. grimacing_faceface_with_rolling_eyes",
          "his body telling you he is full of bs!",
          "lol bro you look really good for not sleeping.",
          "who is this pile_of_poo in suit can't answer the question simple yes or no btw why wouldn't he want his kids to take the pills or whatever on top his rude everyone seems to let him gaslight but as soon as they are about to say something he like quite quite what the f is this i had a good friday till i seen pile_of_poo in suit fffffffffffffffffffff who is paying this see-no-evil_monkeyhear-no-evil_monkeyspeak-no-evil_monkeyclown_face",
          "send cali to live in suisse-land. with schwab. he can park his cars or something  all the while maintaining his prestige as an uber alles. when i think of our country and the fight for truth and freedom....well just drive bt my place in the atx. i fly a flag that i had made, sporting jack in those glasses and that hat. he is the sort that we need. morgan luttrell needs to come on here as well. marcus would be cool but morgan is a machine and is standing up for us all. and i used to be a liberal  years ago.",
          "hes not denying the damage from the shots. people can be healed from the shots with proper nutrition & proper supplements, sunshine etc without acknowledging that their health issues came from the shots",
          "jack is absolutely correct!!! listen to this man.",
          "is a \"lobbyist\" just an \"israeli\" aka \"globalist\"!!!!!!!!! the whole idea of \"lobbyists\" is to manipulate fraud!!",
          "harvard boy was rubbing elbows with the modern day hitler at the wef. enough said. get a rope. calm down youtube. get a rope is no one being mean. it is from a pace picante sauce commercial aired back before you existed. it is intended to bring levity. your gen doesn't understand humor like this. nor will you ever. just know that i am in no way suggesting that anyone should harm this fellow. even if he does crave the approval of klaus schwab. mercy this world is a clown show.",
          "lol... it's only : in and the janus was called out. only a \"review\" is being called for??? how many more discussions/ presentations/ research projects need to be produced before the line could be drawn in the sand? fruit loops is the chosen scapegoat, apparently. i hope r.f. kennedy, trump and the rest of their cabinet colleague is watching this video and realising the two-face who is hanging around him. no one is saying there is no institutional pressure, but who dared to say black is black and white is white? alternatively, what is the possibility that the means siblings are some kind of triple agents playing the long game?anyway, please don't forget the millions of other children and adult consumers in the rest of the world who are equally captured by the pharma industry, who are living in countries without the benefit of some health issue debates going on because the \"expert\" opinion based on imported western science is sacrosanct.",
          "thr guy in the hat needs to learn some manners .",
          "policy  policy,policy,policy.......bs,  bs,   bs,,  bsred_heartred_heartred_heartred_heart   dead people in my group of friends,   cancers ,  immune system horrors  ,  hart attacks.  and you need policy   !!!!!!!!!!! your hold on  ,hold on     hold on is twisted mind and you scared tell the true  !!!!!!.  how many deaths you need....did you take  jabs by yourself??????",
          "why wait so long to publish.  it says released two days ago, then on december th, but it sounds like based on the time frames they refer to, it was recorded in early december why?",
          "his name is kali means hahahahahahaface_with_tears_of_joyface_with_tears_of_joyface_with_tears_of_joyface_with_tears_of_joy",
          "is calley means in any way related to russell means?",
          "imagine/recall yourself trying to persuade your family & friends on the issue: how far did you get before people disengage or worse, turn on you? because calley has experience in politics, he knows an issue has to be guided through with baby steps to get any result. it's clear to everyone who's been paying attention to how tings are done in dc. screaming from the rooftop is morally right but it gets you canceled fast and your mission squashed, unless you're in the majority, which won't happen for a while.  calley believes his approach has a better chance to achieve the goal, considering what we're facing, and he has a point, however infuriating the circumstances may be. btw, screaming from the rooftops absolutely needs to continue, as well as trying to reach & educate as many people as possible, so that get the majority. both jack & calley are needed in this battle, and i wish they joined forces and worked out a clever strategy to hit the problem on two flanks.",
          "wow mary calling calley \"rude\" after berating him multiple times even when discussing his dead mother.  wow. wow. wow!!!",
          "what a jerk this jack  guy is - had to turn it out just a steam of rude insults  - can't make an progree!  bye bye ...",
          "you know right, right ,you know right... like.  like..hold on,hold on... let me just ,let me just...  hold on hold on ,jack, jack...",
          "i lost my sister and my baby brother survived the leg clots and the aneurysm and now has cancer tell me about those shots!!!!!!!!",
          "jack thinks he's inspector gadget face_with_tears_of_joy",
          "danny is the best host period",
          "mr. means chooses to ignore the obvious issue which is to remove the covid shots off the market now.",
          "jack has revealed this man calley!",
          "when i read the comments, i couldn't believe it that not even one amongst the ones i read was able to discern what a truthful and good person calley is.\rhe has placed lots of energy into being sincere, but this, it seems, is not a language everyone (or anyoneConfusion understands.even jack, despite his unrelenting opposition, saw and understood his earnestness, but viewers didn't.",
          "i can understand skepticism of the mean's but jack is unnecessarily aggressive throughout the conversation.  seriously pulling there mother death certificate and attacking him.     maybe jack is a great doctor but he sure is an asshole.",
          "calley is a fraud..",
          "jack is derailing calley & costing him money or at least gains. keep it up jack!",
          "i have watched this twice now. you guys may want to go look at tucker carlson pod cast with this brother and sister and connect the dots he has lied many times!",
          "about  years ago, my friend's dad got diagnosed with pancreatic cancer in virginia, and he was dead in  months.",
          "he says the purpose of his book was as a gateway... he seems to me to be more of a gate keeper",
          "this pharma man is pure dishonest full of crap",
          "this clown lobbyist was identical to steve carell running a comedic script.  what a complete joke and embarrassment to himself.  god help this country and thank you jack for having the guts to expose these bas-tards.",
          "a lot of non answers",
          "what i also don't understand is deborah brix's biography, silent invasion, didn't land her in jail for treason. she tells on herself over and over, stating all the lies she told the american people! she knew how dangerous the jab was. just a thought!!",
          "calley is evading. stop the jab. simple. have some guts dude.",
          "bobby kennedy is a miracle! ok goodbye podcast!!!",
          "devils advocate: the president in argentina has way more power within the country than the us president has within his country. thats why milei was able to do what he did. his corrupt predecessors bloated the executive branch and its now biting them in the ass... i don't think trump can do that",
          "holy shit!!!! talking about his mom and he's just sitting there taking it.",
          "good question.. to jabbed australians and every country. its the jab plus rediculous greed with a care. good on you for your book it will help. sorry for the loss of your mum. the jab i imagine she got?",
          "i found it hard to listen to due to that fuck wit jack not being able to hold a rational debate just jumping from conspiracy to conspiracy bringing up his mothers death and death certificate. and interrupting constantly",
          "this guy calley seemed like i was listening to a salesman that i keep saying no to and he won't stop trying to make his sale. he is a master manipulator.",
          "calley is a straight-up bullshitter.why does danny let him talk about nothing?he keeps cutting jack off when he gets close to the truth.",
          "here, ill put it put there, of course, if it doesnt get removed. i dont care about this guys mother or these other  charlatans opinions..... this isnt just about the syringe, its also and probably more importantly, about the red_apple bread. its a combination of \"substances\" that we the people are allowing!! wake the f up drones. or just keep \"lining up\". that last part meant in so many ways.....",
          "jack, for the love. you say you have not said the word conspiracy, but you think this guy is part of a conspiracy, and then you pretend like you don't think there is a conspiracy, but you think there is a conspiracy. just clearly state your points. clearly.",
          "this cabal tool knows nothing about spiritual awakening - the exact words cabal has started using in the last month or two to muddy christian waters, using every tool to hook the sheep - pulls out the anger & hate cards, not base - sounds like all manipulators / fraudsters",
          " minutes in and still nothing has really been said.....  homeboy is a human caltrop",
          "jack gets a* for doing his homework!!!",
          "why is he not saying all these shots should be taken off the market",
          "too much anger. understandable but we need to be coolminded.",
          "this guy c is a little weird somehow. i don't think he will do anything",
          "i do credit calle and his sister for opening the dark can of worms about the bigpharma and \"health care\" agenda over ozempic, for one thing.",
          "can we talk about the details in his book versus the people who published it?",
          "cally means sounds like your topical government official dancing around the real questions i'm with jack dont trust him period!!!!!!",
          "calley reminds me of jamey dutton from yellowstoneface_with_tears_of_joy",
          "wow, means is a bshitter.",
          "jack does more damage to his cause than any of the ppl or entities he \"hates.\"   ...i actually agree with everything he's saying, but his personality and obvious bad faith behavior make him intellectually revolting (he's sloppy looking too, but that's besides the pointConfusion.   i wouldn't go so far as to say he's an industry plant tasked with pushing ppl away from looking at the things he talks about, but i honestly wouldn't be very surprised if he was.   he's prob just been isolated and cooped up too long in his own correlation  bubble.",
          "omg watching this has made me nauseous.  seriously. why is this calley spouting word salads and slick verbiage stammering and side-stepping questions. jack is so frustrated with the arrogance and repetition and lack of true conversation. its just painful. im totally confused about the subject!!! sounds like a meeting in the senate. dump the shot for crying out loud.bits doing harm,!!!!!   crying_face.",
          "if jack is involved with matt gaetz....... the pervert, i automatically can say that he is also a high ranking pervert. birds of a feather flock together",
          "mary : how did you find your agent??skullskullskull danny's laugh!",
          "why can't ill health be caused by more than one thing? the fratricide in this video is deeply saddening",
          "i love love love it!!! jack you are awesome. you come ready with answers and really good questions. i've listened to a lot of your videos you are very knowledgeable thank you.",
          "the problem as you are arguing about is not whether there is data there or not - it has been out for  years and more. the problem is there is too much politics in the way and the best way  is to show the public what the mainstream media has done to hush it all up. once that happens there will be a shift. i agree with jack about jfk. i thought he was the best thing since sliced bread (and we know that white sliced bread is really bad for youConfusion like jack i am not so sure now. he is changing his ideas slowly.",
          "never seen this guy jack but he's an aggressive asshole and it's a real distraction from the conversation. almost unlistenabke in some places because of his yelling.",
          "caley is somewhat fence sitting, but i genuinely think jack is in the beginning stage of dementia with how much he can't control his outbursts",
          "i'm optimistic that calley can and will do more as a result of this talk.",
          "listen to survivors if sra like rachel vaughn in the international court of natural justice youtube channel and everything from anneke lucas.  the vip international peodo blackmail and indoctrination network .",
          "jack is a medical interrogator ninja and a monster debater. i almost feel sorry for calle but he spits truth fearlessly and it is like watching an episode of bully beatdown without the bully. just a lad who is driven by cash and obfuscation.",
          "oh my hell this lobyist will not stop lying...hes there for misinformation....% dishonest",
          "mr lobbyist is deflecting everything he lying",
          "i sleep with my windows open because somehow it makes me feel better to experience sunshine sun in the morning",
          ":: so casey claims to be passionate about food, jack obviously is passionate about the jab, jack rakes casey over the coals for a couple hours for caring more about food and not as much about the jab, jack explicitly states that he wont go on tucker or rogan and then wants to point out that since casey is on those shows he what? is somehow duty-bound to say what jack wants said because jack has bigger numbers about how bad his issue is? the food and the jabs are both horroble! fight to fix the thing you believe in! dont commit fratricide and call the other guy a traitor just because your # problem is his #, work together!!! man, caley may not have defended himself very well but jack sure does seem to be impressed with his own brilliance, casey didn't seem to be as firm because he tried to converse and be open to both sides. jack just drug casey through trap after trap and beat casey over the head when he wouldnt step on it, i didn't hear any genuine conversation or attempts to understand from jack. (im not calling jack wrong, but his approach is about as gentle as a bone saw, he could catch a lot more flies with a bit of honey than with all that vinegarConfusion",
          "i wasn't sure 'bout you danny, but having dr jack twice, you moved up a bunch.good on yadr jack is a force that can't be ignored.",
          "somebody who knows the political process vs. someone who wants to ideate about \"what i'd do if i were king\"also, \"you're not a doctor, i am\" is so gone - so aggravatingly stupid.",
          "absolutely killer episode, not so much for cali. i believe he is unknowingly part of the problem.",
          "listening to calley acting \"genuine\" was infuriating...",
          "means is intolerable. i can't listen to this. only a little ways in, and i'm done thanks to his obnoxious self.",
          "it's so easy to unveal the evil ones who walk among us.",
          "i think jack is right......lobbyist can not be trusted. ban the mnra vaccine syringe and get the poison out of our water, air,, food.",
          "jack couldn't break through the impregnable phony barrier, but it was a good effort.",
          "pretty simple cal, ban the shots until it has been proven not harmful.",
          "wait a minute jack. calley is honest about what he did. so he didnt hide anything",
          "calley, \"and that's what we call politics baby,\" : - ::",
          "dude does the fake smart guy stutter just like elon, what a joke",
          "i took a shot because my doctor recommended it. i wanted to see if it was safe and effective before i allowed my wife and kids to get the jab. i was the only one to get it. i'm sure you can figure out why.",
          "the lobbyist is nauseating...did he and gavin newsom have the same mk speech teacher...\"jack is an educated man, hero and badass.",
          "is the kevin mckernan episode available on patreon or anywhere else?",
          "i wouldnt buy a hot dog from this talking pos",
          "my god, that calley: jack, jack, jack face_with_rolling_eyes",
          "calley how many more babies and parents have to die while youre busy with niceties? thats the issue",
          ":: facts, there are realities to the world if you wanna get anything done... then proceeds to talk about an ammendment that got nowhere because of standing % on principle.well i guess i'm in the minority but this jack dude seems like a nut. he starts out super hostile and by the end is saying tucker carlson and joe rogan are part of the problem... well buddy if that's true go live on pluto i guess lol.and no i've never been vaxxed, i know many vaxxed injured, am generally a contrarion etc.do i think he's bringing up interesting questions? sure. but not in a respectful or productive way.",
          "i'm so sick of the means boy using the name jack, jack jack jack... i am  minutes into this interview and i don't trust the means boy. lol",
          "he's making a fools argument. he epitomizes the typical medical administrative mindset of refusing to take responsibility.",
          "i am done now i swear. this is a heater. i cannot remain commentless for some reason but for the sake of us all, i am going to have some dinner and leave this bout in the hands of jack. great job champ!",
          "oh my god let callie effing talk!!!!!!!! i literally can't watch this because of those other  hot heads.  holy hell. sorry, danny",
          "for dr mary to blame the lack of trust on non-medical person aka kelly on a person who they acknowledged has actually no medical degree and does not practice as a doctor a k e casey is heating the true situation which is that we do not trust her or jack because they are doctors. i do not trust any of my doctors but i have to go to them and every time they say something i research it and i find out they're wrong but it helps me because of my research to find out what i need and then i do it. that's what we have to do but i will say and i will agree with jack and mary that i do not trust them past my nose they are of the devil they are from the devil and they speak like the devil and if some people have been helped by them well thank god for that sometimes christ and the angels can intervene even with the devil.",
          ":Happy_face_smiley \"jack, jack, jack, ....there might be mind control and we're puppets in a larger plan, but let me be clear on the one point of ignorance vs frauTongue_sticking_out_cheeky_playful_or_blowing_a_raspberry  clearly fraud, jack, jack, jack, jack.  so let me stop you again, jack...\"   followed by :: blam!",
          "calley seems like the biggest plant i have ever seen deciduous_tree",
          "im only  minutes in, and already i've come to the conclusion that calley is a self absorbed, bullshitter, so far up his own asshole. he's hard to stomach.",
          "i'm with the doctor, calley dances too much",
          "did cally answer any question",
          "i think when you put health into the conversation and your personal goal behinds paying off school debt, getting rich. you automatically go to the dark side. i think dr. jack and this awesome lady who is a ent has the perfect approach",
          "i had cvd in may . i was on deaths door. i had diarrhea, pneumonia, crapping blood, passed out and cracked ribs, was in coughing fits with excruciating pain, had to reach out to get some sort of relief.i ended up getting a script for ivm, and z pack, within  days, i was doing  squats. i was  lbs and in horrible shape, and in no way should i have been doing  squats, but ivm is what i believe did the difference. that was st daggum dose. was supposed to take for  week if i remember.",
          "cally felt very uncomfortable when jake confronted him with facts, he should ban the corn fructose.",
          "calley has my \"weasel meter\" pegged out.   he might be fine on a tv show but he can't hold up to a  hour podcast with knowledgeable foils in the other chairs.",
          "if we had a dollar for every like",
          "that guy never took the clot shot. he would have the inside track",
          "calley is a snake. he is intertwined with the most evil elites.",
          "urgh brother what that",
          "it took calley hrs and  minutes to get an average come back . i don't understand why it took him so long. jack is right but his approach might backfire. he could lose the war before it even starts. two different types completely.",
          "i don't even trust him",
          "this is a great podcast. dr. mary has been through hell and back, in her practice so she represents a clear litmus test for evaluating anyone on the scene about \"jabs\". jack is a tribe leader and going to \"vet\" anyone on quite a few subjects. i know for a fact that i was mkultra'd in school and as a kid with the world of television and music. almost anyone in the working system of any schooling is a product of jd rockefeller's programing. in a sense people and families who lived through disney's effect on the world has been \"waterboarded\" and is thoroughly \"spellbound\". since getting a heck of a lot more sunshine in my life, i am getting clearer instructions for regaining my health. and the best way to \"come out of this trance from the elites\", sun is the only antidote.            it runs so deep that anyone, even calley means is unable to see how he fits the mold to a tee. time and his maturation regarding \"banning the realm of vaccinations\" on every level is tantamount. you want to know about where the program all started. it began with polio. it was never a virus. how do i know. well, i am a polio survivor who lived his life under that somnambulistic trance for the past  years. i was hospitalized when i was  in .              you want to know what polio is, where it came from, how it did what it did, well why the heck is anyone asking a doctor who never had the challenge, how to treat it? that is absurd. it reminds me of when a male doctor sees a female patient who is pregnant, and the male doctor blurs out that old familiar phrase...\"oh i see your pregnant, i know exactly how you feel\". no, you don't stupid, you're not a woman and there is no way to pretend you know how a woman \"feels\" in her female body, how could you. you want to know how polio feels? well, why not ask the patient who survived. i have the smoking gun regarding polio and its origins. i live in that dimension every single day and have done so, for the past  long years.        i am . you want to know about vaccines, ask me soon as i am getting older. i really need to present my evidence to elon musk and bobby kennidy with jack kruse as well. last year i woke up to the reality that i was diagnosed with polio way back then, when i was , and the life i have attempted to live, turned into a nightmare, because that life was spent in a stupor of handicap events, that my conscious mind was completely unaware of. i guess you could say, \"you had to be there, in my shoes to experience it, in order to believe it\".",
          "why these two doctors don't write a book about their issues.",
          "so he looks down when he fishes out a coherent diversion. eye contact while pathologically polluting the emi field is next to impossible, also the soul( although barredConfusion still has some pull but not much. when the left side digs in to pry out logical nouns and adjectives this is the window for the right side, this is when the head tilts slightly forward and the eyes are almost fixed on the table. on the flip note, you'll never get a straight answer these types of people get a hard on when you play this game them.",
          "this title should be changed from brain surgeon vs. pharma lobbyist to man vs. bitch!",
          "he didnt write no book face_with_tears_of_joy he looks like he doesnt know a thing thats in the book",
          "transparency on research and testing of the mrna shots never happened. that's the smoking gun on the covid man-made pandemic. but corruption rules the us and the west.the lies and cover ups on the covid vaccines, in an honest world, would have stopped them dead in their tracks. that means a \"choice\" on covid vaccines is a lie. in an honest world, they never would have seen the light of day.",
          "big pharma boy demands to he heard but raises his voice and cuts off jack when he speaks... the makr of the politician's \"telling you facts\" but he wont givr hid kids the shot",
          "danny you have to moderate a little better.though i agree with the message jack is trying to get across % you let him come in  on a complete hit piece and come across as a complete dick and overshadow both mary and calley. calley answered  his questions completely  but he didn't play into the hit the way jack would prefer.you can grow up in an environment and around people  without being  deep into the deep state and societies.could calley be a plant yes could jack be an unreasonable revolutionary yes. could they both be right?  % yes.",
          "trust not... anyone who slowly measures their speech... correct jack... that person is fos,  just as jack said in st  minutes!  a young un-wise guy vs + years of wisdom.... on display!  jmo",
          "calley is so repugnant, it makes my stomach hurt",
          "i hope the retired dr jack who they brought back like you do with an  old greyhound who's past  prime is aware that nobody in the comments have agreed that what he says about rockefeller and this young man holds water. if he was their doctor and he helped them, they thanked him, and that's it. so i wish this jack would get off his pedestal of old man wants to beat up young man because he never got to the position that he thought he deserved in life. jack is straight through bs. . i'm glad he's able to do a thing or two regarding healing people but frankly considering the level of the playing field it's not much.",
          ":: perfect example of jack's mentality lol. calley is trying to actually get things done and initiate change but jack is content to just scream at the walls to his audience of  about why only his constitutional ammendment to execute entire families at gitmo who's mother or father worked for pfizer  years ago is the only solution face_with_tears_of_joyas a \"conspiracy theorist\" myself, this guy may be a 'good doctor' but he's also an annoying jackass.",
          ":: jack: \"i'm very calm\".. this cracked me up face_with_tears_of_joy",
          "callie is condescending and that's disgusting behavior with this level of education!",
          "since there is hardly a reasonable comment here on calley... it seems clear jack goes in on the attack to read their body language regardless of what they say. calley was not really ready for this and stumbled through a very uncomfortable interview. he did about as good as could be expected. far better than i could have done. i think the means' are genuine and have good things to say. i think jack also has many interesting, potentially earth shattering things to say. both should be viewed critically and skeptically.",
          "he never knows the question lol",
          "both sides b e l i e v e they  are doing god's work.... and the  plan is v e r y old so, why should they stop believing what  they believe?  here's part of  the  problem with using words  to  explain ourselves.... the end of the world to other  people means simply the end of an age.  lolol  is i something to be feared?  as long  as we have new  generations of humans it is going to keep happening.  the only thing they are trying to  protect (with laughter?Confusion are their jobs.    and maybe they  are being shrewd.",
          "antidotes need to be known wide and far  'everything else is just noise waiting to happen''",
          "never trust a lobbyists! their dirt bags working both side congress and pharma.",
          "gaetz got a facelift jack there's a problem there.",
          "big pharma eugenics that's the fuckin' agendasnake in the suit speaks with forked tongue & jackhas that fucker's number!",
          "this calley guy is a liar expressionless_face",
          "i don't trust this brain surgeon he hiding something!",
          "this calley  f # c k  is a shill for the deep state, and a smooth talking demon.",
          "a solder come into our restaurant  with his mom, was healthy until he got the jab, now non verbal and severely handicapped.i beleive jack here!",
          "you can be % right but come off like a nut job and nobody is going to side with you. jack! take a chill pill! your unchecked anger is not helping. calley is headed where you are but much more likely to succeed than you because . cool heads prevail and . calley is wise to lay a foundation of overall health because the mrna vaccine mandate swamp is much harder to overcome. the sincere belief in the vaccine delusion by the whole world will not die easily. better health also helps counteract the effects of the jab. first things first.",
          "im listening to this, not watching and this cally guy talks like exactly like american psycho in the film. very considered, very slow, very condescending, very creepy and the way he says jack after almost each sentence is on point to the apsmiling_face_with_open_mouth_&_cold_sweat. and the way he keeps saying conspiracy, like it's a bad word that links all crazies togetherface_with_tears_of_joy. he, they have no idea what we actually see when we look at themface_with_tears_of_joy",
          "wow..just looked at the tucker interview,  such lies.    tucker needs to vet his guests much better.",
          "if this guy can't condemn the vax he is evil or afraid.",
          "dr jack has the veil threat when he talks about casey and the fact she does not have a medical license and he doesn't say the silent part which is that she's practicing medicine and he doesn't say it because she's not practicing medicine she never said that eating an egg instead of fruit loops would cure you of anything i've been through this a million times because i belong to alternative health entities decades before dr jack ever got on this mrna bandwagon which she's ready to hell and back. you can't say it cures but you can say it makes you feel better etcetera etcetera. the veil threat shows that guy is evil and i'm glad if he's helping people medically speaking because evil always as he can tell you right now surrounds itself with good and that's what he's trying to say that kelly who is a very naive young man is doing but i can see he's not doing that he's not as clever as evil jack because when you make a an agreement with the devil he gives you he does give you certain high-level means to function and to achieve your goal and it's very sad that dr jack is a doctor because he has his evil streak which is so obvious if you've ever been around evil you know it.",
          "just retract what you said earlier and get rid of the job, or what",
          "trump is deporting           j                                    e                                          w                                  s            !!!!!!!!!!!!!!!!((to gitmo!!!!!!!!!!!!!!!!!!!!!!!!!!!!!!!!!!!!!!!!!!!!!trump is deporting           j                                    e                                          w                                  s            !!!!!!!!!!!!!!!!((to gitmo!!!!!!!!!!!!!!!!!!!!!!!!!!!!!!!!!!!!!!!!!!!!!trump is deporting           j                                    e                                          w                                  s            !!!!!!!!!!!!!!!!((to gitmo!!!!!!!!!!!!!!!!!!!!!!!!!!!!!!!!!!!!!!!!!!!!!trump is deporting           j                                    e                                          w                                  s            !!!!!!!!!!!!!!!!((to gitmo!!!!!!!!!!!!!!!!!!!!!!!!!!!!!!!!!!!!!!!!!!!!!trump is deporting           j                                    e                                          w                                  s            !!!!!!!!!!!!!!!!((to gitmo!!!!!!!!!!!!!!!!!!!!!!!!!!!!!!!!!!!!!!!!!!!!!trump is deporting           j                                    e                                          w                                  s            !!!!!!!!!!!!!!!!((to gitmo!!!!!!!!!!!!!!!!!!!!!!!!!!!!!!!!!!!!!!!!!!!!!",
          "calley sounds like justin trudeau, i think they both went to the wef school of dance.",
          "ban all vaxes!!! all!!",
          "it's a small club and only the corrupt can join and make billions.",
          "calley just answer the damn questions face_with_rolling_eyes",
          "i did some research about dr. jack, he's very knowledgeable. his anger during this interview does not show it.",
          "i think he wore out his name",
          "no child left behind!!!semper fi",
          "jack is a hypocrite it's clear as the sun in the sky",
          "calley is acting like somebody has a video of him with a kid on an island somewhere.",
          "jack is probably one of the worst guests i've ever seen on youtube",
          "the doctor is a little annoying.  i think he has good information, but it sounds like the lobbiest has a different perspective and the doctor is not ok with that and the doctor thinks that the lobbiest is the decision maker.i think the doctor has gone down too many rabbit holes.  the problem is huge and in every aspect of society.  a simple solution doesn't exist for the magnitude of the problem we face.the problem with food and pharmacy existed before what the doctor is talking about.  dr. max gerson died ",
          "calley coming across pretty weak here",
          "he is a little justin trudeau clone.",
          "at  hours &  minutes; my comment to calley is - the united states gubbement & big pharma have intentionally murdered more americans than all wars and it is a waaaaaaaaaaaaaaaaaaaaaaaaaaaaaaaaaaaaaaaaaaaaay bigger issue than any of those wars, the holocaust, the moon landings, any political data point, and flat earth. way bigger!",
          "this may sound crazy. if you look on the  in shot for your dogs. the c-  is in itpouting_face wth",
          "it's hard not to see right through calley's dis ingenuity.",
          "jack is such a breath of fresh air!! a pure soul red_heartthank you danny!",
          "\"do you feel like the shots should be pulled from the market?\" the answers are \"yes\", \"no\", or \"i don't know\". anything else is dishonest obfuscation. after answering one should be allowed to elaborate. i am heartily sick of these politicians and influence-rs who won't allow the discussion to advance by answering clear questions.",
          "take a shot every time the dude says \"jack\" in a condescending way.... no dont, youll be dead in under a half hour. omg its so annoying",
          "jack doesn't want good clean food and fasting to be the answer to a lot of diseases.",
          "the guy in the suit is carter burke from the movie aliens.",
          "wow, this guy is the typical fucking woke left-wing douche bag politician",
          "i'm sorry but jack is being so disrespectful, condescending, and aggressive. calley is great.",
          "this jack person works against himself with his aggressive, disagreeable, self-righteous attitude and conspiracy-first position. mary supports his destructive attitude too. they work against change and garner no new support they just divide and weaken the movement. he mocks himself too sitting there with a bitcoin logo on a santa hat, ridiculous. not interested in this podcast, bye-bye. danny stop these  people podcasts if you can't control them.",
          "i've tried to make it through this podcast  times!!! danny jones -- if you are going to cover these highly controversial topics you need to learn how to moderate your damn guests! jack may have an important message but he sucks balls as a messenger. ugh!!!!!!!!!!!!",
          "every thing is more common after the jabface_with_tears_of_joy",
          "calley is clearly deep state, calling a politician that got % of a vote a dictator is just stupid.",
          "calley means is such an obvious fake. snake in the grass. zero authenticity",
          "Happy_face_smiley the guy is full off shit",
          "calley, you \"are excited to hear them talk\"? let them talk you conceited selfish like like like...ass. quit talking about yourself it's so like like like tired. take the cotton out of your ears and stick it in your egotistical garbage mouth.",
          "jack jack jack jack jack jack jack stop jack",
          "jack offered calley a chance to learn from him. jack is an alpha man that needs no permission to speak the truth. calley wasted time getting into a power struggle with jack. jack treated calley the same way he treats everyone else. this is jack. calleys insecurity with not controlling the conversation was unfortunate.",
          " minutes in, i don't think i can finish this. this guy slows the convo, redirects, and fills the space worth pointless detail. like straight from vp harris. it's frustrating to listen to.",
          "he is very, very uncomfortable!   he a deep state doctor for sure. he is selling the deep state agenda its.",
          "calley: like, like, like....",
          "jack your being menacing. he says as if he shouldnt be.",
          "two guys who agree on % of things arguing over % of things.  kinda like two soldiers debating strategy in the trenches getting picked off by snipers because they were talking too much lol.",
          "trying to remain open to everything - % of this discussion goes nowhere and we don't really learn anything in the end... let's see what the future holds.",
          "hey calley, did you know david rockefeller was named as a top pedophile in a global murderous blackmailing pedophile network by a surviving  year old sex slave victim, anneke lucas?  evelyn de rothschild, pierre trudeau, kurt georg kiesinger and eddy arnold also named.",
          "calley is a snake.",
          "they're successfully treating pancreatic cancer recently in the uk at least. it's at a beta type stage treatment atm but the process is sound and tailored to the individual, also leukemia has been succesfully treated and the potentials of the methods to be used for other cancers (mainly from the pancreatic type treatment usedConfusion should soon be harnessed, along with other new methods perhaps to maximise the success rate and fine tune the processesses for other cancers. or at least i hope it goes that way. o danny, loving the shows.",
          "what was the reko case?",
          "i like that a pharma lobbyist has considered the best way to make money in his job is tyrannical and hes very mindful of this",
          "you are all more on the same side than you are willing to see. the distrust that has been bred is very real and legit. transparency and spontaneous, emotional responses breed trust. the difference between straight shooters, and smooth-talkers is apparent here. having been inside the power bases and having to excuse and learn how to communicate in their ways, compromises ones ethics, and ability to be transparent.. i know this because i lived in and spied on them also, while having serious concerns about the longterm damage, agendas, and willful ignorance  that they swim in, and demand anyone inside to play along with.callie may not understand  how being inside those worlds has changed  him into soundy cagey, detached, and good at spinning and dodging...at times  condescending. but it has.while the dr is directly confrontive, and harsh, especially  around the death of callies mother, he is justifiably suspicious  of everything,  because he's lived enough, and experienced  enough, and has special knowledge  that is being hijacked and hidden.all of you have done a good job trying to argue out differences, but the two blind spots are fircing you to go round and round.one side is  being cagey and comfortable  with that \"spin\" way of sharing who he is, (even if it's to use the corrupt system in order to be allowed to continue  being listened toConfusion, who maybe out of lack of life experience,  is unwittingly connected to darker people, and dismissing any concern about those  and the other,  trying to connect dots that may not apply here..may not be deliberate  agendas by anyone to subvert transparency,..because that is going on in nefarious ways by powerful people,  and that is a conscious goal by people  who have done it, are doing it, and hide it.and he is doing it accusingly and  in an intimidating way.i do think that after watching for an hour,  i am bothered by the way callie is so controlled, and presents everything  after filtering through  what he wants us to hear.and that it does breed a feeling of truth-\"lite\" and less transparency...and misdirection.i love that he's gone on record and criticized pharma and food, and is trying to stop them from shortening more lives,  and harming the quality of life for us.that's brave.and definitely  feel the same for both drs here, about scathing criticisms of the cover up and harms by the medical industries and government. i trust them more. not because they are drs. and not because they don't make excuses for corrupt  people  and institutions.it's because they don't seem to have any hidden subtext, or spin to anything  they say. they don't measure and filter,  or distract away from the direct points  or questions like callie does.when you're seeing and responsible for saving lives, and you're old enough to experience  the gravity of that..and living thru  times where you were betrayed and shocked that your government  would lie and do harm...you have no time for spin, or lack of spontaneous  emotional  answers that get to the whole truth, fast.for them all to work together against the same enemies,  these issues will need to be worked thru, if they can be.i hope so.because we need cooperation,  and they mostly have the same (difficultConfusion goals that we have to  work together on, and get action on, to save lives.",
          "i read a few more comments and i would say if they want to say dr jack has balls,  let's see him attack the president. trump will make mince meat out of him. i would love to see it though.",
          "wow this calley guy is slippery as f......!!!!! talks a lot but says nothing!!!",
          "i love jack, i respect calley, and i dont know mary....so lets gooo!!!! im here for it!",
          "vaccine vaccine vaccine vaccine covid covid covid covid",
          "i can't even watch and i'm only quarter of the way in what a mess we are in",
          "calley is really just such a worm. you'll do more harm than good. go back to los angeles or wherever, and never leave.",
          "that pos lobbyist is a pure scum bag. thanks for speaking the truth jack",
          "hey jack ,you want to know how fool you are?do you know that ww and ww (that you just mentionConfusionwere fight for the bankers that you just mention?so you went to europe to fight your own christian cousins on the side of communist stalin  for the bankers  and calley is to blame and you going to fix it shouting you mouth?",
          "calley talks like a bad sleazy lawyer. convolutes even the simplest sentence!",
          "seed oils & the + other banned chemicals that we come into contact with in our daily life. leave the us.",
          "jack really my type of guy when it comes to these matters.",
          "this podcast has to be one of the most spectacular events that ever happened in the world. all three persons and the host reached an epic monumental milestone moment at [:] minutes into the show. the fact that calley was able to gather the grit to stay on with the challenging confrontation before him and have jack and mary segue into posturing the jack medical bukele act into our governmental framework leveraging the use of state law, and avoiding the clash of federal law, is the best news yet. you arrived at a point where \"we the people\" can help you take action immediately to implement the change that this country and the entire world needs to shift towards. it is doable, practical, and easy to present to the people, who are yearning for a solution to this medical jd rock-feller, plague of a lifetime, perpetrated through lies and disguise upon humankind. how can we help formulate how we all might address our governers to usher in this online solution you have arrived at, before our v very eyes, and ears. superb, stupendous, spectacular.",
          "the guy in strips is a dishonest dude.",
          "i think the whole point of the means' is to protect the guilty from the justice they deserve by policies that just resort to moving on. that's the mission right now.",
          "globalist brainwash the young like cali and now we are living in a nightmare because of that!!!",
          "transparency is like\"i see dead people\"",
          "pfizer , moderna and the others... counsel of foreign relation, un, wef, the who, are all murderers!",
          "jesus mother of joseph!!  just when we thought it was over we just landed right back into the swamp !!",
          "who is that obvious fake calley man that's trying to discredit jack when all jack is doing is asking straightforward questions and he keeps playing snowflaking victim instead of just answering like an adult. i know his mother has died but he's really not coming over very authentic",
          "notice the lobbiest hand on liquid death....just saying.",
          ":: jack admits to being a globalist \"i'm not interested in the united states, just so you know\"  to casey means",
          "the lobbyists lost... big time.",
          "this is almost impossible to listen to. i can't vouch for calley, i dont know him. but jack did not come to have a conversation of any type. just personal attacks that ruin his own credibility even though his information may be spot on.",
          "end mrna technology in all products!!!",
          "that calley man is very slimy, he likes to use buzz words and deflects answering important questions.",
          "that calley means is clearly a slippery, slimy snake.",
          "he wants to use all the right verbiage doesn't he.  say safe amd effective you monster!!!",
          "i love this episode.jack has him studdering like the salesman on green acres..",
          "why does jack disapprove of  ongoing glucose monitors?",
          "sv keeps the virus lie alive. terrain theory > germ theory",
          "i love this guy ( santa, not the brain washed elfConfusion",
          "health has never been a voting issue because both sides have always been pro pharma. this is the first time it may matter.",
          ":, heat turns up and calley is ready to run!!!",
          "in my opinion..... tucker carlson is cia.  always has been.... always will be.  he is controlled opposition. i would never trust him regardless of what he is spinning.",
          "my dad died in  from hep c all the doctors were baffled because he was not a drug user, not a drinker, no blood transfusion very healthy overall so how on earth did he catch hep c? he did get vaccines throughout his lifetime, he even joined the navy. at  he had a liver transplant where they used a trial drug on him the name began with an r... i can't remember the name of the drug this was  years ago, he died  month after the transplant and his faith was sealed by steve johnson syndrome related to the many drugs after a transplant and the research drug they gave him after the surgery! crying_face",
          " minutes into this and jack is being a real jackhole!",
          "this guy is just not our guy. he's just like the rest",
          " minutes in... checkmate, and pharma boy knew it. he puts on a good show though. unfortunately for him, that's all it is.",
          "i'm leaving from that bs.....",
          "did anyone fact-ckeck jacks claims about the publisher of the means' book? cant seem to corroborate his claims...at all",
          "a high priority on liberty means a low priority on everything else....",
          "you can spot the weasel by the tone of their voice.",
          "i only listened because dr. kruse was speaking. calley is very full of.... himself. he incessantly interrupted and called out dr. kruse without answering simple yes or answers. kudos to dr. kruse, dr. bowden, and danny for putting up with calley's nonsense.",
          "jack did his research and seems to have the receipts.",
          "god this guy is painful. and defo a government operative. he's the cancer of this world",
          "and......  these comments determine everything",
          "so his dad wrote a children book about a gay flamingo...ok....",
          "i couldn't even finish this. all of the interrupting and the stuttering so rude and disrespectful i couldn't handle it. grow up.",
          "like....i think......like....you know...like...... i think....so like...",
          "jack.....jack.....jack..jack.jack!    u broke me!  hahhahaha",
          "this should have got pushed till about march/april once things get rolling in the new admin... just saying, might have had new light shined on some of the topics.",
          "means reminds me of kamala's dodging of answering a simple question.",
          "im still trying to figure out the name of the guy with the beard",
          "it's pretty interesting _ the comments are even more interesting but i don't understand why people can't be  christian. a christian -- as opposed to a jew or a muslim or an atheist which is probably what jack is-- xtan & does  forgive. this guy callie definitely was on the side of darkness and he still has a lot of the mannerisms of those people and that's not  debatable  but the fact of the matter is he chose to be on the side of light due to his sister's influence and i don't think that it should be held against him that once he was in darkness but now he no longer is. dr jack is in darkness in his own way because he interrogates as if he is the romans nailing christ to the cross. i'm not impressed with jack the interrogator and the screaming mary.",
          "oh boy! let me make popcorn this is gonna be good!",
          "the woman is just stupid",
          "this jack i exposes his complete madness when he says that's not what this guy jack is talking about i'm thinking isn't that jack talking cuz i'm doing dishes and i look yes it's dr jack talking so just be aware that we have a madman interrogating this very naive young man and also be aware that the other doctor mary is not a young woman he calls her young woman she's not she's middle-aged. i know you guys appreciate his balls and maybe you want to eat them for dinner i don't know i don't care but just be aware that this is a bunch of b***** to try to get his name out there because he's jealous as men often are of another man especially a younger man who is taking over his territory and you serving any possibility of fame he might have which is important to note because he doesn't have fame it's only a possibility that exist in his mad mind. put that in your pipe and smoke it grinning_face_with_smiling_eyes",
          "he is a slippery sucker you guys...however he is beautifully nice...",
          "dr jack is just being rude and shutting off my willingness to even give him an inch of credibility.",
          "jack is bad faith.",
          "that picture behind them reminds me of pacific palisades this last week.",
          null
         ],
         "marker": {
          "opacity": 0.5,
          "size": 5
         },
         "mode": "markers+text",
         "name": "0_the_and_to",
         "text": [
          "",
          "",
          "",
          "",
          "",
          "",
          "",
          "",
          "",
          "",
          "",
          "",
          "",
          "",
          "",
          "",
          "",
          "",
          "",
          "",
          "",
          "",
          "",
          "",
          "",
          "",
          "",
          "",
          "",
          "",
          "",
          "",
          "",
          "",
          "",
          "",
          "",
          "",
          "",
          "",
          "",
          "",
          "",
          "",
          "",
          "",
          "",
          "",
          "",
          "",
          "",
          "",
          "",
          "",
          "",
          "",
          "",
          "",
          "",
          "",
          "",
          "",
          "",
          "",
          "",
          "",
          "",
          "",
          "",
          "",
          "",
          "",
          "",
          "",
          "",
          "",
          "",
          "",
          "",
          "",
          "",
          "",
          "",
          "",
          "",
          "",
          "",
          "",
          "",
          "",
          "",
          "",
          "",
          "",
          "",
          "",
          "",
          "",
          "",
          "",
          "",
          "",
          "",
          "",
          "",
          "",
          "",
          "",
          "",
          "",
          "",
          "",
          "",
          "",
          "",
          "",
          "",
          "",
          "",
          "",
          "",
          "",
          "",
          "",
          "",
          "",
          "",
          "",
          "",
          "",
          "",
          "",
          "",
          "",
          "",
          "",
          "",
          "",
          "",
          "",
          "",
          "",
          "",
          "",
          "",
          "",
          "",
          "",
          "",
          "",
          "",
          "",
          "",
          "",
          "",
          "",
          "",
          "",
          "",
          "",
          "",
          "",
          "",
          "",
          "",
          "",
          "",
          "",
          "",
          "",
          "",
          "",
          "",
          "",
          "",
          "",
          "",
          "",
          "",
          "",
          "",
          "",
          "",
          "",
          "",
          "",
          "",
          "",
          "",
          "",
          "",
          "",
          "",
          "",
          "",
          "",
          "",
          "",
          "",
          "",
          "",
          "",
          "",
          "",
          "",
          "",
          "",
          "",
          "",
          "",
          "",
          "",
          "",
          "",
          "",
          "",
          "",
          "",
          "",
          "",
          "",
          "",
          "",
          "",
          "",
          "",
          "",
          "",
          "",
          "",
          "",
          "",
          "",
          "",
          "",
          "",
          "",
          "",
          "",
          "",
          "",
          "",
          "",
          "",
          "",
          "",
          "",
          "",
          "",
          "",
          "",
          "",
          "",
          "",
          "",
          "",
          "",
          "",
          "",
          "",
          "",
          "",
          "",
          "",
          "",
          "",
          "",
          "",
          "",
          "",
          "",
          "",
          "",
          "",
          "",
          "",
          "",
          "",
          "",
          "",
          "",
          "",
          "",
          "",
          "",
          "",
          "",
          "",
          "",
          "",
          "",
          "",
          "",
          "",
          "",
          "",
          "",
          "",
          "",
          "",
          "",
          "",
          "",
          "",
          "",
          "",
          "",
          "",
          "",
          "",
          "",
          "",
          "",
          "",
          "",
          "",
          "",
          "",
          "",
          "",
          "",
          "",
          "",
          "",
          "",
          "",
          "",
          "",
          "",
          "",
          "",
          "",
          "",
          "",
          "",
          "",
          "",
          "",
          "",
          "",
          "",
          "",
          "",
          "",
          "",
          "",
          "",
          "",
          "",
          "",
          "",
          "",
          "",
          "",
          "",
          "",
          "",
          "",
          "",
          "",
          "",
          "",
          "",
          "",
          "",
          "",
          "",
          "",
          "",
          "",
          "",
          "",
          "",
          "",
          "",
          "",
          "",
          "",
          "",
          "",
          "",
          "",
          "",
          "",
          "",
          "",
          "",
          "",
          "",
          "",
          "",
          "",
          "",
          "",
          "",
          "",
          "",
          "",
          "",
          "",
          "",
          "",
          "",
          "",
          "",
          "",
          "",
          "",
          "",
          "",
          "",
          "",
          "",
          "",
          "",
          "",
          "",
          "",
          "",
          "",
          "",
          "",
          "",
          "",
          "",
          "",
          "",
          "",
          "",
          "",
          "",
          "",
          "",
          "",
          "",
          "",
          "",
          "",
          "",
          "",
          "",
          "",
          "",
          "",
          "",
          "",
          "",
          "",
          "",
          "",
          "",
          "",
          "",
          "",
          "",
          "",
          "",
          "",
          "",
          "",
          "",
          "",
          "",
          "",
          "",
          "",
          "",
          "",
          "",
          "",
          "",
          "",
          "",
          "",
          "",
          "",
          "",
          "",
          "",
          "",
          "",
          "",
          "",
          "",
          "",
          "",
          "",
          "",
          "",
          "",
          "",
          "",
          "",
          "",
          "",
          "",
          "",
          "",
          "",
          "",
          "",
          "",
          "",
          "",
          "",
          "",
          "",
          "",
          "",
          "",
          "",
          "",
          "",
          "",
          "",
          "",
          "",
          "",
          "",
          "",
          "",
          "",
          "",
          "",
          "",
          "",
          "",
          "",
          "",
          "",
          "",
          "",
          "",
          "",
          "",
          "",
          "",
          "",
          "",
          "",
          "",
          "",
          "",
          "",
          "",
          "",
          "",
          "",
          "",
          "",
          "",
          "",
          "",
          "",
          "",
          "",
          "",
          "",
          "",
          "",
          "",
          "",
          "",
          "",
          "",
          "",
          "",
          "",
          "",
          "",
          "",
          "",
          "",
          "",
          "",
          "",
          "",
          "",
          "",
          "",
          "",
          "",
          "",
          "",
          "",
          "",
          "",
          "",
          "",
          "",
          "",
          "",
          "",
          "",
          "",
          "",
          "",
          "",
          "",
          "",
          "",
          "",
          "",
          "",
          "",
          "",
          "",
          "",
          "",
          "",
          "",
          "",
          "",
          "",
          "",
          "",
          "",
          "",
          "",
          "",
          "",
          "",
          "",
          "",
          "",
          "",
          "",
          "",
          "",
          "",
          "",
          "",
          "",
          "",
          "",
          "",
          "",
          "",
          "",
          "",
          "",
          "",
          "",
          "",
          "",
          "",
          "",
          "",
          "",
          "",
          "",
          "",
          "",
          "",
          "",
          "",
          "",
          "",
          "",
          "",
          "",
          "",
          "",
          "",
          "",
          "",
          "",
          "",
          "",
          "",
          "",
          "",
          "",
          "",
          "",
          "",
          "",
          "",
          "",
          "",
          "",
          "",
          "",
          "",
          "",
          "",
          "",
          "",
          "",
          "",
          "",
          "",
          "",
          "",
          "",
          "",
          "",
          "",
          "",
          "",
          "",
          "",
          "",
          "",
          "",
          "",
          "",
          "0_the_and_to"
         ],
         "textfont": {
          "size": 12
         },
         "type": "scattergl",
         "x": {
          "bdata": "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",
          "dtype": "f4"
         },
         "y": {
          "bdata": "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",
          "dtype": "f4"
         }
        },
        {
         "hoverinfo": "text",
         "hovertext": [
          "i don't disagree with jack but he really needs to unbunch his panties and learn how to have a conversation like an adult. it's hard to take him seriously when he's acting like an over emotional  year old. edit: jack kruse is a narcissistic, delusional lunatic. if anyone is a plant i'd say it's him. he says he's fighting against the system and all the things that led to the jab and it's mandates but then behaves in such a way that makes it impossible to take anything he says seriously. it's people like him that allows \"the swamp\" to weaponize the term \"conspiracy theorist\". whether he's willing to admit it or not the guy is likely going to do far more damage to the cause than good if he doesn't learn how to communicate properly and stop over reacting to every little thing and trying to turn every piece of info into a \"gotchya\" moment. at this point he reminds me more of a msnbc personality than a doctor.",
          "jack kruse is the man!",
          "jack krause is insufferable to listen too. he tries to play gotcha through seven degrees of separation.",
          "yes. i listened and drew my own conclusion...that jack kruse is a flipping moron.",
          "dr. jack kruse needs to be on your pod cast a lot more.",
          "kruse is a bullshit artist",
          "jack kruse is goat, and a bitcoiner. lets gooo.",
          "thank you, jack kruse!",
          "jack, jack, jack, jack, jackcan't stop the kruse missile",
          "i am h  minutes and dr.kruze is making piggy squill on barbacue. we have a saying in my laungage that this lobbiyst would sell his own monther.",
          "dr. kruze's ridiculous claim mossad engineered / doesn't help his credibility, either",
          "i am disappointed in jack kruse. he is wasting good air time bolstering his inflated ego with bullying.",
          "\"i think you're full is of  s h ! t.\"   thank you.  thank you.  thank you jack cruse.",
          "jack kruse is correct, the other man hides behind a political answer and present legal policies not a moral response",
          "kind of see why dr kruse is having so much trouble getting attention and convincing people of anything. being an asshole is a relatively easy sport, you don't get attention by being good at it. what an insufferable quack.",
          "jack kruse has balls as big as church bells! legend! glad he is fighting for our health!",
          "jack kruse is a lunatic who is wrong about almost everything.",
          "i just tried to find dr jack kruse on the web to see what school he is so not famous that he's not on the web &  obviously did not go to harvard or stanford or he wouldn't be dissing them. i did find a doctor jack kruse who solved his health problem by food and he wrote a whole book on it and created a diet to help americans change their s*** way of eating so maybe he's jealous of that jack kruse  as well as this young man but i'm sick of old men being jealous and either sending out young man to die in war or beating them up in person on the web. i'm glad some of you say dr jack helped you but right now he is presenting himself as a doctor jekyll dr hyde.",
          "i agree with jack krus  about tte fronting",
          "jack kruse and mary applying the socratic method to get to the truth.......",
          "i really love dr. jack kruse! i admire him so very much. red_heart he calls a  spade_suit a spade_suit! go jack !!!!! smiling_face_with_smiling_eyes",
          "kruse missle! shout out war mode podcast for the recommendation.",
          "ole uncle jack. the kruse missile. he's fired up, should be home exactly how everyone else feels.",
          null
         ],
         "marker": {
          "opacity": 0.5,
          "size": 5
         },
         "mode": "markers+text",
         "name": "1_kruse_jack_he",
         "text": [
          "",
          "",
          "",
          "",
          "",
          "",
          "",
          "",
          "",
          "",
          "",
          "",
          "",
          "",
          "",
          "",
          "",
          "",
          "",
          "",
          "",
          "",
          "",
          "1_kruse_jack_he"
         ],
         "textfont": {
          "size": 12
         },
         "type": "scattergl",
         "x": {
          "bdata": "XaScQAfbokC45J5AUBShQFRzoEArvp1A4ueiQOmaokAyvKJAnKGaQOeunEBxp6FAL6+jQJREokC9RpxAkp2iQO9ooEBl7plAgEuiQPsgoEDqkKFApECjQG+6o0COZKBA",
          "dtype": "f4"
         },
         "y": {
          "bdata": "MxDKQAisxECqP8dAgkfGQDdTx0CfP8lAJbLEQHznxEDukMRAQB7LQNDLyUBA1cVAr7bCQCxexUAYX8pAk/jEQLQDx0BEesxAaFbFQDqUx0DbbsVALN7DQNTMw0CzucZA",
          "dtype": "f4"
         }
        },
        {
         "hoverinfo": "text",
         "hovertext": [
          "they censored the word vaccine ?? person_shruggingperson_facepalming",
          "u-tube should be ashamed of censoring use of words covid and vaccine.  what the heck!",
          "pretty hilarious that covid is now a bad word that can no longer be mentioned on youtube. maybe all the youtube crew will get vaxed and boosted this season! they deserve it indeed!",
          "bleeping out covid is hysterical",
          "yt should be ashamed that they made the platform degrade in a way a litterally healthy discussion/talk needs to be censored at all is sickening. the irony....",
          "i keep hearing cum shots when \"covid\" gets censored.",
          "the fact you have to mute words like covid, vaccine etc tells you all you need to know about the state of this country.",
          "did they cut out the word covid",
          "yt is as censored as the ccp these days.",
          "why is \"covid\" and \"vaccines\"  censored out?",
          "you can mute the entire podcast and release it",
          "still being censured.  days ago it had the same views holy fuck",
          "youtube is censoring comments here big time",
          "i keep thinking they're saying c*mshot and it changes the conversation dramatically",
          "why were specific words muted?",
          null
         ],
         "marker": {
          "opacity": 0.5,
          "size": 5
         },
         "mode": "markers+text",
         "name": "2_covid_censored_the",
         "text": [
          "",
          "",
          "",
          "",
          "",
          "",
          "",
          "",
          "",
          "",
          "",
          "",
          "",
          "",
          "",
          "2_covid_censored_the"
         ],
         "textfont": {
          "size": 12
         },
         "type": "scattergl",
         "x": {
          "bdata": "hDkAPp5qVj4j6VM+evIjPlnnjj7jNPs9HxrvPXYlBT5gWIM+/tsbPgWALz4rhII+veqMPhnOFkBr8yk+GRSqPg==",
          "dtype": "f4"
         },
         "y": {
          "bdata": "7mcsQaNRLkHjQy5BEk4tQZ+JL0G8qSxBe1YsQcTLLEF/Oy9Bhi4tQbUxLUG5Fy9B/m8vQRs/1EBsKC1BHEUpQQ==",
          "dtype": "f4"
         }
        }
       ],
       "layout": {
        "annotations": [
         {
          "showarrow": false,
          "text": "D1",
          "x": -4.412346434593201,
          "y": 8.144100451469422,
          "yshift": 10
         },
         {
          "showarrow": false,
          "text": "D2",
          "x": 0.7358188867568969,
          "xshift": 10,
          "y": 12.616763734817505
         }
        ],
        "height": 750,
        "shapes": [
         {
          "line": {
           "color": "#CFD8DC",
           "width": 2
          },
          "type": "line",
          "x0": 0.7358188867568969,
          "x1": 0.7358188867568969,
          "y0": 3.671437168121338,
          "y1": 12.616763734817505
         },
         {
          "line": {
           "color": "#9E9E9E",
           "width": 2
          },
          "type": "line",
          "x0": -4.412346434593201,
          "x1": 5.883984208106995,
          "y0": 8.144100451469422,
          "y1": 8.144100451469422
         }
        ],
        "template": {
         "data": {
          "bar": [
           {
            "error_x": {
             "color": "rgb(36,36,36)"
            },
            "error_y": {
             "color": "rgb(36,36,36)"
            },
            "marker": {
             "line": {
              "color": "white",
              "width": 0.5
             },
             "pattern": {
              "fillmode": "overlay",
              "size": 10,
              "solidity": 0.2
             }
            },
            "type": "bar"
           }
          ],
          "barpolar": [
           {
            "marker": {
             "line": {
              "color": "white",
              "width": 0.5
             },
             "pattern": {
              "fillmode": "overlay",
              "size": 10,
              "solidity": 0.2
             }
            },
            "type": "barpolar"
           }
          ],
          "carpet": [
           {
            "aaxis": {
             "endlinecolor": "rgb(36,36,36)",
             "gridcolor": "white",
             "linecolor": "white",
             "minorgridcolor": "white",
             "startlinecolor": "rgb(36,36,36)"
            },
            "baxis": {
             "endlinecolor": "rgb(36,36,36)",
             "gridcolor": "white",
             "linecolor": "white",
             "minorgridcolor": "white",
             "startlinecolor": "rgb(36,36,36)"
            },
            "type": "carpet"
           }
          ],
          "choropleth": [
           {
            "colorbar": {
             "outlinewidth": 1,
             "tickcolor": "rgb(36,36,36)",
             "ticks": "outside"
            },
            "type": "choropleth"
           }
          ],
          "contour": [
           {
            "colorbar": {
             "outlinewidth": 1,
             "tickcolor": "rgb(36,36,36)",
             "ticks": "outside"
            },
            "colorscale": [
             [
              0,
              "#440154"
             ],
             [
              0.1111111111111111,
              "#482878"
             ],
             [
              0.2222222222222222,
              "#3e4989"
             ],
             [
              0.3333333333333333,
              "#31688e"
             ],
             [
              0.4444444444444444,
              "#26828e"
             ],
             [
              0.5555555555555556,
              "#1f9e89"
             ],
             [
              0.6666666666666666,
              "#35b779"
             ],
             [
              0.7777777777777778,
              "#6ece58"
             ],
             [
              0.8888888888888888,
              "#b5de2b"
             ],
             [
              1,
              "#fde725"
             ]
            ],
            "type": "contour"
           }
          ],
          "contourcarpet": [
           {
            "colorbar": {
             "outlinewidth": 1,
             "tickcolor": "rgb(36,36,36)",
             "ticks": "outside"
            },
            "type": "contourcarpet"
           }
          ],
          "heatmap": [
           {
            "colorbar": {
             "outlinewidth": 1,
             "tickcolor": "rgb(36,36,36)",
             "ticks": "outside"
            },
            "colorscale": [
             [
              0,
              "#440154"
             ],
             [
              0.1111111111111111,
              "#482878"
             ],
             [
              0.2222222222222222,
              "#3e4989"
             ],
             [
              0.3333333333333333,
              "#31688e"
             ],
             [
              0.4444444444444444,
              "#26828e"
             ],
             [
              0.5555555555555556,
              "#1f9e89"
             ],
             [
              0.6666666666666666,
              "#35b779"
             ],
             [
              0.7777777777777778,
              "#6ece58"
             ],
             [
              0.8888888888888888,
              "#b5de2b"
             ],
             [
              1,
              "#fde725"
             ]
            ],
            "type": "heatmap"
           }
          ],
          "histogram": [
           {
            "marker": {
             "line": {
              "color": "white",
              "width": 0.6
             }
            },
            "type": "histogram"
           }
          ],
          "histogram2d": [
           {
            "colorbar": {
             "outlinewidth": 1,
             "tickcolor": "rgb(36,36,36)",
             "ticks": "outside"
            },
            "colorscale": [
             [
              0,
              "#440154"
             ],
             [
              0.1111111111111111,
              "#482878"
             ],
             [
              0.2222222222222222,
              "#3e4989"
             ],
             [
              0.3333333333333333,
              "#31688e"
             ],
             [
              0.4444444444444444,
              "#26828e"
             ],
             [
              0.5555555555555556,
              "#1f9e89"
             ],
             [
              0.6666666666666666,
              "#35b779"
             ],
             [
              0.7777777777777778,
              "#6ece58"
             ],
             [
              0.8888888888888888,
              "#b5de2b"
             ],
             [
              1,
              "#fde725"
             ]
            ],
            "type": "histogram2d"
           }
          ],
          "histogram2dcontour": [
           {
            "colorbar": {
             "outlinewidth": 1,
             "tickcolor": "rgb(36,36,36)",
             "ticks": "outside"
            },
            "colorscale": [
             [
              0,
              "#440154"
             ],
             [
              0.1111111111111111,
              "#482878"
             ],
             [
              0.2222222222222222,
              "#3e4989"
             ],
             [
              0.3333333333333333,
              "#31688e"
             ],
             [
              0.4444444444444444,
              "#26828e"
             ],
             [
              0.5555555555555556,
              "#1f9e89"
             ],
             [
              0.6666666666666666,
              "#35b779"
             ],
             [
              0.7777777777777778,
              "#6ece58"
             ],
             [
              0.8888888888888888,
              "#b5de2b"
             ],
             [
              1,
              "#fde725"
             ]
            ],
            "type": "histogram2dcontour"
           }
          ],
          "mesh3d": [
           {
            "colorbar": {
             "outlinewidth": 1,
             "tickcolor": "rgb(36,36,36)",
             "ticks": "outside"
            },
            "type": "mesh3d"
           }
          ],
          "parcoords": [
           {
            "line": {
             "colorbar": {
              "outlinewidth": 1,
              "tickcolor": "rgb(36,36,36)",
              "ticks": "outside"
             }
            },
            "type": "parcoords"
           }
          ],
          "pie": [
           {
            "automargin": true,
            "type": "pie"
           }
          ],
          "scatter": [
           {
            "fillpattern": {
             "fillmode": "overlay",
             "size": 10,
             "solidity": 0.2
            },
            "type": "scatter"
           }
          ],
          "scatter3d": [
           {
            "line": {
             "colorbar": {
              "outlinewidth": 1,
              "tickcolor": "rgb(36,36,36)",
              "ticks": "outside"
             }
            },
            "marker": {
             "colorbar": {
              "outlinewidth": 1,
              "tickcolor": "rgb(36,36,36)",
              "ticks": "outside"
             }
            },
            "type": "scatter3d"
           }
          ],
          "scattercarpet": [
           {
            "marker": {
             "colorbar": {
              "outlinewidth": 1,
              "tickcolor": "rgb(36,36,36)",
              "ticks": "outside"
             }
            },
            "type": "scattercarpet"
           }
          ],
          "scattergeo": [
           {
            "marker": {
             "colorbar": {
              "outlinewidth": 1,
              "tickcolor": "rgb(36,36,36)",
              "ticks": "outside"
             }
            },
            "type": "scattergeo"
           }
          ],
          "scattergl": [
           {
            "marker": {
             "colorbar": {
              "outlinewidth": 1,
              "tickcolor": "rgb(36,36,36)",
              "ticks": "outside"
             }
            },
            "type": "scattergl"
           }
          ],
          "scattermap": [
           {
            "marker": {
             "colorbar": {
              "outlinewidth": 1,
              "tickcolor": "rgb(36,36,36)",
              "ticks": "outside"
             }
            },
            "type": "scattermap"
           }
          ],
          "scattermapbox": [
           {
            "marker": {
             "colorbar": {
              "outlinewidth": 1,
              "tickcolor": "rgb(36,36,36)",
              "ticks": "outside"
             }
            },
            "type": "scattermapbox"
           }
          ],
          "scatterpolar": [
           {
            "marker": {
             "colorbar": {
              "outlinewidth": 1,
              "tickcolor": "rgb(36,36,36)",
              "ticks": "outside"
             }
            },
            "type": "scatterpolar"
           }
          ],
          "scatterpolargl": [
           {
            "marker": {
             "colorbar": {
              "outlinewidth": 1,
              "tickcolor": "rgb(36,36,36)",
              "ticks": "outside"
             }
            },
            "type": "scatterpolargl"
           }
          ],
          "scatterternary": [
           {
            "marker": {
             "colorbar": {
              "outlinewidth": 1,
              "tickcolor": "rgb(36,36,36)",
              "ticks": "outside"
             }
            },
            "type": "scatterternary"
           }
          ],
          "surface": [
           {
            "colorbar": {
             "outlinewidth": 1,
             "tickcolor": "rgb(36,36,36)",
             "ticks": "outside"
            },
            "colorscale": [
             [
              0,
              "#440154"
             ],
             [
              0.1111111111111111,
              "#482878"
             ],
             [
              0.2222222222222222,
              "#3e4989"
             ],
             [
              0.3333333333333333,
              "#31688e"
             ],
             [
              0.4444444444444444,
              "#26828e"
             ],
             [
              0.5555555555555556,
              "#1f9e89"
             ],
             [
              0.6666666666666666,
              "#35b779"
             ],
             [
              0.7777777777777778,
              "#6ece58"
             ],
             [
              0.8888888888888888,
              "#b5de2b"
             ],
             [
              1,
              "#fde725"
             ]
            ],
            "type": "surface"
           }
          ],
          "table": [
           {
            "cells": {
             "fill": {
              "color": "rgb(237,237,237)"
             },
             "line": {
              "color": "white"
             }
            },
            "header": {
             "fill": {
              "color": "rgb(217,217,217)"
             },
             "line": {
              "color": "white"
             }
            },
            "type": "table"
           }
          ]
         },
         "layout": {
          "annotationdefaults": {
           "arrowhead": 0,
           "arrowwidth": 1
          },
          "autotypenumbers": "strict",
          "coloraxis": {
           "colorbar": {
            "outlinewidth": 1,
            "tickcolor": "rgb(36,36,36)",
            "ticks": "outside"
           }
          },
          "colorscale": {
           "diverging": [
            [
             0,
             "rgb(103,0,31)"
            ],
            [
             0.1,
             "rgb(178,24,43)"
            ],
            [
             0.2,
             "rgb(214,96,77)"
            ],
            [
             0.3,
             "rgb(244,165,130)"
            ],
            [
             0.4,
             "rgb(253,219,199)"
            ],
            [
             0.5,
             "rgb(247,247,247)"
            ],
            [
             0.6,
             "rgb(209,229,240)"
            ],
            [
             0.7,
             "rgb(146,197,222)"
            ],
            [
             0.8,
             "rgb(67,147,195)"
            ],
            [
             0.9,
             "rgb(33,102,172)"
            ],
            [
             1,
             "rgb(5,48,97)"
            ]
           ],
           "sequential": [
            [
             0,
             "#440154"
            ],
            [
             0.1111111111111111,
             "#482878"
            ],
            [
             0.2222222222222222,
             "#3e4989"
            ],
            [
             0.3333333333333333,
             "#31688e"
            ],
            [
             0.4444444444444444,
             "#26828e"
            ],
            [
             0.5555555555555556,
             "#1f9e89"
            ],
            [
             0.6666666666666666,
             "#35b779"
            ],
            [
             0.7777777777777778,
             "#6ece58"
            ],
            [
             0.8888888888888888,
             "#b5de2b"
            ],
            [
             1,
             "#fde725"
            ]
           ],
           "sequentialminus": [
            [
             0,
             "#440154"
            ],
            [
             0.1111111111111111,
             "#482878"
            ],
            [
             0.2222222222222222,
             "#3e4989"
            ],
            [
             0.3333333333333333,
             "#31688e"
            ],
            [
             0.4444444444444444,
             "#26828e"
            ],
            [
             0.5555555555555556,
             "#1f9e89"
            ],
            [
             0.6666666666666666,
             "#35b779"
            ],
            [
             0.7777777777777778,
             "#6ece58"
            ],
            [
             0.8888888888888888,
             "#b5de2b"
            ],
            [
             1,
             "#fde725"
            ]
           ]
          },
          "colorway": [
           "#1F77B4",
           "#FF7F0E",
           "#2CA02C",
           "#D62728",
           "#9467BD",
           "#8C564B",
           "#E377C2",
           "#7F7F7F",
           "#BCBD22",
           "#17BECF"
          ],
          "font": {
           "color": "rgb(36,36,36)"
          },
          "geo": {
           "bgcolor": "white",
           "lakecolor": "white",
           "landcolor": "white",
           "showlakes": true,
           "showland": true,
           "subunitcolor": "white"
          },
          "hoverlabel": {
           "align": "left"
          },
          "hovermode": "closest",
          "mapbox": {
           "style": "light"
          },
          "paper_bgcolor": "white",
          "plot_bgcolor": "white",
          "polar": {
           "angularaxis": {
            "gridcolor": "rgb(232,232,232)",
            "linecolor": "rgb(36,36,36)",
            "showgrid": false,
            "showline": true,
            "ticks": "outside"
           },
           "bgcolor": "white",
           "radialaxis": {
            "gridcolor": "rgb(232,232,232)",
            "linecolor": "rgb(36,36,36)",
            "showgrid": false,
            "showline": true,
            "ticks": "outside"
           }
          },
          "scene": {
           "xaxis": {
            "backgroundcolor": "white",
            "gridcolor": "rgb(232,232,232)",
            "gridwidth": 2,
            "linecolor": "rgb(36,36,36)",
            "showbackground": true,
            "showgrid": false,
            "showline": true,
            "ticks": "outside",
            "zeroline": false,
            "zerolinecolor": "rgb(36,36,36)"
           },
           "yaxis": {
            "backgroundcolor": "white",
            "gridcolor": "rgb(232,232,232)",
            "gridwidth": 2,
            "linecolor": "rgb(36,36,36)",
            "showbackground": true,
            "showgrid": false,
            "showline": true,
            "ticks": "outside",
            "zeroline": false,
            "zerolinecolor": "rgb(36,36,36)"
           },
           "zaxis": {
            "backgroundcolor": "white",
            "gridcolor": "rgb(232,232,232)",
            "gridwidth": 2,
            "linecolor": "rgb(36,36,36)",
            "showbackground": true,
            "showgrid": false,
            "showline": true,
            "ticks": "outside",
            "zeroline": false,
            "zerolinecolor": "rgb(36,36,36)"
           }
          },
          "shapedefaults": {
           "fillcolor": "black",
           "line": {
            "width": 0
           },
           "opacity": 0.3
          },
          "ternary": {
           "aaxis": {
            "gridcolor": "rgb(232,232,232)",
            "linecolor": "rgb(36,36,36)",
            "showgrid": false,
            "showline": true,
            "ticks": "outside"
           },
           "baxis": {
            "gridcolor": "rgb(232,232,232)",
            "linecolor": "rgb(36,36,36)",
            "showgrid": false,
            "showline": true,
            "ticks": "outside"
           },
           "bgcolor": "white",
           "caxis": {
            "gridcolor": "rgb(232,232,232)",
            "linecolor": "rgb(36,36,36)",
            "showgrid": false,
            "showline": true,
            "ticks": "outside"
           }
          },
          "title": {
           "x": 0.05
          },
          "xaxis": {
           "automargin": true,
           "gridcolor": "rgb(232,232,232)",
           "linecolor": "rgb(36,36,36)",
           "showgrid": false,
           "showline": true,
           "ticks": "outside",
           "title": {
            "standoff": 15
           },
           "zeroline": false,
           "zerolinecolor": "rgb(36,36,36)"
          },
          "yaxis": {
           "automargin": true,
           "gridcolor": "rgb(232,232,232)",
           "linecolor": "rgb(36,36,36)",
           "showgrid": false,
           "showline": true,
           "ticks": "outside",
           "title": {
            "standoff": 15
           },
           "zeroline": false,
           "zerolinecolor": "rgb(36,36,36)"
          }
         }
        },
        "title": {
         "font": {
          "color": "Black",
          "size": 22
         },
         "text": "<b>Documents and Topics</b>",
         "x": 0.5,
         "xanchor": "center",
         "yanchor": "top"
        },
        "width": 1200,
        "xaxis": {
         "visible": false
        },
        "yaxis": {
         "visible": false
        }
       }
      }
     },
     "metadata": {},
     "output_type": "display_data"
    }
   ],
   "source": [
    "text_embedding_004_model = BERTopic(\n",
    "    embedding_model=GeminiEmbeddingBackend(model=\"text-embedding-004\", task_type=\"clustering\"),\n",
    ")\n",
    "\n",
    "for df_name, df in dfs1.items():\n",
    "    print(f\"Processing {df_name}...\")\n",
    "    topics, probs = text_embedding_004_model.fit_transform(df['cleaned_text'].tolist())\n",
    "    fig = text_embedding_004_model.visualize_documents(docs=df['cleaned_text'].tolist(), topics=topics, custom_labels=df['text'].tolist())\n",
    "    fig.show()"
   ]
  },
  {
   "cell_type": "code",
   "execution_count": 54,
   "id": "c8025a83",
   "metadata": {},
   "outputs": [
    {
     "name": "stdout",
     "output_type": "stream",
     "text": [
      "Processing trump_gaza_1000.csv...\n"
     ]
    },
    {
     "ename": "ClientError",
     "evalue": "429 RESOURCE_EXHAUSTED. {'error': {'code': 429, 'message': 'Resource has been exhausted (e.g. check quota).', 'status': 'RESOURCE_EXHAUSTED'}}",
     "output_type": "error",
     "traceback": [
      "\u001b[1;31m---------------------------------------------------------------------------\u001b[0m",
      "\u001b[1;31mClientError\u001b[0m                               Traceback (most recent call last)",
      "Cell \u001b[1;32mIn[54], line 7\u001b[0m\n\u001b[0;32m      5\u001b[0m \u001b[38;5;28;01mfor\u001b[39;00m df_name, df \u001b[38;5;129;01min\u001b[39;00m dfs1\u001b[38;5;241m.\u001b[39mitems():\n\u001b[0;32m      6\u001b[0m     \u001b[38;5;28mprint\u001b[39m(\u001b[38;5;124mf\u001b[39m\u001b[38;5;124m\"\u001b[39m\u001b[38;5;124mProcessing \u001b[39m\u001b[38;5;132;01m{\u001b[39;00mdf_name\u001b[38;5;132;01m}\u001b[39;00m\u001b[38;5;124m...\u001b[39m\u001b[38;5;124m\"\u001b[39m)\n\u001b[1;32m----> 7\u001b[0m     topics, probs \u001b[38;5;241m=\u001b[39m \u001b[43mgemini_embedding_exp_03_07_model\u001b[49m\u001b[38;5;241;43m.\u001b[39;49m\u001b[43mfit_transform\u001b[49m\u001b[43m(\u001b[49m\u001b[43mdf\u001b[49m\u001b[43m[\u001b[49m\u001b[38;5;124;43m'\u001b[39;49m\u001b[38;5;124;43mcleaned_text\u001b[39;49m\u001b[38;5;124;43m'\u001b[39;49m\u001b[43m]\u001b[49m\u001b[38;5;241;43m.\u001b[39;49m\u001b[43mtolist\u001b[49m\u001b[43m(\u001b[49m\u001b[43m)\u001b[49m\u001b[43m)\u001b[49m\n\u001b[0;32m      8\u001b[0m     fig \u001b[38;5;241m=\u001b[39m gemini_embedding_exp_03_07_model\u001b[38;5;241m.\u001b[39mvisualize_documents(docs\u001b[38;5;241m=\u001b[39mdf[\u001b[38;5;124m'\u001b[39m\u001b[38;5;124mcleaned_text\u001b[39m\u001b[38;5;124m'\u001b[39m]\u001b[38;5;241m.\u001b[39mtolist(), topics\u001b[38;5;241m=\u001b[39mtopics, custom_labels\u001b[38;5;241m=\u001b[39mdf[\u001b[38;5;124m'\u001b[39m\u001b[38;5;124mtext\u001b[39m\u001b[38;5;124m'\u001b[39m]\u001b[38;5;241m.\u001b[39mtolist())\n\u001b[0;32m      9\u001b[0m     fig\u001b[38;5;241m.\u001b[39mshow()\n",
      "File \u001b[1;32mc:\\Users\\HamamaHome\\anaconda3\\envs\\DS-101-Final\\Lib\\site-packages\\bertopic\\_bertopic.py:454\u001b[0m, in \u001b[0;36mBERTopic.fit_transform\u001b[1;34m(self, documents, embeddings, images, y)\u001b[0m\n\u001b[0;32m    452\u001b[0m     logger\u001b[38;5;241m.\u001b[39minfo(\u001b[38;5;124m\"\u001b[39m\u001b[38;5;124mEmbedding - Transforming documents to embeddings.\u001b[39m\u001b[38;5;124m\"\u001b[39m)\n\u001b[0;32m    453\u001b[0m     \u001b[38;5;28mself\u001b[39m\u001b[38;5;241m.\u001b[39membedding_model \u001b[38;5;241m=\u001b[39m select_backend(\u001b[38;5;28mself\u001b[39m\u001b[38;5;241m.\u001b[39membedding_model, language\u001b[38;5;241m=\u001b[39m\u001b[38;5;28mself\u001b[39m\u001b[38;5;241m.\u001b[39mlanguage, verbose\u001b[38;5;241m=\u001b[39m\u001b[38;5;28mself\u001b[39m\u001b[38;5;241m.\u001b[39mverbose)\n\u001b[1;32m--> 454\u001b[0m     embeddings \u001b[38;5;241m=\u001b[39m \u001b[38;5;28;43mself\u001b[39;49m\u001b[38;5;241;43m.\u001b[39;49m\u001b[43m_extract_embeddings\u001b[49m\u001b[43m(\u001b[49m\n\u001b[0;32m    455\u001b[0m \u001b[43m        \u001b[49m\u001b[43mdocuments\u001b[49m\u001b[38;5;241;43m.\u001b[39;49m\u001b[43mDocument\u001b[49m\u001b[38;5;241;43m.\u001b[39;49m\u001b[43mvalues\u001b[49m\u001b[38;5;241;43m.\u001b[39;49m\u001b[43mtolist\u001b[49m\u001b[43m(\u001b[49m\u001b[43m)\u001b[49m\u001b[43m,\u001b[49m\n\u001b[0;32m    456\u001b[0m \u001b[43m        \u001b[49m\u001b[43mimages\u001b[49m\u001b[38;5;241;43m=\u001b[39;49m\u001b[43mimages\u001b[49m\u001b[43m,\u001b[49m\n\u001b[0;32m    457\u001b[0m \u001b[43m        \u001b[49m\u001b[43mmethod\u001b[49m\u001b[38;5;241;43m=\u001b[39;49m\u001b[38;5;124;43m\"\u001b[39;49m\u001b[38;5;124;43mdocument\u001b[39;49m\u001b[38;5;124;43m\"\u001b[39;49m\u001b[43m,\u001b[49m\n\u001b[0;32m    458\u001b[0m \u001b[43m        \u001b[49m\u001b[43mverbose\u001b[49m\u001b[38;5;241;43m=\u001b[39;49m\u001b[38;5;28;43mself\u001b[39;49m\u001b[38;5;241;43m.\u001b[39;49m\u001b[43mverbose\u001b[49m\u001b[43m,\u001b[49m\n\u001b[0;32m    459\u001b[0m \u001b[43m    \u001b[49m\u001b[43m)\u001b[49m\n\u001b[0;32m    460\u001b[0m     logger\u001b[38;5;241m.\u001b[39minfo(\u001b[38;5;124m\"\u001b[39m\u001b[38;5;124mEmbedding - Completed \u001b[39m\u001b[38;5;130;01m\\u2713\u001b[39;00m\u001b[38;5;124m\"\u001b[39m)\n\u001b[0;32m    461\u001b[0m \u001b[38;5;28;01melse\u001b[39;00m:\n",
      "File \u001b[1;32mc:\\Users\\HamamaHome\\anaconda3\\envs\\DS-101-Final\\Lib\\site-packages\\bertopic\\_bertopic.py:3711\u001b[0m, in \u001b[0;36mBERTopic._extract_embeddings\u001b[1;34m(self, documents, images, method, verbose)\u001b[0m\n\u001b[0;32m   3709\u001b[0m     embeddings \u001b[38;5;241m=\u001b[39m \u001b[38;5;28mself\u001b[39m\u001b[38;5;241m.\u001b[39membedding_model\u001b[38;5;241m.\u001b[39membed_words(words\u001b[38;5;241m=\u001b[39mdocuments, verbose\u001b[38;5;241m=\u001b[39mverbose)\n\u001b[0;32m   3710\u001b[0m \u001b[38;5;28;01melif\u001b[39;00m method \u001b[38;5;241m==\u001b[39m \u001b[38;5;124m\"\u001b[39m\u001b[38;5;124mdocument\u001b[39m\u001b[38;5;124m\"\u001b[39m:\n\u001b[1;32m-> 3711\u001b[0m     embeddings \u001b[38;5;241m=\u001b[39m \u001b[38;5;28;43mself\u001b[39;49m\u001b[38;5;241;43m.\u001b[39;49m\u001b[43membedding_model\u001b[49m\u001b[38;5;241;43m.\u001b[39;49m\u001b[43membed_documents\u001b[49m\u001b[43m(\u001b[49m\u001b[43mdocuments\u001b[49m\u001b[43m,\u001b[49m\u001b[43m \u001b[49m\u001b[43mverbose\u001b[49m\u001b[38;5;241;43m=\u001b[39;49m\u001b[43mverbose\u001b[49m\u001b[43m)\u001b[49m\n\u001b[0;32m   3712\u001b[0m \u001b[38;5;28;01melif\u001b[39;00m documents[\u001b[38;5;241m0\u001b[39m] \u001b[38;5;129;01mis\u001b[39;00m \u001b[38;5;28;01mNone\u001b[39;00m \u001b[38;5;129;01mand\u001b[39;00m images \u001b[38;5;129;01mis\u001b[39;00m \u001b[38;5;28;01mNone\u001b[39;00m:\n\u001b[0;32m   3713\u001b[0m     \u001b[38;5;28;01mraise\u001b[39;00m \u001b[38;5;167;01mValueError\u001b[39;00m(\n\u001b[0;32m   3714\u001b[0m         \u001b[38;5;124m\"\u001b[39m\u001b[38;5;124mMake sure to use an embedding model that can either embed documents\u001b[39m\u001b[38;5;124m\"\u001b[39m\n\u001b[0;32m   3715\u001b[0m         \u001b[38;5;124m\"\u001b[39m\u001b[38;5;124mor images depending on which you want to embed.\u001b[39m\u001b[38;5;124m\"\u001b[39m\n\u001b[0;32m   3716\u001b[0m     )\n",
      "File \u001b[1;32mc:\\Users\\HamamaHome\\anaconda3\\envs\\DS-101-Final\\Lib\\site-packages\\bertopic\\backend\\_base.py:62\u001b[0m, in \u001b[0;36mBaseEmbedder.embed_documents\u001b[1;34m(self, document, verbose)\u001b[0m\n\u001b[0;32m     50\u001b[0m \u001b[38;5;28;01mdef\u001b[39;00m \u001b[38;5;21membed_documents\u001b[39m(\u001b[38;5;28mself\u001b[39m, document: List[\u001b[38;5;28mstr\u001b[39m], verbose: \u001b[38;5;28mbool\u001b[39m \u001b[38;5;241m=\u001b[39m \u001b[38;5;28;01mFalse\u001b[39;00m) \u001b[38;5;241m-\u001b[39m\u001b[38;5;241m>\u001b[39m np\u001b[38;5;241m.\u001b[39mndarray:\n\u001b[0;32m     51\u001b[0m \u001b[38;5;250m    \u001b[39m\u001b[38;5;124;03m\"\"\"Embed a list of n words into an n-dimensional\u001b[39;00m\n\u001b[0;32m     52\u001b[0m \u001b[38;5;124;03m    matrix of embeddings.\u001b[39;00m\n\u001b[0;32m     53\u001b[0m \n\u001b[1;32m   (...)\u001b[0m\n\u001b[0;32m     60\u001b[0m \u001b[38;5;124;03m        that each have an embeddings size of `m`\u001b[39;00m\n\u001b[0;32m     61\u001b[0m \u001b[38;5;124;03m    \"\"\"\u001b[39;00m\n\u001b[1;32m---> 62\u001b[0m     \u001b[38;5;28;01mreturn\u001b[39;00m \u001b[38;5;28;43mself\u001b[39;49m\u001b[38;5;241;43m.\u001b[39;49m\u001b[43membed\u001b[49m\u001b[43m(\u001b[49m\u001b[43mdocument\u001b[49m\u001b[43m,\u001b[49m\u001b[43m \u001b[49m\u001b[43mverbose\u001b[49m\u001b[43m)\u001b[49m\n",
      "Cell \u001b[1;32mIn[44], line 33\u001b[0m, in \u001b[0;36mGeminiEmbeddingBackend.embed\u001b[1;34m(self, documents, verbose)\u001b[0m\n\u001b[0;32m     30\u001b[0m \u001b[38;5;28;01mif\u001b[39;00m verbose:\n\u001b[0;32m     31\u001b[0m     \u001b[38;5;28mprint\u001b[39m(\u001b[38;5;124mf\u001b[39m\u001b[38;5;124m\"\u001b[39m\u001b[38;5;124mEmbedding docs \u001b[39m\u001b[38;5;132;01m{\u001b[39;00mstart\u001b[38;5;132;01m}\u001b[39;00m\u001b[38;5;124m–\u001b[39m\u001b[38;5;132;01m{\u001b[39;00mstart\u001b[38;5;241m+\u001b[39m\u001b[38;5;28mlen\u001b[39m(batch)\u001b[38;5;241m-\u001b[39m\u001b[38;5;241m1\u001b[39m\u001b[38;5;132;01m}\u001b[39;00m\u001b[38;5;124m / \u001b[39m\u001b[38;5;132;01m{\u001b[39;00m\u001b[38;5;28mlen\u001b[39m(documents)\u001b[38;5;132;01m}\u001b[39;00m\u001b[38;5;124m\"\u001b[39m)\n\u001b[1;32m---> 33\u001b[0m resp \u001b[38;5;241m=\u001b[39m \u001b[38;5;28;43mself\u001b[39;49m\u001b[38;5;241;43m.\u001b[39;49m\u001b[43mclient\u001b[49m\u001b[38;5;241;43m.\u001b[39;49m\u001b[43mmodels\u001b[49m\u001b[38;5;241;43m.\u001b[39;49m\u001b[43membed_content\u001b[49m\u001b[43m(\u001b[49m\n\u001b[0;32m     34\u001b[0m \u001b[43m    \u001b[49m\u001b[43mmodel\u001b[49m\u001b[43m      \u001b[49m\u001b[38;5;241;43m=\u001b[39;49m\u001b[43m \u001b[49m\u001b[38;5;28;43mself\u001b[39;49m\u001b[38;5;241;43m.\u001b[39;49m\u001b[43mmodel\u001b[49m\u001b[43m,\u001b[49m\n\u001b[0;32m     35\u001b[0m \u001b[43m    \u001b[49m\u001b[43mcontents\u001b[49m\u001b[43m    \u001b[49m\u001b[38;5;241;43m=\u001b[39;49m\u001b[43m \u001b[49m\u001b[43mbatch\u001b[49m\u001b[43m,\u001b[49m\u001b[43m         \u001b[49m\n\u001b[0;32m     36\u001b[0m \u001b[43m    \u001b[49m\u001b[43mconfig\u001b[49m\u001b[38;5;241;43m=\u001b[39;49m\u001b[43m \u001b[49m\u001b[43mgenai\u001b[49m\u001b[38;5;241;43m.\u001b[39;49m\u001b[43mtypes\u001b[49m\u001b[38;5;241;43m.\u001b[39;49m\u001b[43mEmbedContentConfig\u001b[49m\u001b[43m(\u001b[49m\n\u001b[0;32m     37\u001b[0m \u001b[43m        \u001b[49m\u001b[43mtask_type\u001b[49m\u001b[43m \u001b[49m\u001b[38;5;241;43m=\u001b[39;49m\u001b[43m \u001b[49m\u001b[38;5;28;43mself\u001b[39;49m\u001b[38;5;241;43m.\u001b[39;49m\u001b[43mtask_type\u001b[49m\u001b[43m,\u001b[49m\n\u001b[0;32m     38\u001b[0m \u001b[43m        \u001b[49m\u001b[43mtitle\u001b[49m\u001b[43m     \u001b[49m\u001b[38;5;241;43m=\u001b[39;49m\u001b[43m \u001b[49m\u001b[38;5;28;43mself\u001b[39;49m\u001b[38;5;241;43m.\u001b[39;49m\u001b[43mtitle\u001b[49m\u001b[43m,\u001b[49m\n\u001b[0;32m     39\u001b[0m \u001b[43m    \u001b[49m\u001b[43m)\u001b[49m\u001b[43m,\u001b[49m\n\u001b[0;32m     40\u001b[0m \u001b[43m    \u001b[49m\n\u001b[0;32m     41\u001b[0m \u001b[43m\u001b[49m\u001b[43m)\u001b[49m\n\u001b[0;32m     42\u001b[0m \u001b[38;5;66;03m# `resp` → google.genai.types.BatchEmbedContentsResponse\u001b[39;00m\n\u001b[0;32m     43\u001b[0m vectors\u001b[38;5;241m.\u001b[39mextend([e\u001b[38;5;241m.\u001b[39mvalues \u001b[38;5;28;01mfor\u001b[39;00m e \u001b[38;5;129;01min\u001b[39;00m resp\u001b[38;5;241m.\u001b[39membeddings])\n",
      "File \u001b[1;32mc:\\Users\\HamamaHome\\anaconda3\\envs\\DS-101-Final\\Lib\\site-packages\\google\\genai\\models.py:5086\u001b[0m, in \u001b[0;36mModels.embed_content\u001b[1;34m(self, model, contents, config)\u001b[0m\n\u001b[0;32m   5083\u001b[0m request_dict \u001b[38;5;241m=\u001b[39m _common\u001b[38;5;241m.\u001b[39mconvert_to_dict(request_dict)\n\u001b[0;32m   5084\u001b[0m request_dict \u001b[38;5;241m=\u001b[39m _common\u001b[38;5;241m.\u001b[39mencode_unserializable_types(request_dict)\n\u001b[1;32m-> 5086\u001b[0m response_dict \u001b[38;5;241m=\u001b[39m \u001b[38;5;28;43mself\u001b[39;49m\u001b[38;5;241;43m.\u001b[39;49m\u001b[43m_api_client\u001b[49m\u001b[38;5;241;43m.\u001b[39;49m\u001b[43mrequest\u001b[49m\u001b[43m(\u001b[49m\n\u001b[0;32m   5087\u001b[0m \u001b[43m    \u001b[49m\u001b[38;5;124;43m'\u001b[39;49m\u001b[38;5;124;43mpost\u001b[39;49m\u001b[38;5;124;43m'\u001b[39;49m\u001b[43m,\u001b[49m\u001b[43m \u001b[49m\u001b[43mpath\u001b[49m\u001b[43m,\u001b[49m\u001b[43m \u001b[49m\u001b[43mrequest_dict\u001b[49m\u001b[43m,\u001b[49m\u001b[43m \u001b[49m\u001b[43mhttp_options\u001b[49m\n\u001b[0;32m   5088\u001b[0m \u001b[43m\u001b[49m\u001b[43m)\u001b[49m\n\u001b[0;32m   5090\u001b[0m \u001b[38;5;28;01mif\u001b[39;00m \u001b[38;5;28mself\u001b[39m\u001b[38;5;241m.\u001b[39m_api_client\u001b[38;5;241m.\u001b[39mvertexai:\n\u001b[0;32m   5091\u001b[0m   response_dict \u001b[38;5;241m=\u001b[39m _EmbedContentResponse_from_vertex(\n\u001b[0;32m   5092\u001b[0m       \u001b[38;5;28mself\u001b[39m\u001b[38;5;241m.\u001b[39m_api_client, response_dict\n\u001b[0;32m   5093\u001b[0m   )\n",
      "File \u001b[1;32mc:\\Users\\HamamaHome\\anaconda3\\envs\\DS-101-Final\\Lib\\site-packages\\google\\genai\\_api_client.py:765\u001b[0m, in \u001b[0;36mBaseApiClient.request\u001b[1;34m(self, http_method, path, request_dict, http_options)\u001b[0m\n\u001b[0;32m    755\u001b[0m \u001b[38;5;28;01mdef\u001b[39;00m \u001b[38;5;21mrequest\u001b[39m(\n\u001b[0;32m    756\u001b[0m     \u001b[38;5;28mself\u001b[39m,\n\u001b[0;32m    757\u001b[0m     http_method: \u001b[38;5;28mstr\u001b[39m,\n\u001b[1;32m   (...)\u001b[0m\n\u001b[0;32m    760\u001b[0m     http_options: Optional[HttpOptionsOrDict] \u001b[38;5;241m=\u001b[39m \u001b[38;5;28;01mNone\u001b[39;00m,\n\u001b[0;32m    761\u001b[0m ) \u001b[38;5;241m-\u001b[39m\u001b[38;5;241m>\u001b[39m Union[BaseResponse, Any]:\n\u001b[0;32m    762\u001b[0m   http_request \u001b[38;5;241m=\u001b[39m \u001b[38;5;28mself\u001b[39m\u001b[38;5;241m.\u001b[39m_build_request(\n\u001b[0;32m    763\u001b[0m       http_method, path, request_dict, http_options\n\u001b[0;32m    764\u001b[0m   )\n\u001b[1;32m--> 765\u001b[0m   response \u001b[38;5;241m=\u001b[39m \u001b[38;5;28;43mself\u001b[39;49m\u001b[38;5;241;43m.\u001b[39;49m\u001b[43m_request\u001b[49m\u001b[43m(\u001b[49m\u001b[43mhttp_request\u001b[49m\u001b[43m,\u001b[49m\u001b[43m \u001b[49m\u001b[43mstream\u001b[49m\u001b[38;5;241;43m=\u001b[39;49m\u001b[38;5;28;43;01mFalse\u001b[39;49;00m\u001b[43m)\u001b[49m\n\u001b[0;32m    766\u001b[0m   json_response \u001b[38;5;241m=\u001b[39m response\u001b[38;5;241m.\u001b[39mjson\n\u001b[0;32m    767\u001b[0m   \u001b[38;5;28;01mif\u001b[39;00m \u001b[38;5;129;01mnot\u001b[39;00m json_response:\n",
      "File \u001b[1;32mc:\\Users\\HamamaHome\\anaconda3\\envs\\DS-101-Final\\Lib\\site-packages\\google\\genai\\_api_client.py:694\u001b[0m, in \u001b[0;36mBaseApiClient._request\u001b[1;34m(self, http_request, stream)\u001b[0m\n\u001b[0;32m    686\u001b[0m \u001b[38;5;28;01melse\u001b[39;00m:\n\u001b[0;32m    687\u001b[0m   response \u001b[38;5;241m=\u001b[39m \u001b[38;5;28mself\u001b[39m\u001b[38;5;241m.\u001b[39m_httpx_client\u001b[38;5;241m.\u001b[39mrequest(\n\u001b[0;32m    688\u001b[0m       method\u001b[38;5;241m=\u001b[39mhttp_request\u001b[38;5;241m.\u001b[39mmethod,\n\u001b[0;32m    689\u001b[0m       url\u001b[38;5;241m=\u001b[39mhttp_request\u001b[38;5;241m.\u001b[39murl,\n\u001b[1;32m   (...)\u001b[0m\n\u001b[0;32m    692\u001b[0m       timeout\u001b[38;5;241m=\u001b[39mhttp_request\u001b[38;5;241m.\u001b[39mtimeout,\n\u001b[0;32m    693\u001b[0m   )\n\u001b[1;32m--> 694\u001b[0m   \u001b[43merrors\u001b[49m\u001b[38;5;241;43m.\u001b[39;49m\u001b[43mAPIError\u001b[49m\u001b[38;5;241;43m.\u001b[39;49m\u001b[43mraise_for_response\u001b[49m\u001b[43m(\u001b[49m\u001b[43mresponse\u001b[49m\u001b[43m)\u001b[49m\n\u001b[0;32m    695\u001b[0m   \u001b[38;5;28;01mreturn\u001b[39;00m HttpResponse(\n\u001b[0;32m    696\u001b[0m       response\u001b[38;5;241m.\u001b[39mheaders, response \u001b[38;5;28;01mif\u001b[39;00m stream \u001b[38;5;28;01melse\u001b[39;00m [response\u001b[38;5;241m.\u001b[39mtext]\n\u001b[0;32m    697\u001b[0m   )\n",
      "File \u001b[1;32mc:\\Users\\HamamaHome\\anaconda3\\envs\\DS-101-Final\\Lib\\site-packages\\google\\genai\\errors.py:101\u001b[0m, in \u001b[0;36mAPIError.raise_for_response\u001b[1;34m(cls, response)\u001b[0m\n\u001b[0;32m     99\u001b[0m status_code \u001b[38;5;241m=\u001b[39m response\u001b[38;5;241m.\u001b[39mstatus_code\n\u001b[0;32m    100\u001b[0m \u001b[38;5;28;01mif\u001b[39;00m \u001b[38;5;241m400\u001b[39m \u001b[38;5;241m<\u001b[39m\u001b[38;5;241m=\u001b[39m status_code \u001b[38;5;241m<\u001b[39m \u001b[38;5;241m500\u001b[39m:\n\u001b[1;32m--> 101\u001b[0m   \u001b[38;5;28;01mraise\u001b[39;00m ClientError(status_code, response_json, response)\n\u001b[0;32m    102\u001b[0m \u001b[38;5;28;01melif\u001b[39;00m \u001b[38;5;241m500\u001b[39m \u001b[38;5;241m<\u001b[39m\u001b[38;5;241m=\u001b[39m status_code \u001b[38;5;241m<\u001b[39m \u001b[38;5;241m600\u001b[39m:\n\u001b[0;32m    103\u001b[0m   \u001b[38;5;28;01mraise\u001b[39;00m ServerError(status_code, response_json, response)\n",
      "\u001b[1;31mClientError\u001b[0m: 429 RESOURCE_EXHAUSTED. {'error': {'code': 429, 'message': 'Resource has been exhausted (e.g. check quota).', 'status': 'RESOURCE_EXHAUSTED'}}"
     ]
    }
   ],
   "source": [
    "gemini_embedding_exp_03_07_model = BERTopic(\n",
    "    embedding_model=GeminiEmbeddingBackend(model=\"gemini-embedding-exp-03-07\", task_type=None),\n",
    ")\n",
    "\n",
    "for df_name, df in dfs1.items():\n",
    "    print(f\"Processing {df_name}...\")\n",
    "    topics, probs = gemini_embedding_exp_03_07_model.fit_transform(df['cleaned_text'].tolist())\n",
    "    fig = gemini_embedding_exp_03_07_model.visualize_documents(docs=df['cleaned_text'].tolist(), topics=topics, custom_labels=df['text'].tolist())\n",
    "    fig.show()"
   ]
  }
 ],
 "metadata": {
  "kernelspec": {
   "display_name": "DS-101-Final",
   "language": "python",
   "name": "python3"
  },
  "language_info": {
   "codemirror_mode": {
    "name": "ipython",
    "version": 3
   },
   "file_extension": ".py",
   "mimetype": "text/x-python",
   "name": "python",
   "nbconvert_exporter": "python",
   "pygments_lexer": "ipython3",
   "version": "3.12.8"
  }
 },
 "nbformat": 4,
 "nbformat_minor": 5
}
