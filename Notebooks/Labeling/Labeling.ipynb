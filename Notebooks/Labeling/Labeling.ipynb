{
 "cells": [
  {
   "cell_type": "code",
   "execution_count": 9,
   "metadata": {},
   "outputs": [
    {
     "name": "stdout",
     "output_type": "stream",
     "text": [
      "Requirement already satisfied: torch==2.1.0 in c:\\users\\ilai\\anaconda3\\lib\\site-packages (2.1.0+cpu)\n",
      "Requirement already satisfied: transformers==4.30.2 in c:\\users\\ilai\\anaconda3\\lib\\site-packages (4.30.2)\n",
      "Requirement already satisfied: sentence-transformers==2.2.2 in c:\\users\\ilai\\anaconda3\\lib\\site-packages (2.2.2)\n",
      "Requirement already satisfied: huggingface-hub==0.15.1 in c:\\users\\ilai\\anaconda3\\lib\\site-packages (0.15.1)\n",
      "Requirement already satisfied: bertopic==0.17.0 in c:\\users\\ilai\\anaconda3\\lib\\site-packages (0.17.0)\n",
      "Requirement already satisfied: pandas==2.2.0 in c:\\users\\ilai\\anaconda3\\lib\\site-packages (2.2.0)\n",
      "Requirement already satisfied: scikit-learn==1.3.2 in c:\\users\\ilai\\anaconda3\\lib\\site-packages (1.3.2)\n",
      "Collecting keybert==0.8.3\n",
      "  Downloading keybert-0.8.3.tar.gz (29 kB)\n",
      "Requirement already satisfied: jinja2 in c:\\users\\ilai\\anaconda3\\lib\\site-packages (from torch==2.1.0) (2.11.3)\n",
      "Requirement already satisfied: sympy in c:\\users\\ilai\\anaconda3\\lib\\site-packages (from torch==2.1.0) (1.13.1)\n",
      "Requirement already satisfied: filelock in c:\\users\\ilai\\anaconda3\\lib\\site-packages (from torch==2.1.0) (3.3.1)\n",
      "Requirement already satisfied: fsspec in c:\\users\\ilai\\anaconda3\\lib\\site-packages (from torch==2.1.0) (2025.3.0)\n",
      "Requirement already satisfied: networkx in c:\\users\\ilai\\anaconda3\\lib\\site-packages (from torch==2.1.0) (2.6.3)\n",
      "Requirement already satisfied: typing-extensions in c:\\users\\ilai\\anaconda3\\lib\\site-packages (from torch==2.1.0) (4.12.2)\n",
      "Requirement already satisfied: tqdm>=4.27 in c:\\users\\ilai\\anaconda3\\lib\\site-packages (from transformers==4.30.2) (4.62.3)\n",
      "Requirement already satisfied: safetensors>=0.3.1 in c:\\users\\ilai\\anaconda3\\lib\\site-packages (from transformers==4.30.2) (0.5.3)\n",
      "Requirement already satisfied: pyyaml>=5.1 in c:\\users\\ilai\\anaconda3\\lib\\site-packages (from transformers==4.30.2) (6.0)\n",
      "Requirement already satisfied: regex!=2019.12.17 in c:\\users\\ilai\\anaconda3\\lib\\site-packages (from transformers==4.30.2) (2021.8.3)\n",
      "Requirement already satisfied: numpy>=1.17 in c:\\users\\ilai\\anaconda3\\lib\\site-packages (from transformers==4.30.2) (1.26.4)\n",
      "Requirement already satisfied: tokenizers!=0.11.3,<0.14,>=0.11.1 in c:\\users\\ilai\\anaconda3\\lib\\site-packages (from transformers==4.30.2) (0.13.3)\n",
      "Requirement already satisfied: packaging>=20.0 in c:\\users\\ilai\\anaconda3\\lib\\site-packages (from transformers==4.30.2) (21.0)\n",
      "Requirement already satisfied: requests in c:\\users\\ilai\\anaconda3\\lib\\site-packages (from transformers==4.30.2) (2.26.0)\n",
      "Requirement already satisfied: torchvision in c:\\users\\ilai\\anaconda3\\lib\\site-packages (from sentence-transformers==2.2.2) (0.16.0+cpu)\n",
      "Requirement already satisfied: scipy in c:\\users\\ilai\\anaconda3\\lib\\site-packages (from sentence-transformers==2.2.2) (1.13.1)\n",
      "Requirement already satisfied: nltk in c:\\users\\ilai\\anaconda3\\lib\\site-packages (from sentence-transformers==2.2.2) (3.6.5)\n",
      "Requirement already satisfied: sentencepiece in c:\\users\\ilai\\anaconda3\\lib\\site-packages (from sentence-transformers==2.2.2) (0.2.0)\n",
      "Requirement already satisfied: umap-learn>=0.5.0 in c:\\users\\ilai\\anaconda3\\lib\\site-packages (from bertopic==0.17.0) (0.5.7)\n",
      "Requirement already satisfied: plotly>=4.7.0 in c:\\users\\ilai\\anaconda3\\lib\\site-packages (from bertopic==0.17.0) (6.0.0)\n",
      "Requirement already satisfied: hdbscan>=0.8.29 in c:\\users\\ilai\\anaconda3\\lib\\site-packages (from bertopic==0.17.0) (0.8.40)\n",
      "Requirement already satisfied: tzdata>=2022.7 in c:\\users\\ilai\\anaconda3\\lib\\site-packages (from pandas==2.2.0) (2025.1)\n",
      "Requirement already satisfied: pytz>=2020.1 in c:\\users\\ilai\\anaconda3\\lib\\site-packages (from pandas==2.2.0) (2025.1)\n",
      "Requirement already satisfied: python-dateutil>=2.8.2 in c:\\users\\ilai\\anaconda3\\lib\\site-packages (from pandas==2.2.0) (2.9.0.post0)\n",
      "Requirement already satisfied: joblib>=1.1.1 in c:\\users\\ilai\\anaconda3\\lib\\site-packages (from scikit-learn==1.3.2) (1.4.2)\n",
      "Requirement already satisfied: threadpoolctl>=2.0.0 in c:\\users\\ilai\\anaconda3\\lib\\site-packages (from scikit-learn==1.3.2) (3.6.0)\n",
      "Requirement already satisfied: rich>=10.4.0 in c:\\users\\ilai\\anaconda3\\lib\\site-packages (from keybert==0.8.3) (13.9.4)\n",
      "Requirement already satisfied: pyparsing>=2.0.2 in c:\\users\\ilai\\anaconda3\\lib\\site-packages (from packaging>=20.0->transformers==4.30.2) (3.0.4)\n",
      "Requirement already satisfied: narwhals>=1.15.1 in c:\\users\\ilai\\anaconda3\\lib\\site-packages (from plotly>=4.7.0->bertopic==0.17.0) (1.25.0)\n",
      "Requirement already satisfied: six>=1.5 in c:\\users\\ilai\\anaconda3\\lib\\site-packages (from python-dateutil>=2.8.2->pandas==2.2.0) (1.17.0)\n",
      "Requirement already satisfied: pygments<3.0.0,>=2.13.0 in c:\\users\\ilai\\anaconda3\\lib\\site-packages (from rich>=10.4.0->keybert==0.8.3) (2.19.1)\n",
      "Requirement already satisfied: markdown-it-py>=2.2.0 in c:\\users\\ilai\\anaconda3\\lib\\site-packages (from rich>=10.4.0->keybert==0.8.3) (3.0.0)\n",
      "Requirement already satisfied: mdurl~=0.1 in c:\\users\\ilai\\anaconda3\\lib\\site-packages (from markdown-it-py>=2.2.0->rich>=10.4.0->keybert==0.8.3) (0.1.2)\n",
      "Requirement already satisfied: colorama in c:\\users\\ilai\\anaconda3\\lib\\site-packages (from tqdm>=4.27->transformers==4.30.2) (0.4.4)\n",
      "Requirement already satisfied: pynndescent>=0.5 in c:\\users\\ilai\\anaconda3\\lib\\site-packages (from umap-learn>=0.5.0->bertopic==0.17.0) (0.5.13)\n",
      "Requirement already satisfied: numba>=0.51.2 in c:\\users\\ilai\\anaconda3\\lib\\site-packages (from umap-learn>=0.5.0->bertopic==0.17.0) (0.60.0)\n",
      "Requirement already satisfied: llvmlite<0.44,>=0.43.0dev0 in c:\\users\\ilai\\anaconda3\\lib\\site-packages (from numba>=0.51.2->umap-learn>=0.5.0->bertopic==0.17.0) (0.43.0)\n",
      "Requirement already satisfied: MarkupSafe>=0.23 in c:\\users\\ilai\\anaconda3\\lib\\site-packages (from jinja2->torch==2.1.0) (1.1.1)\n",
      "Requirement already satisfied: click in c:\\users\\ilai\\anaconda3\\lib\\site-packages (from nltk->sentence-transformers==2.2.2) (8.0.3)\n",
      "Requirement already satisfied: charset-normalizer~=2.0.0 in c:\\users\\ilai\\anaconda3\\lib\\site-packages (from requests->transformers==4.30.2) (2.0.4)\n",
      "Requirement already satisfied: idna<4,>=2.5 in c:\\users\\ilai\\anaconda3\\lib\\site-packages (from requests->transformers==4.30.2) (3.2)\n",
      "Requirement already satisfied: urllib3<1.27,>=1.21.1 in c:\\users\\ilai\\anaconda3\\lib\\site-packages (from requests->transformers==4.30.2) (1.26.7)\n",
      "Requirement already satisfied: certifi>=2017.4.17 in c:\\users\\ilai\\anaconda3\\lib\\site-packages (from requests->transformers==4.30.2) (2021.10.8)\n",
      "Requirement already satisfied: mpmath<1.4,>=1.1.0 in c:\\users\\ilai\\anaconda3\\lib\\site-packages (from sympy->torch==2.1.0) (1.2.1)\n",
      "Requirement already satisfied: pillow!=8.3.*,>=5.3.0 in c:\\users\\ilai\\anaconda3\\lib\\site-packages (from torchvision->sentence-transformers==2.2.2) (8.4.0)\n",
      "Building wheels for collected packages: keybert\n",
      "  Building wheel for keybert (setup.py): started\n",
      "  Building wheel for keybert (setup.py): finished with status 'done'\n",
      "  Created wheel for keybert: filename=keybert-0.8.3-py3-none-any.whl size=39155 sha256=e772854310e885b6293af66292b08b075ad1ab5de68a60849b82f355089e2066\n",
      "  Stored in directory: c:\\users\\ilai\\appdata\\local\\pip\\cache\\wheels\\0d\\36\\2d\\e6da0678e185644362647aea93f105241f5d4f63a15d5127b9\n",
      "Successfully built keybert\n",
      "Installing collected packages: keybert\n",
      "  Attempting uninstall: keybert\n",
      "    Found existing installation: keybert 0.9.0\n",
      "    Uninstalling keybert-0.9.0:\n",
      "      Successfully uninstalled keybert-0.9.0\n",
      "Successfully installed keybert-0.8.3\n",
      "Note: you may need to restart the kernel to use updated packages.\n"
     ]
    },
    {
     "name": "stderr",
     "output_type": "stream",
     "text": [
      "WARNING: Ignoring invalid distribution -atplotlib (c:\\users\\ilai\\anaconda3\\lib\\site-packages)\n",
      "WARNING: Ignoring invalid distribution -atplotlib (c:\\users\\ilai\\anaconda3\\lib\\site-packages)\n",
      "WARNING: Ignoring invalid distribution -atplotlib (c:\\users\\ilai\\anaconda3\\lib\\site-packages)\n",
      "    WARNING: Ignoring invalid distribution -atplotlib (c:\\users\\ilai\\anaconda3\\lib\\site-packages)\n",
      "WARNING: Ignoring invalid distribution -atplotlib (c:\\users\\ilai\\anaconda3\\lib\\site-packages)\n",
      "WARNING: Ignoring invalid distribution -atplotlib (c:\\users\\ilai\\anaconda3\\lib\\site-packages)\n",
      "WARNING: Ignoring invalid distribution -atplotlib (c:\\users\\ilai\\anaconda3\\lib\\site-packages)\n",
      "WARNING: Ignoring invalid distribution -atplotlib (c:\\users\\ilai\\anaconda3\\lib\\site-packages)\n"
     ]
    }
   ],
   "source": [
    "%pip install torch==2.1.0 transformers==4.30.2 sentence-transformers==2.2.2 huggingface-hub==0.15.1 bertopic==0.17.0 pandas==2.2.0 scikit-learn==1.3.2 keybert==0.8.3"
   ]
  },
  {
   "cell_type": "code",
   "execution_count": 10,
   "metadata": {},
   "outputs": [
    {
     "ename": "ImportError",
     "evalue": "cannot import name 'cached_download' from 'huggingface_hub' (c:\\Users\\Ilai\\anaconda3\\lib\\site-packages\\huggingface_hub\\__init__.py)",
     "output_type": "error",
     "traceback": [
      "\u001b[1;31m---------------------------------------------------------------------------\u001b[0m",
      "\u001b[1;31mImportError\u001b[0m                               Traceback (most recent call last)",
      "\u001b[1;32m~\\AppData\\Local\\Temp/ipykernel_7960/1870713902.py\u001b[0m in \u001b[0;36m<module>\u001b[1;34m\u001b[0m\n\u001b[0;32m      1\u001b[0m \u001b[1;32mimport\u001b[0m \u001b[0mpandas\u001b[0m \u001b[1;32mas\u001b[0m \u001b[0mpd\u001b[0m\u001b[1;33m\u001b[0m\u001b[1;33m\u001b[0m\u001b[0m\n\u001b[1;32m----> 2\u001b[1;33m \u001b[1;32mfrom\u001b[0m \u001b[0mbertopic\u001b[0m \u001b[1;32mimport\u001b[0m \u001b[0mBERTopic\u001b[0m\u001b[1;33m\u001b[0m\u001b[1;33m\u001b[0m\u001b[0m\n\u001b[0m\u001b[0;32m      3\u001b[0m \u001b[1;32mfrom\u001b[0m \u001b[0mbertopic\u001b[0m\u001b[1;33m.\u001b[0m\u001b[0mrepresentation\u001b[0m \u001b[1;32mimport\u001b[0m \u001b[0mKeyBERTInspired\u001b[0m\u001b[1;33m,\u001b[0m \u001b[0mLLMRepresentation\u001b[0m\u001b[1;33m\u001b[0m\u001b[1;33m\u001b[0m\u001b[0m\n\u001b[0;32m      4\u001b[0m \u001b[1;32mfrom\u001b[0m \u001b[0msklearn\u001b[0m\u001b[1;33m.\u001b[0m\u001b[0mfeature_extraction\u001b[0m\u001b[1;33m.\u001b[0m\u001b[0mtext\u001b[0m \u001b[1;32mimport\u001b[0m \u001b[0mCountVectorizer\u001b[0m\u001b[1;33m\u001b[0m\u001b[1;33m\u001b[0m\u001b[0m\n\u001b[0;32m      5\u001b[0m \u001b[1;32mfrom\u001b[0m \u001b[0msentence_transformers\u001b[0m \u001b[1;32mimport\u001b[0m \u001b[0mSentenceTransformer\u001b[0m\u001b[1;33m\u001b[0m\u001b[1;33m\u001b[0m\u001b[0m\n",
      "\u001b[1;32mc:\\Users\\Ilai\\anaconda3\\lib\\site-packages\\bertopic\\__init__.py\u001b[0m in \u001b[0;36m<module>\u001b[1;34m\u001b[0m\n\u001b[0;32m      1\u001b[0m \u001b[1;32mfrom\u001b[0m \u001b[0mimportlib\u001b[0m\u001b[1;33m.\u001b[0m\u001b[0mmetadata\u001b[0m \u001b[1;32mimport\u001b[0m \u001b[0mversion\u001b[0m\u001b[1;33m\u001b[0m\u001b[1;33m\u001b[0m\u001b[0m\n\u001b[0;32m      2\u001b[0m \u001b[1;33m\u001b[0m\u001b[0m\n\u001b[1;32m----> 3\u001b[1;33m \u001b[1;32mfrom\u001b[0m \u001b[0mbertopic\u001b[0m\u001b[1;33m.\u001b[0m\u001b[0m_bertopic\u001b[0m \u001b[1;32mimport\u001b[0m \u001b[0mBERTopic\u001b[0m\u001b[1;33m\u001b[0m\u001b[1;33m\u001b[0m\u001b[0m\n\u001b[0m\u001b[0;32m      4\u001b[0m \u001b[1;33m\u001b[0m\u001b[0m\n\u001b[0;32m      5\u001b[0m \u001b[0m__version__\u001b[0m \u001b[1;33m=\u001b[0m \u001b[0mversion\u001b[0m\u001b[1;33m(\u001b[0m\u001b[1;34m\"bertopic\"\u001b[0m\u001b[1;33m)\u001b[0m\u001b[1;33m\u001b[0m\u001b[1;33m\u001b[0m\u001b[0m\n",
      "\u001b[1;32mc:\\Users\\Ilai\\anaconda3\\lib\\site-packages\\bertopic\\_bertopic.py\u001b[0m in \u001b[0;36m<module>\u001b[1;34m\u001b[0m\n\u001b[0;32m     56\u001b[0m \u001b[1;32mfrom\u001b[0m \u001b[0mbertopic\u001b[0m \u001b[1;32mimport\u001b[0m \u001b[0mplotting\u001b[0m\u001b[1;33m\u001b[0m\u001b[1;33m\u001b[0m\u001b[0m\n\u001b[0;32m     57\u001b[0m \u001b[1;32mfrom\u001b[0m \u001b[0mbertopic\u001b[0m\u001b[1;33m.\u001b[0m\u001b[0mcluster\u001b[0m \u001b[1;32mimport\u001b[0m \u001b[0mBaseCluster\u001b[0m\u001b[1;33m\u001b[0m\u001b[1;33m\u001b[0m\u001b[0m\n\u001b[1;32m---> 58\u001b[1;33m \u001b[1;32mfrom\u001b[0m \u001b[0mbertopic\u001b[0m\u001b[1;33m.\u001b[0m\u001b[0mbackend\u001b[0m \u001b[1;32mimport\u001b[0m \u001b[0mBaseEmbedder\u001b[0m\u001b[1;33m\u001b[0m\u001b[1;33m\u001b[0m\u001b[0m\n\u001b[0m\u001b[0;32m     59\u001b[0m \u001b[1;32mfrom\u001b[0m \u001b[0mbertopic\u001b[0m\u001b[1;33m.\u001b[0m\u001b[0mrepresentation\u001b[0m\u001b[1;33m.\u001b[0m\u001b[0m_mmr\u001b[0m \u001b[1;32mimport\u001b[0m \u001b[0mmmr\u001b[0m\u001b[1;33m\u001b[0m\u001b[1;33m\u001b[0m\u001b[0m\n\u001b[0;32m     60\u001b[0m \u001b[1;32mfrom\u001b[0m \u001b[0mbertopic\u001b[0m\u001b[1;33m.\u001b[0m\u001b[0mbackend\u001b[0m\u001b[1;33m.\u001b[0m\u001b[0m_utils\u001b[0m \u001b[1;32mimport\u001b[0m \u001b[0mselect_backend\u001b[0m\u001b[1;33m\u001b[0m\u001b[1;33m\u001b[0m\u001b[0m\n",
      "\u001b[1;32mc:\\Users\\Ilai\\anaconda3\\lib\\site-packages\\bertopic\\backend\\__init__.py\u001b[0m in \u001b[0;36m<module>\u001b[1;34m\u001b[0m\n\u001b[0;32m     20\u001b[0m \u001b[1;31m# Multimodal Embeddings\u001b[0m\u001b[1;33m\u001b[0m\u001b[1;33m\u001b[0m\u001b[0m\n\u001b[0;32m     21\u001b[0m \u001b[1;32mtry\u001b[0m\u001b[1;33m:\u001b[0m\u001b[1;33m\u001b[0m\u001b[1;33m\u001b[0m\u001b[0m\n\u001b[1;32m---> 22\u001b[1;33m     \u001b[1;32mfrom\u001b[0m \u001b[0mbertopic\u001b[0m\u001b[1;33m.\u001b[0m\u001b[0mbackend\u001b[0m\u001b[1;33m.\u001b[0m\u001b[0m_multimodal\u001b[0m \u001b[1;32mimport\u001b[0m \u001b[0mMultiModalBackend\u001b[0m\u001b[1;33m\u001b[0m\u001b[1;33m\u001b[0m\u001b[0m\n\u001b[0m\u001b[0;32m     23\u001b[0m \u001b[1;32mexcept\u001b[0m \u001b[0mModuleNotFoundError\u001b[0m\u001b[1;33m:\u001b[0m\u001b[1;33m\u001b[0m\u001b[1;33m\u001b[0m\u001b[0m\n\u001b[0;32m     24\u001b[0m     \u001b[0mmsg\u001b[0m \u001b[1;33m=\u001b[0m \u001b[1;34m\"`pip install bertopic[vision]` \\n\\n\"\u001b[0m\u001b[1;33m\u001b[0m\u001b[1;33m\u001b[0m\u001b[0m\n",
      "\u001b[1;32mc:\\Users\\Ilai\\anaconda3\\lib\\site-packages\\bertopic\\backend\\_multimodal.py\u001b[0m in \u001b[0;36m<module>\u001b[1;34m\u001b[0m\n\u001b[0;32m      3\u001b[0m \u001b[1;32mfrom\u001b[0m \u001b[0mtqdm\u001b[0m \u001b[1;32mimport\u001b[0m \u001b[0mtqdm\u001b[0m\u001b[1;33m\u001b[0m\u001b[1;33m\u001b[0m\u001b[0m\n\u001b[0;32m      4\u001b[0m \u001b[1;32mfrom\u001b[0m \u001b[0mtyping\u001b[0m \u001b[1;32mimport\u001b[0m \u001b[0mList\u001b[0m\u001b[1;33m,\u001b[0m \u001b[0mUnion\u001b[0m\u001b[1;33m\u001b[0m\u001b[1;33m\u001b[0m\u001b[0m\n\u001b[1;32m----> 5\u001b[1;33m \u001b[1;32mfrom\u001b[0m \u001b[0msentence_transformers\u001b[0m \u001b[1;32mimport\u001b[0m \u001b[0mSentenceTransformer\u001b[0m\u001b[1;33m\u001b[0m\u001b[1;33m\u001b[0m\u001b[0m\n\u001b[0m\u001b[0;32m      6\u001b[0m \u001b[1;33m\u001b[0m\u001b[0m\n\u001b[0;32m      7\u001b[0m \u001b[1;32mfrom\u001b[0m \u001b[0mbertopic\u001b[0m\u001b[1;33m.\u001b[0m\u001b[0mbackend\u001b[0m \u001b[1;32mimport\u001b[0m \u001b[0mBaseEmbedder\u001b[0m\u001b[1;33m\u001b[0m\u001b[1;33m\u001b[0m\u001b[0m\n",
      "\u001b[1;32mc:\\Users\\Ilai\\anaconda3\\lib\\site-packages\\sentence_transformers\\__init__.py\u001b[0m in \u001b[0;36m<module>\u001b[1;34m\u001b[0m\n\u001b[0;32m      1\u001b[0m \u001b[0m__version__\u001b[0m \u001b[1;33m=\u001b[0m \u001b[1;34m\"2.2.2\"\u001b[0m\u001b[1;33m\u001b[0m\u001b[1;33m\u001b[0m\u001b[0m\n\u001b[0;32m      2\u001b[0m \u001b[0m__MODEL_HUB_ORGANIZATION__\u001b[0m \u001b[1;33m=\u001b[0m \u001b[1;34m'sentence-transformers'\u001b[0m\u001b[1;33m\u001b[0m\u001b[1;33m\u001b[0m\u001b[0m\n\u001b[1;32m----> 3\u001b[1;33m \u001b[1;32mfrom\u001b[0m \u001b[1;33m.\u001b[0m\u001b[0mdatasets\u001b[0m \u001b[1;32mimport\u001b[0m \u001b[0mSentencesDataset\u001b[0m\u001b[1;33m,\u001b[0m \u001b[0mParallelSentencesDataset\u001b[0m\u001b[1;33m\u001b[0m\u001b[1;33m\u001b[0m\u001b[0m\n\u001b[0m\u001b[0;32m      4\u001b[0m \u001b[1;32mfrom\u001b[0m \u001b[1;33m.\u001b[0m\u001b[0mLoggingHandler\u001b[0m \u001b[1;32mimport\u001b[0m \u001b[0mLoggingHandler\u001b[0m\u001b[1;33m\u001b[0m\u001b[1;33m\u001b[0m\u001b[0m\n\u001b[0;32m      5\u001b[0m \u001b[1;32mfrom\u001b[0m \u001b[1;33m.\u001b[0m\u001b[0mSentenceTransformer\u001b[0m \u001b[1;32mimport\u001b[0m \u001b[0mSentenceTransformer\u001b[0m\u001b[1;33m\u001b[0m\u001b[1;33m\u001b[0m\u001b[0m\n",
      "\u001b[1;32mc:\\Users\\Ilai\\anaconda3\\lib\\site-packages\\sentence_transformers\\datasets\\__init__.py\u001b[0m in \u001b[0;36m<module>\u001b[1;34m\u001b[0m\n\u001b[0;32m      1\u001b[0m \u001b[1;32mfrom\u001b[0m \u001b[1;33m.\u001b[0m\u001b[0mDenoisingAutoEncoderDataset\u001b[0m \u001b[1;32mimport\u001b[0m \u001b[0mDenoisingAutoEncoderDataset\u001b[0m\u001b[1;33m\u001b[0m\u001b[1;33m\u001b[0m\u001b[0m\n\u001b[0;32m      2\u001b[0m \u001b[1;32mfrom\u001b[0m \u001b[1;33m.\u001b[0m\u001b[0mNoDuplicatesDataLoader\u001b[0m \u001b[1;32mimport\u001b[0m \u001b[0mNoDuplicatesDataLoader\u001b[0m\u001b[1;33m\u001b[0m\u001b[1;33m\u001b[0m\u001b[0m\n\u001b[1;32m----> 3\u001b[1;33m \u001b[1;32mfrom\u001b[0m \u001b[1;33m.\u001b[0m\u001b[0mParallelSentencesDataset\u001b[0m \u001b[1;32mimport\u001b[0m \u001b[0mParallelSentencesDataset\u001b[0m\u001b[1;33m\u001b[0m\u001b[1;33m\u001b[0m\u001b[0m\n\u001b[0m\u001b[0;32m      4\u001b[0m \u001b[1;32mfrom\u001b[0m \u001b[1;33m.\u001b[0m\u001b[0mSentencesDataset\u001b[0m \u001b[1;32mimport\u001b[0m \u001b[0mSentencesDataset\u001b[0m\u001b[1;33m\u001b[0m\u001b[1;33m\u001b[0m\u001b[0m\n\u001b[0;32m      5\u001b[0m \u001b[1;32mfrom\u001b[0m \u001b[1;33m.\u001b[0m\u001b[0mSentenceLabelDataset\u001b[0m \u001b[1;32mimport\u001b[0m \u001b[0mSentenceLabelDataset\u001b[0m\u001b[1;33m\u001b[0m\u001b[1;33m\u001b[0m\u001b[0m\n",
      "\u001b[1;32mc:\\Users\\Ilai\\anaconda3\\lib\\site-packages\\sentence_transformers\\datasets\\ParallelSentencesDataset.py\u001b[0m in \u001b[0;36m<module>\u001b[1;34m\u001b[0m\n\u001b[0;32m      2\u001b[0m \u001b[1;32mimport\u001b[0m \u001b[0mlogging\u001b[0m\u001b[1;33m\u001b[0m\u001b[1;33m\u001b[0m\u001b[0m\n\u001b[0;32m      3\u001b[0m \u001b[1;32mimport\u001b[0m \u001b[0mgzip\u001b[0m\u001b[1;33m\u001b[0m\u001b[1;33m\u001b[0m\u001b[0m\n\u001b[1;32m----> 4\u001b[1;33m \u001b[1;32mfrom\u001b[0m \u001b[1;33m.\u001b[0m\u001b[1;33m.\u001b[0m \u001b[1;32mimport\u001b[0m \u001b[0mSentenceTransformer\u001b[0m\u001b[1;33m\u001b[0m\u001b[1;33m\u001b[0m\u001b[0m\n\u001b[0m\u001b[0;32m      5\u001b[0m \u001b[1;32mfrom\u001b[0m \u001b[1;33m.\u001b[0m\u001b[1;33m.\u001b[0m\u001b[0mreaders\u001b[0m \u001b[1;32mimport\u001b[0m \u001b[0mInputExample\u001b[0m\u001b[1;33m\u001b[0m\u001b[1;33m\u001b[0m\u001b[0m\n\u001b[0;32m      6\u001b[0m \u001b[1;32mfrom\u001b[0m \u001b[0mtyping\u001b[0m \u001b[1;32mimport\u001b[0m \u001b[0mList\u001b[0m\u001b[1;33m\u001b[0m\u001b[1;33m\u001b[0m\u001b[0m\n",
      "\u001b[1;32mc:\\Users\\Ilai\\anaconda3\\lib\\site-packages\\sentence_transformers\\SentenceTransformer.py\u001b[0m in \u001b[0;36m<module>\u001b[1;34m\u001b[0m\n\u001b[0;32m     10\u001b[0m \u001b[1;32mfrom\u001b[0m \u001b[0mnumpy\u001b[0m \u001b[1;32mimport\u001b[0m \u001b[0mndarray\u001b[0m\u001b[1;33m\u001b[0m\u001b[1;33m\u001b[0m\u001b[0m\n\u001b[0;32m     11\u001b[0m \u001b[1;32mimport\u001b[0m \u001b[0mtransformers\u001b[0m\u001b[1;33m\u001b[0m\u001b[1;33m\u001b[0m\u001b[0m\n\u001b[1;32m---> 12\u001b[1;33m \u001b[1;32mfrom\u001b[0m \u001b[0mhuggingface_hub\u001b[0m \u001b[1;32mimport\u001b[0m \u001b[0mHfApi\u001b[0m\u001b[1;33m,\u001b[0m \u001b[0mHfFolder\u001b[0m\u001b[1;33m,\u001b[0m \u001b[0mRepository\u001b[0m\u001b[1;33m,\u001b[0m \u001b[0mhf_hub_url\u001b[0m\u001b[1;33m,\u001b[0m \u001b[0mcached_download\u001b[0m\u001b[1;33m\u001b[0m\u001b[1;33m\u001b[0m\u001b[0m\n\u001b[0m\u001b[0;32m     13\u001b[0m \u001b[1;32mimport\u001b[0m \u001b[0mtorch\u001b[0m\u001b[1;33m\u001b[0m\u001b[1;33m\u001b[0m\u001b[0m\n\u001b[0;32m     14\u001b[0m \u001b[1;32mfrom\u001b[0m \u001b[0mtorch\u001b[0m \u001b[1;32mimport\u001b[0m \u001b[0mnn\u001b[0m\u001b[1;33m,\u001b[0m \u001b[0mTensor\u001b[0m\u001b[1;33m,\u001b[0m \u001b[0mdevice\u001b[0m\u001b[1;33m\u001b[0m\u001b[1;33m\u001b[0m\u001b[0m\n",
      "\u001b[1;31mImportError\u001b[0m: cannot import name 'cached_download' from 'huggingface_hub' (c:\\Users\\Ilai\\anaconda3\\lib\\site-packages\\huggingface_hub\\__init__.py)"
     ]
    }
   ],
   "source": [
    "import pandas as pd\n",
    "from bertopic import BERTopic\n",
    "from bertopic.representation import KeyBERTInspired, LLMRepresentation\n",
    "from sklearn.feature_extraction.text import CountVectorizer\n",
    "from sentence_transformers import SentenceTransformer\n",
    "from hdbscan import HDBSCAN\n",
    "\n"
   ]
  },
  {
   "cell_type": "code",
   "execution_count": null,
   "metadata": {},
   "outputs": [],
   "source": [
    "# === CONFIG ===\n",
    "CSV_PATH = \"..\\data\\youtube_comments\\jack_vs_calley_1000.csv\"\n",
    "COMMENT_COLUMN = \"text\"\n",
    "USE_OPENAI = False  # Set to True if you want to test LLM labels (and have API key)\n",
    "\n",
    "# === Load comments ===\n",
    "df = pd.read_csv(CSV_PATH)\n",
    "comments = df[COMMENT_COLUMN].dropna().astype(str).tolist()[:1000]\n",
    "\n",
    "# === Shared embedding model ===\n",
    "embedding_model = SentenceTransformer(\"all-MiniLM-L6-v2\")\n",
    "\n",
    "# === Clustering baseline ===\n",
    "def run_topic_model(name, rep_model=None):\n",
    "    print(f\"\\n\\n===== Running BERTopic with: {name} =====\")\n",
    "    topic_model = BERTopic(\n",
    "        embedding_model=embedding_model,\n",
    "        representation_model=rep_model,\n",
    "        verbose=False\n",
    "    )\n",
    "    topics, _ = topic_model.fit_transform(comments)\n",
    "    top_topics = topic_model.get_topic_info().head(5)\n",
    "    print(top_topics[[\"Topic\", \"Name\", \"Count\"]])\n",
    "\n",
    "# === Option 1: Default (c-TF-IDF) ===\n",
    "run_topic_model(\"c-TF-IDF (default)\")\n",
    "\n",
    "# === Option 2: KeyBERT ===\n",
    "run_topic_model(\"KeyBERT\", KeyBERTInspired())\n",
    "\n",
    "# === Option 3: LLM (OpenAI GPT) ===\n",
    "if USE_OPENAI:\n",
    "    import openai\n",
    "    openai.api_key = \"your-openai-api-key\"\n",
    "\n",
    "    rep_model_llm = LLMRepresentation(\n",
    "        model=\"gpt-3.5-turbo\",\n",
    "        chat=True,\n",
    "        use_api=True\n",
    "    )\n",
    "\n",
    "    run_topic_model(\"LLM (GPT-3.5)\", rep_model_llm)\n"
   ]
  }
 ],
 "metadata": {
  "kernelspec": {
   "display_name": "base",
   "language": "python",
   "name": "python3"
  },
  "language_info": {
   "codemirror_mode": {
    "name": "ipython",
    "version": 3
   },
   "file_extension": ".py",
   "mimetype": "text/x-python",
   "name": "python",
   "nbconvert_exporter": "python",
   "pygments_lexer": "ipython3",
   "version": "3.9.7"
  }
 },
 "nbformat": 4,
 "nbformat_minor": 2
}
