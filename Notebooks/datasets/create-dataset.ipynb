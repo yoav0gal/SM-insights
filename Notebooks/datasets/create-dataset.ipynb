{
 "cells": [
  {
   "cell_type": "markdown",
   "metadata": {},
   "source": [
    "# Create Dataset"
   ]
  },
  {
   "cell_type": "markdown",
   "metadata": {},
   "source": [
    "1). Run the `sm-insights-next` project locally (cd to sm-insights-next && npm run dev:https) \n",
    "\n",
    "2). Run the `create_youtube_dataset` with your params.\n",
    "\n",
    "3). If all good the dataset would be saved under `/Notebooks/datasets/youtube-comments/filename.cvs`"
   ]
  },
  {
   "cell_type": "code",
   "execution_count": null,
   "metadata": {},
   "outputs": [],
   "source": [
    "import requests\n",
    "\n",
    "def create_youtube_dataset( video_id=\"DqJnmaLWnqQ\", dataset_name=\"JH_new_wars_1000\", limit=500):\n",
    "    base_url=\"https://localhost:3000\"\n",
    "    endpoint = f\"{base_url}/api/youtube/comments/create-dataset\"\n",
    "    \n",
    "    params = {\n",
    "        \"video_id\": video_id,\n",
    "        \"data_set_name\": dataset_name,\n",
    "        \"limit\": limit\n",
    "    }\n",
    "    \n",
    "    try:\n",
    "        # Disable SSL verification for localhost\n",
    "        response = requests.get(endpoint, params=params, verify=False)\n",
    "        response.raise_for_status()\n",
    "        return response.json()\n",
    "    except requests.exceptions.RequestException as e:\n",
    "        print(f\"Error making request: {e}\")\n",
    "        return None\n",
    "\n"
   ]
  },
  {
   "cell_type": "code",
   "execution_count": null,
   "metadata": {},
   "outputs": [],
   "source": [
    "dataset_name=\"pyramids_1000\"\n",
    "video_id=\"XNV8SaaDi0o\" #the value of the v url parameter on a youtube video link on your desktop\n",
    "limit=1000\n",
    "\n",
    "response  = create_youtube_dataset(video_id=video_id,dataset_name=dataset_name,limit=limit)\n",
    "# response"
   ]
  }
 ],
 "metadata": {
  "kernelspec": {
   "display_name": "BERTopic",
   "language": "python",
   "name": "python3"
  },
  "language_info": {
   "codemirror_mode": {
    "name": "ipython",
    "version": 3
   },
   "file_extension": ".py",
   "mimetype": "text/x-python",
   "name": "python",
   "nbconvert_exporter": "python",
   "pygments_lexer": "ipython3"
  }
 },
 "nbformat": 4,
 "nbformat_minor": 2
}
